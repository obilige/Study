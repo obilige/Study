{
 "cells": [
  {
   "cell_type": "markdown",
   "metadata": {},
   "source": [
    "# 컴퓨터 비전(computer vision)\n",
    "+ 이미지에서 의미있는 정보를 추출하는 분야로 주로 실시간 응용문제를 다룬다.\n",
    "+ 응용 예\n",
    "    * 산업 현장에서 자동으로 제품의 결함을 검사\n",
    "    * 스캐너 또는 카메라 캡처 영상에서 문자 인식, 얼굴 인식, 지문 인식, 사람 또는 자동차 등과 같이 움직이는 물체 검출 및 물체 추적\n",
    "\n",
    "+ 입력 영상의 화질개선, 잡음제거, 영역분할 등의 전처리 또는 저수준 처리\n",
    "+ 영상 분석, 추적, 인식 등의 후처리 또는 고수준 처리\n",
    "\n",
    "---\n",
    "\n",
    "#  OpenCV\n",
    "+ 컴퓨터 비전을 실제 수행하기 위한 프로그램이자 라이브러리\n",
    "+ 영상처리, 컴퓨터 비전, 비디오 처리, 기계학습 등을 포함한 라이브러리\n",
    "+ BSD 라이센스 (오픈 라이센스이면서 상업적으로 사용 가능한 라이브러리)\n",
    "+ 초창기에는 c언어로 작성되었고 현재는 c++로 개발되고 있다.\n",
    "+ pip install opencv-python"
   ]
  },
  {
   "cell_type": "code",
   "execution_count": 4,
   "metadata": {},
   "outputs": [],
   "source": [
    "import cv2"
   ]
  },
  {
   "cell_type": "code",
   "execution_count": 5,
   "metadata": {},
   "outputs": [
    {
     "data": {
      "text/plain": [
       "True"
      ]
     },
     "execution_count": 5,
     "metadata": {},
     "output_type": "execute_result"
    }
   ],
   "source": [
    "img = \"data/face1.jpg\"\n",
    "img1 = cv2.imread(img, cv2.IMREAD_GRAYSCALE)\n",
    "cv2.imwrite(\"data/face1-1.jpg\", img1)"
   ]
  },
  {
   "cell_type": "code",
   "execution_count": 10,
   "metadata": {},
   "outputs": [
    {
     "name": "stdout",
     "output_type": "stream",
     "text": [
      "[[402 479 354 354]]\n",
      "[[402 479 354 354]]\n"
     ]
    }
   ],
   "source": [
    "img = \"data/face1.jpg\"\n",
    "img1 = cv2.imread(img)\n",
    "cascade_file = \"/Users/hoon/miniforge3/envs/tf25/lib/python3.9/site-packages/cv2/data/haarcascade_frontalface_alt.xml\"\n",
    "\n",
    "cascade = cv2.CascadeClassifier(cascade_file)\n",
    "face_list = cascade.detectMultiScale(img1, scaleFactor=1.1, minNeighbors=1, minSize=(150, 150))\n",
    "print(face_list)\n",
    "#x, y, w, h(사각형의 위치이고 여기에 사각형 그려주면 얼굴을 잡아준단 의미다.)\n",
    "\n",
    "if len(face_list)>0:\n",
    "    print(face_list)\n",
    "\n",
    "    for face in face_list:\n",
    "        x, y, w, h = face\n",
    "        #반복문을 돌리는 이유? 얼굴이 여러개이면? 반복 돌려서 모든 얼굴 다 잡기 위해서\n",
    "        cv2.rectangle(img1, (x,y), (x+w, y+h), (0,0,255), thickness = 8)\n",
    "\n",
    "    cv2.imwrite(\"face1-2.jpg\", img1)\n",
    "\n",
    "else:\n",
    "    print(\"no face\")"
   ]
  },
  {
   "cell_type": "code",
   "execution_count": 11,
   "metadata": {},
   "outputs": [
    {
     "name": "stdout",
     "output_type": "stream",
     "text": [
      "[[598 480 207 207]\n",
      " [293 142 239 239]]\n",
      "[[598 480 207 207]\n",
      " [293 142 239 239]]\n"
     ]
    }
   ],
   "source": [
    "img = \"data/face2.jpg\"\n",
    "img1 = cv2.imread(img)\n",
    "cascade_file = \"/Users/hoon/miniforge3/envs/tf25/lib/python3.9/site-packages/cv2/data/haarcascade_frontalface_alt.xml\"\n",
    "\n",
    "cascade = cv2.CascadeClassifier(cascade_file)\n",
    "face_list = cascade.detectMultiScale(img1, scaleFactor=1.1, minNeighbors=1, minSize=(150, 150))\n",
    "print(face_list)\n",
    "#x, y, w, h(사각형의 위치이고 여기에 사각형 그려주면 얼굴을 잡아준단 의미다.)\n",
    "\n",
    "if len(face_list)>0:\n",
    "    print(face_list)\n",
    "\n",
    "    for face in face_list:\n",
    "        x, y, w, h = face\n",
    "        #반복문을 돌리는 이유? 얼굴이 여러개이면? 반복 돌려서 모든 얼굴 다 잡기 위해서\n",
    "        cv2.rectangle(img1, (x,y), (x+w, y+h), (0,0,255), thickness = 8)\n",
    "\n",
    "    cv2.imwrite(\"face2-2.jpg\", img1)\n",
    "\n",
    "else:\n",
    "    print(\"no face\")"
   ]
  },
  {
   "cell_type": "code",
   "execution_count": 12,
   "metadata": {},
   "outputs": [
    {
     "name": "stdout",
     "output_type": "stream",
     "text": [
      "[[598 480 207 207]\n",
      " [293 142 239 239]]\n",
      "[[598 480 207 207]\n",
      " [293 142 239 239]]\n"
     ]
    }
   ],
   "source": [
    "# 다만 이대로 이미지를 대량으로 처리하면 과부하가 걸림\n",
    "# 그래서 얼굴을 찾을땐 이미지 컬러를 흑백으로 바꿔줌\n",
    "\n",
    "img = \"data/face2.jpg\"\n",
    "img1 = cv2.imread(img)\n",
    "img1_gs = cv2.cvtColor(img1, cv2.COLOR_BGR2GRAY)\n",
    "cascade_file = \"/Users/hoon/miniforge3/envs/tf25/lib/python3.9/site-packages/cv2/data/haarcascade_frontalface_alt.xml\"\n",
    "\n",
    "cascade = cv2.CascadeClassifier(cascade_file)\n",
    "face_list = cascade.detectMultiScale(img1_gs, scaleFactor=1.1, minNeighbors=1, minSize=(150, 150))\n",
    "print(face_list)\n",
    "#x, y, w, h(사각형의 위치이고 여기에 사각형 그려주면 얼굴을 잡아준단 의미다.)\n",
    "\n",
    "if len(face_list)>0:\n",
    "    print(face_list)\n",
    "\n",
    "    for face in face_list:\n",
    "        x, y, w, h = face\n",
    "        #반복문을 돌리는 이유? 얼굴이 여러개이면? 반복 돌려서 모든 얼굴 다 잡기 위해서\n",
    "        cv2.rectangle(img1, (x,y), (x+w, y+h), (0,0,255), thickness = 8)\n",
    "\n",
    "    cv2.imwrite(\"face2-3.jpg\", img1)\n",
    "\n",
    "else:\n",
    "    print(\"no face\")"
   ]
  },
  {
   "cell_type": "code",
   "execution_count": 13,
   "metadata": {},
   "outputs": [
    {
     "name": "stdout",
     "output_type": "stream",
     "text": [
      "[[402 479 354 354]]\n",
      "[[402 479 354 354]]\n"
     ]
    }
   ],
   "source": [
    "# 응용 : 상자 안에 모자이크 처리\n",
    "\n",
    "img = \"data/face1.jpg\"\n",
    "img1 = cv2.imread(img)\n",
    "img1_gs = cv2.cvtColor(img1, cv2.COLOR_BGR2GRAY)\n",
    "cascade_file = \"/Users/hoon/miniforge3/envs/tf25/lib/python3.9/site-packages/cv2/data/haarcascade_frontalface_alt.xml\"\n",
    "\n",
    "cascade = cv2.CascadeClassifier(cascade_file)\n",
    "face_list = cascade.detectMultiScale(img1_gs, scaleFactor=1.1, minNeighbors=1, minSize=(150, 150))\n",
    "print(face_list)\n",
    "#x, y, w, h(사각형의 위치이고 여기에 사각형 그려주면 얼굴을 잡아준단 의미다.)\n",
    "\n",
    "if len(face_list)>0:\n",
    "    print(face_list)\n",
    "\n",
    "    for face in face_list:\n",
    "        x, y, w, h = face\n",
    "        #반복문을 돌리는 이유? 얼굴이 여러개이면? 반복 돌려서 모든 얼굴 다 잡기 위해서\n",
    "        face_img = img1[y:y+h, x:x+w]\n",
    "        face_img = cv2.resize(face_img, (w//30, h//30))\n",
    "        face_img = cv2.resize(face_img, (w,h), interpolation=cv2.INTER_AREA)\n",
    "        img1[y:y+h, x:x+w] = face_img\n",
    "\n",
    "    cv2.imwrite(\"face1-3.jpg\", img1)\n",
    "\n",
    "else:\n",
    "    print(\"no face\")"
   ]
  },
  {
   "cell_type": "code",
   "execution_count": null,
   "metadata": {},
   "outputs": [],
   "source": []
  }
 ],
 "metadata": {
  "interpreter": {
   "hash": "31234d27df039afbf450a23be8f71d367abb8f1b50cbd70fe37b149522dacf97"
  },
  "kernelspec": {
   "display_name": "Python 3.9.7 64-bit ('tf25': conda)",
   "language": "python",
   "name": "python3"
  },
  "language_info": {
   "codemirror_mode": {
    "name": "ipython",
    "version": 3
   },
   "file_extension": ".py",
   "mimetype": "text/x-python",
   "name": "python",
   "nbconvert_exporter": "python",
   "pygments_lexer": "ipython3",
   "version": "3.9.7"
  },
  "orig_nbformat": 4
 },
 "nbformat": 4,
 "nbformat_minor": 2
}
