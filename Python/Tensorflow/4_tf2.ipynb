{
 "cells": [
  {
   "cell_type": "code",
   "execution_count": 1,
   "metadata": {},
   "outputs": [],
   "source": [
    "import tensorflow as tf"
   ]
  },
  {
   "cell_type": "code",
   "execution_count": 2,
   "metadata": {},
   "outputs": [
    {
     "name": "stdout",
     "output_type": "stream",
     "text": [
      "2.7.0\n"
     ]
    }
   ],
   "source": [
    "print(tf.__version__)"
   ]
  },
  {
   "cell_type": "code",
   "execution_count": 3,
   "metadata": {},
   "outputs": [
    {
     "name": "stdout",
     "output_type": "stream",
     "text": [
      "2.7.0\n"
     ]
    }
   ],
   "source": [
    "print(tf.keras.__version__)"
   ]
  },
  {
   "cell_type": "markdown",
   "metadata": {},
   "source": [
    "## tensorflow 2대 특징\n",
    "- keras와 즉시 실행(eager execution)을 이용한 쉬운 모델 작성\n",
    "- 즉시 실행? 1대에선 그래프 그리고 실행되도록. 그런데 2대에선 그래프 없이 코드로 바로 진행이 된다는 의미\n",
    "- 어떤 플랫폼에서든 튼튼한(robust) 모델을 배포\n",
    "- 연구를 위한 강력한 실험법을 제공합니다.\n",
    "- deprecated된 api를 제거하고 중복을 줄여 api 단순화\n",
    "\n",
    "## API\n",
    "- tf.data\n",
    "- tf.keras"
   ]
  },
  {
   "cell_type": "code",
   "execution_count": 4,
   "metadata": {},
   "outputs": [
    {
     "name": "stdout",
     "output_type": "stream",
     "text": [
      "tf.Tensor(10, shape=(), dtype=int32)\n"
     ]
    }
   ],
   "source": [
    "t1 = tf.constant(10)\n",
    "print(t1)\n",
    "# tf.Tensor(10, shape=(), dtype=int32)\n",
    "# 1점 대에선 입력된 값을 확인할 수 없었다.\n",
    "# 즉, 2점대에선 이미 Session이 constant 안에서 처리됨을 의미한다.\n",
    "# 또 하나, placeholder도 사라졌다."
   ]
  },
  {
   "cell_type": "code",
   "execution_count": 5,
   "metadata": {},
   "outputs": [
    {
     "name": "stdout",
     "output_type": "stream",
     "text": [
      "tf.Tensor(15, shape=(), dtype=int32)\n"
     ]
    }
   ],
   "source": [
    "t2 = t1 + 5\n",
    "print(t2)\n",
    "# tf.Tensor(15, shape=(), dtype=int32)\n",
    "# 15로 바로 계산된다."
   ]
  },
  {
   "cell_type": "code",
   "execution_count": 6,
   "metadata": {},
   "outputs": [
    {
     "name": "stdout",
     "output_type": "stream",
     "text": [
      "15\n"
     ]
    }
   ],
   "source": [
    "# 이 결과를 꺼내서 바로 쓰기 위해선?\n",
    "print(t2.numpy())\n",
    "# 15\n",
    "# 값을 바로 꺼내서 쓸 수 있다."
   ]
  },
  {
   "cell_type": "code",
   "execution_count": null,
   "metadata": {},
   "outputs": [],
   "source": []
  }
 ],
 "metadata": {
  "interpreter": {
   "hash": "31234d27df039afbf450a23be8f71d367abb8f1b50cbd70fe37b149522dacf97"
  },
  "kernelspec": {
   "display_name": "Python 3.9.7 64-bit ('tf25': conda)",
   "language": "python",
   "name": "python3"
  },
  "language_info": {
   "codemirror_mode": {
    "name": "ipython",
    "version": 3
   },
   "file_extension": ".py",
   "mimetype": "text/x-python",
   "name": "python",
   "nbconvert_exporter": "python",
   "pygments_lexer": "ipython3",
   "version": "3.9.7"
  },
  "orig_nbformat": 4
 },
 "nbformat": 4,
 "nbformat_minor": 2
}
