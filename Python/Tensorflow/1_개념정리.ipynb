{
 "cells": [
  {
   "cell_type": "markdown",
   "metadata": {},
   "source": [
    "# Deep Learning? = Machine Learning의 한 종류(Neural Network)\n",
    "- 뉴럴네트워크, 퍼셉트론을 리브랜딩해 딥러닝이라 부름\n",
    "- Tensorflow, Pytorch가 대표적\n",
    "- 현재 Tensorflow 가장 많이 씀\n",
    "- Tensorflow 1.x, 2.x 완전 사용방법이 달라\n",
    "    + 1.x는 원리 설명하기 좋음. 다만, 복잡\n",
    "    + 2.x는 간단, 쉽게 사용하기 좋음. 다만, 원리 이해하기 어려워\n",
    "    + 그래서 1.x로 공부하고 2.x로 사용방법을 익힐 예정\n",
    "\n",
    "### Framework\n",
    "- Tensorflow\n",
    "- pytorch\n",
    "\n",
    "\n",
    "### Tensorflow\n",
    "    + www.tensorflow.org\n",
    "    + www.hunkim.github.io/ml\n",
    "\n",
    "### 텐서플로우 설치방법\n",
    "    + 가상환경 만들기\n",
    "    + 가상환경에서 pip install tensorflow=1. or 2.\n",
    "    + import tensorflow as tf"
   ]
  },
  {
   "cell_type": "code",
   "execution_count": 1,
   "metadata": {},
   "outputs": [],
   "source": [
    "import tensorflow"
   ]
  },
  {
   "cell_type": "code",
   "execution_count": null,
   "metadata": {},
   "outputs": [],
   "source": []
  }
 ],
 "metadata": {
  "interpreter": {
   "hash": "31234d27df039afbf450a23be8f71d367abb8f1b50cbd70fe37b149522dacf97"
  },
  "kernelspec": {
   "display_name": "Python 3.9.7 64-bit ('tf25': conda)",
   "language": "python",
   "name": "python3"
  },
  "language_info": {
   "codemirror_mode": {
    "name": "ipython",
    "version": 3
   },
   "file_extension": ".py",
   "mimetype": "text/x-python",
   "name": "python",
   "nbconvert_exporter": "python",
   "pygments_lexer": "ipython3",
   "version": "3.9.9"
  },
  "orig_nbformat": 4
 },
 "nbformat": 4,
 "nbformat_minor": 2
}
