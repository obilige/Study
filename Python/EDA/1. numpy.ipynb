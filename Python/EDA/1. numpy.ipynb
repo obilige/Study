{
 "cells": [
  {
   "cell_type": "markdown",
   "metadata": {},
   "source": [
    "## Numpy\n",
    "\n",
    "+ 벡터 및 행렬 연산과 관련된 편리한 기능을 제공(선형 대수 관련)\n",
    "+ 리스트에 비해 빠르고 메모리를 효율적으로 사용할 수 있는 배열(ndarray) 제공\n",
    "+ 반복문 없이 데이터 배열에 대한 처리를 지원(인덱싱, 질의)\n",
    "+ docs -> http://www.numpy.org"
   ]
  },
  {
   "cell_type": "code",
   "execution_count": 2,
   "metadata": {},
   "outputs": [],
   "source": [
    "import numpy as np"
   ]
  },
  {
   "cell_type": "markdown",
   "metadata": {},
   "source": [
    "## 1. 1차원 배열"
   ]
  },
  {
   "cell_type": "code",
   "execution_count": 2,
   "metadata": {},
   "outputs": [
    {
     "name": "stdout",
     "output_type": "stream",
     "text": [
      "[1, 2, 3, 4, 5, 6, 7, 'a', 'b', 'c', '가', '나', '다']\n",
      "<class 'list'>\n"
     ]
    }
   ],
   "source": [
    "a = [1, 2, 3, 4, 5, 6, 7, \"a\", \"b\", \"c\", \"가\", \"나\", \"다\"]\n",
    "print(a)\n",
    "print(type(a))"
   ]
  },
  {
   "cell_type": "code",
   "execution_count": 6,
   "metadata": {},
   "outputs": [
    {
     "name": "stdout",
     "output_type": "stream",
     "text": [
      "['1' '2' '3' '4' '5' '6' '7' 'a' 'b' 'c' '가나다']\n",
      "(11,)\n",
      "<U21\n"
     ]
    }
   ],
   "source": [
    "a2 = np.array([1, 2, 3, 4, 5, 6, 7, \"a\", \"b\", \"c\", \"가나다\"])\n",
    "print(a2)\n",
    "# 리스트와 결과가 다르다.\n",
    "# 숫자엔 ''가\n",
    "# 값들간 구분에 ,가 없다.\n",
    "# 이 차이를 알고 리스트와 np.array 구분할 수 있어야 한다.\n",
    "print(a2.shape)\n",
    "print(a2.dtype)"
   ]
  },
  {
   "cell_type": "code",
   "execution_count": 5,
   "metadata": {},
   "outputs": [
    {
     "name": "stdout",
     "output_type": "stream",
     "text": [
      "['1' '2' '3' '4' '5' '6' '7' '10' '20' '30']\n",
      "[ 1.  2.  3.  4.  5.  6.  7. 10. 20. 30.]\n",
      "float64\n",
      "[ 1.  2.  3.  4.  5.  6.  7. 10. 20. 30.]\n"
     ]
    }
   ],
   "source": [
    "a3 = np.array([1,2,3,4,5,6,7,\"10\",\"20\",\"30\"])\n",
    "print(a3)\n",
    "a4 = np.array([1,2,3,4,5,6,7,\"10\",\"20\",\"30\"], dtype=float)\n",
    "print(a4)\n",
    "print(a4.dtype)\n",
    "a5 = np.array([1,2,3,4,5,6,7,\"10\",\"20\",\"30\"], float)\n",
    "print(a5)\n",
    "# dtpye 지정시, dtpye=는 생략 가능\n",
    "# float는 실수형, int는 정수형"
   ]
  },
  {
   "cell_type": "code",
   "execution_count": 8,
   "metadata": {},
   "outputs": [
    {
     "name": "stdout",
     "output_type": "stream",
     "text": [
      "[0, 1, 2, 3, 4, 5, 6, 7, 3, 4, 1, 2, 3, 4, 2, 1]\n",
      "[0, 1, 2, 3, 4, 5, 6, 7, 0, 1, 2, 3, 4, 5, 6, 7]\n",
      "==================================================\n",
      "[3 5 3 5 7 9 8 8]\n",
      "[ 0  2  4  6  8 10 12 14]\n"
     ]
    }
   ],
   "source": [
    "# 벡터화 연산\n",
    "\n",
    "data1 = [0, 1, 2, 3, 4, 5, 6, 7]\n",
    "data2 = [3, 4, 1, 2, 3, 4, 2, 1]\n",
    "print(data1+data2)\n",
    "print(data1 * 2)\n",
    "# 리스트는 연산안됨\n",
    "\n",
    "print('='*50)\n",
    "\n",
    "data3 = np.array(data1)\n",
    "data4 = np.array(data2)\n",
    "print(data3 + data4)\n",
    "print(data3 * 2)"
   ]
  },
  {
   "cell_type": "code",
   "execution_count": 9,
   "metadata": {},
   "outputs": [
    {
     "name": "stdout",
     "output_type": "stream",
     "text": [
      "3 4\n"
     ]
    }
   ],
   "source": [
    "# 인덱스 접근\n",
    "print(data4[0], data4[1])"
   ]
  },
  {
   "cell_type": "markdown",
   "metadata": {},
   "source": [
    "## 2. 2차열 배열"
   ]
  },
  {
   "cell_type": "code",
   "execution_count": 12,
   "metadata": {},
   "outputs": [
    {
     "name": "stdout",
     "output_type": "stream",
     "text": [
      "[[1 2 3]\n",
      " [4 5 6]]\n",
      "(2, 3)\n",
      "int64\n"
     ]
    }
   ],
   "source": [
    "arr = np.array([[1, 2, 3], [4, 5, 6]])\n",
    "print(arr)\n",
    "print(arr.shape)\n",
    "print(arr.dtype)"
   ]
  },
  {
   "cell_type": "code",
   "execution_count": 16,
   "metadata": {},
   "outputs": [
    {
     "name": "stdout",
     "output_type": "stream",
     "text": [
      "[1 2 3]\n",
      "2\n",
      "==================================================\n",
      "2\n",
      "3\n"
     ]
    }
   ],
   "source": [
    "#접근\n",
    "print(arr[0]) # 첫번째 행에 접근\n",
    "print(arr[0][1]) # 첫번째 행, 두번째 열에 접근\n",
    "print('='*50)\n",
    "print(len(arr)) # 행의 길이, 크기를 나타남\n",
    "# 그럼 열의 길이는? 행을 지정하고 len을 입혀주면 행 내 값들의 길이, 즉 열의 길이를 알 수 있음\n",
    "print(len(arr[0]))"
   ]
  },
  {
   "cell_type": "markdown",
   "metadata": {},
   "source": [
    "## 3. 3차원 배열"
   ]
  },
  {
   "cell_type": "code",
   "execution_count": 17,
   "metadata": {},
   "outputs": [],
   "source": [
    "a = [1, 2, 3, 4] # 1차원\n",
    "b = [[1, 2, 3, 4], [5, 6, 7, 8]] # 2차원\n",
    "c = [[[1, 2, 3, 4], [5, 6, 7, 8]], [[9, 10, 11, 12], [13, 14, 15, 16]]] # 3차원\n",
    "\n",
    "#배열은 저장하는 용도는 크게 어렵지 않음\n",
    "#문제는 고차원배열의 자료를 꺼내서 사용하는게 어려움\n",
    "#대괄호 숫자가 결국 차원의 숫자임"
   ]
  },
  {
   "cell_type": "code",
   "execution_count": 19,
   "metadata": {},
   "outputs": [
    {
     "name": "stdout",
     "output_type": "stream",
     "text": [
      "[[[ 1  2  3  4]\n",
      "  [ 5  6  7  8]]\n",
      "\n",
      " [[ 9 10 11 12]\n",
      "  [13 14 15 16]]]\n",
      "(2, 2, 4)\n",
      "3\n",
      "int64\n"
     ]
    }
   ],
   "source": [
    "arr = np.array(c)\n",
    "print(arr)\n",
    "print(arr.shape) # (2,2,4)\n",
    "print(arr.ndim) # 3. 3차원이란 의미.\n",
    "print(arr.dtype)\n"
   ]
  },
  {
   "cell_type": "code",
   "execution_count": 22,
   "metadata": {},
   "outputs": [
    {
     "name": "stdout",
     "output_type": "stream",
     "text": [
      "[[1 2 3 4]\n",
      " [5 6 7 8]]\n",
      "==================================================\n",
      "[1 2 3 4]\n",
      "==================================================\n",
      "1\n"
     ]
    }
   ],
   "source": [
    "print(arr[0])\n",
    "print(\"=\"*50)\n",
    "print(arr[0][0])\n",
    "print(\"=\"*50)\n",
    "print(arr[0][0][0])"
   ]
  },
  {
   "cell_type": "code",
   "execution_count": 24,
   "metadata": {},
   "outputs": [
    {
     "name": "stdout",
     "output_type": "stream",
     "text": [
      "2\n",
      "==================================================\n",
      "2\n",
      "==================================================\n",
      "4\n",
      "==================================================\n"
     ]
    }
   ],
   "source": [
    "print(len(arr))\n",
    "print(\"=\"*50)\n",
    "print(len(arr[0]))\n",
    "print(\"=\"*50)\n",
    "print(len(arr[0][0]))\n",
    "print(\"=\"*50)"
   ]
  },
  {
   "cell_type": "markdown",
   "metadata": {},
   "source": [
    "## 4. 집계함수\n",
    "평균, 최소값, 최대값 등. 우리가 알고 있는 그 함수들"
   ]
  },
  {
   "cell_type": "code",
   "execution_count": 26,
   "metadata": {},
   "outputs": [
    {
     "name": "stdout",
     "output_type": "stream",
     "text": [
      "[-1.72766453 -0.65786084  2.10576344  1.13717467 -1.03287536  0.38968262\n",
      " -0.984878   -0.01950494]\n",
      "[ 1.02196347 -0.37108303 -0.40136661  0.1261678   0.74685885 -0.57937239\n",
      "  0.23189167 -0.67336687]\n",
      "==================================================\n"
     ]
    },
    {
     "data": {
      "text/plain": [
       "array([ 1.02196347, -0.37108303,  2.10576344,  1.13717467,  0.74685885,\n",
       "        0.38968262,  0.23189167, -0.01950494])"
      ]
     },
     "execution_count": 26,
     "metadata": {},
     "output_type": "execute_result"
    }
   ],
   "source": [
    "# avg, sum, min\n",
    "x = np.random.randn(8) #np.random.randn = 정규분포 내에서 난수를 뽑아주는 함수\n",
    "y = np.random.randn(8)\n",
    "print(x)\n",
    "print(y)\n",
    "print(\"=\"*50)\n",
    "np.maximum(x, y)\n",
    "# x, y 비교해 가장 큰 값부터. 거기다 배열을 하나로 합쳐 앞서 설정한 8개까지만"
   ]
  },
  {
   "cell_type": "code",
   "execution_count": 27,
   "metadata": {},
   "outputs": [
    {
     "data": {
      "text/plain": [
       "array([[ 1.11378784, -1.20862342,  2.02962401, -1.09492874],\n",
       "       [-0.90116253, -0.59294995, -0.16052556, -0.37349153],\n",
       "       [ 1.55354291, -0.56548525,  0.83642659,  0.34918154],\n",
       "       [-1.27552673,  0.23803942, -0.38363747,  0.63070615],\n",
       "       [-1.76078328, -0.23285367, -0.79525485,  0.75559531]])"
      ]
     },
     "execution_count": 27,
     "metadata": {},
     "output_type": "execute_result"
    }
   ],
   "source": [
    "arr=np.random.randn(5,4)\n",
    "arr"
   ]
  },
  {
   "cell_type": "code",
   "execution_count": 30,
   "metadata": {},
   "outputs": [
    {
     "name": "stdout",
     "output_type": "stream",
     "text": [
      "-1.838319193947759\n",
      "[-1.27014179 -2.36187287  1.52663273  0.26706274]\n",
      "[ 0.83985969 -2.02812957  2.1736658  -0.79041862 -2.03329649]\n"
     ]
    }
   ],
   "source": [
    "# ?np,sum\n",
    "print(arr.sum()) # arr 내 데이터들의 총합계\n",
    "print(arr.sum(axis=0)) #열 기준으로 값들의 합계\n",
    "print(arr.sum(axis=1)) #행 기준으로 값들의 합계"
   ]
  },
  {
   "cell_type": "code",
   "execution_count": null,
   "metadata": {},
   "outputs": [],
   "source": []
  },
  {
   "cell_type": "markdown",
   "metadata": {},
   "source": [
    "## 5. 배열의 인덱싱\n",
    "\n",
    "+ fancy index"
   ]
  },
  {
   "cell_type": "code",
   "execution_count": 33,
   "metadata": {},
   "outputs": [
    {
     "name": "stdout",
     "output_type": "stream",
     "text": [
      "300 500\n"
     ]
    }
   ],
   "source": [
    "arr = np.array([100, 200, 300, 400, 500])\n",
    "print(arr[2], arr[4]) #3rd, 5th"
   ]
  },
  {
   "cell_type": "code",
   "execution_count": 34,
   "metadata": {},
   "outputs": [
    {
     "ename": "TypeError",
     "evalue": "list indices must be integers or slices, not tuple",
     "output_type": "error",
     "traceback": [
      "\u001b[0;31m---------------------------------------------------------------------------\u001b[0m",
      "\u001b[0;31mTypeError\u001b[0m                                 Traceback (most recent call last)",
      "\u001b[0;32m/var/folders/dx/ny9cjsmd1bb3r42zbp694xkh0000gn/T/ipykernel_2052/1688231988.py\u001b[0m in \u001b[0;36m<module>\u001b[0;34m\u001b[0m\n\u001b[1;32m      1\u001b[0m \u001b[0marr\u001b[0m \u001b[0;34m=\u001b[0m \u001b[0;34m[\u001b[0m\u001b[0;34m[\u001b[0m\u001b[0;36m1\u001b[0m\u001b[0;34m,\u001b[0m \u001b[0;36m2\u001b[0m\u001b[0;34m,\u001b[0m \u001b[0;36m3\u001b[0m\u001b[0;34m]\u001b[0m\u001b[0;34m,\u001b[0m \u001b[0;34m[\u001b[0m\u001b[0;36m4\u001b[0m\u001b[0;34m,\u001b[0m\u001b[0;36m5\u001b[0m\u001b[0;34m,\u001b[0m\u001b[0;36m6\u001b[0m\u001b[0;34m]\u001b[0m\u001b[0;34m]\u001b[0m\u001b[0;34m\u001b[0m\u001b[0;34m\u001b[0m\u001b[0m\n\u001b[1;32m      2\u001b[0m \u001b[0;34m\u001b[0m\u001b[0m\n\u001b[0;32m----> 3\u001b[0;31m \u001b[0mprint\u001b[0m\u001b[0;34m(\u001b[0m\u001b[0marr\u001b[0m\u001b[0;34m[\u001b[0m\u001b[0;36m1\u001b[0m\u001b[0;34m]\u001b[0m\u001b[0;34m[\u001b[0m\u001b[0;36m2\u001b[0m\u001b[0;34m]\u001b[0m\u001b[0;34m,\u001b[0m \u001b[0marr\u001b[0m\u001b[0;34m[\u001b[0m\u001b[0;36m1\u001b[0m\u001b[0;34m,\u001b[0m \u001b[0;36m2\u001b[0m\u001b[0;34m]\u001b[0m\u001b[0;34m)\u001b[0m\u001b[0;34m\u001b[0m\u001b[0;34m\u001b[0m\u001b[0m\n\u001b[0m",
      "\u001b[0;31mTypeError\u001b[0m: list indices must be integers or slices, not tuple"
     ]
    }
   ],
   "source": [
    "arr = [[1, 2, 3], [4,5,6]]\n",
    "\n",
    "print(arr[0][1], arr[0, 1]) # 첫번째 행, 두번째 열에 있는 값을 불러와\n",
    "# 리스트에선 arr[0, 1] 하면 오류 뜬다.\n",
    "# numpy의 array는 어떨까?"
   ]
  },
  {
   "cell_type": "code",
   "execution_count": 36,
   "metadata": {},
   "outputs": [
    {
     "name": "stdout",
     "output_type": "stream",
     "text": [
      "2 2\n"
     ]
    }
   ],
   "source": [
    "arr = np.array([[1, 2, 3], [4,5,6]])\n",
    "\n",
    "print(arr[0][1], arr[0, 1]) # 첫번째 행, 두번째 열에 있는 값을 불러와"
   ]
  },
  {
   "cell_type": "code",
   "execution_count": 5,
   "metadata": {},
   "outputs": [
    {
     "name": "stdout",
     "output_type": "stream",
     "text": [
      "[0 1 2 3 4 5 6 7 8 9]\n",
      "[ True False  True False  True False  True False  True False]\n",
      "[0 2 4 6 8]\n",
      "[0 2 4 6 8]\n",
      "[0 3 6 9]\n",
      "[1 5 9]\n"
     ]
    },
    {
     "ename": "ValueError",
     "evalue": "The truth value of an array with more than one element is ambiguous. Use a.any() or a.all()",
     "output_type": "error",
     "traceback": [
      "\u001b[0;31m---------------------------------------------------------------------------\u001b[0m",
      "\u001b[0;31mValueError\u001b[0m                                Traceback (most recent call last)",
      "\u001b[0;32m/var/folders/dx/ny9cjsmd1bb3r42zbp694xkh0000gn/T/ipykernel_2056/1805603375.py\u001b[0m in \u001b[0;36m<module>\u001b[0;34m\u001b[0m\n\u001b[1;32m     16\u001b[0m \u001b[0mprint\u001b[0m\u001b[0;34m(\u001b[0m\u001b[0marr\u001b[0m\u001b[0;34m[\u001b[0m\u001b[0marr\u001b[0m \u001b[0;34m%\u001b[0m \u001b[0;36m3\u001b[0m \u001b[0;34m==\u001b[0m \u001b[0;36m0\u001b[0m\u001b[0;34m]\u001b[0m\u001b[0;34m)\u001b[0m\u001b[0;34m\u001b[0m\u001b[0;34m\u001b[0m\u001b[0m\n\u001b[1;32m     17\u001b[0m \u001b[0mprint\u001b[0m\u001b[0;34m(\u001b[0m\u001b[0marr\u001b[0m\u001b[0;34m[\u001b[0m\u001b[0marr\u001b[0m \u001b[0;34m%\u001b[0m \u001b[0;36m4\u001b[0m \u001b[0;34m==\u001b[0m \u001b[0;36m1\u001b[0m\u001b[0;34m]\u001b[0m\u001b[0;34m)\u001b[0m\u001b[0;34m\u001b[0m\u001b[0;34m\u001b[0m\u001b[0m\n\u001b[0;32m---> 18\u001b[0;31m \u001b[0mprint\u001b[0m\u001b[0;34m(\u001b[0m\u001b[0marr\u001b[0m\u001b[0;34m[\u001b[0m\u001b[0marr\u001b[0m \u001b[0;34m%\u001b[0m \u001b[0;36m3\u001b[0m \u001b[0;34m==\u001b[0m \u001b[0;36m0\u001b[0m \u001b[0;34m&\u001b[0m \u001b[0marr\u001b[0m \u001b[0;34m%\u001b[0m \u001b[0;36m4\u001b[0m \u001b[0;34m==\u001b[0m \u001b[0;36m1\u001b[0m\u001b[0;34m]\u001b[0m\u001b[0;34m)\u001b[0m\u001b[0;34m\u001b[0m\u001b[0;34m\u001b[0m\u001b[0m\n\u001b[0m",
      "\u001b[0;31mValueError\u001b[0m: The truth value of an array with more than one element is ambiguous. Use a.any() or a.all()"
     ]
    }
   ],
   "source": [
    "#### fancy index\n",
    "\n",
    "arr = np.array([i for i in range(10)]) #0부터 9까지 10개의 숫자 입력\n",
    "print(arr)\n",
    "\n",
    "idx = np.array([True, False, True, False, True, False, True, False, True, False])\n",
    "print(idx)\n",
    "\n",
    "print(arr[idx]) # True값만 내보낸다. 0,2,4,6,8 짝수만 나옴. 그런데 일일이 idx 만들어서 하는 거 불편해.\n",
    "# arr은 연산이 가능해. 그래서, 조건을 인덱스에 넣을 수 있어. 이걸 fancy index라고 해\n",
    "\n",
    "print(arr[arr % 2 == 0]) #짝수는 2로 나눴을 때 나머지가 0인 것들. 이 조건을 인덱싱에 넣어서 짝수만 불러올 수 있음\n",
    "\n",
    "# 3의 배수. 4로 나누면 1이 남는. 둘 다 만족하는\n",
    "\n",
    "print(arr[arr % 3 == 0])\n",
    "print(arr[arr % 4 == 1])\n",
    "print(arr[arr % 3 == 0 & arr % 4 == 1])"
   ]
  },
  {
   "cell_type": "code",
   "execution_count": 62,
   "metadata": {},
   "outputs": [
    {
     "name": "stdout",
     "output_type": "stream",
     "text": [
      "[[ 0  1  2  3]\n",
      " [ 4  5  6  7]\n",
      " [ 8  9 10 11]]\n",
      "==================================================\n",
      "[0 1]\n",
      "==================================================\n",
      "[[4 5]\n",
      " [8 9]]\n",
      "==================================================\n",
      "[0 1 2 3]\n",
      "==================================================\n",
      "[[ 8  9 10 11]\n",
      " [ 4  5  6  7]\n",
      " [ 0  1  2  3]]\n"
     ]
    }
   ],
   "source": [
    "arr = np.array([[0, 1, 2, 3], [4, 5, 6, 7], [8, 9 ,10, 11]])\n",
    "\n",
    "print(arr)\n",
    "print('=' * 50)\n",
    "print(arr[0, 0:2])\n",
    "print('=' * 50)\n",
    "print(arr[1:3, 0:2])\n",
    "print('=' * 50)\n",
    "print(arr[0, :])\n",
    "\n",
    "print('=' * 50)\n",
    "print(arr[[2,1,0], :])\n",
    "\n"
   ]
  },
  {
   "cell_type": "code",
   "execution_count": 60,
   "metadata": {},
   "outputs": [
    {
     "name": "stdout",
     "output_type": "stream",
     "text": [
      "[[0 1]\n",
      " [4 5]]\n"
     ]
    }
   ],
   "source": [
    "# [0,1], [4,5]\n",
    "print(arr[:2, :2])"
   ]
  },
  {
   "cell_type": "markdown",
   "metadata": {},
   "source": [
    "## 7. numpy 자료형\n",
    "\n",
    "+ b : 불리언\n",
    "+ i : 정수형\n",
    "+ u : 부등호 없는 정수형\n",
    "+ f : 부동소수점\n",
    "+ c : 복소수\n",
    "+ O : 객체\n",
    "+ S : 바이트 문자열\n",
    "+ U : 유니코드 문자열"
   ]
  },
  {
   "cell_type": "code",
   "execution_count": 63,
   "metadata": {},
   "outputs": [
    {
     "name": "stdout",
     "output_type": "stream",
     "text": [
      "float16\n"
     ]
    }
   ],
   "source": [
    "arr = np.array([1,2,3], dtype = np.float16)\n",
    "print(arr.dtype)\n",
    "# 데이터 크기를 줄이고 싶을 때 사용함. 효율성 upgrade 위해.\n",
    "# 머신러닝, 딥러닝 때 사용하면 좋을 듯 하다."
   ]
  },
  {
   "cell_type": "markdown",
   "metadata": {},
   "source": [
    "## 8. 배열생성"
   ]
  },
  {
   "cell_type": "code",
   "execution_count": 75,
   "metadata": {},
   "outputs": [
    {
     "name": "stdout",
     "output_type": "stream",
     "text": [
      "[0. 0. 0. 0. 0.]\n",
      "float64\n",
      "<class 'numpy.ndarray'>\n",
      "==================================================\n",
      "[0 0 0 0 0]\n",
      "int64\n",
      "==================================================\n",
      "['' '' '' '' '']\n",
      "<U4\n",
      "['abc' 'abcd' 'abcd' '' '']\n"
     ]
    }
   ],
   "source": [
    "arr = np.zeros(5)\n",
    "print(arr)\n",
    "print(arr.dtype)\n",
    "print(type(arr))\n",
    "\n",
    "print('=' * 50)\n",
    "\n",
    "arr = np.zeros(5, dtype=\"i8\")\n",
    "print(arr)\n",
    "print(arr.dtype)\n",
    "\n",
    "print('=' * 50)\n",
    "\n",
    "arr = np.zeros(5, dtype=\"U4\")\n",
    "print(arr)\n",
    "print(arr.dtype)\n",
    "arr[0] = \"abc\"\n",
    "arr[1] = \"abcd\"\n",
    "arr[2] = \"abcde\" #U4 타입이기에 abcd까지만 입력됨. e는 자동으로 버려진다.\n",
    "\n",
    "print(arr)"
   ]
  },
  {
   "cell_type": "code",
   "execution_count": 80,
   "metadata": {},
   "outputs": [
    {
     "name": "stdout",
     "output_type": "stream",
     "text": [
      "[[[1. 1. 1. 1.]\n",
      "  [1. 1. 1. 1.]\n",
      "  [1. 1. 1. 1.]]\n",
      "\n",
      " [[1. 1. 1. 1.]\n",
      "  [1. 1. 1. 1.]\n",
      "  [1. 1. 1. 1.]]]\n",
      "==================================================\n",
      "==================================================\n",
      "[[0.0e+000 4.9e-324 9.9e-324]\n",
      " [1.5e-323 2.0e-323 2.5e-323]\n",
      " [3.0e-323 3.5e-323 4.0e-323]\n",
      " [4.4e-323 4.9e-323 5.4e-323]]\n",
      "==================================================\n",
      "[0 1 2 3 4 5 6 7 8 9]\n",
      "==================================================\n",
      "[  1.    25.75  50.5   75.25 100.  ]\n"
     ]
    }
   ],
   "source": [
    "arr = np.ones((2,3,4)) #(차원, 행, 열)\n",
    "print(arr)\n",
    "\n",
    "print(\"=\" * 50)\n",
    "\n",
    "arr1 = np.zeros((2,3))\n",
    "arr2 = np.ones_like(arr1) # 0으로 된 자료형태를 1로 바꾸는 명령어\n",
    "\n",
    "print(\"=\" * 50)\n",
    "\n",
    "arr_empty = np.empty((4,3))\n",
    "print(arr_empty)\n",
    "# 채워진 값들은 쓰레기값. 아무렇게나 채워진 것으로 이해\n",
    "print(\"=\" * 50)\n",
    "\n",
    "arr = np.arange(10)\n",
    "print(arr)\n",
    "print(\"=\" * 50)\n",
    "\n",
    "arr = np.linspace(1, 100, 5) # 1부터 100까지 값들을 다섯 구간 나눠서. 그래프 그릴 때 많이 사용 # 통계적으로도 사용 가능할 듯.\n",
    "#최소값, 1사분위값, 중앙값, 3사분위값, 최대값\n",
    "print(arr)\n",
    "\n"
   ]
  },
  {
   "cell_type": "markdown",
   "metadata": {},
   "source": [
    "## 9. 전치연산"
   ]
  },
  {
   "cell_type": "code",
   "execution_count": 82,
   "metadata": {},
   "outputs": [
    {
     "name": "stdout",
     "output_type": "stream",
     "text": [
      "[[1 2 3]\n",
      " [4 5 6]]\n",
      "==================================================\n",
      "[[1 4]\n",
      " [2 5]\n",
      " [3 6]]\n"
     ]
    }
   ],
   "source": [
    "arr = np.array([[1, 2, 3], [4, 5, 6]])\n",
    "print(arr)\n",
    "print(\"=\" * 50)\n",
    "print(arr.T)"
   ]
  },
  {
   "cell_type": "markdown",
   "metadata": {},
   "source": [
    "## 10. 배열의 크기 변형 : reshape(), flatten(), ravel()\n",
    "+ 차원배열을 낮추거나 높여주는"
   ]
  },
  {
   "cell_type": "code",
   "execution_count": 85,
   "metadata": {},
   "outputs": [
    {
     "name": "stdout",
     "output_type": "stream",
     "text": [
      "[ 0  1  2  3  4  5  6  7  8  9 10 11]\n",
      "(12,)\n",
      "==================================================\n",
      "[[ 0  1  2  3]\n",
      " [ 4  5  6  7]\n",
      " [ 8  9 10 11]]\n",
      "(3, 4)\n",
      "==================================================\n",
      "[[ 0  1  2  3]\n",
      " [ 4  5  6  7]\n",
      " [ 8  9 10 11]]\n",
      "[[ 0  1  2  3]\n",
      " [ 4  5  6  7]\n",
      " [ 8  9 10 11]]\n"
     ]
    }
   ],
   "source": [
    "arr = np.arange(12)\n",
    "print(arr)\n",
    "print(arr.shape) # 1차원, 12개 값\n",
    "\n",
    "print(\"=\" * 50)\n",
    "\n",
    "# 형태 바꾸기\n",
    "arr1 = arr.reshape(3, 4)\n",
    "print(arr1)\n",
    "print(arr1.shape)\n",
    "print(\"=\" * 50)\n",
    "\n",
    "arr2 = arr.reshape(3, -1) #'-1은 행 정해줬으니 열 설정은 알아서 처리하시오'란 뜻\n",
    "print(arr2)\n",
    "arr3 = arr.reshape(-1, 4)\n",
    "print(arr3)"
   ]
  },
  {
   "cell_type": "code",
   "execution_count": 89,
   "metadata": {},
   "outputs": [
    {
     "name": "stdout",
     "output_type": "stream",
     "text": [
      "[[[ 0  1  2]\n",
      "  [ 3  4  5]]\n",
      "\n",
      " [[ 6  7  8]\n",
      "  [ 9 10 11]]]\n",
      "(2, 2, 3)\n",
      "==================================================\n",
      "[[[ 0  1  2]\n",
      "  [ 3  4  5]]\n",
      "\n",
      " [[ 6  7  8]\n",
      "  [ 9 10 11]]]\n",
      "(2, 2, 3)\n",
      "==================================================\n",
      "[[[ 0  1  2]\n",
      "  [ 3  4  5]]\n",
      "\n",
      " [[ 6  7  8]\n",
      "  [ 9 10 11]]]\n",
      "(2, 2, 3)\n"
     ]
    }
   ],
   "source": [
    "arr3 = arr.reshape(2,2,3)\n",
    "print(arr3)\n",
    "print(arr3.shape)\n",
    "\n",
    "print(\"=\" * 50)\n",
    "\n",
    "arr3 = arr.reshape(2,2,-1)\n",
    "print(arr3)\n",
    "\n",
    "print(arr3.shape)\n",
    "\n",
    "print(\"=\"*50)\n",
    "\n",
    "arr3 = arr.reshape(-1,2,3)\n",
    "print(arr3)\n",
    "\n",
    "print(arr3.shape)\n",
    "\n",
    "\n",
    "# 3개 중 2개 정해지면 나머지 하나는 -1 하면 자동 처리된다."
   ]
  },
  {
   "cell_type": "code",
   "execution_count": 94,
   "metadata": {},
   "outputs": [
    {
     "name": "stdout",
     "output_type": "stream",
     "text": [
      "[[ 0  1  2  3]\n",
      " [ 4  5  6  7]\n",
      " [ 8  9 10 11]]\n",
      "[ 0  1  2  3  4  5  6  7  8  9 10 11]\n",
      "[[[ 0  1  2]\n",
      "  [ 3  4  5]]\n",
      "\n",
      " [[ 6  7  8]\n",
      "  [ 9 10 11]]]\n",
      "[ 0  1  2  3  4  5  6  7  8  9 10 11]\n"
     ]
    }
   ],
   "source": [
    "print(arr1)\n",
    "print(arr1.flatten())\n",
    "# 고차원 행렬을 1차원으로\n",
    "\n",
    "print(arr3)\n",
    "print(arr3.flatten())"
   ]
  },
  {
   "cell_type": "code",
   "execution_count": 95,
   "metadata": {},
   "outputs": [
    {
     "name": "stdout",
     "output_type": "stream",
     "text": [
      "[[0 1 2 3 4]]\n",
      "[[0]\n",
      " [1]\n",
      " [2]\n",
      " [3]\n",
      " [4]]\n",
      "==================================================\n",
      "[[0]\n",
      " [1]\n",
      " [2]\n",
      " [3]\n",
      " [4]]\n",
      "[[0]\n",
      " [1]\n",
      " [2]\n",
      " [3]\n",
      " [4]]\n",
      "==================================================\n",
      "[[0]\n",
      " [1]\n",
      " [2]\n",
      " [3]\n",
      " [4]]\n"
     ]
    }
   ],
   "source": [
    "arr = np.arange(5)\n",
    "\n",
    "print(arr.reshape(1,5))\n",
    "print(arr.reshape(5,1))\n",
    "\n",
    "print('='*50)\n",
    "\n",
    "print(arr.reshape(1,5).T)\n",
    "print(arr.reshape(1,5).T)\n",
    "\n",
    "print('='*50)\n",
    "\n",
    "print(arr[:, np.newaxis])"
   ]
  },
  {
   "cell_type": "markdown",
   "metadata": {},
   "source": [
    "## 11. 배열연결(병합)\n",
    "+ stack()\n",
    "+ hstack()\n",
    "+ vstack()\n",
    "+ dstack()\n",
    "+ title()\n",
    "\n",
    "list에선 +가 병합이나, np.array에선 +가 사칙연산이다. 그래서, 위 명령어가 필요"
   ]
  },
  {
   "cell_type": "code",
   "execution_count": 102,
   "metadata": {},
   "outputs": [
    {
     "name": "stdout",
     "output_type": "stream",
     "text": [
      "[[1. 1. 1.]\n",
      " [1. 1. 1.]]\n",
      "[[1. 1.]\n",
      " [1. 1.]]\n",
      "[[1. 1. 1. 1. 1.]\n",
      " [1. 1. 1. 1. 1.]]\n"
     ]
    },
    {
     "ename": "ValueError",
     "evalue": "all the input array dimensions for the concatenation axis must match exactly, but along dimension 1, the array at index 0 has size 3 and the array at index 1 has size 2",
     "output_type": "error",
     "traceback": [
      "\u001b[0;31m---------------------------------------------------------------------------\u001b[0m",
      "\u001b[0;31mValueError\u001b[0m                                Traceback (most recent call last)",
      "\u001b[0;32m/var/folders/dx/ny9cjsmd1bb3r42zbp694xkh0000gn/T/ipykernel_2052/1786951668.py\u001b[0m in \u001b[0;36m<module>\u001b[0;34m\u001b[0m\n\u001b[1;32m     12\u001b[0m \u001b[0;34m\u001b[0m\u001b[0m\n\u001b[1;32m     13\u001b[0m \u001b[0;31m#만약 열의 수가 안맞는데 열로 결합하면?\u001b[0m\u001b[0;34m\u001b[0m\u001b[0;34m\u001b[0m\u001b[0;34m\u001b[0m\u001b[0m\n\u001b[0;32m---> 14\u001b[0;31m \u001b[0marr4\u001b[0m \u001b[0;34m=\u001b[0m \u001b[0mnp\u001b[0m\u001b[0;34m.\u001b[0m\u001b[0mvstack\u001b[0m\u001b[0;34m(\u001b[0m\u001b[0;34m[\u001b[0m\u001b[0marr1\u001b[0m\u001b[0;34m,\u001b[0m \u001b[0marr2\u001b[0m\u001b[0;34m]\u001b[0m\u001b[0;34m)\u001b[0m \u001b[0;31m# error!\u001b[0m\u001b[0;34m\u001b[0m\u001b[0;34m\u001b[0m\u001b[0m\n\u001b[0m",
      "\u001b[0;32m<__array_function__ internals>\u001b[0m in \u001b[0;36mvstack\u001b[0;34m(*args, **kwargs)\u001b[0m\n",
      "\u001b[0;32m~/opt/anaconda3/envs/datastudy/lib/python3.9/site-packages/numpy/core/shape_base.py\u001b[0m in \u001b[0;36mvstack\u001b[0;34m(tup)\u001b[0m\n\u001b[1;32m    280\u001b[0m     \u001b[0;32mif\u001b[0m \u001b[0;32mnot\u001b[0m \u001b[0misinstance\u001b[0m\u001b[0;34m(\u001b[0m\u001b[0marrs\u001b[0m\u001b[0;34m,\u001b[0m \u001b[0mlist\u001b[0m\u001b[0;34m)\u001b[0m\u001b[0;34m:\u001b[0m\u001b[0;34m\u001b[0m\u001b[0;34m\u001b[0m\u001b[0m\n\u001b[1;32m    281\u001b[0m         \u001b[0marrs\u001b[0m \u001b[0;34m=\u001b[0m \u001b[0;34m[\u001b[0m\u001b[0marrs\u001b[0m\u001b[0;34m]\u001b[0m\u001b[0;34m\u001b[0m\u001b[0;34m\u001b[0m\u001b[0m\n\u001b[0;32m--> 282\u001b[0;31m     \u001b[0;32mreturn\u001b[0m \u001b[0m_nx\u001b[0m\u001b[0;34m.\u001b[0m\u001b[0mconcatenate\u001b[0m\u001b[0;34m(\u001b[0m\u001b[0marrs\u001b[0m\u001b[0;34m,\u001b[0m \u001b[0;36m0\u001b[0m\u001b[0;34m)\u001b[0m\u001b[0;34m\u001b[0m\u001b[0;34m\u001b[0m\u001b[0m\n\u001b[0m\u001b[1;32m    283\u001b[0m \u001b[0;34m\u001b[0m\u001b[0m\n\u001b[1;32m    284\u001b[0m \u001b[0;34m\u001b[0m\u001b[0m\n",
      "\u001b[0;32m<__array_function__ internals>\u001b[0m in \u001b[0;36mconcatenate\u001b[0;34m(*args, **kwargs)\u001b[0m\n",
      "\u001b[0;31mValueError\u001b[0m: all the input array dimensions for the concatenation axis must match exactly, but along dimension 1, the array at index 0 has size 3 and the array at index 1 has size 2"
     ]
    }
   ],
   "source": [
    "#### hstack, vstack\n",
    "arr1 = np.ones((2, 3))\n",
    "arr2 = np.ones((2, 2))\n",
    "print(arr1)\n",
    "print(arr2)\n",
    "\n",
    "#가로(수평)로 묶어주는게 좋을 듯 하다.\n",
    "#행의 갯수가 같으면 행 기준으로\n",
    "#열의 갯수가 같으면 열 기준으로\n",
    "arr3 = np.hstack([arr1, arr2])\n",
    "print(arr3)\n",
    "\n",
    "#만약 열의 수가 안맞는데 열로 결합하면?\n",
    "arr4 = np.vstack([arr1, arr2]) # error!"
   ]
  },
  {
   "cell_type": "code",
   "execution_count": 107,
   "metadata": {},
   "outputs": [
    {
     "name": "stdout",
     "output_type": "stream",
     "text": [
      "[[1. 1. 1. 1.]\n",
      " [1. 1. 1. 1.]\n",
      " [1. 1. 1. 1.]]\n",
      "[[1. 1. 1. 1.]\n",
      " [1. 1. 1. 1.]\n",
      " [1. 1. 1. 1.]]\n",
      "[[1. 1. 1. 1.]\n",
      " [1. 1. 1. 1.]\n",
      " [1. 1. 1. 1.]]\n",
      "==================================================\n",
      "[[[1. 1. 1.]\n",
      "  [1. 1. 1.]\n",
      "  [1. 1. 1.]\n",
      "  [1. 1. 1.]]\n",
      "\n",
      " [[1. 1. 1.]\n",
      "  [1. 1. 1.]\n",
      "  [1. 1. 1.]\n",
      "  [1. 1. 1.]]\n",
      "\n",
      " [[1. 1. 1.]\n",
      "  [1. 1. 1.]\n",
      "  [1. 1. 1.]\n",
      "  [1. 1. 1.]]]\n"
     ]
    }
   ],
   "source": [
    "#### dstack\n",
    "\n",
    "arr1 = np.ones((3, 4))\n",
    "arr2 = np.ones((3, 4))\n",
    "arr3 = np.ones((3, 4))\n",
    "print(arr1)\n",
    "print(arr2)\n",
    "print(arr3)\n",
    "\n",
    "print(\"=\"*50)\n",
    "\n",
    "arr4 = np.dstack([arr1, arr2, arr3])\n",
    "print(arr4)\n",
    "# 차원 추가.\n",
    "# 행 값들은 열 값으로 이동. 열 값은 행 값으로 이동. "
   ]
  },
  {
   "cell_type": "code",
   "execution_count": 112,
   "metadata": {},
   "outputs": [
    {
     "name": "stdout",
     "output_type": "stream",
     "text": [
      "[[[1. 1. 1. 1.]\n",
      "  [1. 1. 1. 1.]\n",
      "  [1. 1. 1. 1.]]\n",
      "\n",
      " [[1. 1. 1. 1.]\n",
      "  [1. 1. 1. 1.]\n",
      "  [1. 1. 1. 1.]]]\n",
      "==================================================\n",
      "[[[1. 1. 1. 1.]\n",
      "  [1. 1. 1. 1.]]\n",
      "\n",
      " [[1. 1. 1. 1.]\n",
      "  [1. 1. 1. 1.]]\n",
      "\n",
      " [[1. 1. 1. 1.]\n",
      "  [1. 1. 1. 1.]]]\n"
     ]
    }
   ],
   "source": [
    "#### stack\n",
    "\n",
    "arr1 = np.ones((3, 4))\n",
    "arr2 = np.ones((3, 4))\n",
    "\n",
    "arr3 = np.stack([arr1, arr2])\n",
    "print(arr3)\n",
    "\n",
    "print(\"=\"*50)\n",
    "\n",
    "arr3 = np.stack([arr1, arr2], axis=1)\n",
    "print(arr3)\n",
    "# axis는 축을 세우는 명령어. axis가 0이면 shape는 2,3,4 // 1이면 3,2,4 // 2이면 3,4,2(=dstack([arr1, arr2]))\n"
   ]
  },
  {
   "cell_type": "code",
   "execution_count": 116,
   "metadata": {},
   "outputs": [
    {
     "name": "stdout",
     "output_type": "stream",
     "text": [
      "[[0 1 2 0 1 2]\n",
      " [3 4 5 3 4 5]]\n",
      "==================================================\n",
      "[[0 1 2 0 1 2]\n",
      " [3 4 5 3 4 5]\n",
      " [0 1 2 0 1 2]\n",
      " [3 4 5 3 4 5]\n",
      " [0 1 2 0 1 2]\n",
      " [3 4 5 3 4 5]]\n"
     ]
    }
   ],
   "source": [
    "#### tile()\n",
    "\n",
    "arr = np.array(([[0,1,2], [3,4,5]]))\n",
    "\n",
    "print(np.tile(arr, 2))\n",
    "#2번 반복해서 더해줘.\n",
    "print(\"=\"*50)\n",
    "print(np.tile(arr, (3,2)))\n",
    "#3행 2열로 반복해서 더해줘\n",
    "#가로로 3번, 세로로 2번 더해줘\n",
    "#[[0 1 2 0 1 2]\n",
    "# [3 4 5 3 4 5]\n",
    "# [0 1 2 0 1 2]\n",
    "# [3 4 5 3 4 5]\n",
    "# [0 1 2 0 1 2]\n",
    "# [3 4 5 3 4 5]]"
   ]
  },
  {
   "cell_type": "markdown",
   "metadata": {},
   "source": [
    "## 12. 2차원 그리드 포인트 생성\n",
    "+ meshgrid()"
   ]
  },
  {
   "cell_type": "code",
   "execution_count": 117,
   "metadata": {},
   "outputs": [
    {
     "name": "stdout",
     "output_type": "stream",
     "text": [
      "[0 1 2]\n",
      "[0 1 2 3 4]\n"
     ]
    }
   ],
   "source": [
    "x = np.arange(3)\n",
    "y = np.arange(5)\n",
    "\n",
    "print(x)\n",
    "print(y)\n",
    "\n",
    "#x는 그래프 x, y는 그래프 y로 생각해 "
   ]
  },
  {
   "cell_type": "code",
   "execution_count": 120,
   "metadata": {},
   "outputs": [
    {
     "name": "stdout",
     "output_type": "stream",
     "text": [
      "[[0 1 2]\n",
      " [0 1 2]\n",
      " [0 1 2]\n",
      " [0 1 2]\n",
      " [0 1 2]]\n",
      "==================================================\n",
      "[[0 0 0]\n",
      " [1 1 1]\n",
      " [2 2 2]\n",
      " [3 3 3]\n",
      " [4 4 4]]\n"
     ]
    }
   ],
   "source": [
    "X, Y = np.meshgrid(x, y)\n",
    "\n",
    "print(X)\n",
    "print(\"=\"*50)\n",
    "print(Y)\n",
    "\n",
    "#X와 Y값을 대응시킬 때 편하다. X가 0일 때, Y는? ..."
   ]
  },
  {
   "cell_type": "code",
   "execution_count": 121,
   "metadata": {},
   "outputs": [
    {
     "data": {
      "text/plain": [
       "<matplotlib.collections.PathCollection at 0x7ff91909fe80>"
      ]
     },
     "execution_count": 121,
     "metadata": {},
     "output_type": "execute_result"
    },
    {
     "data": {
      "image/png": "[encoded data removed]",
      "text/plain": [
       "<Figure size 432x288 with 1 Axes>"
      ]
     },
     "metadata": {
      "needs_background": "light"
     },
     "output_type": "display_data"
    }
   ],
   "source": [
    "import matplotlib.pylab as plt\n",
    "plt.scatter(X, Y)"
   ]
  },
  {
   "cell_type": "markdown",
   "metadata": {},
   "source": [
    "## 13. Broadcasting\n",
    "\n",
    "+ 크기가 서로 다른 두 행렬(벡터)끼리 연산 가능하게 하는 것\n",
    "+ (2, 3) x (3, 5) 는 계산이 된다. 첫번째 형렬의 열의 수와 두번째 행렬의 행의 수가 같으면"
   ]
  },
  {
   "cell_type": "code",
   "execution_count": 132,
   "metadata": {},
   "outputs": [
    {
     "name": "stdout",
     "output_type": "stream",
     "text": [
      "[[0 1 2]\n",
      " [1 2 3]\n",
      " [2 3 4]\n",
      " [3 4 5]\n",
      " [4 5 6]]\n",
      "[[0]\n",
      " [1]\n",
      " [2]\n",
      " [3]\n",
      " [4]]\n",
      "==================================================\n",
      "[[ 0  1  2]\n",
      " [ 2  3  4]\n",
      " [ 4  5  6]\n",
      " [ 6  7  8]\n",
      " [ 8  9 10]]\n",
      "==================================================\n",
      "[[0 1 2]\n",
      " [1 2 3]\n",
      " [2 3 4]\n",
      " [3 4 5]\n",
      " [4 5 6]]\n",
      "[0 1 2]\n",
      "[[0 2 4]\n",
      " [1 3 5]\n",
      " [2 4 6]\n",
      " [3 5 7]\n",
      " [4 6 8]]\n"
     ]
    }
   ],
   "source": [
    "x = np.vstack([range(7)[i:i+3] for i in range(5)])\n",
    "print(x)\n",
    "\n",
    "y = np.arange(5)[:, np.newaxis]\n",
    "print(y)\n",
    "\n",
    "print('='*50)\n",
    "print(x+y)\n",
    "\n",
    "print('='*50)\n",
    "y = np.arange(3)\n",
    "print(x)\n",
    "print(y)\n",
    "print(x+y)"
   ]
  },
  {
   "cell_type": "code",
   "execution_count": 124,
   "metadata": {},
   "outputs": [
    {
     "data": {
      "text/plain": [
       "[0, 1, 2, 3, 4]"
      ]
     },
     "execution_count": 124,
     "metadata": {},
     "output_type": "execute_result"
    }
   ],
   "source": [
    "x_f = [i for i in range(5)]\n",
    "x_f"
   ]
  },
  {
   "cell_type": "code",
   "execution_count": 126,
   "metadata": {},
   "outputs": [
    {
     "data": {
      "text/plain": [
       "[range(0, 3), range(1, 4), range(2, 5), range(3, 6), range(4, 7)]"
      ]
     },
     "execution_count": 126,
     "metadata": {},
     "output_type": "execute_result"
    }
   ],
   "source": [
    "x_s = [range(7)[i:i+3] for i in range(5)]\n",
    "x_s"
   ]
  },
  {
   "cell_type": "code",
   "execution_count": 127,
   "metadata": {},
   "outputs": [
    {
     "data": {
      "text/plain": [
       "[0, 1, 2]"
      ]
     },
     "execution_count": 127,
     "metadata": {},
     "output_type": "execute_result"
    }
   ],
   "source": [
    "list(range(0, 3))"
   ]
  },
  {
   "cell_type": "code",
   "execution_count": 128,
   "metadata": {},
   "outputs": [
    {
     "data": {
      "text/plain": [
       "[1, 2, 3]"
      ]
     },
     "execution_count": 128,
     "metadata": {},
     "output_type": "execute_result"
    }
   ],
   "source": [
    "list(range(1,4))"
   ]
  },
  {
   "cell_type": "code",
   "execution_count": 129,
   "metadata": {},
   "outputs": [
    {
     "data": {
      "text/plain": [
       "array([[0, 1, 2],\n",
       "       [1, 2, 3],\n",
       "       [2, 3, 4],\n",
       "       [3, 4, 5],\n",
       "       [4, 5, 6]])"
      ]
     },
     "execution_count": 129,
     "metadata": {},
     "output_type": "execute_result"
    }
   ],
   "source": [
    "# 이걸 vstack으로 다 더해주면?\n",
    "x"
   ]
  },
  {
   "cell_type": "markdown",
   "metadata": {},
   "source": [
    "## 14. 차원축소(dimension reduction) 연산\n",
    "+ 차원축소란 수많은 값, 크기를 대표값 같은 작은 단위로 만드는 개념을 의미.\n",
    "+ max(), avg(), min(), mean(), median(), sum(), argmax(), argmin(), std(), var()\n",
    "+ 논리값 : all(), any()\n",
    "\n",
    "---\n",
    "행렬의 하나의 행에 있는 원소들을 하나의 데이터 집합으로 보고 그 집합의 평균을 구하면 각 행에 대해 하나의 숫자가 나오게 된다. 이러한 연산을 차원축소연산이라 생각하면 된다."
   ]
  },
  {
   "cell_type": "code",
   "execution_count": 138,
   "metadata": {},
   "outputs": [
    {
     "name": "stdout",
     "output_type": "stream",
     "text": [
      "3\n",
      "2\n",
      "-3\n",
      "3\n"
     ]
    }
   ],
   "source": [
    "x = np.array([1,2,3,-3])\n",
    "result_min = np.argmin(x)\n",
    "result_max = np.argmax(x)\n",
    "\n",
    "print(result_min)\n",
    "print(result_max)\n",
    "#argmin, argmax는 최소값, 최대값의 위치를 알려준다.\n",
    "\n",
    "print(x[result_min])\n",
    "print(x[result_max])\n",
    "#인덱싱에 넣으면 그 값이 나오네~"
   ]
  },
  {
   "cell_type": "markdown",
   "metadata": {},
   "source": [
    "## 15. 기술통계\n",
    "\n",
    "+ len() : 데이터 수\n",
    "+ sum(), mean()\n",
    "+ var(), std()\n",
    "+ max(), min()\n",
    "+ median()\n",
    "+ percentile() : 데이터 값이 데이터에서 크기 순으로 sort했을 때 백분율로 몇%에 위치하는지 알려주는 함수"
   ]
  },
  {
   "cell_type": "code",
   "execution_count": 139,
   "metadata": {},
   "outputs": [
    {
     "data": {
      "text/plain": [
       "DescribeResult(nobs=50, minmax=(-2.17575179141112, 2.228397801761577), mean=0.08645602926391743, variance=1.3776799789930483, skewness=-0.09616720350660926, kurtosis=-0.894125586850691)"
      ]
     },
     "execution_count": 139,
     "metadata": {},
     "output_type": "execute_result"
    }
   ],
   "source": [
    "from scipy.stats import describe\n",
    "\n",
    "x = np.random.randn(50)\n",
    "describe(x)\n",
    "\n",
    "# skewness, 외도 : 좌우 비대칭 여부 정도 나타냄\n",
    "# kurtosis, 첨도 : 그래프 위 아래가 뾰족한 정도를 나타냄\n"
   ]
  },
  {
   "cell_type": "markdown",
   "metadata": {},
   "source": [
    "## 16. 정렬"
   ]
  },
  {
   "cell_type": "code",
   "execution_count": 141,
   "metadata": {},
   "outputs": [
    {
     "name": "stdout",
     "output_type": "stream",
     "text": [
      "[[ 4  3  5  7]\n",
      " [ 1 12 11  9]\n",
      " [ 2 15  1 14]]\n",
      "==================================================\n",
      "[[ 3  4  5  7]\n",
      " [ 1  9 11 12]\n",
      " [ 1  2 14 15]]\n",
      "==================================================\n",
      "[[ 3  4  5  7]\n",
      " [ 1  9 11 12]\n",
      " [ 1  2 14 15]]\n",
      "==================================================\n",
      "[[ 1  3  1  7]\n",
      " [ 2 12  5  9]\n",
      " [ 4 15 11 14]]\n"
     ]
    }
   ],
   "source": [
    "arr = np.array([[4,3,5,7], [1,12,11,9], [2,15,1,14]])\n",
    "print(arr)\n",
    "print(\"=\"*50)\n",
    "print(np.sort(arr))\n",
    "print(\"=\"*50)\n",
    "print(np.sort(arr, axis=1)) # 행이 기준. 행 내 값들을 순서대로\n",
    "print(\"=\"*50)\n",
    "print(np.sort(arr, axis=0)) # 열이 기준. 열 내 값들을 순서대로\n",
    "# 원본에 저장안됨. 매번 확인해주는 태도 필요"
   ]
  },
  {
   "cell_type": "code",
   "execution_count": 143,
   "metadata": {},
   "outputs": [
    {
     "name": "stdout",
     "output_type": "stream",
     "text": [
      "[2 3 1 0]\n",
      "==================================================\n",
      "[12 25 38 48]\n"
     ]
    }
   ],
   "source": [
    "#### argsort\n",
    "arr = np.array([48,38,12,25])\n",
    "idx = np.argsort(arr)\n",
    "print(idx) # 각 위치의 값이 데이터 내에서 큰 순서 혹은 작은 순서를 리스트로\n",
    "print(\"=\"*50)\n",
    "print(arr[idx])"
   ]
  },
  {
   "cell_type": "code",
   "execution_count": 145,
   "metadata": {},
   "outputs": [
    {
     "name": "stdout",
     "output_type": "stream",
     "text": [
      "[48 38 25 12]\n"
     ]
    }
   ],
   "source": [
    "#### 내림차순\n",
    "print(np.sort(arr)[::-1])\n",
    "\n",
    "# 슬라이싱에 대해 자세히 배열[시작:끝:간격] = [::-1]은 시작부터 끝까지 다 불러들이고 역순으로 뽑아내줘 라는 뜻\n",
    "# 왜 [::-1]은 내림차순으로 출력하게 만들까?\n",
    "\n",
    "# data[start:finish:term]\n",
    "# [::-1]은 처음부터 끝까지 -1 맨 마지막에서부터\n",
    "# sort는 오름차순으로 작은값부터 큰 값으로. 이 걸 마지막부터 다시 불러들이면 큰 값부터 작은 값으로 나오게 됨"
   ]
  },
  {
   "cell_type": "code",
   "execution_count": null,
   "metadata": {},
   "outputs": [],
   "source": [
    "# 슬라이싱에 대해 자세히\n",
    "# 왜 [::-1]은 내림차순으로 출력하게 만들까?\n",
    "\n",
    "# data[start:finish:term]\n",
    "# [::-1]은 처음부터 끝까지 -1 맨 마지막에서부터\n",
    "# sort는 오름차순으로 작은값부터 큰 값으로. 이 걸 마지막부터 다시 불러들이면 큰 값부터 작은 값으로 나오게 됨\n",
    "\n"
   ]
  },
  {
   "cell_type": "markdown",
   "metadata": {},
   "source": [
    "## 17. 난수\n",
    "\n",
    "+ rand() : 0과 1 사이의 균일분포\n",
    "+ randn() : 표준정규분포\n",
    "+ randint() : 균일분포의 정수"
   ]
  },
  {
   "cell_type": "code",
   "execution_count": 3,
   "metadata": {},
   "outputs": [
    {
     "name": "stdout",
     "output_type": "stream",
     "text": [
      "[0.0450486  0.89727171 0.52999183 0.11218058 0.06500098 0.78396203\n",
      " 0.35621896 0.88962778 0.82428316 0.36075316]\n",
      "==================================================\n",
      "[[ 0.4788216  -2.87752069  1.62663256 -0.09241218  0.25508631]\n",
      " [-0.09063679 -1.35511091  0.63355616  0.28293888  0.28042544]\n",
      " [ 0.58193334 -0.52607841  0.33178442  1.89306011  0.30272581]]\n"
     ]
    }
   ],
   "source": [
    "print(np.random.rand(10)) # 10개\n",
    "print(\"=\"*50)\n",
    "print(np.random.randn(3, 5)) # 3행 5열"
   ]
  },
  {
   "cell_type": "code",
   "execution_count": 5,
   "metadata": {},
   "outputs": [
    {
     "name": "stdout",
     "output_type": "stream",
     "text": [
      "3\n",
      "==================================================\n",
      "12\n",
      "==================================================\n",
      "[13 59 26 34 79 99 97 49 29 17]\n",
      "==================================================\n",
      "[[11 18 14 18]\n",
      " [14 12 16 12]\n",
      " [12 13 12 12]]\n"
     ]
    }
   ],
   "source": [
    "print(np.random.randint(10)) # 0에서 9까지 숫자 중 하나\n",
    "print(\"=\"*50)\n",
    "print(np.random.randint(11, 20)) # 11에서 20까지 숫자 중 하나\n",
    "print(\"=\"*50)\n",
    "print(np.random.randint(10, 100, size=10)) # 10에서 99까지 숫자 중 10개\n",
    "print(\"=\"*50)\n",
    "print(np.random.randint(11, 20, size=(3,4))) # 11에서 20까지 정수를 행렬 3,4로"
   ]
  },
  {
   "cell_type": "code",
   "execution_count": 8,
   "metadata": {},
   "outputs": [
    {
     "data": {
      "text/plain": [
       "array([0.54340494, 0.27836939])"
      ]
     },
     "execution_count": 8,
     "metadata": {},
     "output_type": "execute_result"
    }
   ],
   "source": [
    "#### 재현성 : 난수 고정 위해\n",
    "# 난수 한번만 부르면 다음 난수부를 땐 똑같이 나오도록 하는 명령어. 머신러닝, 실험 등에 자주 사용\n",
    "np.random.seed(100)\n",
    "\n",
    "np.random.rand(2) # 반복 실행해도 똑같은 값 나온다."
   ]
  },
  {
   "cell_type": "code",
   "execution_count": 10,
   "metadata": {},
   "outputs": [
    {
     "name": "stdout",
     "output_type": "stream",
     "text": [
      "[0 1 2 3 4 5 6 7 8 9]\n",
      "[3 8 5 1 9 4 6 2 0 7]\n"
     ]
    }
   ],
   "source": [
    "#### 데이터 순서 바꾸기\n",
    "\n",
    "x = np.arange(10)\n",
    "print(x)\n",
    "\n",
    "np.random.shuffle(x)\n",
    "print(x)"
   ]
  },
  {
   "cell_type": "code",
   "execution_count": 14,
   "metadata": {},
   "outputs": [
    {
     "name": "stdout",
     "output_type": "stream",
     "text": [
      "[2 4 1 2 2 0 2]\n",
      "[38 15 45 36 11 42]\n",
      "[3 3 3 3 3 2 0 2 3 3]\n"
     ]
    }
   ],
   "source": [
    "#### 샘플링 : 복원 vs 비복원\n",
    "# 복원 : 주머니에서 공을 뽑는데 매번 뽑을 때 뽑은 값은 원본에 넣고 뽑는 것(숫자가 반복 뽑힐 수 있음)\n",
    "# 비복원 : 주머니에서 공을 뽑는데 매번 뽑을 때 뽑은 값은 빼고 뽑는 것(같은 값 X)\n",
    "\n",
    "print(np.random.choice(5, 7)) # 0~4까지 숫자를 7번 뽑는 것(복원)\n",
    "print(np.random.choice(46, 6, replace = False)) # 0~4까지 숫자를 4번. 원본 수보다 뽑는 수 많을 수 없다.\n",
    "print(np.random.choice(5, 10, p=[0.1, 0, 0.3, 0.6, 0])) # 0, 2, 3만 나올 것. # 샘플에서 나올 값들 확률 지정해준 것"
   ]
  },
  {
   "cell_type": "markdown",
   "metadata": {},
   "source": [
    "## 18. 정수형 데이터 카운팅 : unique(), bincount()"
   ]
  },
  {
   "cell_type": "code",
   "execution_count": 17,
   "metadata": {},
   "outputs": [
    {
     "name": "stdout",
     "output_type": "stream",
     "text": [
      "5\n",
      "['a' 'b' 'c']\n",
      "3\n",
      "==================================================\n",
      "['a' 'b' 'c'] [2 2 1]\n"
     ]
    }
   ],
   "source": [
    "#### unique\n",
    "\n",
    "arr = np.array(['a', 'b', 'c', 'b', 'a'])\n",
    "\n",
    "print(len(arr)) #5\n",
    "print(np.unique(arr)) #a,b,c. 중복된 값 없이\n",
    "print(len(np.unique(arr))) # 3\n",
    "\n",
    "print(\"=\"*50)\n",
    "\n",
    "idx, cnt = np.unique(arr, return_counts=True)\n",
    "print(idx, cnt)\n",
    "# 중복된 값을 알려주는 기능 있다!"
   ]
  },
  {
   "cell_type": "code",
   "execution_count": 19,
   "metadata": {},
   "outputs": [
    {
     "name": "stdout",
     "output_type": "stream",
     "text": [
      "(array([1, 2, 3]), array([2, 3, 1]))\n",
      "[0 2 3 1 0 0]\n"
     ]
    }
   ],
   "source": [
    "#### bincount : 발생하지 않은 사건에 대해서도 카운팅\n",
    "# 주사위 1, 2, 3, 4, 5, 6 중에 안나온 숫자도 표현\n",
    "\n",
    "arr = np.array([1, 1, 2, 2, 2, 3])\n",
    "\n",
    "print(np.unique(arr, return_counts=True))\n",
    "print(np.bincount(arr, minlength=6)) #minlength는 가능한 범위를 이야기한다.\n",
    "# 0과 4, 5에 대한 것도.."
   ]
  },
  {
   "cell_type": "markdown",
   "metadata": {},
   "source": [
    "## 실습 : 영화 평점 데이터"
   ]
  },
  {
   "cell_type": "code",
   "execution_count": 4,
   "metadata": {},
   "outputs": [],
   "source": [
    "data = np.loadtxt(\"./data/ml-1m/ratings.dat\", delimiter=\"::\", dtype=np.int64) # 파이썬에서 기본은 open(). 그러나 numpy에서도 불러올 수 있다. 이 때 numpy는 자동으로 배열 형태로 가져옴.\n"
   ]
  },
  {
   "cell_type": "code",
   "execution_count": 5,
   "metadata": {},
   "outputs": [
    {
     "name": "stdout",
     "output_type": "stream",
     "text": [
      "[[        1      1193         5 978300760]\n",
      " [        1       661         3 978302109]\n",
      " [        1       914         3 978301968]\n",
      " ...\n",
      " [     6040       562         5 956704746]\n",
      " [     6040      1096         4 956715648]\n",
      " [     6040      1097         4 956715569]]\n"
     ]
    }
   ],
   "source": [
    "print(data)\n",
    "# UserID::MovieID::Rating::Timestamp"
   ]
  },
  {
   "cell_type": "code",
   "execution_count": 29,
   "metadata": {},
   "outputs": [
    {
     "data": {
      "text/plain": [
       "array([[        1,      1193,         5, 978300760],\n",
       "       [        1,       661,         3, 978302109],\n",
       "       [        1,       914,         3, 978301968],\n",
       "       [        1,      3408,         4, 978300275],\n",
       "       [        1,      2355,         5, 978824291],\n",
       "       [        1,      1197,         3, 978302268],\n",
       "       [        1,      1287,         5, 978302039],\n",
       "       [        1,      2804,         5, 978300719],\n",
       "       [        1,       594,         4, 978302268],\n",
       "       [        1,       919,         4, 978301368],\n",
       "       [        1,       595,         5, 978824268],\n",
       "       [        1,       938,         4, 978301752],\n",
       "       [        1,      2398,         4, 978302281],\n",
       "       [        1,      2918,         4, 978302124],\n",
       "       [        1,      1035,         5, 978301753],\n",
       "       [        1,      2791,         4, 978302188],\n",
       "       [        1,      2687,         3, 978824268],\n",
       "       [        1,      2018,         4, 978301777],\n",
       "       [        1,      3105,         5, 978301713],\n",
       "       [        1,      2797,         4, 978302039]])"
      ]
     },
     "execution_count": 29,
     "metadata": {},
     "output_type": "execute_result"
    }
   ],
   "source": [
    "# 첫행부터 20행까지 출력\n",
    "data[0:20, :]"
   ]
  },
  {
   "cell_type": "code",
   "execution_count": 30,
   "metadata": {},
   "outputs": [
    {
     "data": {
      "text/plain": [
       "array([[   1,  720],\n",
       "       [   1, 1270],\n",
       "       [   1,  527],\n",
       "       [   1, 2340],\n",
       "       [   1,   48],\n",
       "       [   1, 1097],\n",
       "       [   1, 1721],\n",
       "       [   1, 1545],\n",
       "       [   1,  745],\n",
       "       [   1, 2294]])"
      ]
     },
     "execution_count": 30,
     "metadata": {},
     "output_type": "execute_result"
    }
   ],
   "source": [
    "#21행부터 30행까지 userid와 movieid만 출력\n",
    "data[21:31, 0:2]"
   ]
  },
  {
   "cell_type": "code",
   "execution_count": 35,
   "metadata": {},
   "outputs": [
    {
     "data": {
      "text/plain": [
       "3.581564453029317"
      ]
     },
     "execution_count": 35,
     "metadata": {},
     "output_type": "execute_result"
    }
   ],
   "source": [
    "#전체 평점에 대한 평균\n",
    "avg = np.mean(data[:, 2])\n",
    "avg\n",
    "#data[:,2].mean() 이렇게도 구할 수 있다."
   ]
  },
  {
   "cell_type": "code",
   "execution_count": 15,
   "metadata": {},
   "outputs": [
    {
     "name": "stdout",
     "output_type": "stream",
     "text": [
      "[4.188679245283019, 3.7131782945736433, 3.9019607843137254, 4.190476190476191, 3.1464646464646466, 3.9014084507042255, 4.32258064516129, 3.884892086330935, 3.7358490566037736, 4.114713216957606]\n"
     ]
    }
   ],
   "source": [
    "# 사용자별로 평균 평점(10명)\n",
    "avg_list = []\n",
    "for i in range(1, 11):\n",
    "    avg = np.mean(data[:,2][data[:, 0] == i])\n",
    "    avg_list.append(avg)\n",
    "\n",
    "print(avg_list)"
   ]
  },
  {
   "cell_type": "code",
   "execution_count": 16,
   "metadata": {},
   "outputs": [
    {
     "name": "stdout",
     "output_type": "stream",
     "text": [
      "6\n",
      "user id : 7 max rating : 4.32258064516129\n"
     ]
    }
   ],
   "source": [
    "# 위의 결과 중 최고평점 평균을 구하기\n",
    "avg_array = np.array(avg_list)\n",
    "\n",
    "result_max = np.argmax(avg_array)\n",
    "print(result_max)\n",
    "\n",
    "print(\"user id :\", result_max + 1, \"max rating :\", avg_array[result_max])"
   ]
  },
  {
   "cell_type": "code",
   "execution_count": 17,
   "metadata": {},
   "outputs": [
    {
     "name": "stdout",
     "output_type": "stream",
     "text": [
      "[   1    2    3 ... 6038 6039 6040]\n",
      "[[1, 4.188679245283019], [2, 3.7131782945736433], [3, 3.9019607843137254], [4, 4.190476190476191], [5, 3.1464646464646466], [6, 3.9014084507042255], [7, 4.32258064516129], [8, 3.884892086330935], [9, 3.7358490566037736], [10, 4.114713216957606]]\n"
     ]
    }
   ],
   "source": [
    "# 사용자별로 평점 평균(10명)\n",
    "\n",
    "user_id = np.unique(data[:, 0]) #유니크 함수 쓰면 중복값 제거한 값 목록만 나옴.\n",
    "print(user_id)\n",
    "\n",
    "avg_list = []\n",
    "for i in user_id:\n",
    "    avg = data[data[:, 0] == i, :]\n",
    "    value = avg[:, 2].mean()\n",
    "    avg_list.append([i, value])\n",
    "\n",
    "print(avg_list[:10])"
   ]
  },
  {
   "cell_type": "code",
   "execution_count": 28,
   "metadata": {},
   "outputs": [
    {
     "name": "stdout",
     "output_type": "stream",
     "text": [
      "[[1.00000000e+00 4.18867925e+00]\n",
      " [2.00000000e+00 3.71317829e+00]\n",
      " [3.00000000e+00 3.90196078e+00]\n",
      " ...\n",
      " [6.03800000e+03 3.80000000e+00]\n",
      " [6.03900000e+03 3.87804878e+00]\n",
      " [6.04000000e+03 3.57771261e+00]]\n",
      "==================================================\n",
      "[3597 4485 2743 ... 3323 2338  282]\n",
      "[283.           4.96296296]\n",
      "[ 282 2338 3323 ... 2743 4485 3597]\n",
      "4.962962962962963\n",
      "==================================================\n",
      "282\n",
      "[283.           4.96296296]\n",
      "==================================================\n",
      "[6039  282]\n",
      "[283.           4.96296296]\n"
     ]
    }
   ],
   "source": [
    "# 위의 결과 중 최고평점 평균을 구하기\n",
    "avg_array = np.array(avg_list)\n",
    "print(avg_array)\n",
    "\n",
    "print(\"=\" * 50)\n",
    "\n",
    "print(np.argsort(avg_array[:, -1]))\n",
    "print(avg_array[282])\n",
    "\n",
    "print(np.argsort(avg_array[:, 1])[::-1])\n",
    "\n",
    "print(np.max(avg_array[:, 1]))\n",
    "\n",
    "print(\"=\" * 50)\n",
    "\n",
    "print(np.argmax(avg_array[:, 1]))\n",
    "print(avg_array[np.argmax(avg_array[:, 1])])\n",
    "\n",
    "print(\"=\" * 50)\n",
    "\n",
    "print(avg_array.argmax(axis=0)) # axis=0은 열을 기준으로 최대값을 찾는 것.\n",
    "print(avg_array[avg_array.argmax(axis=0)[1]])\n",
    "# 그럼 이렇게 쉽게 불러올 수 있다."
   ]
  },
  {
   "cell_type": "code",
   "execution_count": 29,
   "metadata": {},
   "outputs": [],
   "source": [
    "# 결과값을 np로 저장. 협업 프로젝트 진행 시\n",
    "np.savetxt(\"data/ml-1m/id_ration.csv\", avg_array, delimiter=\",\", fmt='%.1f') #fmt='%.1f'는 소수점을 한자리까지만 나타내란 명령어"
   ]
  },
  {
   "cell_type": "code",
   "execution_count": null,
   "metadata": {},
   "outputs": [],
   "source": []
  }
 ],
 "metadata": {
  "interpreter": {
   "hash": "ffa51a067cc8f56fbe973d67ebf9bd219600714a44d58766a723001c1f48db64"
  },
  "kernelspec": {
   "display_name": "Python 3.9.6 64-bit ('datastudy': conda)",
   "name": "python3"
  },
  "language_info": {
   "codemirror_mode": {
    "name": "ipython",
    "version": 3
   },
   "file_extension": ".py",
   "mimetype": "text/x-python",
   "name": "python",
   "nbconvert_exporter": "python",
   "pygments_lexer": "ipython3",
   "version": "3.9.6"
  },
  "orig_nbformat": 4
 },
 "nbformat": 4,
 "nbformat_minor": 2
}
