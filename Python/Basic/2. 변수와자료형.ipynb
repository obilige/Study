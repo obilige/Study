{
 "cells": [
  {
   "cell_type": "markdown",
   "source": [
    "# 변수(Variable)의 정의\n",
    "- 임시 기억(저장) 공간\n",
    "- 이 공간은 주공간(휘발성)과 비슷\n",
    "\n",
    "# 변수 특징\n",
    "- 묵시적 선언 : 변수로 쓰겠다 신고할 필요 없음.\n",
    "- 동적 바인딩 : 하나의 변수에선 하나의 형식만 저장 가능. 값이 넘어갈 때 변수 형식이 결정됨. 따라서, 조금 더 자유롭다.\n",
    "- immutable : 값을 수정할 수 없다. 파이썬은 저장된 값을 불러오는 것. 따라서 변수는 이 저장된 값을 불러오는 명칭, 주소가 되는 것 데이터프레임 수정 시, 해당 개념 모르면 문제 발생\n",
    "    + 수정 가능 : list, dic, set\n",
    "    + 수정 불가능 : tuple, int, float, str, bool\n",
    "- garbage : 데이터가 있지만 읽고 쓸 수 없는 데이터. 최근엔 언어에서 자체적으로 관리하는 시스템 있어 걱정없이 써도 된다.\n"
   ],
   "metadata": {}
  },
  {
   "cell_type": "markdown",
   "source": [
    "# 자료형(DATA TYPE)\n",
    "+ 종류\n",
    "    1. 기본 자료형 : 숫자형, 문자열 자료형\n",
    "        * int 1, 2, 3\n",
    "        * float 1.1, 2.8, 3.14\n",
    "        * str : character\n",
    "        * bool : true & false\n",
    "    2. 집합 자료형 : 기본 자료형 여러 개 묶은 것\n",
    "        * list 리스트 : list\n",
    "        * tuple 튜플 : list but no edit\n",
    "        * dict 딕셔너리 : key & Value\n",
    "        * set \n",
    "\n",
    "\n",
    "- 숫자형(int 정수, float 실수) : a = 10\n",
    "- 문자열 자료형 : a = \"I am jaehoon\" \n",
    "- 리스트 자료형 : a = [1, 2, 3, [4, 5]]\n",
    "- 튜플 자료형 : a = (1, 2, 3, (4, 5)) 튜플은 리스트와 달리 값 수정, 삭제, 추가할 수 없다.\n",
    "- 딕셔너리 자료형 : a {player : son, age : 29}. Key에 맞는 'value'가 주어지는 것이 특징\n",
    "- 집합 자료형\n",
    "- 불 자료형\n",
    "- 자료형의 값을 저장하는 공간, 변수"
   ],
   "metadata": {}
  },
  {
   "cell_type": "code",
   "execution_count": 69,
   "source": [
    "a = 10\n",
    "print(a)\n",
    "\n",
    "a = 11\n",
    "print(a)\n",
    "\n",
    "a = \"안녕하세요\"\n",
    "print(a)\n",
    "#\"안녕하세요\" 이렇게 프린트하고 싶으면 '\"안녕하세요\"'로 변수지정해주면 된다.\n",
    "a = '\"안녕하세요\"'\n",
    "print(a)\n",
    "\n",
    "a = 3.14\n",
    "print(a)\n",
    "\n",
    "a = True #True는 문자가 아니라 논리값으로 참/거짓 의미를 가집니다.\n",
    "\n",
    "#여기선 이미 4개의 garbage가 생겼다. 주소를 잃어버렸기 때문"
   ],
   "outputs": [
    {
     "output_type": "stream",
     "name": "stdout",
     "text": [
      "10\n",
      "11\n",
      "안녕하세요\n",
      "\"안녕하세요\"\n",
      "3.14\n"
     ]
    }
   ],
   "metadata": {}
  },
  {
   "cell_type": "code",
   "execution_count": 70,
   "source": [
    "# 문법 위주로 암기하지마세요. 불편하지 않을 정도로만 공부하면 되요.\n",
    "# 컴퓨터 언어는 실제로 써보고 활용하는 능력이 더 중요해요.\n",
    "# 문법은 찾아보면 되요. 로직을 공부하세요. 어떻게 문제를 해결할 것인가? 어떤 순서로 할 것인가?\n",
    "# 일의 순서를 알아야 해요."
   ],
   "outputs": [],
   "metadata": {}
  },
  {
   "cell_type": "code",
   "execution_count": 71,
   "source": [
    "a = 10\n",
    "print(type(a))\n",
    "\n",
    "\n",
    "b = 3.14\n",
    "print(type(b))"
   ],
   "outputs": [
    {
     "output_type": "stream",
     "name": "stdout",
     "text": [
      "<class 'int'>\n",
      "<class 'float'>\n"
     ]
    }
   ],
   "metadata": {}
  },
  {
   "cell_type": "markdown",
   "source": [
    "---\n",
    "### (1)str"
   ],
   "metadata": {}
  },
  {
   "cell_type": "code",
   "execution_count": 72,
   "source": [
    "a = 10\n",
    "type(a)"
   ],
   "outputs": [
    {
     "output_type": "execute_result",
     "data": {
      "text/plain": [
       "int"
      ]
     },
     "metadata": {},
     "execution_count": 72
    }
   ],
   "metadata": {}
  },
  {
   "cell_type": "code",
   "execution_count": 73,
   "source": [
    "b = '10'\n",
    "print(type('b'))\n",
    "\n",
    "c = '안녕하세요'\n",
    "print(c)\n",
    "\n",
    "# 하나가 말했습니다. \"밥먹고 가자\" 를 내보내봅시다.\n",
    "d = '하나가 말했습니다. \"밥먹고 가자\"'\n",
    "print(d)\n",
    "\n",
    "# 안녕하세요.\n",
    "# 홍길동입니다.\n",
    "# 만나서 반갑습니다. 이렇게 내보내는 방법\n",
    "\n",
    "e = \"\"\"안녕하세요.\n",
    "홍길동입니다.\n",
    "만나서 반갑습니다\"\"\"\n",
    "print(e)"
   ],
   "outputs": [
    {
     "output_type": "stream",
     "name": "stdout",
     "text": [
      "<class 'str'>\n",
      "안녕하세요\n",
      "하나가 말했습니다. \"밥먹고 가자\"\n",
      "안녕하세요.\n",
      "홍길동입니다.\n",
      "만나서 반갑습니다\n"
     ]
    }
   ],
   "metadata": {}
  },
  {
   "cell_type": "markdown",
   "source": [
    "#### 특수문자(제어문자) : \\문자\n",
    "- 출력 모양을 조정해주는 역할\n",
    "- 교재 48p 참고"
   ],
   "metadata": {}
  },
  {
   "cell_type": "code",
   "execution_count": 74,
   "source": [
    "a = \"이 것은 파이썬입니다. \\n열심히 공부합시다.\" #\\n 은 newline에서 따옴\n",
    "print(a)"
   ],
   "outputs": [
    {
     "output_type": "stream",
     "name": "stdout",
     "text": [
      "이 것은 파이썬입니다. \n",
      "열심히 공부합시다.\n"
     ]
    }
   ],
   "metadata": {}
  },
  {
   "cell_type": "code",
   "execution_count": 75,
   "source": [
    "f = \"현재 시간은 \\t\\t4시 입니다.\" # \\문자 : \\(escape character)\n",
    "print(f)"
   ],
   "outputs": [
    {
     "output_type": "stream",
     "name": "stdout",
     "text": [
      "현재 시간은 \t\t4시 입니다.\n"
     ]
    }
   ],
   "metadata": {}
  },
  {
   "cell_type": "code",
   "execution_count": 76,
   "source": [
    "t = '\"\\\\t는 탭키의 기능이다\"'\n",
    "print(t)"
   ],
   "outputs": [
    {
     "output_type": "stream",
     "name": "stdout",
     "text": [
      "\"\\t는 탭키의 기능이다\"\n"
     ]
    }
   ],
   "metadata": {}
  },
  {
   "cell_type": "code",
   "execution_count": 77,
   "source": [
    "# \\를 줄바꿈의 용도로 사용 가능합니다.\n",
    "a = 10 + 5 + 7 + 3 + 1 + 2 + 3 + 4 + \\\n",
    "    5 + 6\n",
    "print(a)"
   ],
   "outputs": [
    {
     "output_type": "stream",
     "name": "stdout",
     "text": [
      "46\n"
     ]
    }
   ],
   "metadata": {}
  },
  {
   "cell_type": "code",
   "execution_count": 78,
   "source": [
    "#### 문자열을 연결하기\n",
    "a = \"Python\"\n",
    "b = \" is fun\"\n",
    "c = \" and great\"\n",
    "\n",
    "d = (a, b, c)\n",
    "print(d)\n",
    "p = (a + b + c)\n",
    "print(p)"
   ],
   "outputs": [
    {
     "output_type": "stream",
     "name": "stdout",
     "text": [
      "('Python', ' is fun', ' and great')\n",
      "Python is fun and great\n"
     ]
    }
   ],
   "metadata": {}
  },
  {
   "cell_type": "code",
   "execution_count": 79,
   "source": [
    "#### 문자열 곱하기 : 문자를 곱해 반복할 수 있다.\n",
    "print(a*3)\n",
    "# 모든 연산 적용되는 것 아니다\n",
    "# 문자 곱할 땐 한쪽은 숫자여야. 문자 * 문자는 안된다."
   ],
   "outputs": [
    {
     "output_type": "stream",
     "name": "stdout",
     "text": [
      "PythonPythonPython\n"
     ]
    }
   ],
   "metadata": {}
  },
  {
   "cell_type": "code",
   "execution_count": 80,
   "source": [
    "#### 문자열의 길이 : len()\n",
    "print(len(a)) #6\n",
    "print(len(b)) #7\n",
    "print(len(c)) #10\n",
    "print(len(p)) #23"
   ],
   "outputs": [
    {
     "output_type": "stream",
     "name": "stdout",
     "text": [
      "6\n",
      "7\n",
      "10\n",
      "23\n"
     ]
    }
   ],
   "metadata": {}
  },
  {
   "cell_type": "code",
   "execution_count": 1,
   "source": [
    "#### 인덱싱 indexing : 원하는 문자 순서에 접근하는 방법 접근\n",
    "z = \"Life is too short, You need python\"\n",
    "print(len(z))\n",
    "print(z[3])\n",
    "print(z[-1]) # = print(z[34]) 즉 마지막을 부르는 것\n",
    "print(z[-3]) #끝에서 세번째 h\n",
    "print(len(z))\n",
    "print(z[len(z)-1])\n",
    "print('='*50)\n",
    "\n",
    "#### 슬라이싱 slicing : 원하는 내용 중 일부 잘라오는 것 [시작위치 : 끝위치]\n",
    "print(z[0:10]) # 0번부터 10번 직전까지 잘라서 가져와\n",
    "print(z[3:]) # 3번부터 끝까지 잘라서 가져와\n",
    "print(z[:13]) #13번 직전까지 잘라서 가져와\n",
    "#Step in slicing\n",
    "print(z[::1]) #1칸씩 잘라서 가져와 = 다 가져와\n",
    "print(z[::2]) #2칸씩 잘라서 가져와\n",
    "print(z[::3]) #3칸씩 잘라서 가져와\n",
    "print(z[::-1]) #1칸씩 역순으로 잘라서 가져와"
   ],
   "outputs": [
    {
     "output_type": "stream",
     "name": "stdout",
     "text": [
      "34\n",
      "e\n",
      "n\n",
      "h\n",
      "34\n",
      "n\n",
      "==================================================\n",
      "Life is to\n",
      "e is too short, You need python\n",
      "Life is too s\n",
      "Life is too short, You need python\n",
      "Lf stosot o edpto\n",
      "Lesosr ue tn\n",
      "nohtyp deen uoY ,trohs oot si efiL\n"
     ]
    }
   ],
   "metadata": {}
  },
  {
   "cell_type": "code",
   "execution_count": 82,
   "source": [
    "#### 수정불가\n",
    "a = 'pithon' #응? 틀렸네? 수정해야지\n",
    "# a = 'python'\n",
    "# 이렇게 하면 값을 바꾼게 아니야. 접근 주소를 바꾼 것\n",
    "\n",
    "a[1] = 'y'\n",
    "# 증거 : 오류가 난다."
   ],
   "outputs": [
    {
     "output_type": "error",
     "ename": "TypeError",
     "evalue": "'str' object does not support item assignment",
     "traceback": [
      "\u001b[0;31m---------------------------------------------------------------------------\u001b[0m",
      "\u001b[0;31mTypeError\u001b[0m                                 Traceback (most recent call last)",
      "\u001b[0;32m<ipython-input-82-3db488cd550e>\u001b[0m in \u001b[0;36m<module>\u001b[0;34m\u001b[0m\n\u001b[1;32m      4\u001b[0m \u001b[0;31m# 이렇게 하면 값을 바꾼게 아니야. 접근 주소를 바꾼 것\u001b[0m\u001b[0;34m\u001b[0m\u001b[0;34m\u001b[0m\u001b[0;34m\u001b[0m\u001b[0m\n\u001b[1;32m      5\u001b[0m \u001b[0;34m\u001b[0m\u001b[0m\n\u001b[0;32m----> 6\u001b[0;31m \u001b[0ma\u001b[0m\u001b[0;34m[\u001b[0m\u001b[0;36m1\u001b[0m\u001b[0;34m]\u001b[0m \u001b[0;34m=\u001b[0m \u001b[0;34m'y'\u001b[0m\u001b[0;34m\u001b[0m\u001b[0;34m\u001b[0m\u001b[0m\n\u001b[0m\u001b[1;32m      7\u001b[0m \u001b[0;31m# 증거 : 오류가 난다.\u001b[0m\u001b[0;34m\u001b[0m\u001b[0;34m\u001b[0m\u001b[0;34m\u001b[0m\u001b[0m\n",
      "\u001b[0;31mTypeError\u001b[0m: 'str' object does not support item assignment"
     ]
    }
   ],
   "metadata": {}
  },
  {
   "cell_type": "code",
   "execution_count": 83,
   "source": [
    "#### 문자열 관련 함수\n",
    "\n",
    "#count() : len과의 차이는 특정 문자 갯수를 확인할 수 있다.\n",
    "str1 = \"홍길동, 홍경래, 홍장군, 임경업, 신돌석\"\n",
    "print(len(str1))\n",
    "print(str1.count('홍'))\n",
    "\n",
    "print('===============================')\n",
    "\n",
    "#join : 리스트 csv 파일 형태 만들 때 유용\n",
    "str1 = \"abcdefg\"\n",
    "print(\",\".join(str1)) #a,b,c,d,e,f,g\n",
    "\n",
    "print('===============================')\n",
    "\n",
    "#split\n",
    "name = \"홍길동, 홍경래, 홍장군, 임경업, 신돌석\"\n",
    "print(name.split(\",\")) #['홍길동', ' 홍경래', ' 홍장군', ' 임경업', ' 신돌석']\n",
    "print(name) #홍길동, 홍경래, 홍장군, 임경업, 신돌석\n",
    "\n",
    "print('===============================')\n",
    "\n",
    "#find() & index()\n",
    "print(name.find('길'))\n",
    "print(name.index('길'))\n",
    "#글자 위치 나타냄\n",
    "#없는 문자 표현에서 차이. find는 -1, index는 'error'로 표현\n",
    "\n",
    "print('===============================')\n",
    "\n",
    "#strip : 특정문자 제거할 때 쓰는 문자. 공백 지울 때 많이 사용합니다.\n",
    "#lstrip(), rstrip(), strip()\n",
    "str1 = \"                       python\"\n",
    "print(str1.lstrip())\n",
    "str2 = \"python                       \"\n",
    "print(str2.rstrip())\n",
    "print(name.strip(\" \"))\n",
    "\n",
    "\n",
    "print('===============================')\n",
    "\n",
    "#replace(), [maketrans(), translate()]\n",
    "a = \"Hello, World!\"\n",
    "print(a.replace(\"World\", \"python\"))\n",
    "num = \"일이삼사오육칠팔구\"\n",
    "print(num.replace(\"일이삼사오육칠팔구\", \"123456789\"))\n",
    "print(num.replace(\"일삼오\", \"135\"))\n",
    "#안된다. num 내 문자가 하나의 값이기 때문\n",
    "#이 때 num.translate(num.maketrans(\"일삼오\", \"135\"))로 해주면 바뀐다.\n",
    "#문자 하나하나를 값으로 메겨 바꿔주는 함수다.\n",
    "print(num.translate(num.maketrans(\"일삼오\", \"135\")))"
   ],
   "outputs": [
    {
     "output_type": "stream",
     "name": "stdout",
     "text": [
      "23\n",
      "3\n",
      "===============================\n",
      "a,b,c,d,e,f,g\n",
      "===============================\n",
      "['홍길동', ' 홍경래', ' 홍장군', ' 임경업', ' 신돌석']\n",
      "홍길동, 홍경래, 홍장군, 임경업, 신돌석\n",
      "===============================\n",
      "1\n",
      "1\n",
      "===============================\n",
      "python\n",
      "python\n",
      "홍길동, 홍경래, 홍장군, 임경업, 신돌석\n",
      "===============================\n",
      "Hello, python!\n",
      "123456789\n",
      "일이삼사오육칠팔구\n",
      "1이3사5육칠팔구\n"
     ]
    }
   ],
   "metadata": {}
  },
  {
   "cell_type": "code",
   "execution_count": 84,
   "source": [
    "#### 문자열 포멧팅 : %, .format()\n",
    "\n",
    "### %를 이용하는 방법\n",
    "print(\"현재 온도는 18도입니다.\")\n",
    "print(\"현재 온도는 %d도이며 현재 날씨는 %s입니다.\" %(18, \"맑음\"))\n",
    "\n",
    "#나눗셈의 결과 : 3 /5 = 0.6 입니다.\n",
    "print(\"%s의 결과 : %d %c %d = %0.2f입니다\" %(\"나눗셈\", 3, \"/\", 5, (3/5)))\n",
    "#%0.2f는 소수점 두자리까지만이란 의미\n",
    "\n",
    "### format 함수를 사용하는 방법\n",
    "print(\"{}의 결과 : {} {} {} = {}입니다.\".format(\"나눗셈\", 3, \"/\", 5, (3/5)))\n",
    "print(\"{0}의 결과 : {1} {2} {3} = {4}입니다.\".format(\"나눗셈\", 3, \"/\", 5, (3/5)))\n",
    "#순서를 지정할 수 있다.\n",
    "print(\"{title}의 결과 : {num1} {op} {num2} = {result}입니다.\"\\\n",
    "    .format(title = \"나눗셈\", num1 = 3, op = \"/\", num2 = 5, result = (3/5)))\n",
    "print(\"{0:*>10}의 결과 : {1} {2} {3} = {4:0.2f}입니다.\".format(\"나눗셈\", 3, \"/\", 5, (3/5)))\n",
    "#:*>10 왼쪽에서 오른쪽으로 * 10개 채우고 시작\n",
    "#:0.2f 소수점 둘째 자리까지"
   ],
   "outputs": [
    {
     "output_type": "stream",
     "name": "stdout",
     "text": [
      "현재 온도는 18도입니다.\n",
      "현재 온도는 18도이며 현재 날씨는 맑음입니다.\n",
      "나눗셈의 결과 : 3 / 5 = 0.60입니다\n",
      "나눗셈의 결과 : 3 / 5 = 0.6입니다.\n",
      "나눗셈의 결과 : 3 / 5 = 0.6입니다.\n",
      "나눗셈의 결과 : 3 / 5 = 0.6입니다.\n",
      "*******나눗셈의 결과 : 3 / 5 = 0.60입니다.\n"
     ]
    }
   ],
   "metadata": {}
  },
  {
   "cell_type": "markdown",
   "source": [
    "---\n",
    "#### (2). bull\n",
    "\n",
    "+ 참 / 거짓 판별\n",
    "+ if, While 문에서 알고리즘 형태의 코딩 작성할 때 자주 사용"
   ],
   "metadata": {}
  },
  {
   "cell_type": "code",
   "execution_count": 85,
   "source": [
    "a = False\n",
    "print(a)\n",
    "print(type(a))\n",
    "\n",
    "print('============================')\n",
    "print(bool(10), bool(3.14), bool(-10), bool(0))\n",
    "# bull은 0을 제외한 모든 숫자값(int, float)은 True로 처리한다.\n",
    "print(bool(\"가나다\"))\n",
    "#일단 값을 주면 대부분 True(except 0). 단, 값이 없으면 False\n",
    "print(bool(), bool(None))"
   ],
   "outputs": [
    {
     "output_type": "stream",
     "name": "stdout",
     "text": [
      "False\n",
      "<class 'bool'>\n",
      "============================\n",
      "True True True False\n",
      "True\n",
      "False False\n"
     ]
    }
   ],
   "metadata": {}
  },
  {
   "cell_type": "markdown",
   "source": [
    "---\n",
    "#### (3) list\n",
    "\n",
    "+ [ ] 사용\n",
    "+ 임의의 객체를 순차적으로 저장하는 집합적 자료형(Sequence Data)\n",
    "+ 인덱스 사용\n",
    "+ mutable"
   ],
   "metadata": {}
  },
  {
   "cell_type": "code",
   "execution_count": 86,
   "source": [
    "a = 10\n",
    "b = 11\n",
    "c = 12\n",
    "abc = [a, b, c]\n",
    "print(abc)\n",
    "\n",
    "d, e, f = 20, 21, 22 #편하게 이렇게 쓸 수 있다.\n",
    "\n",
    "list = [d, e, f]\n",
    "print(list)\n",
    "print(type(a), type(list))\n",
    "\n",
    "print(\"=========\")\n",
    "\n",
    "info = [\"james\", 29, 185, True]\n",
    "print(info[1]) #리스트에서 자료값을 빼올 수 있다. []"
   ],
   "outputs": [
    {
     "output_type": "stream",
     "name": "stdout",
     "text": [
      "[10, 11, 12]\n",
      "[20, 21, 22]\n",
      "<class 'int'> <class 'list'>\n",
      "=========\n",
      "29\n"
     ]
    }
   ],
   "metadata": {}
  },
  {
   "cell_type": "code",
   "execution_count": 87,
   "source": [
    "#### indexing\n",
    "\n",
    "sample = [1, 2, 3, \"가\", 3.14, [a, b, c]]\n",
    "print(sample)\n",
    "print(sample[5])\n",
    "print(sample[5][1])\n",
    "print(sample[-1][-3])\n",
    "\n",
    "print(\"=======================================\")\n",
    "\n",
    "#### Copy(얕은 복사, 깊은 복사)\n",
    "# 얕은 복사\n",
    "sample_a = [1, 2, 3, 4, 5]\n",
    "sample_b = sample_a\n",
    "print(sample_b)\n",
    "sample_b[0] = 10\n",
    "print(sample_a, sample_b)\n",
    "#sample_b의 값을 바꿨는데 sample_a도 바뀜. 애초에 같은 데이터를 주소로 공유하고 있기 때문\n",
    "\n",
    "#깊은 복사\n",
    "sample_c = [1, 2, 3, 4, 5]\n",
    "sample_d = sample_c[0:5]\n",
    "sample_c[0] = 10\n",
    "print(sample_c, sample_d)\n",
    "#sample_c[0:5]는 sample_c와 같은 산출값을 보이지만 다른 데이터다. sample_c 수정해도 sample_d 영향을 받지 않는다.\n"
   ],
   "outputs": [
    {
     "output_type": "stream",
     "name": "stdout",
     "text": [
      "[1, 2, 3, '가', 3.14, [10, 11, 12]]\n",
      "[10, 11, 12]\n",
      "11\n",
      "10\n",
      "=======================================\n",
      "[1, 2, 3, 4, 5]\n",
      "[10, 2, 3, 4, 5] [10, 2, 3, 4, 5]\n",
      "[10, 2, 3, 4, 5] [1, 2, 3, 4, 5]\n"
     ]
    }
   ],
   "metadata": {}
  },
  {
   "cell_type": "code",
   "execution_count": 88,
   "source": [
    "### list\n",
    "a=[]\n",
    "print(type(a))"
   ],
   "outputs": [
    {
     "output_type": "stream",
     "name": "stdout",
     "text": [
      "<class 'list'>\n"
     ]
    }
   ],
   "metadata": {}
  },
  {
   "cell_type": "code",
   "execution_count": 5,
   "source": [
    "### 각 자료 함수\n",
    "a = '10'\n",
    "print(a, type(a))\n",
    "print(int(a), type(a))\n",
    "print(str(a), type(a))\n",
    "print(float(a), type(a))\n",
    "print(bool(a), type(bool(a)))\n",
    "print(\"=\" * 50)\n",
    "print(list(a), type(list(a)))\n",
    "print(list([a]), type(list([a])))\n",
    "a = list(range(1, 11)) #range(11) = range(1, 11), #range(1, 11, 1) 마지막 1은 step. 2 넣으면 1, 3, ...\n",
    "a\n",
    "print(\"=\" * 50)\n",
    "a = list(range(5, 12))\n",
    "print(a)\n",
    "a = list(range(5, 12, 2))\n",
    "print(a)\n",
    "a = list(range(-4, 12, 1))\n",
    "print(a)\n",
    "print(\"=\" * 50)\n",
    "a = list(range(10, 0, -1))\n",
    "print(a)"
   ],
   "outputs": [
    {
     "output_type": "stream",
     "name": "stdout",
     "text": [
      "10 <class 'str'>\n",
      "10 <class 'str'>\n",
      "10 <class 'str'>\n",
      "10.0 <class 'str'>\n",
      "True <class 'bool'>\n",
      "==================================================\n",
      "['1', '0'] <class 'list'>\n",
      "['10'] <class 'list'>\n",
      "==================================================\n",
      "[5, 6, 7, 8, 9, 10, 11]\n",
      "[5, 7, 9, 11]\n",
      "[-4, -3, -2, -1, 0, 1, 2, 3, 4, 5, 6, 7, 8, 9, 10, 11]\n",
      "==================================================\n",
      "[10, 9, 8, 7, 6, 5, 4, 3, 2, 1]\n"
     ]
    }
   ],
   "metadata": {}
  },
  {
   "cell_type": "code",
   "execution_count": 8,
   "source": [
    "#### 연산 기능\n",
    "a = [1, 2, 3]\n",
    "b = [4, 5, 6]\n",
    "\n",
    "print(a+b)\n",
    "print(a * 3)\n",
    "print(a[0]+b[0])\n",
    "print(\"=\" * 50)\n",
    "\n",
    "print(str(a[1]) + 'hi~~')"
   ],
   "outputs": [
    {
     "output_type": "stream",
     "name": "stdout",
     "text": [
      "[1, 2, 3, 4, 5, 6]\n",
      "[1, 2, 3, 1, 2, 3, 1, 2, 3]\n",
      "5\n",
      "==================================================\n",
      "2hi~~\n"
     ]
    }
   ],
   "metadata": {}
  },
  {
   "cell_type": "code",
   "execution_count": 20,
   "source": [
    "#### 추가하기 : insert(), append(), extend()\n",
    "\n",
    "a = [1, 2, 3, 4]\n",
    "print(a)\n",
    "\n",
    "a.insert(0, 100) #위치 지정해줘야\n",
    "print(a)\n",
    "print(\"=\" * 50)\n",
    "a.append(4) #맨 뒤에 추가. 위치 지정 불가\n",
    "print(a)\n",
    "print(\"=\" * 50)\n",
    "a.extend([5]) #리스트형으로 추가해줘야\n",
    "print(a)\n",
    "print(\"=\" * 50)\n",
    "\n",
    "a.append([10, 11, 12]) #리스트 안에 리스트가 추가된다.\n",
    "print(a)\n",
    "a.extend([10,11,12]) #숫자값만 추가된다.\n",
    "print(a)"
   ],
   "outputs": [
    {
     "output_type": "stream",
     "name": "stdout",
     "text": [
      "[1, 2, 3, 4]\n",
      "[100, 1, 2, 3, 4]\n",
      "==================================================\n",
      "[100, 1, 2, 3, 4, 4]\n",
      "==================================================\n",
      "[100, 1, 2, 3, 4, 4, 5]\n",
      "==================================================\n",
      "[100, 1, 2, 3, 4, 4, 5, [10, 11, 12]]\n",
      "[100, 1, 2, 3, 4, 4, 5, [10, 11, 12], 10, 11, 12]\n"
     ]
    }
   ],
   "metadata": {}
  },
  {
   "cell_type": "code",
   "execution_count": 44,
   "source": [
    "#1번\n",
    "avg = (80+75+55)/3\n",
    "print(avg)\n",
    "\n",
    "print(\"=\"*50)\n",
    "\n",
    "#2번\n",
    "num = 13 % 2\n",
    "if num == 0:\n",
    "    print(\"짝수\")\n",
    "elif num == 1:\n",
    "    print(\"홀수\")\n",
    "\n",
    "#3번\n",
    "pin = '881120-1068234'\n",
    "yyyymmdd = pin[:6]\n",
    "num = pin[-7:]\n",
    "print(yyyymmdd)\n",
    "print(num)\n",
    "\n",
    "print(\"=\"*50)\n",
    "\n",
    "#4번\n",
    "pin1 = \"881120-1068234\"\n",
    "if pin1[7] == \"1\" and \"3\": #pin1[7]이 str이므로 \"1\"\n",
    "    print(\"남자\")\n",
    "elif pin1[7] == \"2\" and \"4\":\n",
    "    print(\"여자\")\n",
    "\n",
    "print(\"=\"*50)\n",
    "\n",
    "#5번\n",
    "q5 = \"a:b:c:d\"\n",
    "q5_1 = q5.replace(\":\", \"#\")\n",
    "print(q5_1)\n",
    "\n",
    "print(\"=\"*50)\n",
    "\n",
    "#6번\n",
    "q6 = [1, 3, 5, 4, 2]\n",
    "q6.sort()\n",
    "q6.reverse()\n",
    "print(q6)\n",
    "\n",
    "print(\"=\"*50)\n",
    "\n",
    "#7번\n",
    "q7 = ['Life', 'is', 'too', 'short']\n",
    "result = \" \".join(q7)\n",
    "print(result)"
   ],
   "outputs": [
    {
     "output_type": "stream",
     "name": "stdout",
     "text": [
      "70.0\n",
      "==================================================\n",
      "홀수\n",
      "881120\n",
      "1068234\n",
      "==================================================\n",
      "남자\n",
      "==================================================\n",
      "a#b#c#d\n",
      "==================================================\n",
      "[5, 4, 3, 2, 1]\n",
      "==================================================\n",
      "Life is too short\n"
     ]
    }
   ],
   "metadata": {}
  },
  {
   "cell_type": "code",
   "execution_count": 47,
   "source": [
    "#146p\n",
    "#5번\n",
    "A = [70, 60, 55, 75, 95, 90, 80, 80, 85, 100]\n",
    "total = 0\n",
    "for score in A:\n",
    "    total += score\n",
    "average = total / len(A)\n",
    "print(average)\n",
    "\n",
    "print(\"=\"*50)\n",
    "\n",
    "#2번\n",
    "result = 0\n",
    "i = 1\n",
    "while i <= 1000:\n",
    "    if i % 3 == 0:\n",
    "        result += i\n",
    "    i += 1\n",
    "\n",
    "print(result)"
   ],
   "outputs": [
    {
     "output_type": "stream",
     "name": "stdout",
     "text": [
      "79.0\n",
      "==================================================\n",
      "166833\n"
     ]
    }
   ],
   "metadata": {}
  },
  {
   "cell_type": "code",
   "execution_count": 45,
   "source": [
    "A = [70, 60, 55, 75, 95, 90, 80, 80, 85, 100]\n",
    "len(A)"
   ],
   "outputs": [
    {
     "output_type": "execute_result",
     "data": {
      "text/plain": [
       "10"
      ]
     },
     "metadata": {},
     "execution_count": 45
    }
   ],
   "metadata": {}
  },
  {
   "cell_type": "code",
   "execution_count": 1,
   "source": [
    "#### 정렬\n",
    "a = [1, 4, 3, 2]\n",
    "a.sort() #실제 데이터가 저장된다.\n",
    "print(a)\n",
    "\n",
    "b = [1, 4, 3, 2]\n",
    "print(sorted(b)) #실제 데이터는 정렬되지 않고 정렬된 값을 잠시 보여주는 기능만 한다.\n",
    "print(b)\n",
    "\n",
    "#역순\n",
    "r = [1, 3, 4, 2, 5]\n",
    "r.reverse()\n",
    "print(r)\n",
    "sr = [1, 3, 4, 2, 5]\n",
    "sr.sort"
   ],
   "outputs": [
    {
     "output_type": "stream",
     "name": "stdout",
     "text": [
      "[1, 2, 3, 4]\n",
      "[1, 2, 3, 4]\n",
      "[1, 4, 3, 2]\n",
      "[5, 2, 4, 3, 1]\n"
     ]
    },
    {
     "output_type": "execute_result",
     "data": {
      "text/plain": [
       "<function list.sort(*, key=None, reverse=False)>"
      ]
     },
     "metadata": {},
     "execution_count": 1
    }
   ],
   "metadata": {}
  },
  {
   "cell_type": "code",
   "execution_count": 18,
   "source": [
    "#### 제거\n",
    "# 범위를 지정해서 제거\n",
    "a = [1, 2, 3, 1, 2, 3]\n",
    "a[3:] = []\n",
    "print(a)\n",
    "\n",
    "# 값을 찾아서 제거\n",
    "a = [1, 2, 3, 1, 2, 3]\n",
    "a.remove(3) #가장 앞에 위치한 3을 제거\n",
    "print(a)\n",
    "\n",
    "#위치를 찾아서 제거\n",
    "del a[4]\n",
    "print(a)\n",
    "\n",
    "print(\"-\"*50)\n",
    "#전체 데이터 삭제\n",
    "a = [1, 2, 3, 1, 2, 3]\n",
    "a[:] = []\n",
    "print(a)\n",
    "\n",
    "a = [1, 2, 3, 1, 2, 3]\n",
    "del a\n",
    "#print(a)\n",
    "#del a는 변수 자체를 메모리에서 삭제한 것. 그래서 print(a)시 오류 발생한다.\n",
    "print(\"-\"*50)\n",
    "\n",
    "#stack\n",
    "a = [1,2,3]\n",
    "b = a.pop()\n",
    "print(b) #a에 가장 늦게 push된 값만 뽑아봐. 그럼 3이니까 3이 나옴. 데이터는 지워지지 않음\n",
    "print(a) #3이 나오고 남은 데이터들의 리스트만 남아있으므로 [1, 2] 나옴\n",
    "#다만 별도의 위치나 값 지정없이 리스트에서 데이터를 제거(?)된다."
   ],
   "outputs": [
    {
     "output_type": "stream",
     "name": "stdout",
     "text": [
      "[1, 2, 3]\n",
      "[1, 2, 1, 2, 3]\n",
      "[1, 2, 1, 2]\n",
      "--------------------------------------------------\n",
      "[]\n",
      "--------------------------------------------------\n",
      "3\n",
      "[1, 2]\n"
     ]
    }
   ],
   "metadata": {}
  },
  {
   "cell_type": "code",
   "execution_count": 21,
   "source": [
    "#### 검색\n",
    "a = [1,2,3,4,5]\n",
    "\n",
    "#index 사용 가능하다.\n",
    "#문자열에선 index와 find 둘 다 사용 가능. 차이는 없는 값 불렀을 때 -1 나타내느냐 오류로 나타내느냐 차이\n",
    "print(a.index(4)) # 4라는 데이터가 몇번째 위치에 있는지 알려줘\n",
    "print(2 in a) # 2라는 데이터가 a에 있는지 확인해줘. 출력은 True or False로 나온다.\n",
    "print(7 in a) "
   ],
   "outputs": [
    {
     "output_type": "stream",
     "name": "stdout",
     "text": [
      "3\n",
      "True\n",
      "False\n"
     ]
    }
   ],
   "metadata": {}
  },
  {
   "cell_type": "markdown",
   "source": [
    "---\n",
    "\n",
    "#### 4. Tuple\n",
    "+ ( ) 사용\n"
   ],
   "metadata": {}
  },
  {
   "cell_type": "code",
   "execution_count": 29,
   "source": [
    "a = ('a', 'b', 'c', 'd')\n",
    "print(a)\n",
    "print(type(a))\n",
    "print(len(a))\n",
    "print(a.index('b'))\n",
    "\n",
    "#수정하고 싶으면 리스트로 바꾸고\n",
    "b = list(a)\n",
    "print(type(b))\n",
    "b[3] = 'z'\n",
    "print(b)\n",
    "\n",
    "#수정한 리스트를 다시 튜플로 바꿔줍니다.\n",
    "c = tuple(b)\n",
    "print(type(c))\n",
    "print(c)\n",
    "\n",
    "print(\"-\"*50)\n",
    "\n",
    "#### Packing과 Unpacking\n",
    "a = 10, 20, 30 # a에 10, 20, 30을 따로 지정\n",
    "print(a) #결과는 튜플로 포장. 이게 팩킹이다.\n",
    "\n",
    "a1 = a[0]\n",
    "a2 = a[1]\n",
    "a3 = a[2]\n",
    "\n",
    "a1, a2, a3 = a\n",
    "print(a1, a2, a3)\n",
    "print(a)"
   ],
   "outputs": [
    {
     "output_type": "stream",
     "name": "stdout",
     "text": [
      "('a', 'b', 'c', 'd')\n",
      "<class 'tuple'>\n",
      "4\n",
      "1\n",
      "<class 'list'>\n",
      "['a', 'b', 'c', 'z']\n",
      "<class 'tuple'>\n",
      "('a', 'b', 'c', 'z')\n",
      "--------------------------------------------------\n",
      "(10, 20, 30)\n",
      "10 20 30\n",
      "(10, 20, 30)\n"
     ]
    }
   ],
   "metadata": {}
  },
  {
   "cell_type": "markdown",
   "source": [
    "#### 5. 딕셔너리\n",
    "\n",
    "+ 순서가 없다\n",
    "+ {key1 : value1, key2 : value2, ...}\n",
    "+ 키를 이용해서 값을 조회\n",
    "+ list처럼 수정이 가능하다. 다만, 키 값은 수정이 어렵다."
   ],
   "metadata": {}
  },
  {
   "cell_type": "code",
   "execution_count": 41,
   "source": [
    "a = {'name' : '홍길동', 'tel' : '111-1111', 'age' : '25'}\n",
    "print(a)\n",
    "print(type(a))\n",
    "print('-'*50)\n",
    "# 데이터 산출\n",
    "print(a['name'])\n",
    "print(a['name'], a['tel'], a['age'])\n",
    "print(a.keys())\n",
    "print(a.values())\n",
    "print(a.items())\n",
    "print('-'*50)\n",
    "# 자료형태 변환\n",
    "print(list(a)) # 그냥 리스트로 바꾸면 key값만 뽑아서 리스트로 바꾼다.\n",
    "print(list(a.items())) # 두 값 다 리스트로 바꾸고 싶으면 items\n",
    "print(list(a.values())) # value만 가져오려면 이렇게\n",
    "print('-'*50)\n",
    "# 데이터 수정\n",
    "a['name'] = '임꺽정'\n",
    "print(a)\n",
    "print('-'*50)\n",
    "# 데이터 추가\n",
    "a['hobby'] = ['낚시', '여행', '독서']\n",
    "print(a)\n",
    "print('-'*50)\n",
    "# 데이터 삭제\n",
    "del a['tel']\n",
    "print(a)"
   ],
   "outputs": [
    {
     "output_type": "stream",
     "name": "stdout",
     "text": [
      "{'name': '홍길동', 'tel': '111-1111', 'age': '25'}\n",
      "<class 'dict'>\n",
      "--------------------------------------------------\n",
      "홍길동\n",
      "홍길동 111-1111 25\n",
      "dict_keys(['name', 'tel', 'age'])\n",
      "dict_values(['홍길동', '111-1111', '25'])\n",
      "dict_items([('name', '홍길동'), ('tel', '111-1111'), ('age', '25')])\n",
      "--------------------------------------------------\n",
      "['name', 'tel', 'age']\n",
      "[('name', '홍길동'), ('tel', '111-1111'), ('age', '25')]\n",
      "['홍길동', '111-1111', '25']\n",
      "--------------------------------------------------\n",
      "{'name': '임꺽정', 'tel': '111-1111', 'age': '25'}\n",
      "--------------------------------------------------\n",
      "{'name': '임꺽정', 'tel': '111-1111', 'age': '25', 'hobby': ['낚시', '여행', '독서']}\n",
      "--------------------------------------------------\n",
      "{'name': '임꺽정', 'age': '25', 'hobby': ['낚시', '여행', '독서']}\n"
     ]
    }
   ],
   "metadata": {}
  },
  {
   "cell_type": "code",
   "execution_count": 42,
   "source": [
    "a.clear()"
   ],
   "outputs": [],
   "metadata": {}
  },
  {
   "cell_type": "code",
   "execution_count": 44,
   "source": [
    "#### 데이터 가져오기(get(\"키\", default))\n",
    "a = {'name' : '홍길동', 'tel' : '111-1111', 'age' : '25'}\n",
    "print(a['name'])\n",
    "print(a.get('name'))\n",
    "\n",
    "#print(a['hobby']) 에러발생\n",
    "print(a.get('hobby', '독서')) #hobby 값 가져와. 없으면 독서란 값을 가져와라"
   ],
   "outputs": [
    {
     "output_type": "stream",
     "name": "stdout",
     "text": [
      "홍길동\n",
      "홍길동\n",
      "독서\n"
     ]
    }
   ],
   "metadata": {}
  },
  {
   "cell_type": "markdown",
   "source": [
    "---\n",
    "\n",
    "#### 6. set\n",
    "\n",
    "+ {} 사용\n",
    "+ dict와 다르게 그냥 값으로만 저장\n",
    "+ 순서 없음 = index 없음\n",
    "+ 중복된 데이터 자동 제거됨\n",
    "+ 연산 기능 있어 교집합, 합집합 구할 수 있다."
   ],
   "metadata": {}
  },
  {
   "cell_type": "code",
   "execution_count": 45,
   "source": [
    "set_a = {1, 2, 3, 4, 1, 2}\n",
    "print(set_a) # = {1, 2, 3, 4}\n",
    "print(type(set_a))"
   ],
   "outputs": [
    {
     "output_type": "stream",
     "name": "stdout",
     "text": [
      "{1, 2, 3, 4}\n",
      "<class 'set'>\n"
     ]
    }
   ],
   "metadata": {}
  },
  {
   "cell_type": "code",
   "execution_count": 56,
   "source": [
    "# print(set_a[0]) 인덱스 없어서 불러올 수 없음\n",
    "# list로 바꿉니다.\n",
    "list_a = list(set_a)\n",
    "print(list_a)\n",
    "\n",
    "#중복된 데이터를 없애고 싶을 때 쓰면 좋은 프로세스\n",
    "\n",
    "print('-'*50)\n",
    "\n",
    "#집합연산기능\n",
    "s1 = {1,2,3,4,5,6}\n",
    "s2 = {4,5,6,7,8,9}\n",
    "\n",
    "#합집합\n",
    "print(s1.union(s2))\n",
    "#교집합\n",
    "print(s1.intersection(s2))\n",
    "#차집합\n",
    "print(s1.difference(s2))\n",
    "\n",
    "print('-'*50)\n",
    "\n",
    "\n",
    "#CRUD : 데이터 생성, 수정, 삭제\n",
    "#여러 개 추가\n",
    "s1.update({7, 8})\n",
    "print(s1)\n",
    "#하나 추가\n",
    "s2.add(10)\n",
    "print(s2)\n",
    "#삭제 : remove는 삭제할 데이터 없으면 에러가 나고, discard는 지우지 않고 skip한다.\n",
    "s1.remove(8)\n",
    "print(s1)\n",
    "s1.discard(7)\n",
    "print(s1)"
   ],
   "outputs": [
    {
     "output_type": "stream",
     "name": "stdout",
     "text": [
      "[1, 2, 3, 4]\n",
      "--------------------------------------------------\n",
      "{1, 2, 3, 4, 5, 6, 7, 8, 9}\n",
      "{4, 5, 6}\n",
      "{1, 2, 3}\n",
      "--------------------------------------------------\n",
      "{1, 2, 3, 4, 5, 6, 7, 8}\n",
      "{4, 5, 6, 7, 8, 9, 10}\n",
      "{1, 2, 3, 4, 5, 6, 7}\n",
      "{1, 2, 3, 4, 5, 6}\n"
     ]
    }
   ],
   "metadata": {}
  },
  {
   "cell_type": "code",
   "execution_count": 58,
   "source": [
    "#### 중복된 데이터 재구성\n",
    "data = [1, 2, 3, 4, 4, 5, 2]\n",
    "set_data = set(data)\n",
    "list_a = list(set_data)\n",
    "print(list_a)"
   ],
   "outputs": [
    {
     "output_type": "stream",
     "name": "stdout",
     "text": [
      "[1, 2, 3, 4, 5]\n"
     ]
    }
   ],
   "metadata": {}
  },
  {
   "cell_type": "markdown",
   "source": [
    "---\n",
    "\n",
    "## 4. operator : 연산자\n",
    "\n",
    "    + 산출연산자\n",
    "        + *(곱하기)  /(나누기)   +(더하기)   -(빼기)   %(나머지)   //(몫)\n",
    "    + 비교연산자\n",
    "        + >(초과)   <(미만)   >=(이상)   <=(이하)   ==(같다)   !=(같지 않다)\n",
    "    + 논리연산자\n",
    "        and(&), or(|), not\n",
    "    + 대입연산자\n",
    "        + =   +=   -=   *=   /=\n",
    "\n",
    "    + 먼저 계산해야할 내용은 반드시 괄호를 씌운다. 안그러면 생각했던 것과 다른 결과치가 나온다.\n",
    "\n",
    "\n",
    "\n",
    "    =============================================================================================\n",
    "\n",
    "    + 특별한 연산자\n",
    "        + in(포함여부확인) / not in(포함 안됐는지 확인)\n",
    "    + 비트 연산자\n",
    "        + &(and)   |(or)   ^(xor)"
   ],
   "metadata": {}
  },
  {
   "cell_type": "code",
   "execution_count": 62,
   "source": [
    "a = 1\n",
    "a = 3\n",
    "a = 5\n",
    "print(a)\n",
    "\n",
    "b = 1\n",
    "b += 3   # b = b + 3\n",
    "b += 5   # b = b + 5\n",
    "print(b)\n",
    "# 누적 연산 개념이다.\n",
    "# 코드는 간단하게. 그게 더 어렵고 그게 더 잘하는 것"
   ],
   "outputs": [
    {
     "output_type": "stream",
     "name": "stdout",
     "text": [
      "5\n",
      "9\n"
     ]
    }
   ],
   "metadata": {}
  },
  {
   "cell_type": "code",
   "execution_count": 70,
   "source": [
    "#### 비트 연산자\n",
    "\n",
    "a = 7\n",
    "b = 10\n",
    "\n",
    "#result = a and b : b값만 나올 것. 연산자는 bull 형식으로 써야한다.\n",
    "result = a>3 and b<5\n",
    "print(result) #a는 참이지만, b가 거짓이므로 result는 거짓\n",
    "result_a = a>3 & b<5\n",
    "print(result_a)\n",
    "\n",
    "\n",
    "\n",
    "#^(nor)를 이용한 데이터 암호화\n",
    "data = 648723 #중요한 데이터, 중요한 데이터 비밀번호라 생각합시다.\n",
    "key = 38976542\n",
    "\n",
    "encode = data ^ key\n",
    "print(\"암호화 :\", encode)\n",
    "\n",
    "decode = encode ^ key\n",
    "print(\"복호화 : \", decode)"
   ],
   "outputs": [
    {
     "output_type": "stream",
     "name": "stdout",
     "text": [
      "False\n",
      "True\n",
      "암호화 : 39541261\n",
      "복호화 :  648723\n"
     ]
    }
   ],
   "metadata": {}
  },
  {
   "cell_type": "code",
   "execution_count": null,
   "source": [],
   "outputs": [],
   "metadata": {}
  }
 ],
 "metadata": {
  "orig_nbformat": 4,
  "language_info": {
   "name": "python",
   "version": "3.8.8",
   "mimetype": "text/x-python",
   "codemirror_mode": {
    "name": "ipython",
    "version": 3
   },
   "pygments_lexer": "ipython3",
   "nbconvert_exporter": "python",
   "file_extension": ".py"
  },
  "kernelspec": {
   "name": "python3",
   "display_name": "Python 3.8.8 64-bit ('base': conda)"
  },
  "interpreter": {
   "hash": "0db78d4def97aafdbe33b8b976cb7e782ebbc82d4fe41d855eac38305eb77fc8"
  }
 },
 "nbformat": 4,
 "nbformat_minor": 2
}