{
 "cells": [
  {
   "cell_type": "markdown",
   "metadata": {},
   "source": [
    "# 고급함수 (4가지)\n",
    "+ 파이썬을 주 언어라 생각하면 고급함수 공부하는게 큰 도움이 될 것.\n",
    "\n",
    "1. 변수의 생존범위 : global, nonlocal\n",
    "2. 클로저(closer) : 함수 밖에서 임의의 함수 안에 선언된 지역변수를 계속 참조할 수 있게 하는 방법\n",
    "3. lambda 함수 : "
   ]
  },
  {
   "cell_type": "markdown",
   "metadata": {},
   "source": [
    "## (1). global, nonlocal"
   ]
  },
  {
   "cell_type": "code",
   "execution_count": 1,
   "metadata": {},
   "outputs": [
    {
     "name": "stdout",
     "output_type": "stream",
     "text": [
      "전국 대표\n",
      "지역대표\n"
     ]
    }
   ],
   "source": [
    "#### 1. 변수의 생존범위 : global, nonlocal\n",
    "\n",
    "player = \"전국 대표\"\n",
    "\n",
    "def funcSoccer():\n",
    "    global player\n",
    "    name = \"홍길동\"\n",
    "    player = \"지역대표\"\n",
    "    \n",
    "\n",
    "# 함수 내에선 지역변수가 전역변수보다 우선이다. 함수 내에선 전역변수 player(=전국 대표)를 쓸 수 없다.\n",
    "# global은 이 때 전역변수를 함수 내에서 쓸 수 있게 만들어준다.\n",
    "\n",
    "print(player) #전역변수 불러온다.\n",
    "funcSoccer() \n",
    "print(player) #지역변수 불러온다. global 써서 지역 변수가 전역 변수에 영향을 줬기 때문.\n"
   ]
  },
  {
   "cell_type": "code",
   "execution_count": 12,
   "metadata": {},
   "outputs": [],
   "source": [
    "#### 2. 함수 중첩 : 밖에 함수가 안에 함수를 전용으로 쓰기 위해.\n",
    "\n",
    "a = 100\n",
    "\n",
    "def kbs1():\n",
    "    a = 1\n",
    "\n",
    "    def kbs2():\n",
    "        # global a : 전역변수 a(=100)을 끌어와서 쓸 때 사용\n",
    "        nonlocal a  #kbs1의 a(=1)을 끌어와서 쓸 때 사용\n",
    "        a = 2\n",
    "        print(\"kbs2 함수 내부 :\", a)\n",
    "    \n",
    "    kbs2()#kbs1이 시행되면 자동으로 kbs2가 시행되도록 하기 위해. 이 작업 안해주면 kbs2는 호출할 수 없다. 전역 필드에선 호출 불가.\n",
    "    print(\"kbs1 함수 내부 :\", a)"
   ]
  },
  {
   "cell_type": "code",
   "execution_count": 5,
   "metadata": {},
   "outputs": [
    {
     "ename": "NameError",
     "evalue": "name 'kbs2' is not defined",
     "output_type": "error",
     "traceback": [
      "\u001b[0;31m---------------------------------------------------------------------------\u001b[0m",
      "\u001b[0;31mNameError\u001b[0m                                 Traceback (most recent call last)",
      "\u001b[0;32m<ipython-input-5-eb39590a3e3b>\u001b[0m in \u001b[0;36m<module>\u001b[0;34m\u001b[0m\n\u001b[1;32m      1\u001b[0m \u001b[0;31m# 밖에서 kbs2는 호출할 수 없다.\u001b[0m\u001b[0;34m\u001b[0m\u001b[0;34m\u001b[0m\u001b[0;34m\u001b[0m\u001b[0m\n\u001b[1;32m      2\u001b[0m \u001b[0;34m\u001b[0m\u001b[0m\n\u001b[0;32m----> 3\u001b[0;31m \u001b[0mkbs2\u001b[0m\u001b[0;34m(\u001b[0m\u001b[0;34m)\u001b[0m\u001b[0;34m\u001b[0m\u001b[0;34m\u001b[0m\u001b[0m\n\u001b[0m",
      "\u001b[0;31mNameError\u001b[0m: name 'kbs2' is not defined"
     ]
    }
   ],
   "source": [
    "# 밖에서 kbs2는 호출할 수 없다.\n",
    "\n",
    "kbs2() "
   ]
  },
  {
   "cell_type": "code",
   "execution_count": 11,
   "metadata": {},
   "outputs": [
    {
     "name": "stdout",
     "output_type": "stream",
     "text": [
      "kbs2 함수 내부 : 2\n",
      "kbs1 함수 내부 : 1\n",
      "2\n"
     ]
    }
   ],
   "source": [
    "kbs1()\n",
    "print(a) #2가 나온 이유는 kbs2에 global a 먹여줬기 때문"
   ]
  },
  {
   "cell_type": "code",
   "execution_count": 14,
   "metadata": {},
   "outputs": [
    {
     "name": "stdout",
     "output_type": "stream",
     "text": [
      "kbs2 함수 내부 : 2\n",
      "kbs1 함수 내부 : 2\n",
      "100\n"
     ]
    }
   ],
   "source": [
    "kbs1()\n",
    "print(a) #이번엔 전역변수는 안바뀌고 kbs1만 바뀐다. 그래서 a값은 100, kbs1 값은 2가 나온다."
   ]
  },
  {
   "cell_type": "markdown",
   "metadata": {},
   "source": [
    "## (2). Closer"
   ]
  },
  {
   "cell_type": "code",
   "execution_count": 16,
   "metadata": {},
   "outputs": [
    {
     "name": "stdout",
     "output_type": "stream",
     "text": [
      "1\n",
      "1\n",
      "1\n"
     ]
    }
   ],
   "source": [
    "def out():\n",
    "    count = 0\n",
    "\n",
    "    def inn(): \n",
    "        # count = 0 # 많은 사람들이 이걸 까먹는다. 누적해줄 땐 반드시 초기값을 설정해줘야한다. 참고로 out의 count는 inn의 count가 아니다. 따라서 이 값을 설정 안하면 오류가 생긴다. \n",
    "        nonlocal count # 이렇게 하면 out에서 가져와 초기값 설정했으니 오류가 발생하지 않는다.\n",
    "        count += 1\n",
    "        print(count)\n",
    "    \n",
    "    inn()\n",
    "\n",
    "######################\n",
    "\n",
    "out()\n",
    "out()\n",
    "out()\n",
    "# 계속 1만 나온다. 함수를 호출할 때마다 누적시키고 싶은데 ...\n",
    "# 1이 나오는 이유는 함수 선언할 때마다 count가 0으로 다시 선언되기 때문\n",
    "# 전역변수로 두는 방법이 가장 쉬움. 다만, 전역변수는 문제가 많이 발생할 수 있으므로 가능하면 안쓰는게 좋다.\n",
    "# 전역변수는 편하게 쓸 수 있는만큼 잘못된 값이 들어왔을 때 찾기 어렵다. 그래서 정말 써야되는 거 아니라면 사용하지 않는다.\n",
    "# 지역변수가 전역변수보다 외부 노출이 덜한만큼 외부요인에 따른 문제 발생 확률도 훨씬 적다."
   ]
  },
  {
   "cell_type": "code",
   "execution_count": 17,
   "metadata": {},
   "outputs": [
    {
     "name": "stdout",
     "output_type": "stream",
     "text": [
      "1\n",
      "2\n"
     ]
    }
   ],
   "source": [
    "# 내부 함수 주소를 밖에서 불러드리면 out은 한번만 선언되고 inn 함수만 반복할 수 있다.\n",
    "# 그러면 count가 0으로 다시 초기화되는 현상을 막고 누적시킬 수 있다.\n",
    "def out():\n",
    "    count = 0\n",
    "\n",
    "    def inn(): \n",
    "        nonlocal count\n",
    "        count += 1\n",
    "        print(count)\n",
    "    \n",
    "    return inn # 해결방안\n",
    "\n",
    "######################\n",
    "\n",
    "a = out() # out을 한번 실행하고 a의 값은 inn 주소를 부르는 것이 된다. \n",
    "a() # 이제 out 함수 실행하지 않고 inn 함수 실행만 하게 된다.\n",
    "a() # 상동\n",
    "a()"
   ]
  },
  {
   "cell_type": "code",
   "execution_count": 20,
   "metadata": {},
   "outputs": [
    {
     "name": "stdout",
     "output_type": "stream",
     "text": [
      "2500.0\n",
      "3600.0\n",
      "==================================================\n",
      "1250.0\n",
      "1800.0\n"
     ]
    }
   ],
   "source": [
    "#### 예제\n",
    "\n",
    "def out(tax): #tax = 세율\n",
    "    def inner(su, dan): #su = 수량, dan = 단가(가격)\n",
    "        amount = su * dan * tax\n",
    "        return amount\n",
    "    \n",
    "    return inner\n",
    "\n",
    "tax_rate = out(0.1) #세율 저장\n",
    "mouse = tax_rate(5, 5000) #inner가 return되므로 tax_rate(5, 5000)은 inner(5, 5000)과 같다.\n",
    "print(mouse)\n",
    "\n",
    "usb = tax_rate(3, 12000)\n",
    "print(usb)\n",
    "\n",
    "print('='*50)\n",
    "tax_rate2 = out(0.05)\n",
    "mouse = tax_rate2(5, 5000)\n",
    "print(mouse)\n",
    "\n",
    "usb = tax_rate2(3, 12000)\n",
    "print(usb)"
   ]
  },
  {
   "cell_type": "markdown",
   "metadata": {},
   "source": [
    "## (3). lambda 함수\n",
    "\n",
    "+ 함수를 한번만 쓸 때 유용하다. 함수에 이름 지을 필요 없을 때"
   ]
  },
  {
   "cell_type": "code",
   "execution_count": 1,
   "metadata": {},
   "outputs": [
    {
     "name": "stdout",
     "output_type": "stream",
     "text": [
      "7\n"
     ]
    }
   ],
   "source": [
    "result = lambda a ,b : a+b\n",
    "print(result(3, 4))"
   ]
  },
  {
   "cell_type": "code",
   "execution_count": 4,
   "metadata": {},
   "outputs": [
    {
     "name": "stdout",
     "output_type": "stream",
     "text": [
      "1 (2, 3, 4, 5) {'m': 6, 'n': 7, 'o': 8}\n",
      "==================================================\n",
      "1 (2, 3, 4, 5) {'m': 6, 'n': 7, 'o': 8}\n"
     ]
    }
   ],
   "source": [
    "def func_test(a, *b, **c):\n",
    "    print(a, b, c)\n",
    "\n",
    "func_test(1, 2, 3, 4, 5, m=6, n=7, o=8)\n",
    "\n",
    "print('='*50)\n",
    "\n",
    "test = lambda a, *b, **c : print(a, b, c)\n",
    "test(1, 2, 3, 4, 5, m=6, n=7, o=8)"
   ]
  },
  {
   "cell_type": "code",
   "execution_count": 2,
   "metadata": {},
   "outputs": [
    {
     "name": "stdout",
     "output_type": "stream",
     "text": [
      "[1, 4, 3, 16, 5]\n"
     ]
    },
    {
     "data": {
      "text/plain": [
       "[1, 4, 3, 16, 5]"
      ]
     },
     "execution_count": 2,
     "metadata": {},
     "output_type": "execute_result"
    }
   ],
   "source": [
    "ex = [1,2,3,4,5]\n",
    "\n",
    "def func_test(x):\n",
    "    if x % 2 == 0:\n",
    "        return x**2\n",
    "    else:\n",
    "        return x\n",
    "# 함수엔 기능만 담는다.\n",
    "\n",
    "result = []\n",
    "for i in ex:\n",
    "    result.append(func_test(i))\n",
    "print(result)\n",
    "# map 함수로 똑같이 할 수 있다.\n",
    "\n",
    "list(map(func_test, ex))\n",
    "#map(함수, 리스트(자료형, 값))\n",
    "\n",
    "list(map(lambda x : x**2 if x % 2 == 0 else x, ex))"
   ]
  },
  {
   "cell_type": "code",
   "execution_count": 3,
   "metadata": {},
   "outputs": [
    {
     "data": {
      "text/plain": [
       "<map at 0x7fb3e08b25b0>"
      ]
     },
     "execution_count": 3,
     "metadata": {},
     "output_type": "execute_result"
    }
   ],
   "source": [
    "map(func_test, ex)"
   ]
  },
  {
   "cell_type": "markdown",
   "metadata": {},
   "source": [
    "## (4). 함수 장식자\n",
    "\n",
    "+ 일종의 함수 감싸기(Wrapping)을 해주는 디자인 패턴\n",
    "+ 메타 프로그램 기법\n",
    "+ @staticmethod, @classmethod, @abstract"
   ]
  },
  {
   "cell_type": "code",
   "execution_count": 22,
   "metadata": {},
   "outputs": [
    {
     "data": {
      "text/plain": [
       "'반가워 홍길동'"
      ]
     },
     "execution_count": 22,
     "metadata": {},
     "output_type": "execute_result"
    }
   ],
   "source": [
    "def make1(fn):\n",
    "    return lambda : \"안녕 \" + fn()\n",
    "\n",
    "def make(fn):\n",
    "    return lambda : \"반가워 \" + fn()\n",
    "    #함수가 필요할 때 불러오는 용도\n",
    "\n",
    "def hello():\n",
    "    return \"홍길동\"\n",
    "# 함수를 나뒀다가 필요할 때 쓰는 일이 생긴다. 이런 코드 형태가 될 것."
   ]
  },
  {
   "cell_type": "code",
   "execution_count": 25,
   "metadata": {},
   "outputs": [
    {
     "data": {
      "text/plain": [
       "'반가워 홍길동'"
      ]
     },
     "execution_count": 25,
     "metadata": {},
     "output_type": "execute_result"
    }
   ],
   "source": [
    "make(hello)()\n",
    "# or 주소를 변수 값에 받아주고 이를 프린트합시다.\n",
    "result = make(hello)\n",
    "result()\n",
    "#()를 넣는 이유는 make의 return값이 함수 형태이기 때문이다."
   ]
  },
  {
   "cell_type": "code",
   "execution_count": 24,
   "metadata": {},
   "outputs": [
    {
     "data": {
      "text/plain": [
       "'안녕 반가워 홍길동'"
      ]
     },
     "execution_count": 24,
     "metadata": {},
     "output_type": "execute_result"
    }
   ],
   "source": [
    "make1(make(hello))()\n",
    "result = make1(make(hello))\n",
    "result()"
   ]
  },
  {
   "cell_type": "code",
   "execution_count": 26,
   "metadata": {},
   "outputs": [
    {
     "data": {
      "text/plain": [
       "'안녕 반가워 홍길동'"
      ]
     },
     "execution_count": 26,
     "metadata": {},
     "output_type": "execute_result"
    }
   ],
   "source": [
    "# 사용하는 사람 입장에서 복잡하다.\n",
    "# 특히 길어질수록 더 하다.\n",
    "\n",
    "def make1(fn):\n",
    "    return lambda : \"안녕 \" + fn()\n",
    "\n",
    "def make(fn):\n",
    "    return lambda : \"반가워 \" + fn()\n",
    "    #함수가 필요할 때 불러오는 용도\n",
    "\n",
    "@make1 #make로 들어간 주소값을 make2로 보내주겠단 장식자.\n",
    "@make #make 함수로 전달될 수 있게 해주겠단 장식자.\n",
    "def hello():\n",
    "    return \"홍길동\"\n",
    "\n",
    "# @make, @make1을 장식함으로서 '안녕 반가워 홍길동'을 부르는 저 복잡한 코딩이 간편해진다.\n",
    "hello()"
   ]
  },
  {
   "cell_type": "code",
   "execution_count": 36,
   "metadata": {},
   "outputs": [],
   "source": [
    "# 예제\n",
    "\n",
    "def outer(fn):\n",
    "    def inner(n1, n2):\n",
    "        print(\"결과는 {}이다.\".format(fn(n1, n2)))\n",
    "    \n",
    "    return inner\n",
    "\n",
    "def func(n1, n2):\n",
    "    return n1+n2"
   ]
  },
  {
   "cell_type": "code",
   "execution_count": 34,
   "metadata": {},
   "outputs": [
    {
     "name": "stdout",
     "output_type": "stream",
     "text": [
      "결과는 5이다.\n"
     ]
    }
   ],
   "source": [
    "func(2, 3)"
   ]
  },
  {
   "cell_type": "code",
   "execution_count": 37,
   "metadata": {},
   "outputs": [
    {
     "name": "stdout",
     "output_type": "stream",
     "text": [
      "결과는 30이다.\n"
     ]
    }
   ],
   "source": [
    "result = outer(func) #결과적으로 func가 담긴 outer를 실행한 inner 함수 주소값을 인수에 담는다.\n",
    "result(10, 20) #함수에 값을 지정해주고 부르면 결과값이 나온다."
   ]
  },
  {
   "cell_type": "code",
   "execution_count": null,
   "metadata": {},
   "outputs": [],
   "source": []
  }
 ],
 "metadata": {
  "interpreter": {
   "hash": "0db78d4def97aafdbe33b8b976cb7e782ebbc82d4fe41d855eac38305eb77fc8"
  },
  "kernelspec": {
   "display_name": "Python 3.8.8 64-bit ('base': conda)",
   "name": "python3"
  },
  "language_info": {
   "codemirror_mode": {
    "name": "ipython",
    "version": 3
   },
   "file_extension": ".py",
   "mimetype": "text/x-python",
   "name": "python",
   "nbconvert_exporter": "python",
   "pygments_lexer": "ipython3",
   "version": "3.8.8"
  },
  "orig_nbformat": 4
 },
 "nbformat": 4,
 "nbformat_minor": 2
}
