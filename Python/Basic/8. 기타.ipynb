{
 "cells": [
  {
   "cell_type": "markdown",
   "source": [
    "# 1. 모듈\n",
    "\n",
    "## 정의\n",
    "+ 비슷하거나 관련된 일을 하는 함수, 클래스, 상수 값들을 모아서 하나의 파일로 저장한 것\n",
    "+ 추후에 재사용하기 위한 목적\n",
    "+ 확장명은 .py\n",
    "\n",
    "## 종류\n",
    "+ 표준 모듈\n",
    "+ 사용자 정의 모듈(개인이 만들어 사용하는 모듈)\n",
    "+ 서드 파티 모듈(기업, 단체에서 별도로 만들어 제공하는 모듈)\n",
    "\n",
    "## 참조\n",
    "+ 같은 경로 (관리해야할 모듈 많아지면 비추)\n",
    "+ 기존 모듈경로에 추가 ; Lib/site-packages (비추)\n",
    "+ sys 모듈 이용해서 path 경로에 추가\n",
    "    - sys.path.append(\"경로\")\n",
    "\n",
    "## 선언방법\n",
    "+ import 모듈명 as 별명\n",
    "+ from 모듈명 import 함수, 상수, 클래스\n",
    "    * 장점 : 호출 시 모듈명 생략 가능\n",
    "    * 단점 : 함수, 상수, 클래스명이 겹쳐서 헷갈리거나 못쓸 수 있음.\n",
    "+ from 모듈명 import * : 모듈 내 있는 거 전부 가져와\n",
    "\n",
    "\n",
    "# 2. 패키지\n",
    "\n",
    "## 정의\n",
    "+ 여러 모듈들을 모아놓은 폴더 의미.\n"
   ],
   "metadata": {}
  },
  {
   "cell_type": "code",
   "execution_count": 1,
   "source": [
    "import mymodule2"
   ],
   "outputs": [
    {
     "output_type": "error",
     "ename": "ModuleNotFoundError",
     "evalue": "No module named 'mymodule2'",
     "traceback": [
      "\u001b[0;31m---------------------------------------------------------------------------\u001b[0m",
      "\u001b[0;31mModuleNotFoundError\u001b[0m                       Traceback (most recent call last)",
      "\u001b[0;32m<ipython-input-1-027a25d48b3b>\u001b[0m in \u001b[0;36m<module>\u001b[0;34m\u001b[0m\n\u001b[0;32m----> 1\u001b[0;31m \u001b[0;32mimport\u001b[0m \u001b[0mmymodule2\u001b[0m\u001b[0;34m\u001b[0m\u001b[0;34m\u001b[0m\u001b[0m\n\u001b[0m",
      "\u001b[0;31mModuleNotFoundError\u001b[0m: No module named 'mymodule2'"
     ]
    }
   ],
   "metadata": {}
  },
  {
   "cell_type": "code",
   "execution_count": 4,
   "source": [
    "import sys\n",
    "sys.path.append(\"/Users/hoon/Desktop/Data/vscode/pythonwork/mylib\")"
   ],
   "outputs": [],
   "metadata": {}
  },
  {
   "cell_type": "code",
   "execution_count": 7,
   "source": [
    "import mymodule2"
   ],
   "outputs": [],
   "metadata": {}
  },
  {
   "cell_type": "code",
   "execution_count": 9,
   "source": [
    "print(mymodule2.sum(20,20))\n",
    "mymodule2.info(80, 180, name='홍길동', blood='0')\n",
    "print(mymodule2.company)\n",
    "print(mymodule2.Math().PI)\n",
    "print(mymodule2.Math().solve(3))\n"
   ],
   "outputs": [
    {
     "output_type": "stream",
     "name": "stdout",
     "text": [
      "40\n",
      "키 :  180\n",
      "몸무게 :  80\n",
      "기타 :  {'name': '홍길동', 'blood': '0'}\n",
      "파이썬 주식회사\n",
      "3.141592\n",
      "28.274328\n"
     ]
    }
   ],
   "metadata": {}
  },
  {
   "cell_type": "code",
   "execution_count": 10,
   "source": [
    "import mymodule2 as my\n",
    "\n",
    "print(my.sum(20,20))\n",
    "my.info(80, 180, name='홍길동', blood='0')\n",
    "print(my.company)\n",
    "print(my.Math().PI)\n",
    "print(my.Math().solve(3))"
   ],
   "outputs": [
    {
     "output_type": "stream",
     "name": "stdout",
     "text": [
      "40\n",
      "키 :  180\n",
      "몸무게 :  80\n",
      "기타 :  {'name': '홍길동', 'blood': '0'}\n",
      "파이썬 주식회사\n",
      "3.141592\n",
      "28.274328\n"
     ]
    }
   ],
   "metadata": {}
  },
  {
   "cell_type": "code",
   "execution_count": 11,
   "source": [
    "from mymodule2 import sum, info, company, Math\n",
    "\n",
    "print(sum(20,20))\n",
    "info(80, 180, name='홍길동', blood='0')\n",
    "print(company)\n",
    "print(Math().PI)\n",
    "print(Math().solve(3))"
   ],
   "outputs": [
    {
     "output_type": "stream",
     "name": "stdout",
     "text": [
      "40\n",
      "키 :  180\n",
      "몸무게 :  80\n",
      "기타 :  {'name': '홍길동', 'blood': '0'}\n",
      "파이썬 주식회사\n",
      "3.141592\n",
      "28.274328\n"
     ]
    }
   ],
   "metadata": {}
  },
  {
   "cell_type": "code",
   "execution_count": 31,
   "source": [
    "import game.play\n",
    "import game.graphic.render #모듈 이름까지 지정해줘야합니다.\n",
    "import game.sound.echo"
   ],
   "outputs": [],
   "metadata": {}
  },
  {
   "cell_type": "code",
   "execution_count": 32,
   "source": [
    "game.play.play_test()\n",
    "game.graphic.render.render_test()\n",
    "game.sound.echo.echo_test()"
   ],
   "outputs": [
    {
     "output_type": "stream",
     "name": "stdout",
     "text": [
      "play\n",
      "render\n",
      "echo\n"
     ]
    }
   ],
   "metadata": {}
  },
  {
   "cell_type": "markdown",
   "source": [
    "---\n",
    "\n",
    "# 3. 예외처리\n",
    "\n",
    "+ 오류 발생\n",
    "+ 자연스러운 예외 메시지 출력\n",
    "+ 프로그램의 비정상적인 종료를 막기 위해\n",
    "+ How to use it?\n",
    "    try :\n",
    "        코드\n",
    "        ...\n",
    "    except :\n",
    "        코드\n",
    "        ...\n",
    "\n",
    "+ 예외 클래스\n",
    "\n",
    "+ Finally : 오류에 관계없이 반드시 실행되도록 하는 코드\n",
    "\n",
    "\n",
    " "
   ],
   "metadata": {}
  },
  {
   "cell_type": "code",
   "execution_count": 44,
   "source": [
    "def test(num):\n",
    "    try :\n",
    "        result = 10 / num\n",
    "        print(result)\n",
    "    except ZeroDivisionError : #에러가 발생하는 이유가 담긴 예외클래스 ZeroDivisionError. 이 외 오류는 파이썬 오류 된다.\n",
    "        print(\n",
    "        \"\"\"Error!\n",
    "Please don't put in 0. 0 can not divide number\"\"\")\n",
    "    except :\n",
    "        print(\"알 수 없는 에러\")\n",
    "\n",
    "    print(\"나머지 코드 실행\")\n",
    "\n",
    "##############################\n",
    "\n",
    "test(3)\n",
    "test(2)\n",
    "test(0) # 0이 들어오면 오류 발생. 이럴 때 예외처리해야한다.\n",
    "test('가')"
   ],
   "outputs": [
    {
     "output_type": "stream",
     "name": "stdout",
     "text": [
      "3.3333333333333335\n",
      "나머지 코드 실행\n",
      "5.0\n",
      "나머지 코드 실행\n",
      "Error!\n",
      "Please don't put in 0. 0 can not divide number\n",
      "나머지 코드 실행\n",
      "알 수 없는 에러\n",
      "나머지 코드 실행\n"
     ]
    }
   ],
   "metadata": {}
  },
  {
   "cell_type": "code",
   "execution_count": 50,
   "source": [
    "def test(num):\n",
    "    try :\n",
    "        result = 10 / num\n",
    "        print(result)\n",
    "\n",
    "        arr = [0,1,2]\n",
    "        print(arr[num])\n",
    "\n",
    "        f = open(\"nothing.txt\", \"r\")\n",
    "\n",
    "    except ZeroDivisionError as e :\n",
    "        print('Error : 0으로 나누면 안됩니다.', e)\n",
    "    except IndexError as e :\n",
    "        print('Error : 1, 2 둘 중 하나만 입력 가능해요.', e)\n",
    "    except Exception as e :\n",
    "        print(\"Error : 알 수 없는 오류\", e)\n",
    "    finally :\n",
    "        print(\"이 코드는 무조건! 반드시! 실행됩니다.\")\n",
    "        if f != None:\n",
    "            f.close() #에러가 나도 파일은 반드시 받아줘야해. 이럴 때 finally를 씁니다.\n",
    "            # 메모리 잡는 것들 에러에 관계없이 꺼줘야하니까. 아니면 서버, 컴퓨터, 프로그램 뻑 납니다~\n",
    "    \n",
    "    print(\"나머지 코드 실행\")\n",
    "\n",
    "##################################\n",
    "\n",
    "test(0)\n",
    "print('='*50)\n",
    "test(1)\n",
    "print('='*50)\n",
    "test(2)\n",
    "print('='*50)\n",
    "test(3)"
   ],
   "outputs": [
    {
     "output_type": "stream",
     "name": "stdout",
     "text": [
      "Error : 0으로 나누면 안됩니다. division by zero\n",
      "이 코드는 무조건! 반드시! 실행됩니다.\n",
      "나머지 코드 실행\n",
      "==================================================\n",
      "10.0\n",
      "1\n",
      "이 코드는 무조건! 반드시! 실행됩니다.\n",
      "나머지 코드 실행\n",
      "==================================================\n",
      "5.0\n",
      "2\n",
      "이 코드는 무조건! 반드시! 실행됩니다.\n",
      "나머지 코드 실행\n",
      "==================================================\n",
      "3.3333333333333335\n",
      "Error : 1, 2 둘 중 하나만 입력 가능해요. list index out of range\n",
      "이 코드는 무조건! 반드시! 실행됩니다.\n",
      "나머지 코드 실행\n"
     ]
    }
   ],
   "metadata": {}
  },
  {
   "cell_type": "code",
   "execution_count": 1,
   "source": [
    "import os\n",
    "os.environ"
   ],
   "outputs": [
    {
     "output_type": "execute_result",
     "data": {
      "text/plain": [
       "environ{'SHELL': '/bin/zsh',\n",
       "        'TMPDIR': '/var/folders/dx/ny9cjsmd1bb3r42zbp694xkh0000gn/T/',\n",
       "        'CONDA_SHLVL': '1',\n",
       "        'PYTHONUNBUFFERED': '1',\n",
       "        'CONDA_PROMPT_MODIFIER': '(base) ',\n",
       "        'ORIGINAL_XDG_CURRENT_DESKTOP': 'undefined',\n",
       "        'PYTHONIOENCODING': 'utf-8',\n",
       "        'USER': 'hoon',\n",
       "        'VSCODE_VERBOSE_LOGGING': 'true',\n",
       "        'COMMAND_MODE': 'unix2003',\n",
       "        'CONDA_EXE': '/Users/hoon/opt/anaconda3/bin/conda',\n",
       "        'SSH_AUTH_SOCK': '/private/tmp/com.apple.launchd.UF6t5rMH9a/Listeners',\n",
       "        'VSCODE_PIPE_LOGGING': 'true',\n",
       "        '__CF_USER_TEXT_ENCODING': '0x1F5:0x3:0x33',\n",
       "        'VSCODE_LOG_STACK': 'false',\n",
       "        'VSCODE_AMD_ENTRYPOINT': 'vs/workbench/services/extensions/node/extensionHostProcess',\n",
       "        'ELECTRON_RUN_AS_NODE': '1',\n",
       "        '_CE_CONDA': '',\n",
       "        'PATH': '/opt/homebrew/sbin:/opt/homebrew/bin:/opt/homebrew/bin:/Users/hoon/opt/anaconda3/bin:/Users/hoon/opt/anaconda3/condabin:/opt/local/bin:/opt/local/sbin:/Library/Frameworks/Python.framework/Versions/3.9/bin:/usr/local/bin:/usr/bin:/bin:/usr/sbin:/sbin:/Library/Apple/usr/bin',\n",
       "        'CONDA_PREFIX': '/Users/hoon/opt/anaconda3',\n",
       "        '__CFBundleIdentifier': 'com.microsoft.VSCode',\n",
       "        'PWD': '/',\n",
       "        'VSCODE_HANDLES_UNCAUGHT_ERRORS': 'true',\n",
       "        'XPC_FLAGS': '0x0',\n",
       "        'VSCODE_LOG_NATIVE': 'false',\n",
       "        '_CE_M': '',\n",
       "        'XPC_SERVICE_NAME': '0',\n",
       "        'SHLVL': '1',\n",
       "        'HOME': '/Users/hoon',\n",
       "        'APPLICATION_INSIGHTS_NO_DIAGNOSTIC_CHANNEL': 'true',\n",
       "        'VSCODE_IPC_HOOK_EXTHOST': '/var/folders/dx/ny9cjsmd1bb3r42zbp694xkh0000gn/T/vscode-ipc-b151036f-a91e-4d76-9eae-36f43f5271ed.sock',\n",
       "        'VSCODE_NLS_CONFIG': '{\"locale\":\"ko\",\"availableLanguages\":{\"*\":\"ko\"},\"_languagePackId\":\"3fb69aec03c19a172aefefd7885f5460.ko\",\"_translationsConfigFile\":\"/Users/hoon/Library/Application Support/Code/clp/3fb69aec03c19a172aefefd7885f5460.ko/tcf.json\",\"_cacheRoot\":\"/Users/hoon/Library/Application Support/Code/clp/3fb69aec03c19a172aefefd7885f5460.ko\",\"_resolvedLanguagePackCoreLocation\":\"/Users/hoon/Library/Application Support/Code/clp/3fb69aec03c19a172aefefd7885f5460.ko/7f6ab5485bbc008386c4386d08766667e155244e\",\"_corruptedFile\":\"/Users/hoon/Library/Application Support/Code/clp/3fb69aec03c19a172aefefd7885f5460.ko/corrupted.info\",\"_languagePackSupport\":true}',\n",
       "        'CONDA_PYTHON_EXE': '/Users/hoon/opt/anaconda3/bin/python',\n",
       "        'LOGNAME': 'hoon',\n",
       "        'VSCODE_IPC_HOOK': '/Users/hoon/Library/Application Support/Code/1.60.2-main.sock',\n",
       "        'VSCODE_CODE_CACHE_PATH': '/Users/hoon/Library/Application Support/Code/CachedData/7f6ab5485bbc008386c4386d08766667e155244e',\n",
       "        'CONDA_DEFAULT_ENV': 'base',\n",
       "        'VSCODE_PID': '1043',\n",
       "        'VSCODE_CWD': '/',\n",
       "        '_': '/Users/hoon/opt/anaconda3/bin/python',\n",
       "        'LC_CTYPE': 'UTF-8',\n",
       "        'PYTHONPATH': '/Users/hoon/.vscode/extensions/ms-toolsai.jupyter-2021.8.2041215044/pythonFiles:/Users/hoon/.vscode/extensions/ms-toolsai.jupyter-2021.8.2041215044/pythonFiles/lib/python',\n",
       "        'JPY_PARENT_PID': '12165',\n",
       "        'TERM': 'xterm-color',\n",
       "        'CLICOLOR': '1',\n",
       "        'PAGER': 'cat',\n",
       "        'GIT_PAGER': 'cat',\n",
       "        'MPLBACKEND': 'module://ipykernel.pylab.backend_inline'}"
      ]
     },
     "metadata": {},
     "execution_count": 1
    }
   ],
   "metadata": {}
  },
  {
   "cell_type": "code",
   "execution_count": 2,
   "source": [
    "os.environ['PATH']"
   ],
   "outputs": [
    {
     "output_type": "execute_result",
     "data": {
      "text/plain": [
       "'/opt/homebrew/sbin:/opt/homebrew/bin:/opt/homebrew/bin:/Users/hoon/opt/anaconda3/bin:/Users/hoon/opt/anaconda3/condabin:/opt/local/bin:/opt/local/sbin:/Library/Frameworks/Python.framework/Versions/3.9/bin:/usr/local/bin:/usr/bin:/bin:/usr/sbin:/sbin:/Library/Apple/usr/bin'"
      ]
     },
     "metadata": {},
     "execution_count": 2
    }
   ],
   "metadata": {}
  },
  {
   "cell_type": "code",
   "execution_count": 11,
   "source": [
    "import os\n",
    "\n",
    "def search(dirname):\n",
    "    try:\n",
    "        filenames = os.listdir(dirname)\n",
    "        for filename in filenames:\n",
    "            full_filename = os.path.join(dirname, filename)\n",
    "            if os.path.isdir(full_filename):\n",
    "                search(full_filename)\n",
    "            else:\n",
    "                ext = os.path.split(full_filename)[-1]\n",
    "                if ext == \".py\":\n",
    "                    print(full_filename)\n",
    "    except PermissionError:\n",
    "        pass\n",
    "    \n",
    "search(\"/Users/hoon/Desktop/Data/vscode/나도코딩\")"
   ],
   "outputs": [],
   "metadata": {}
  },
  {
   "cell_type": "code",
   "execution_count": null,
   "source": [
    "import os\n",
    "\n",
    "for (path, dir, files) in os.walk(\"/users\"):\n",
    "    for filename in files:\n",
    "        ext = os.path.splitext(filename)[-1]\n",
    "        if ext == '.py':\n",
    "            print(\"%s/%s\" )"
   ],
   "outputs": [],
   "metadata": {}
  }
 ],
 "metadata": {
  "orig_nbformat": 4,
  "language_info": {
   "name": "python",
   "version": "3.8.8",
   "mimetype": "text/x-python",
   "codemirror_mode": {
    "name": "ipython",
    "version": 3
   },
   "pygments_lexer": "ipython3",
   "nbconvert_exporter": "python",
   "file_extension": ".py"
  },
  "kernelspec": {
   "name": "python3",
   "display_name": "Python 3.8.8 64-bit ('base': conda)"
  },
  "interpreter": {
   "hash": "0db78d4def97aafdbe33b8b976cb7e782ebbc82d4fe41d855eac38305eb77fc8"
  }
 },
 "nbformat": 4,
 "nbformat_minor": 2
}