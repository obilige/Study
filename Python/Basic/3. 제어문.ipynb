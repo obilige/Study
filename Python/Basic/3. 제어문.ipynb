{
 "cells": [
  {
   "cell_type": "markdown",
   "source": [
    "## 1. 입력 기능\n",
    "\n",
    "+ input(\" . \")"
   ],
   "metadata": {}
  },
  {
   "cell_type": "code",
   "execution_count": 2,
   "source": [
    "name = input(\"당신의 이름은 무엇입니까? \")"
   ],
   "outputs": [],
   "metadata": {}
  },
  {
   "cell_type": "code",
   "execution_count": 3,
   "source": [
    "print(name)\n",
    "print(\"안녕하세요? {0}님\".format(name))"
   ],
   "outputs": [
    {
     "output_type": "stream",
     "name": "stdout",
     "text": [
      "\n",
      "안녕하세요? 님\n"
     ]
    }
   ],
   "metadata": {}
  },
  {
   "cell_type": "code",
   "execution_count": 4,
   "source": [
    "num1 = input(\"첫번째 숫자를 입력하세요. \")\n",
    "num2 = input(\"두번째 숫자를 입력하세요. \")\n",
    "\n",
    "print(\"결과 :\", int(num1) + int(num2))\n",
    "# 변수를 계속 사용해야한다면 앞에 input에 int를 씌우는 것이 더 효율적이다."
   ],
   "outputs": [
    {
     "output_type": "error",
     "ename": "ValueError",
     "evalue": "invalid literal for int() with base 10: ''",
     "traceback": [
      "\u001b[0;31m---------------------------------------------------------------------------\u001b[0m",
      "\u001b[0;31mValueError\u001b[0m                                Traceback (most recent call last)",
      "\u001b[0;32m<ipython-input-4-cceae4bb41b0>\u001b[0m in \u001b[0;36m<module>\u001b[0;34m\u001b[0m\n\u001b[1;32m      2\u001b[0m \u001b[0mnum2\u001b[0m \u001b[0;34m=\u001b[0m \u001b[0minput\u001b[0m\u001b[0;34m(\u001b[0m\u001b[0;34m\"두번째 숫자를 입력하세요. \"\u001b[0m\u001b[0;34m)\u001b[0m\u001b[0;34m\u001b[0m\u001b[0;34m\u001b[0m\u001b[0m\n\u001b[1;32m      3\u001b[0m \u001b[0;34m\u001b[0m\u001b[0m\n\u001b[0;32m----> 4\u001b[0;31m \u001b[0mprint\u001b[0m\u001b[0;34m(\u001b[0m\u001b[0;34m\"결과 :\"\u001b[0m\u001b[0;34m,\u001b[0m \u001b[0mint\u001b[0m\u001b[0;34m(\u001b[0m\u001b[0mnum1\u001b[0m\u001b[0;34m)\u001b[0m \u001b[0;34m+\u001b[0m \u001b[0mint\u001b[0m\u001b[0;34m(\u001b[0m\u001b[0mnum2\u001b[0m\u001b[0;34m)\u001b[0m\u001b[0;34m)\u001b[0m\u001b[0;34m\u001b[0m\u001b[0;34m\u001b[0m\u001b[0m\n\u001b[0m\u001b[1;32m      5\u001b[0m \u001b[0;31m# 변수를 계속 사용해야한다면 앞에 input에 int를 씌우는 것이 더 효율적이다.\u001b[0m\u001b[0;34m\u001b[0m\u001b[0;34m\u001b[0m\u001b[0;34m\u001b[0m\u001b[0m\n",
      "\u001b[0;31mValueError\u001b[0m: invalid literal for int() with base 10: ''"
     ]
    }
   ],
   "metadata": {}
  },
  {
   "cell_type": "code",
   "execution_count": null,
   "source": [
    "#\"\"\"\n",
    "#동전 교환 프로그램\n",
    "#==================\n",
    "#교환할 돈은 얼마입니까? 2763 (엔터키)\n",
    "\n",
    "#결과:\n",
    "#오백원짜리 ===> 5개\n",
    "#백원짜리 ===> 2개\n",
    "#오십원짜리 ===> 1개\n",
    "#십원짜리 ===> 1개\n",
    "#나머지 바꾸지 못한 잔돈 ===> 3원\n",
    "#\"\"\"\n",
    "\n",
    "\n",
    "money = int(input(\"교환할 돈은 얼마입니까? \"))\n",
    "num_500 = money // 500\n",
    "change1 = money % 500\n",
    "num_100 = change1 // 100\n",
    "change2 = change1 % 100\n",
    "num_50 = change2 // 50\n",
    "change3 = change2 % 50\n",
    "num_10 = change3 // 10\n",
    "change4 = change3 // 10\n",
    "Nochange = change3 % 10\n",
    "\n",
    "print(\"\"\"동전 교환 프로그램\n",
    "==================\n",
    "교환할 돈은 얼마입니까?\"\"\", money,\"원\")\n",
    "print(\"결과:\")\n",
    "print(\"오백원짜리 ===>\", num_500,\"개\")\n",
    "print(\"백원짜리 ===>\", num_100,\"개\")\n",
    "print(\"오십원짜리 ===>\", num_50,\"개\")\n",
    "print(\"십원짜리 ===>\", num_10,\"개\")\n",
    "print(\"나머지 바꾸지 못한 잔돈 ===>\", Nochange,\"원\")"
   ],
   "outputs": [],
   "metadata": {}
  },
  {
   "cell_type": "markdown",
   "source": [
    "---\n",
    "\n",
    "### 2. 조건문\n",
    "    1) 첫번째 유형\n",
    "        if 조건식 :\n",
    "            문장\n",
    "            ...\n",
    "\n",
    "        if 조건식 :\n",
    "        "
   ],
   "metadata": {}
  },
  {
   "cell_type": "code",
   "execution_count": null,
   "source": [
    "### 입력받은 숫자가 홀수인지 짝수인지 판별하는 프로그램\n",
    "\n",
    "num1 = int(input(\"숫자 : \"))\n",
    "if num1 % 2 == 1:\n",
    "    print(\"홀수입니다.\")\n",
    "else:\n",
    "    print(\"짝수입니다\")"
   ],
   "outputs": [],
   "metadata": {}
  },
  {
   "cell_type": "code",
   "execution_count": null,
   "source": [
    "answer = [\"a\", \"b\", \"c\", \"d\"]\n",
    "ans = input(\"답을 입력해주세요. \")\n",
    "\n",
    "if ans in answer:\n",
    "    print(\"정답\")\n",
    "else:\n",
    "    print(\"오답\")"
   ],
   "outputs": [],
   "metadata": {}
  },
  {
   "cell_type": "code",
   "execution_count": null,
   "source": [
    "ans = input(\"답을 입력해주세요. \")\n",
    "\n",
    "if ans >= 'a' and ans <= 'd':\n",
    "    print(\"정답\")\n",
    "else:\n",
    "    print(\"오답\")"
   ],
   "outputs": [],
   "metadata": {}
  },
  {
   "cell_type": "code",
   "execution_count": null,
   "source": [
    "print(ord('a'), ord('b'), ord('c'), ord('d'))\n",
    "print(chr(97), chr(98), chr(99), chr(100))"
   ],
   "outputs": [],
   "metadata": {}
  },
  {
   "cell_type": "code",
   "execution_count": null,
   "source": [
    "# \"\"\"\n",
    "# 윤년 계산 프로그램\n",
    "# -------------------\n",
    "# 1) 기원 연수가 4로 나누어 떨어지는 해는 우선 윤년으로 한다.\n",
    "# 2) 그 중에서 100으로 나누어 떨어지는 해는 평년으로 한다.\n",
    "# 3) 다만 400으로 나누어 떨어지는 해는 다시 윤년으로 정한다.\n",
    "\n",
    "# 연도를 입력 : 2019(엔터) 참고로 2020년이 윤년윤년\n",
    "# 결과 : 윤년입니다.(윤년이 아닙니다)\n",
    "# \"\"\"\n",
    "\n",
    "year = int(input(\"연도 입력 : \"))\n",
    "if year % 400 == 0:\n",
    "    print(\"결과 : 윤년입니다.\")\n",
    "elif year % 100 == 0:\n",
    "    print(\"결과 : 윤년이 아닙니다.\")\n",
    "elif year % 4 ==0:\n",
    "    print(\"결과 : 윤년입니다.\")\n",
    "else:\n",
    "    print(\"결과 : 윤년이 아닙니다.\")"
   ],
   "outputs": [],
   "metadata": {}
  },
  {
   "cell_type": "code",
   "execution_count": null,
   "source": [
    "### 다중 if문\n",
    "\n",
    "avg = 73\n",
    "\n",
    "if avg >= 90:\n",
    "    print(\"A\")\n",
    "elif avg >= 80:\n",
    "    print(\"B\")\n",
    "elif avg >= 70:\n",
    "    print(\"C\")\n",
    "elif avg >= 600:\n",
    "    print(\"D\")\n",
    "else:\n",
    "    print(\"F\")"
   ],
   "outputs": [],
   "metadata": {}
  },
  {
   "cell_type": "code",
   "execution_count": null,
   "source": [
    "# \"\"\"\n",
    "# 전자 계산기 프로그램(사칙연산)\n",
    "# ----------------------------------\n",
    "# 연산자 : +\n",
    "# 숫자1 : 10\n",
    "# 숫자2 : 5\n",
    "\n",
    "# 결과 : 10 + 5 = 15\n",
    "# \"\"\"\n",
    "\n",
    "num1 = int(input(\"숫자 1 : \"))\n",
    "op = input(\"연산자 : \")\n",
    "num2 = int(input(\"숫자 2 : \"))\n",
    "\n",
    "if op == \"+\":\n",
    "    print('결과:', num1, \"+\", num2, \"=\", num1+num2)\n",
    "if op == \"-\":\n",
    "    print('결과:', num1, \"-\", num2, \"=\", num1-num2)\n",
    "if op == \"*\":\n",
    "    print(\"결과:\", num1, \"*\", num2, \"=\", num1*num2)\n",
    "if op == \"/\":\n",
    "    print('결과:', num1, \"/\", num2, \"=\", num1/num2)\n",
    " "
   ],
   "outputs": [],
   "metadata": {}
  },
  {
   "cell_type": "code",
   "execution_count": null,
   "source": [
    "a, b, c = 8, 10, 3\n",
    "\n",
    "if a > b:\n",
    "    if a > c:\n",
    "        print(\"a가 제일 크다\")\n",
    "    else:\n",
    "        print(\"c가 제일 크다\")\n",
    "else:\n",
    "    print()"
   ],
   "outputs": [],
   "metadata": {}
  },
  {
   "cell_type": "code",
   "execution_count": null,
   "source": [
    "#### if문을 이용해 id, password 잘못된 것 고지하는 프로그램 만들기\n",
    "\n",
    "id_ = input(\"id : \") #tiger\n",
    "pw_ = input(\"password: \") # 1111\n",
    "\n",
    "if id_ != \"tiger\":\n",
    "    if id_ != \"1111\":\n",
    "        print(\"둘 다 틀림\")\n",
    "    else:\n",
    "        print(\"아이디만 틀림\")\n",
    "else:\n",
    "    if pw_ != \"1111\":\n",
    "        print(\"패스워드만 틀림\")\n",
    "    else:\n",
    "        print(\"로그인 성공\")"
   ],
   "outputs": [],
   "metadata": {}
  },
  {
   "cell_type": "code",
   "execution_count": null,
   "source": [
    "# \"\"\"\n",
    "# (가위, 바위, 보) 중에서 하나를 입력 : 가위(엔터)\n",
    "# 컴퓨터 : 보, 사용자 : 가위\n",
    "# 사용자 승\n",
    "# \"\"\"\n",
    "\n",
    "import random as rd\n",
    "c = rd.randint(1, 3)\n",
    "\n",
    "\n",
    "a = input(\"가위, 바위, 보 : \")\n",
    "if a == \"바위\":\n",
    "    a = 1\n",
    "elif a == \"가위\":\n",
    "    a = 2\n",
    "elif a == \"바위\":\n",
    "    a = 3\n",
    "\n",
    "\n",
    "if c == 1:\n",
    "    if a == 1:\n",
    "        print(\"바위를 내셨습니다.\")\n",
    "        print(\"컴퓨터는 바위를 냈습니다\")\n",
    "        print(\"비겼습니다\")\n",
    "    elif a == 2:\n",
    "        print(\"가위를 내셨습니다.\")\n",
    "        print(\"컴퓨터는 바위를 냈습니다\")\n",
    "        print(\"졌습니다\")\n",
    "    elif a == 3:\n",
    "        print(\"보를 내셨습니다.\")\n",
    "        print(\"컴퓨터는 바위를 냈습니다\")\n",
    "        print(\"이겼습니다.\")\n",
    "\n",
    "if c == 2:\n",
    "    if a == 1:\n",
    "        print(\"바위를 내셨습니다.\")\n",
    "        print(\"컴퓨터는 가위를 냈습니다\")\n",
    "        print(\"이겼습니다.\")\n",
    "    elif a == 2:\n",
    "        print(\"가위를 내셨습니다.\")\n",
    "        print(\"컴퓨터는 가위를 냈습니다\")\n",
    "        print(\"비겼습니다.\")\n",
    "    elif a == 1:\n",
    "        print(\"보를 내셨습니다.\")\n",
    "        print(\"컴퓨터는 가위를 냈습니다\")\n",
    "        print(\"졌겼습니다.\")\n",
    "\n",
    "if c == 3:\n",
    "    if a == 1:\n",
    "        print(\"바위를 내셨습니다.\")\n",
    "        print(\"컴퓨터는 보를 냈습니다\")\n",
    "        print(\"졌습니다\")\n",
    "    elif a == 2:\n",
    "        print(\"가위를 내셨습니다.\")\n",
    "        print(\"컴퓨터는 보를 냈습니다\")\n",
    "        print(\"이겼습니다\")\n",
    "    elif a == 3:\n",
    "        print(\"보를 내셨습니다.\")\n",
    "        print(\"컴퓨터는 보를 냈습니다\")\n",
    "        print(\"비겼습니다\")"
   ],
   "outputs": [],
   "metadata": {}
  },
  {
   "cell_type": "code",
   "execution_count": 3,
   "source": [
    "import random as rd\n",
    "cpu = rd.choice(['가위', '바위', '보'])\n",
    "print(cpu)"
   ],
   "outputs": [
    {
     "output_type": "stream",
     "name": "stdout",
     "text": [
      "보\n"
     ]
    }
   ],
   "metadata": {}
  },
  {
   "cell_type": "code",
   "execution_count": null,
   "source": [
    "cnt = 0\n",
    "sum = 0\n",
    "\n",
    "while cnt < 10:\n",
    "    sum = 1 + sum\n",
    "    cnt += 1\n",
    "\n",
    "print(\"결과 :\", sum)"
   ],
   "outputs": [],
   "metadata": {}
  },
  {
   "cell_type": "markdown",
   "source": [
    "---\n",
    "\n",
    "## 3. for\n",
    "    * for 변수명 in 집합자료형:\n",
    "        문장\n",
    "        ..."
   ],
   "metadata": {}
  },
  {
   "cell_type": "code",
   "execution_count": null,
   "source": [
    "data = [10, 20, \"호감\", 3.14, True]\n",
    "\n",
    "cnt = 0\n",
    "while cnt < len(data): # 데이터 갯수에 관계 없이 자동화 하려면.. 데이터 갯수를 나타내는 len()을 쓰면 된다. \n",
    "    print(data[cnt])\n",
    "    cnt += 1\n",
    "\n",
    "print('*' * 50)\n",
    "\n",
    "for i in data:\n",
    "    print(i)\n",
    "\n"
   ],
   "outputs": [],
   "metadata": {}
  },
  {
   "cell_type": "markdown",
   "source": [
    "---\n",
    "\n",
    "### 4. 반복문의 강제 종료\n",
    "+ continue\n",
    "+ break"
   ],
   "metadata": {}
  },
  {
   "cell_type": "code",
   "execution_count": null,
   "source": [
    "for i in range(10):\n",
    "    if i == 5:\n",
    "        break\n",
    "    print(i)"
   ],
   "outputs": [],
   "metadata": {}
  },
  {
   "cell_type": "code",
   "execution_count": null,
   "source": [
    "for i in range(10):\n",
    "    if i == 5:\n",
    "        continue\n",
    "    print(i)"
   ],
   "outputs": [],
   "metadata": {}
  },
  {
   "cell_type": "code",
   "execution_count": null,
   "source": [
    "cnt = 0\n",
    "while True: #무한반복\n",
    "    if cnt == 20: #20이 되면 멈춰\n",
    "        break\n",
    "\n",
    "    print(\"*\", end=\"\")\n",
    "    cnt += 1"
   ],
   "outputs": [],
   "metadata": {}
  },
  {
   "cell_type": "code",
   "execution_count": null,
   "source": [
    "# \"\"\"\n",
    "# 문제1\n",
    "# 전자계산기 프로그램을 반복문을 이용하여 업그레이드\n",
    "# (끝나는 조건은 연산자에 x를 입력하면 종료)\n",
    "# ----------------------------------------------------\n",
    "\n",
    "# 문제2\n",
    "# 가위바위보 게임을 반복문을 이용하여 업그레이드\n",
    "# (끝나는 조건은 x나 q를 입력하면 종료)\n",
    "\n",
    "# 끝날 때 결과에 ?승 ?패를 출력\n",
    "\n",
    "# -----------------------------------------------------\n",
    "\n",
    "# 문제3\n",
    "# 숫자를 입력받아 짝수의 합과 홀수의 합을 구하시오.(0을 입력하면 종료)\n",
    "\n",
    "# 숫자1: 2\n",
    "# 숫자2: 3\n",
    "# 숫자3: 1\n",
    "# 숫자4: 6\n",
    "# 숫자5: 0\n",
    "\n",
    "# 짝수의 합:?\n",
    "# 홀수의 합:?\n",
    "\n",
    "# ---------------------------------------------------------\n",
    "\n",
    "# 문제4\n",
    "# 숫자 맞추기 게임\n",
    "\n",
    "# 예시) 1부터 100사이의 숫자를 맞추시오\n",
    "\n",
    "# 숫자 입력 : 50\n",
    "# 낮음!\n",
    "\n",
    "# 숫자 입력 : 75\n",
    "# 낮음\n",
    "\n",
    "# ....\n",
    "\n",
    "# 숫자 입력 : 89\n",
    "# 정답입니다. 시도회수는 ?번입니다.\n",
    "# \"\"\""
   ],
   "outputs": [],
   "metadata": {}
  },
  {
   "cell_type": "code",
   "execution_count": null,
   "source": [
    "# \"\"\"\n",
    "# 친구 관리 프로그램\n",
    "# ====================\n",
    "\n",
    "# 1.친구 리스트 출력\n",
    "# 2.친구 추가\n",
    "# 3.친구 삭제\n",
    "# 4.이름 변경\n",
    "# 9.종료\n",
    "# 메뉴를 선택 : 2 (엔터)\n",
    "# 이름을 입력 : 홍길동 (엔터)\n",
    "# -----------------------\n",
    "# 1.친구 리스트 출력\n",
    "# 2.친구 추가\n",
    "# 3.친구 삭제\n",
    "# 4.이름 변경\n",
    "# 9.종료\n",
    "# 메뉴를 선택 : 2 (엔터)\n",
    "# 이름을 입력 : 임꺽정 (엔터)\n",
    "# -----------------------\n",
    "# 1.친구 리스트 출력\n",
    "# 2.친구 추가\n",
    "# 3.친구 삭제\n",
    "# 4.이름 변경\n",
    "# 9.종료\n",
    "# 메뉴를 선택 : 1 (엔터)\n",
    "# [\"홍길동\", \"임꺽정\"]\n",
    "# ----------------------\n",
    "# 1.친구 리스트 출력\n",
    "# 2.친구 추가\n",
    "# 3.친구 삭제\n",
    "# 4.이름 변경\n",
    "# 9.종료\n",
    "# 메뉴를 선택 : 4 (엔터)\n",
    "# 변경할 이름 선택 : 홍길동 (엔터)\n",
    "# 변경하고 싶은 이름 입력 : 홍길순 (엔터)\n",
    "# -------------------------------\n",
    "# 1.친구 리스트 출력\n",
    "# 2.친구 추가\n",
    "# 3.친구 삭제\n",
    "# 4.이름 변경\n",
    "# 9.종료\n",
    "# 메뉴를 선택 : 1 (엔터)\n",
    "# [\"홍길순\", \"임꺽정\"]\n",
    "# -------------------------------\n",
    "# 1.친구 리스트 출력\n",
    "# 2.친구 추가\n",
    "# 3.친구 삭제\n",
    "# 4.이름 변경\n",
    "# 9.종료\n",
    "# 메뉴를 선택 : 3 (엔터)\n",
    "# 삭제할 이름 입력 : 홍길순\n",
    "# ------------------------------\n",
    "# \"\"\""
   ],
   "outputs": [],
   "metadata": {}
  },
  {
   "cell_type": "code",
   "execution_count": null,
   "source": [
    "#문제 1\n",
    "while True:\n",
    "    op = input(\"연산자 : \")\n",
    "    if op == \"x\":\n",
    "        break\n",
    "    num1 = int(input(\"숫자 1 : \"))\n",
    "    num2 = int(input(\"숫자 2 : \"))\n",
    "\n",
    "    if op == \"+\":\n",
    "        print('결과:', num1, \"+\", num2, \"=\", num1+num2)\n",
    "    if op == \"-\":\n",
    "        print('결과:', num1, \"-\", num2, \"=\", num1-num2)\n",
    "    if op == \"*\":\n",
    "        print(\"결과:\", num1, \"*\", num2, \"=\", num1*num2)\n",
    "    if op == \"/\":\n",
    "        print('결과:', num1, \"/\", num2, \"=\", num1/num2)"
   ],
   "outputs": [],
   "metadata": {}
  },
  {
   "cell_type": "code",
   "execution_count": 7,
   "source": [
    "#문제 2\n",
    "import random as rd\n",
    "c = rd.randint(1, 3)\n",
    "\n",
    "a = input(\"(가위, 바위, 보) 중에서 하나를 선택 : \")\n",
    "if a == \"바위\":\n",
    "    a = 1\n",
    "elif a == \"가위\":\n",
    "    a = 2\n",
    "elif a == \"보\":\n",
    "    a = 3\n",
    "\n",
    "if c == 1:\n",
    "    if a == 1:\n",
    "        print(\"컴퓨터 : 바위, 사용자 : 바위\")\n",
    "        print(\"비겼습니다.\")\n",
    "    elif a == 2:\n",
    "        print(\"컴퓨터 : 바위, 사용자 : 가위\")\n",
    "        print(\"사용자가 졌습니다\")\n",
    "    elif a == 3:\n",
    "        print(\"컴퓨터 : 바위, 사용자 : 보\")\n",
    "        print(\"사용자가 이겼습니다.\")\n",
    "\n",
    "if c == 2:\n",
    "    if a == 1:\n",
    "        print(\"컴퓨터 : 가위, 사용자 : 바위\")\n",
    "        print(\"사용자가 이겼습니다.\")\n",
    "    elif a == 2:\n",
    "        print(\"컴퓨터 : 가위, 사용자 : 가위\")            \n",
    "        print(\"비겼습니다.\")\n",
    "    elif a == 1:\n",
    "        print(\"컴퓨터 : 가위, 사용자 : 보\")\n",
    "        print(\"사용자가 졌습니다.\")\n",
    "\n",
    "if c == 3:\n",
    "    if a == 1:\n",
    "        print(\"컴퓨터 : 보, 사용자 : 바위\")\n",
    "        print(\"사용자가 졌습니다\")\n",
    "    elif a == 2:\n",
    "        print(\"컴퓨터 : 보, 사용자 : 가위\")\n",
    "        print(\"사용자가 이겼습니다\")\n",
    "    elif a == 3:\n",
    "        print(\"컴퓨터 : 보, 사용자 : 보\")\n",
    "        print(\"비겼습니다\")"
   ],
   "outputs": [
    {
     "output_type": "stream",
     "name": "stdout",
     "text": [
      "컴퓨터 : 보, 사용자 : 가위\n",
      "사용자가 이겼습니다\n"
     ]
    }
   ],
   "metadata": {}
  },
  {
   "cell_type": "code",
   "execution_count": null,
   "source": [
    "# 문제 3\n",
    "odd = []\n",
    "even = []\n",
    "\n",
    "num_1 = int(input(\"첫번째 숫자 : \"))\n",
    "num_2 = int(input(\"두번째 숫자 : \"))\n",
    "num_3 = int(input(\"세번째 숫자 : \"))\n",
    "num_4 = int(input(\"네번째 숫자 : \"))\n",
    "num_5 = int(input(\"다섯번째 숫자 : \"))\n",
    "num_list = [num_1, num_2, num_3, num_4, num_5]\n",
    "\n",
    "for i in num_list:\n",
    "    if i % 2 == 1:\n",
    "        odd.append(i)\n",
    "    elif i % 2 == 0:\n",
    "        even.append(i)\n",
    "# odd = [i for i in num_list if i % 2 == 1]\n",
    "# even = [i for i in num_list if i % 2 == 0]\n",
    "\n",
    "print(\"숫자1 :\", num_1)\n",
    "print(\"숫자2 :\", num_2)\n",
    "print(\"숫자3 :\", num_3)\n",
    "print(\"숫자4 :\", num_4)\n",
    "print(\"숫자5 :\", num_5)\n",
    "print('-' * 50)        \n",
    "print(\"짝수의 합 :\", sum(even))\n",
    "print(\"홀수의 합:\", sum(odd))"
   ],
   "outputs": [],
   "metadata": {}
  },
  {
   "cell_type": "code",
   "execution_count": null,
   "source": [
    "# 문제4\n",
    "import random\n",
    "right = random.randint(1, 100)\n",
    "cnt = 0\n",
    "\n",
    "while True:\n",
    "    ans = int(input(\"숫자 입력: \"))\n",
    "    if ans == right:\n",
    "        print(\"정답입니다. 시도횟수는\", cnt, \"입니다\")\n",
    "        break\n",
    "    elif ans > right:\n",
    "        print(\"Down\")\n",
    "        cnt += 1\n",
    "    elif ans < right:\n",
    "        print(\"Up\")\n",
    "        cnt += 1\n"
   ],
   "outputs": [],
   "metadata": {}
  },
  {
   "cell_type": "code",
   "execution_count": null,
   "source": [
    "a = ['a', 'b', 'c']\n",
    "a[a.index('a')] = 'd'\n",
    "print(a)"
   ],
   "outputs": [],
   "metadata": {}
  },
  {
   "cell_type": "code",
   "execution_count": 1,
   "source": [
    "#문제 5.\n",
    "friends = []\n",
    "#친구 리스트 출력 print(friend)\n",
    "#친구추가 friends.append()\n",
    "#친구삭제 friends.remove()\n",
    "#친구이름변경 friends[friends.index('이름')] = '변경할 이름\n",
    "#종료 break if mode == 9\n",
    "\n",
    "print(\"\"\"\n",
    "친구 관리 프로그램\n",
    "=======================\n",
    "1.친구 리스트 출력\n",
    "2.친구 추가\n",
    "3.친구 삭제\n",
    "4.이름 변경\n",
    "9.종료\n",
    "\"\"\")\n",
    "while True:9\n",
    "\n",
    "    mode = input(\"메뉴 선택 : \")\n",
    "    if mode == '1':\n",
    "        print(friends)\n",
    "    elif mode == '2':\n",
    "       f = input(\"이름 입력 : \")\n",
    "       friends.append(f)\n",
    "       print(friends)\n",
    "    elif mode == '3':\n",
    "        r = input(\"삭제할 이름 입력 : \")\n",
    "        if r in friends:\n",
    "            friends.remove(r)\n",
    "        else:\n",
    "            print(\"리스트에 없습니다. 다시 한번 확인 후 입력해주세요.\")\n",
    "            continue\n",
    "    elif mode == '4':\n",
    "        c = input(\"변경할 이름 : \")\n",
    "        c_= input(\"변경하고 싶은 이름 : \")\n",
    "        if c in friends:\n",
    "            friends[friends.index('c')] = c_\n",
    "        else:\n",
    "            print(\"리스트에 없습니다. 다시 한번 확인 후 입력해주세요. \")\n",
    "            continue\n",
    "    elif mode == '9':\n",
    "        print(\"프로그램을 종료합니다.\")\n",
    "        break"
   ],
   "outputs": [
    {
     "output_type": "stream",
     "name": "stdout",
     "text": [
      "['홍길동', '홍길동']\n",
      "\n",
      "    1.친구 리스트 출력\n",
      "    2.친구 추가\n",
      "    3.친구 삭제\n",
      "    4.이름 변경\n",
      "    9.종료\n",
      "    \n",
      "프로그램을 종료합니다.\n"
     ]
    }
   ],
   "metadata": {}
  },
  {
   "cell_type": "code",
   "execution_count": null,
   "source": [
    "#반복문의 중첩\n",
    "\n",
    "for i in range (3): #행의 개념\n",
    "    for i_1 in range(10): #열의 개념\n",
    "        print(\"*\", end=\"\")\n",
    "    print()"
   ],
   "outputs": [],
   "metadata": {}
  },
  {
   "cell_type": "code",
   "execution_count": null,
   "source": [
    "for i1 in range(7):\n",
    "    for i2 in range(i1):\n",
    "        print(\"*\", end = \"\")\n",
    "    print()"
   ],
   "outputs": [],
   "metadata": {}
  },
  {
   "cell_type": "code",
   "execution_count": null,
   "source": [
    "for i in range(1,6):\n",
    "    for i_1 in range(5-i):\n",
    "        print(\" \",end=\"\")\n",
    "    for i_1 in range(2*i-1):\n",
    "        print(\"*\",end=\"\")\n",
    "    print()"
   ],
   "outputs": [],
   "metadata": {}
  },
  {
   "cell_type": "code",
   "execution_count": null,
   "source": [
    "#### list comprehension\n",
    "\n",
    "result=[]\n",
    "for i in range(10):\n",
    "    result.append(i)\n",
    "print(result)\n",
    "\n",
    "result1 = [v for v in range(10)]\n",
    "print(result1)\n",
    "\n",
    "\n",
    "print('='*50)\n",
    "\n",
    "result=[]\n",
    "for i in range(10):\n",
    "    if i % 2 == 0:\n",
    "        result.append(i)\n",
    "print(result)\n",
    "\n",
    "result1 = [v for v in range(10) if v % 2 == 0]\n",
    "print(result1)"
   ],
   "outputs": [],
   "metadata": {}
  },
  {
   "cell_type": "code",
   "execution_count": null,
   "source": [
    "c1 = ['A', 'B', 'C']\n",
    "c2 = ['D', 'E', 'A']\n",
    "result=[]\n",
    "result2=[]\n",
    "\n",
    "for row in c1:\n",
    "    for col in c2:\n",
    "        result.append(row+col)\n",
    "\n",
    "print(result)\n",
    "\n",
    "print('='*50)\n",
    "\n",
    "result1 = [row1+col1 for row1 in c1 for col1 in c2]\n",
    "print(result1)\n",
    "\n",
    "print('='*50)\n",
    "\n",
    "for row in c1:\n",
    "    for col in c2:\n",
    "        if row != col:\n",
    "            result2.append(row+col)\n",
    "print(result2)\n",
    "\n",
    "result3 = [row1+col1 for row1 in c1 for col1 in c2 if not row1 == col1]\n",
    "print(result3)\n"
   ],
   "outputs": [],
   "metadata": {}
  },
  {
   "cell_type": "code",
   "execution_count": null,
   "source": [
    "# 숙제 1. [['AD', 'AE', 'AA'], ['BD', 'BE', 'BA'], ['CD', 'CE', 'CA']]\n",
    "data1 = ['A', 'B', 'C']\n",
    "data2 = ['D', 'E', 'A']\n",
    "\n",
    "list1=[]\n",
    "\n",
    "for d1 in data1:\n",
    "    list2=[]\n",
    "    for d2 in data2:\n",
    "        list2.append(d1+d2)\n",
    "    list1.append(list2)\n",
    "print(list1)\n"
   ],
   "outputs": [],
   "metadata": {}
  },
  {
   "cell_type": "code",
   "execution_count": 4,
   "source": [
    "# 숙제 2. \n",
    "words = \"some where over the rainbow way up high\"\n",
    "\n",
    "words_list = words.split()\n",
    "print(words_list)\n",
    "\n",
    "for sep in words_list:\n",
    "    result = [sep.upper(), sep, len(sep)]\n",
    "    print(result)\n",
    "\n",
    "#1. 문자를 나눈다. a.split()\n",
    "#2. 주어진 형태에 맞는 값들로 변환시킨다.  \n",
    "#3. 대문자, 소문자, 문자길이 a.upper, a, len(a)\n",
    "#4. 리스트에 담는다.\n",
    "#4. 반복문으로 만든다."
   ],
   "outputs": [
    {
     "output_type": "stream",
     "name": "stdout",
     "text": [
      "['some', 'where', 'over', 'the', 'rainbow', 'way', 'up', 'high']\n",
      "['SOME', 'some', 4]\n",
      "['WHERE', 'where', 5]\n",
      "['OVER', 'over', 4]\n",
      "['THE', 'the', 3]\n",
      "['RAINBOW', 'rainbow', 7]\n",
      "['WAY', 'way', 3]\n",
      "['UP', 'up', 2]\n",
      "['HIGH', 'high', 4]\n"
     ]
    }
   ],
   "metadata": {}
  },
  {
   "cell_type": "code",
   "execution_count": 1,
   "source": [
    "a = 0\n",
    "while a < 10: # a가 10 미만일 때까지 반복\n",
    "    a = a + 1 # a엔 1을 더해줘\n",
    "    if a % 2 == 0: # a를 2로 나눈 나머지가 0이면\n",
    "        continue # 여기서 멈추고 위로 올라가\n",
    "    print(a) #a를 프린트해"
   ],
   "outputs": [
    {
     "output_type": "stream",
     "name": "stdout",
     "text": [
      "1\n",
      "3\n",
      "5\n",
      "7\n",
      "9\n"
     ]
    }
   ],
   "metadata": {}
  },
  {
   "cell_type": "code",
   "execution_count": 3,
   "source": [
    "list = [(1,2), (3,4), (5,6)]\n",
    "for (first, second) in list:\n",
    "    print(first, second)"
   ],
   "outputs": [
    {
     "output_type": "stream",
     "name": "stdout",
     "text": [
      "1 2\n",
      "3 4\n",
      "5 6\n"
     ]
    }
   ],
   "metadata": {}
  },
  {
   "cell_type": "code",
   "execution_count": 4,
   "source": [
    "number = [1,2,3,4,5,6,7,8,9,10]\n",
    "\n",
    "result = [i * 3 for i in number if i % 2 == 0]\n",
    "print(result)"
   ],
   "outputs": [
    {
     "output_type": "stream",
     "name": "stdout",
     "text": [
      "[6, 12, 18, 24, 30]\n"
     ]
    }
   ],
   "metadata": {}
  },
  {
   "cell_type": "code",
   "execution_count": null,
   "source": [],
   "outputs": [],
   "metadata": {}
  }
 ],
 "metadata": {
  "orig_nbformat": 4,
  "language_info": {
   "name": "python",
   "version": "3.8.8",
   "mimetype": "text/x-python",
   "codemirror_mode": {
    "name": "ipython",
    "version": 3
   },
   "pygments_lexer": "ipython3",
   "nbconvert_exporter": "python",
   "file_extension": ".py"
  },
  "kernelspec": {
   "name": "python3",
   "display_name": "Python 3.8.8 64-bit ('base': conda)"
  },
  "interpreter": {
   "hash": "0db78d4def97aafdbe33b8b976cb7e782ebbc82d4fe41d855eac38305eb77fc8"
  }
 },
 "nbformat": 4,
 "nbformat_minor": 2
}