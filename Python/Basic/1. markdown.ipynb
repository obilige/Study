{
 "cells": [
  {
   "cell_type": "markdown",
   "source": [
    "# 글자 크기\n",
    "## 글자 크기\n",
    "### 글자 크기\n",
    "#### 글자 크기\n",
    "##### 글자 크기\n",
    "글자 크기\n",
    "\n",
    "글자크기\n",
    "==\n",
    "글자크기\n",
    "--"
   ],
   "metadata": {}
  },
  {
   "cell_type": "markdown",
   "source": [
    "# 구분선 : ---\n",
    "---"
   ],
   "metadata": {}
  },
  {
   "cell_type": "markdown",
   "source": [
    "#### 들여쓰기 문법입니다.\n",
    "> 첫번째 들여쓰기\n",
    "\n",
    ">> 두번째 들여쓰기\n",
    "\n",
    ">>> 세번째 들여쓰기"
   ],
   "metadata": {}
  },
  {
   "cell_type": "markdown",
   "source": [
    "---\n",
    "과일의 종류(순서 있는 리스트)\n",
    "1. 사과\n",
    "2. 배\n",
    "3. 포도\n",
    "\n",
    "1, 2, 3\n",
    "\n",
    "\n",
    "좋아하는 색상(순서 없는 리스트)\n",
    "+ 빨강\n",
    "* 노랑\n",
    "- 파랑\n",
    "\n",
    "+, *, -\n",
    "\n",
    "지역\n",
    "* 서울\n",
    "    + 강남구\n",
    "    + 강북구\n",
    "    + 강서구\n",
    "    + 강동구\n",
    "\n",
    "\n",
    "* 경기\n",
    "    + 의정부\n",
    "    + 포천"
   ],
   "metadata": {}
  },
  {
   "cell_type": "markdown",
   "source": [
    "# url 걸기 : [문자](인터넷 주소)\n",
    "[네이버](https://naver.com)"
   ],
   "metadata": {}
  },
  {
   "cell_type": "markdown",
   "source": [
    "# 이탤릭체 * *\n",
    "이 것은 *이탤릭체* 입니다."
   ],
   "metadata": {}
  },
  {
   "cell_type": "markdown",
   "source": [
    "# 볼드체 ** **\n",
    "이번엔 **볼드체** 입니다."
   ],
   "metadata": {}
  },
  {
   "cell_type": "markdown",
   "source": [
    "# 취소선 ~ ~\n",
    "이 것은 ~취소선~ 입니다."
   ],
   "metadata": {}
  },
  {
   "cell_type": "markdown",
   "source": [
    "# 이미지 불러오기\n",
    "![이미지](images/1.jpeg)"
   ],
   "metadata": {}
  },
  {
   "cell_type": "markdown",
   "source": [],
   "metadata": {}
  }
 ],
 "metadata": {
  "orig_nbformat": 4,
  "language_info": {
   "name": "python"
  }
 },
 "nbformat": 4,
 "nbformat_minor": 2
}