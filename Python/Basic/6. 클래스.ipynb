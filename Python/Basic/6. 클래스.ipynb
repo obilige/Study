{
 "cells": [
  {
   "cell_type": "markdown",
   "source": [
    "# class\n",
    "+ 비슷한 부류를 묶음\n",
    "+ 코드를 묶을 때 파이썬에선 :을 쓴다. '코드블럭'\n",
    "+ 클래스는 함수, 조건문을 묶는 더 큰 코드블럭 개념이다.\n",
    "    - 변수(in class : 멤버 변수, 속성, 필드), 함수(in class : 멤버 함수, 매서드)\n",
    "+ 여러 함수를 묶어서 더 큰 단위의 모듈로 관리, 사용하는 것\n",
    "+ 쓰는 이유는 함수와 조건문이 전역변수에 영향을 주면 작업에 방해될 때, 이를 막기 위해서다.\n",
    "+ 설계도\n",
    "    - 설계도는 메모리를 차지하지 않는다. 즉 인스턴스, 객체가 아닌 계획서, 도면 같은 개념이다.\n",
    "        * 인스턴스 : 메모리에 실제 만들어진 것. 객체\n",
    "+ 사용자 정의 자료형 : 원하는 자료 형태를 만들 수 있다.\n",
    "\n",
    "\n",
    "+ Use\n",
    "    1. 클래스를 객체(메모리, 임시저장소)에 먼저 저장한다. class = Test()\n",
    "    2. 객체에서 클래스와 함수를 불러들인다. Class.def_a()\n",
    "    3. 대부분 return이 지정되니 결과를 알고 싶으면 print(Class.def_a())를 입력해준다.\n",
    "    4. 클래스는 함수와 구분하기 위해 앞을 대문자로 쓰는 관례가 있다.\n",
    "\n",
    "+ 객체의 조건\n",
    "    - 상속성(inheritance) : 클래스 내 함수를 다른 함수에 전달할 수 있는가? 소스없이 상속 가능. class name(parents_name)\n",
    "    - 다형성(polymorphism) : 객체가 많은 모양을 가지고 있음을 의미. \n",
    "    - 캡슐화(Encapsulation) :"
   ],
   "metadata": {}
  },
  {
   "cell_type": "code",
   "execution_count": 1,
   "source": [
    "class Test:\n",
    "    a = 10\n",
    "\n",
    "    def show(self):\n",
    "        return \"test 클래스\"\n",
    "\n",
    "print(Test().a)\n",
    "Test().show()"
   ],
   "outputs": [
    {
     "output_type": "stream",
     "name": "stdout",
     "text": [
      "10\n"
     ]
    },
    {
     "output_type": "execute_result",
     "data": {
      "text/plain": [
       "'test 클래스'"
      ]
     },
     "metadata": {},
     "execution_count": 1
    }
   ],
   "metadata": {}
  },
  {
   "cell_type": "code",
   "execution_count": 2,
   "source": [
    "# 사용자 정의 자료형\n",
    "# 국적, 이름, 나이, 신장, 취미\n",
    "class Person:\n",
    "    nation = \"한국\"\n",
    "    name = str()\n",
    "    age = int()\n",
    "    height = float()\n",
    "    hobbies = []\n",
    "\n",
    "    def show(self):\n",
    "        print(\"국적 :\", self.nation)\n",
    "        print(\"이름 :\", self.name)\n",
    "        print(\"나이 :\", self.age)\n",
    "        print(\"신장 :\", self.height)\n",
    "        print(\"취미 :\", self.hobbies)\n",
    "        print(\"\\n--------------------------\")\n",
    "\n",
    "# 3명의 데이터를 저장하려고 한다.\n",
    "p1 = Person()\n",
    "p2 = Person()\n",
    "p3 = Person()\n",
    "\n",
    "p1.name = \"정재훈\"\n",
    "p1.age = 31\n",
    "p1.height = 185.2\n",
    "p1.hobbies = [\"축구\", \"사진\"]\n",
    "# p1.show()\n",
    "\n",
    "p2.nation = '프랑스'\n",
    "p2.name = \"Zidane\"\n",
    "p2.age = 47\n",
    "p2.height = 187.1\n",
    "p2.hobbies = [\"음악감상\", \"독서\"]\n",
    "# p2.show()\n",
    "\n",
    "p3.nation = '미국'\n",
    "p3.name = \"Michael\"\n",
    "p3.age = 51\n",
    "p3.height = 207.8\n",
    "p3.hobbies = [\"농구\", \"럭비\"]\n",
    "# p3.show()\n",
    "\n",
    "data = [p1, p2, p3]\n",
    "\n",
    "for i in range(len(data)):\n",
    "    data[i].show()\n",
    "#p1.show, p2.show, p3.show를 한번에"
   ],
   "outputs": [
    {
     "output_type": "stream",
     "name": "stdout",
     "text": [
      "국적 : 한국\n",
      "이름 : 정재훈\n",
      "나이 : 31\n",
      "신장 : 185.2\n",
      "취미 : ['축구', '사진']\n",
      "\n",
      "--------------------------\n",
      "국적 : 프랑스\n",
      "이름 : Zidane\n",
      "나이 : 47\n",
      "신장 : 187.1\n",
      "취미 : ['음악감상', '독서']\n",
      "\n",
      "--------------------------\n",
      "국적 : 미국\n",
      "이름 : Michael\n",
      "나이 : 51\n",
      "신장 : 207.8\n",
      "취미 : ['농구', '럭비']\n",
      "\n",
      "--------------------------\n"
     ]
    }
   ],
   "metadata": {}
  },
  {
   "cell_type": "markdown",
   "source": [
    "### 작성방법\n",
    "\n",
    "+ self : 클래스 안에 매개변수가 있어야 한다. 관례상 이를 self라 한다.\n",
    "    * 현재 사용중인 객체의 주소를 저장하고 있는 참조 변수\n",
    "    * read only"
   ],
   "metadata": {}
  },
  {
   "cell_type": "code",
   "execution_count": 23,
   "source": [
    "class Test:\n",
    "    a = int()\n",
    "    b = float()\n",
    "    c = str()\n",
    "    # 변수 선언 안해도 된다. 다만, 권장하지 않는다. 코드를 보고 직관적으로 이해하기 어렵기 때문.\n",
    "\n",
    "    def show(self):\n",
    "        # print(a, b, c) : 클래스에선 self값이 먹혀야 사용 가능\n",
    "        print(self.a, self.b, self.c)\n",
    "        print(\"현재주소 :\", id(self))\n",
    "        #id()는 파이썬 기본함수로 저장된 위치를 알려준다.\n",
    "\n",
    "    def setvalue(self, a, b, c):\n",
    "        self.a = a\n",
    "        self.b = b\n",
    "        self.c = c\n",
    "        "
   ],
   "outputs": [],
   "metadata": {}
  },
  {
   "cell_type": "code",
   "execution_count": 24,
   "source": [
    "t1 = Test()\n",
    "t2 = Test()\n",
    "t3 = Test()\n",
    "\n",
    "t1.a=10\n",
    "t1.b=3.14\n",
    "t1.c=\"홍길동\"\n",
    "t1.show()\n",
    "\n",
    "t2.a=15\n",
    "t2.b=7.8\n",
    "t2.c=\"임꺽정\"\n",
    "t2.show()\n",
    "\n",
    "t3.setvalue(200, 5.5, \"고길동\")\n",
    "t3.show()"
   ],
   "outputs": [
    {
     "output_type": "stream",
     "name": "stdout",
     "text": [
      "10 3.14 홍길동\n",
      "현재주소 : 140425058730624\n",
      "15 7.8 임꺽정\n",
      "현재주소 : 140425058730192\n",
      "200 5.5 고길동\n",
      "현재주소 : 140425050152192\n"
     ]
    }
   ],
   "metadata": {}
  },
  {
   "cell_type": "markdown",
   "source": [
    "---\n",
    "\n",
    "# 생성자와 소멸자 Constructor and Deconstructor\n",
    "\n",
    "+ 메서드(클래스 내 만들어진 함수)\n",
    "+ 객체를 생성하는 용도\n",
    "+ 객체를 처음 만들 때 사용한다.\n",
    "+ 클래스를 객체로 저장할 때, 즉 클래스 선언할 때 딱 한번만 호출된다. (1회용)\n",
    "+ 초기화에 사용 = 처음 시작과 함께 변수 지정하도록 만들 때"
   ],
   "metadata": {}
  },
  {
   "cell_type": "code",
   "execution_count": null,
   "source": [
    "class Test:\n",
    "    a = int()\n",
    "    b = str()\n",
    "# 클래스 내에서 __init__은 자동으로 실행되고 있다.\n",
    "# 지정해주지 않으면 pass로\n",
    "#   def __init__(self):\n",
    "#       pass\n",
    "\n",
    "    def __init__(self, a = 0, b = ''):\n",
    "        self.a = a\n",
    "        self.b = b\n",
    "    \n",
    "    def setvalue(self, a, b):\n",
    "        self.a = a\n",
    "        self.b = b\n",
    "    \n",
    "    def __del__(self):\n",
    "        print('소멸자 호출')\n",
    "\n",
    "# __init__의 아쉬운 점은 매번 값을 지정해줘야 한다는 것.\n",
    "# 그럴 땐 __init__ 변수에 디폴트값을 지정해줘. ex) a = 0, b = ''\n",
    "\n"
   ],
   "outputs": [],
   "metadata": {}
  },
  {
   "cell_type": "markdown",
   "source": [
    "---\n",
    "\n",
    "# Static\n",
    "\n",
    "+ 인스턴스와 구별\n",
    "+ 동일한 메모리 공간을 모든 객체들이 공동으로 사용할 수 있다.\n",
    "+ 정적(클래스) 변수, 정적(클래스) 메서드"
   ],
   "metadata": {}
  },
  {
   "cell_type": "code",
   "execution_count": 39,
   "source": [
    "class Person:\n",
    "    nation = \"한국\"\n",
    "    name = str()\n",
    "    age = int()\n",
    "    height = float()\n",
    "    hobbies = []\n",
    "    company = str()\n",
    "    # 가정 ) 같은 회사 다니는 사람들의 정보를 담는 경우, 낭비다. 1개의 변수면 되는데\n",
    "    # 다수의 변수 만들어져. 이럴 때 static 사용하면 1개의 변수로 사용 가능\n",
    "\n",
    "    def show(self):\n",
    "        print(\"국적 :\", self.nation)\n",
    "        print(\"이름 :\", self.name)\n",
    "        print(\"나이 :\", self.age)\n",
    "        print(\"신장 :\", self.height)\n",
    "        print(\"취미 :\", self.hobbies)\n",
    "        # 회사명을 static으로 쓰고싶다면?\n",
    "        print(\"회사 :\", Person.company)\n",
    "        # print(\"회사 :\", self.company)는 인스턴스를 사용하는 것\n",
    "        print(\"\\n--------------------------\")\n",
    "\n",
    "    @staticmethod\n",
    "    def funccompany():\n",
    "        Person.company = \"파이썬 주식회사\"\n",
    "        return \"회사명 :\" + Person.company\n",
    "    \n",
    "    # 정적 함수는 self 값이 없다.\n",
    "    # @staticmethod는 static 함수란 라벨 같은 것.\n",
    "    # 클래스에서 다양한 변수를 받지 않아도 되는 함수는 이렇게 사용한다."
   ],
   "outputs": [],
   "metadata": {}
  },
  {
   "cell_type": "code",
   "execution_count": 47,
   "source": [
    "#### 객체의 수를 카운팅 / static 활용 사례\n",
    "\n",
    "class Counter:\n",
    "    m_cnt = 0\n",
    "\n",
    "    def __init__(self):\n",
    "        Counter.m_cnt += 1\n",
    "\n",
    "    @staticmethod\n",
    "    def printCount():\n",
    "        print(\"총 객체의 수: \", Counter.m_cnt)\n",
    "\n",
    "a, b, c = Counter(), Counter(), Counter()\n",
    "Counter.printCount()"
   ],
   "outputs": [
    {
     "output_type": "stream",
     "name": "stdout",
     "text": [
      "총 객체의 수:  3\n"
     ]
    }
   ],
   "metadata": {}
  },
  {
   "cell_type": "code",
   "execution_count": 27,
   "source": [
    "print(Person.nation)\n",
    "# 여기 nation이 static. \n",
    "# Static은 클래스에서 접근한다."
   ],
   "outputs": [
    {
     "output_type": "stream",
     "name": "stdout",
     "text": [
      "한국\n"
     ]
    }
   ],
   "metadata": {}
  },
  {
   "cell_type": "code",
   "execution_count": 40,
   "source": [
    "p1 = Person()\n",
    "p2 = Person()\n",
    "\n",
    "print(p1.nation, p2.nation)\n",
    "#여기 nation은 객체만 사용할 수 있으므로 static이 아니다.\n",
    "#인스턴스\n",
    "\n",
    "#static과 인스턴스는 어떤 주소로 변수에 접근하느냐에 따라 달라진다.\n",
    "\n",
    "p1.nation = \"독일\"\n",
    "p2.nation = \"프랑스\"\n",
    "print(p1.nation, p2.nation)\n",
    "print(Person.nation)\n",
    "\n",
    "Person.company = \"파이썬 주식회사\"\n",
    "# print(p1.company, p2.company) 아무 것도 안나와\n",
    "\n",
    "p1.name = \"정재훈\"\n",
    "p1.age = 31\n",
    "p1.height = 185.2\n",
    "p1.hobbies = [\"축구\", \"사진\"]\n",
    "p1.show()\n",
    "# 회사명이 자동으로 파이썬 주식회사로 뜬다.\n",
    "# class 내 show 함수에 회사명을 person.company로 설정해뒀기 때문\n",
    "\n",
    "# 함수도 static으로 지정할 수 있다.\n",
    "# 함수를 굳이 여러개 사용할 필요 없는 함수엔 static으로 쓰는 것이 좋다.\n",
    "\n",
    "# p1.funccompany() -> error! self 값이 없어 받을 수 없기 때문.\n",
    "Person.funccompany()\n"
   ],
   "outputs": [
    {
     "output_type": "stream",
     "name": "stdout",
     "text": [
      "한국 한국\n",
      "독일 프랑스\n",
      "한국\n",
      "국적 : 독일\n",
      "이름 : 정재훈\n",
      "나이 : 31\n",
      "신장 : 185.2\n",
      "취미 : ['축구', '사진']\n",
      "회사 : 파이썬 주식회사\n",
      "\n",
      "--------------------------\n"
     ]
    },
    {
     "output_type": "execute_result",
     "data": {
      "text/plain": [
       "'회사명 :파이썬 주식회사'"
      ]
     },
     "metadata": {},
     "execution_count": 40
    }
   ],
   "metadata": {}
  },
  {
   "cell_type": "markdown",
   "source": [
    "## 원래 설계된 멤버변수 외에 객체별로 멤버변수를 추가할 수  있다.\n",
    "\n",
    "+ 클래스 실행 중에도 변수를 추가할 수  있다."
   ],
   "metadata": {}
  },
  {
   "cell_type": "code",
   "execution_count": 4,
   "source": [
    "class test:\n",
    "    a = 0\n",
    "\n",
    "    def display(self):\n",
    "        print(self.a)\n",
    "\n",
    "ob1 = test()\n",
    "ob1.display()\n",
    "\n",
    "ob2 = test()\n",
    "ob2.display()\n",
    "\n",
    "\n",
    "ob2.a = 10\n",
    "ob2.b = 100\n",
    "ob2.display()\n",
    "print(ob2.a, ob2.b)"
   ],
   "outputs": [
    {
     "output_type": "stream",
     "name": "stdout",
     "text": [
      "0\n",
      "0\n",
      "10\n",
      "10 100\n"
     ]
    }
   ],
   "metadata": {}
  },
  {
   "cell_type": "markdown",
   "source": [
    "## _와 __\n",
    "\n",
    "+ 기본 인터프리터(터미널)에서 사용할 수 있습니다. (마지막으로 실행된 결과값을 저장하고 불러오기)\n",
    "+ 값을 무시\n",
    "+ 접근 권한"
   ],
   "metadata": {}
  },
  {
   "cell_type": "code",
   "execution_count": 8,
   "source": [
    "a, b, c = (10, 20, 30) #unpacking\n",
    "# 10, 20, 30 중 2개만 가져오고 싶어. 그런데 일단 언패킹하려면 3개 변수 지정해줘야?\n",
    "# _ 쓰면 두개만 가져올 수 있어.\n",
    "_, b, c = (10, 20, 30)\n",
    "print(b, c)\n",
    "\n",
    "a, _, _, _, _, _, _, b = (10, 20, 30 ,40 ,50, 60, 70, 80)\n",
    "a, *_, b = (10, 20, 30 ,40 ,50, 60, 70, 80)\n",
    "print(a, b)"
   ],
   "outputs": [
    {
     "output_type": "stream",
     "name": "stdout",
     "text": [
      "20 30\n",
      "10 80\n"
     ]
    }
   ],
   "metadata": {}
  },
  {
   "cell_type": "code",
   "execution_count": 15,
   "source": [
    "class Test:\n",
    "    str1 = \"안녕하세요?\"\n",
    "    _str2 = \"홍길동입니다.\" # _는 가능한 쓰지 말라는 개발자의 메시지. 사용 가능하나 문제 발생할 수 있단 의미다.\n",
    "    __str3 = \"이건 건드리지마세요!\" # __는 더 강력하게 막는다.\n",
    "\n",
    "    def funcTest(self):\n",
    "        print(\"funcTest입니다.\", self.str1)\n",
    "\n",
    "ob = Test()\n",
    "print(ob.str1)\n",
    "print(ob._str2)\n",
    "# print(ob.__str3)\n",
    "#  __str3는 _Test__str3로 이름을 바꾼다. 이를 통해 str3 변수를 사용하지 못하게 해뒀다.\n",
    "# but, dir로 클래스 내 값을 찾으면 바로 사용할 수 있다. \n",
    "\n",
    "print(dir(ob))\n",
    "print(ob._Test__str3) # 에러없이 산출된다."
   ],
   "outputs": [
    {
     "output_type": "stream",
     "name": "stdout",
     "text": [
      "안녕하세요?\n",
      "홍길동입니다.\n",
      "['_Test__str3', '__class__', '__delattr__', '__dict__', '__dir__', '__doc__', '__eq__', '__format__', '__ge__', '__getattribute__', '__gt__', '__hash__', '__init__', '__init_subclass__', '__le__', '__lt__', '__module__', '__ne__', '__new__', '__reduce__', '__reduce_ex__', '__repr__', '__setattr__', '__sizeof__', '__str__', '__subclasshook__', '__weakref__', '_str2', 'str1']\n",
      "이건 건드리지마세요!\n"
     ]
    }
   ],
   "metadata": {}
  },
  {
   "cell_type": "markdown",
   "source": [
    "---\n",
    "# 상속, 오버라이드\n",
    "\n",
    "+ 부모 클래스(super class) - 자식 클래스(sub class)\n",
    "+ 일반적으로 사용은 자식 클래스에서\n",
    "+ 상속으로 인해 클래스는 기본적으로 트리구조를 지닌다.\n",
    "+ 부모는 자식들이 필요로 하는 최소한의 기능만 담아야\n",
    "\n",
    "+ 오버라이딩, 오버로드 : 상속에서 가장 중요\n",
    "    - override : 재정의. 부모 클래스 내 함수명과 같은 이름의 함수를 자식 클래스에서 다른 기능으로 사용하는 것. *가변인수, 디폴트인수\n",
    "    - overroad : 중복정의\n"
   ],
   "metadata": {}
  },
  {
   "cell_type": "code",
   "execution_count": 22,
   "source": [
    "class Animal:\n",
    "    def move(self, a):\n",
    "        print(\"{0}, 움직입니다.\".format(a))\n",
    "\n",
    "class Dog(Animal):\n",
    "    def bark(self, a):\n",
    "        print(\"{0} : 멍멍\".format(a))\n",
    "\n",
    "class Horse(Animal):\n",
    "    def speed(self, s):\n",
    "        print(\"현재 속도는 \", s)\n"
   ],
   "outputs": [],
   "metadata": {}
  },
  {
   "cell_type": "code",
   "execution_count": 24,
   "source": [
    "d1 = Dog()\n",
    "d1.bark(\"로또\")\n",
    "d1.move(\"로또\")"
   ],
   "outputs": [
    {
     "output_type": "stream",
     "name": "stdout",
     "text": [
      "로또 : 멍멍\n",
      "로또, 움직입니다.\n"
     ]
    }
   ],
   "metadata": {}
  },
  {
   "cell_type": "code",
   "execution_count": 29,
   "source": [
    "# 예제) 교제 201\n",
    "\n",
    "class Calculator:\n",
    "    first = 0\n",
    "    second = 0\n",
    "    \n",
    "    def __init__(self, first=None, second=None):\n",
    "        self.first = first\n",
    "        self.second = second\n",
    "    def setdata(self, first=None, second=None):\n",
    "        self.first = first\n",
    "        self.second = second\n",
    "\n",
    "    def add(self):\n",
    "        result = self.first + self.second\n",
    "        return result\n",
    "    \n",
    "    def mul(self):\n",
    "        result = self.first * self.second\n",
    "        return result\n",
    "    \n",
    "    def sub(self):\n",
    "        result = self.first - self.second\n",
    "        return result\n",
    "    \n",
    "    def div(self):\n",
    "        result = self.first / self.second\n",
    "        return result\n",
    "\n",
    "class Calculator_upgrade(Calculator):\n",
    "    def pow(self):\n",
    "        return self.first ** self.second\n"
   ],
   "outputs": [],
   "metadata": {}
  },
  {
   "cell_type": "code",
   "execution_count": 30,
   "source": [
    "cal1 = Calculator()\n",
    "cal1.setdata(10, 20)\n",
    "print(cal1.add())\n",
    "\n",
    "cal2 = Calculator(20, 30)\n",
    "print(cal2.mul())\n",
    "\n",
    "cal3 = Calculator_upgrade(2, 10)\n",
    "print(cal3.pow())\n",
    "print(cal3.mul())\n",
    "print(cal3.add())"
   ],
   "outputs": [
    {
     "output_type": "stream",
     "name": "stdout",
     "text": [
      "30\n",
      "600\n",
      "1024\n",
      "20\n",
      "12\n"
     ]
    }
   ],
   "metadata": {}
  },
  {
   "cell_type": "code",
   "execution_count": 31,
   "source": [
    "#오버라이딩\n",
    "class Phone:\n",
    "    def call(self, number):\n",
    "        print(\"{0}에 전화 걸기\".format(number))\n",
    "    \n",
    "class FolderPhone(Phone):\n",
    "    pass\n",
    "\n",
    "class CameraPhone(Phone):\n",
    "    def call(self, number):\n",
    "        print(\"{0}에 영상 전화 걸기\".format(number))\n",
    "    def photo(self):\n",
    "        print(\"사진촬영\")\n",
    "\n",
    "class SmartPhone(CameraPhone):\n",
    "    def call(self, number):\n",
    "        print(\"{0}에 영상 전화 걸면서 인터넷 하기\".format(number))\n",
    "    def Kakaotalk(self):\n",
    "        print(\"카카오톡 접속\")"
   ],
   "outputs": [],
   "metadata": {}
  },
  {
   "cell_type": "code",
   "execution_count": 33,
   "source": [
    "apple1 = SmartPhone()\n",
    "apple1.call(\"010-4810-8756\")\n",
    "apple1.photo()\n",
    "apple1.Kakaotalk()"
   ],
   "outputs": [
    {
     "output_type": "stream",
     "name": "stdout",
     "text": [
      "010-4810-8756에 영상 전화 걸면서 인터넷 하기\n",
      "사진촬영\n",
      "카카오톡 접속\n"
     ]
    }
   ],
   "metadata": {}
  },
  {
   "cell_type": "code",
   "execution_count": 45,
   "source": [
    "class Person:\n",
    "    say = \"난 사람이다.\"\n",
    "    age = 20\n",
    "\n",
    "    def info(self):\n",
    "        print(\"나이 : {0}, 하고 싶은 말 : {1}\".format(self.age, self.say))\n",
    "    \n",
    "    def __init__(self):\n",
    "        print(\"Person 클래스\")\n",
    "\n",
    "class Employee(Person):\n",
    "    company = \"삼성전자\"\n",
    "    say = \"난 글로벌마케팅 1팀 호주 담당 사원이다.\"\n",
    "\n",
    "    def __init__(self):\n",
    "        print(\"Employee 클래스\")\n",
    "    \n",
    "    def info(self):\n",
    "        print(\"나이 : {0}, 소속 : {1}, 하고 싶은 말 : {2}\".format(self.age, self.company, self.say))\n",
    "        # 만약 부모 클래스의 say('난 사람이다.')를 부르고 싶다면? super().say\n",
    "        print(super().say)\n",
    "\n",
    "        # 부모 클래스의 함수도 가져올 수 있습니다. info를 가져와봅시다.\n",
    "        super().info()"
   ],
   "outputs": [],
   "metadata": {}
  },
  {
   "cell_type": "code",
   "execution_count": 46,
   "source": [
    "p1 = Employee()\n",
    "p1.info()"
   ],
   "outputs": [
    {
     "output_type": "stream",
     "name": "stdout",
     "text": [
      "Employee 클래스\n",
      "나이 : 20, 소속 : 삼성전자, 하고 싶은 말 : 난 글로벌마케팅 1팀 호주 담당 사원이다.\n",
      "난 사람이다.\n",
      "나이 : 20, 하고 싶은 말 : 난 글로벌마케팅 1팀 호주 담당 사원이다.\n"
     ]
    }
   ],
   "metadata": {}
  },
  {
   "cell_type": "markdown",
   "source": [
    "## 다중상속"
   ],
   "metadata": {}
  },
  {
   "cell_type": "code",
   "execution_count": 47,
   "source": [
    "class Phone:\n",
    "    def call(self):\n",
    "        print(\"전화걸기\")\n",
    "\n",
    "class Camera:\n",
    "    def picture(self):\n",
    "        print(\"사진찍기\")\n",
    "\n",
    "class Game:\n",
    "    def rendering(self):\n",
    "        print(\"화면 그리기\")\n",
    "\n",
    "# 내가 원하는 기능만 골라서 하나의 완성체를 만들고 싶다면?\n",
    "class SmartPhone(Phone, Camera):\n",
    "    pass\n",
    "\n",
    "sp = SmartPhone()\n",
    "sp.call()\n",
    "sp.picture()"
   ],
   "outputs": [
    {
     "output_type": "stream",
     "name": "stdout",
     "text": [
      "전화걸기\n",
      "사진찍기\n"
     ]
    }
   ],
   "metadata": {}
  },
  {
   "cell_type": "markdown",
   "source": [
    "---\n",
    "\n",
    "# Object\n",
    "+ 파이썬 클래스 중에 가장 상위 클래스"
   ],
   "metadata": {}
  },
  {
   "cell_type": "code",
   "execution_count": 48,
   "source": [
    "print(dir(object))"
   ],
   "outputs": [
    {
     "output_type": "stream",
     "name": "stdout",
     "text": [
      "['__class__', '__delattr__', '__dir__', '__doc__', '__eq__', '__format__', '__ge__', '__getattribute__', '__gt__', '__hash__', '__init__', '__init_subclass__', '__le__', '__lt__', '__ne__', '__new__', '__reduce__', '__reduce_ex__', '__repr__', '__setattr__', '__sizeof__', '__str__', '__subclasshook__']\n"
     ]
    }
   ],
   "metadata": {}
  },
  {
   "cell_type": "code",
   "execution_count": 49,
   "source": [
    "class Test:\n",
    "    a = 10\n",
    "\n",
    "print(dir(Test))\n",
    "\n",
    "# Test란 함수 만들었는데 왜?\n",
    "# 기본적으로 상속받는 기능들이 있어서\n",
    "# 시간있을 때 이 기능들이 무엇을 의미하는지 찾아보고 공부해보세요.\n",
    "# 클래스를 가져다쓸 땐, 클래스의 부모부터 공부하고 클래스를 공부해야합니다."
   ],
   "outputs": [
    {
     "output_type": "stream",
     "name": "stdout",
     "text": [
      "['__class__', '__delattr__', '__dict__', '__dir__', '__doc__', '__eq__', '__format__', '__ge__', '__getattribute__', '__gt__', '__hash__', '__init__', '__init_subclass__', '__le__', '__lt__', '__module__', '__ne__', '__new__', '__reduce__', '__reduce_ex__', '__repr__', '__setattr__', '__sizeof__', '__str__', '__subclasshook__', '__weakref__', 'a']\n"
     ]
    }
   ],
   "metadata": {}
  },
  {
   "cell_type": "markdown",
   "source": [
    "---\n",
    "# Self-Study"
   ],
   "metadata": {}
  },
  {
   "cell_type": "code",
   "execution_count": 3,
   "source": [
    "# Format. __init__ 없어서 변수를 일일히 지정해줘야 하는 경우\n",
    "class Cal:\n",
    "    def setdata(self, first, second):\n",
    "        self.first = first\n",
    "        self.second = second\n",
    "    \n",
    "    def add(self):\n",
    "        result = self.first + self.second\n",
    "        return result\n",
    "    \n",
    "    def mul(self):\n",
    "        result = self.first * self.second\n",
    "        return result\n",
    "    \n",
    "    def sub(self):\n",
    "        result = self.first - self.second\n",
    "        return result\n",
    "    \n",
    "    def div(self):\n",
    "        result = self.first / self.second\n",
    "        return result\n",
    "\n",
    "# How to Use\n",
    "a = Cal()\n",
    "b = Cal()\n",
    "a.setdata(4,2)\n",
    "b.setdata(15, 3)\n",
    "\n",
    "\n",
    "print(a.first)\n",
    "print(a.second)\n",
    "print(a.add())\n",
    "print(a.mul())\n",
    "print(a.div())\n",
    "print(a.sub())\n",
    "print('='*50)\n",
    "print(b.first)\n",
    "print(b.second)\n",
    "print(b.add())\n",
    "print(b.mul())\n",
    "print(b.div())\n",
    "print(b.sub())"
   ],
   "outputs": [
    {
     "output_type": "stream",
     "name": "stdout",
     "text": [
      "4\n",
      "2\n",
      "6\n",
      "8\n",
      "2.0\n",
      "2\n",
      "==================================================\n",
      "15\n",
      "3\n",
      "18\n",
      "45\n",
      "5.0\n",
      "12\n"
     ]
    }
   ],
   "metadata": {}
  },
  {
   "cell_type": "code",
   "execution_count": 25,
   "source": [
    "#Basic Format\n",
    "\n",
    "class Calculator:\n",
    "    def __init__(self, first, second): #__init이 있는 경우\n",
    "        self.first = first\n",
    "        self.second = second\n",
    "    \n",
    "    def setdata(self, first, second):\n",
    "        self.first = first\n",
    "        self.second = second\n",
    "    \n",
    "    def add(self):\n",
    "        result = self.first + self.second\n",
    "        return result\n",
    "    \n",
    "    def mul(self):\n",
    "        result = self.first * self.second\n",
    "        return result\n",
    "    \n",
    "    def sub(self):\n",
    "        result = self.first - self.second\n",
    "        return result\n",
    "    \n",
    "    def div(self):\n",
    "        result = self.first / self.second\n",
    "        return result\n",
    "\n",
    "\n",
    "# How to 'Use'\n",
    "# * if there is __init__\n",
    "\n",
    "a = Calculator(4, 2) #__init__이 있으므로 필드를 먼저 지정해준다. 그러면 반복적으로 사용할 때 편하다.\n",
    "print(a.first)\n",
    "print(a.second)\n",
    "print(a.add())\n",
    "print(a.mul())\n",
    "print(a.div())\n",
    "print(a.sub())\n",
    "#다른 값 연산이 필요하면? 클래스 또 불러와\n",
    "print('='*75)\n",
    "b = Calculator(15, 3)\n",
    "print(b.first)\n",
    "print(b.second)\n",
    "print(b.add())\n",
    "print(b.mul())\n",
    "print(b.div())\n",
    "print(b.sub())"
   ],
   "outputs": [
    {
     "output_type": "stream",
     "name": "stdout",
     "text": [
      "4\n",
      "2\n",
      "6\n",
      "8\n",
      "2.0\n",
      "2\n",
      "===========================================================================\n",
      "15\n",
      "3\n",
      "18\n",
      "45\n",
      "5.0\n",
      "12\n"
     ]
    }
   ],
   "metadata": {}
  },
  {
   "cell_type": "code",
   "execution_count": 5,
   "source": [
    "#### 클래스 상속\n",
    "# 기존 클래스를 변경하지 않고 기능을 추가하거나 기존 기능을 변경하려고 할 때 사용한다.\n",
    "# 기존 클래스가 라이브러리 형태로 제공되거나 수정이 허용되지 않는 상황이라면 상속을 사용한다.\n",
    "\n",
    "#class 클래스 이름(상속할 클래스 이름)\n",
    "class Calculator_upgrade(Calculator):\n",
    "    def pow(self):\n",
    "        result = self.first ** self.second\n",
    "        return result\n",
    "\n",
    "a = Calculator_upgrade(10, 2)\n",
    "\n",
    "print(a.first)\n",
    "print(a.second)\n",
    "print(a.add())\n",
    "print(a.mul())\n",
    "print(a.div())\n",
    "print(a.sub())\n",
    "# calculator_upgrade엔 add, mul, div, sub가 없는데 이 기능들을 사용할 수 있다. calculator에서 상속받았기 때문.\n",
    "# 거기다 calculator_upgrade에 추가한 pow도 사용할 수 있다.\n",
    "print(a.pow())"
   ],
   "outputs": [
    {
     "output_type": "stream",
     "name": "stdout",
     "text": [
      "10\n",
      "2\n",
      "12\n",
      "20\n",
      "5.0\n",
      "8\n",
      "100\n"
     ]
    }
   ],
   "metadata": {}
  }
 ],
 "metadata": {
  "orig_nbformat": 4,
  "language_info": {
   "name": "python",
   "version": "3.8.8",
   "mimetype": "text/x-python",
   "codemirror_mode": {
    "name": "ipython",
    "version": 3
   },
   "pygments_lexer": "ipython3",
   "nbconvert_exporter": "python",
   "file_extension": ".py"
  },
  "kernelspec": {
   "name": "python3",
   "display_name": "Python 3.8.8 64-bit ('base': conda)"
  },
  "interpreter": {
   "hash": "0db78d4def97aafdbe33b8b976cb7e782ebbc82d4fe41d855eac38305eb77fc8"
  }
 },
 "nbformat": 4,
 "nbformat_minor": 2
}