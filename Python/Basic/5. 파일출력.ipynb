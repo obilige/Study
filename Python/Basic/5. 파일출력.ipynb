{
 "cells": [
  {
   "cell_type": "markdown",
   "source": [
    "---\n",
    "\n",
    "## 파일출력\n",
    "+ IO 관점\n",
    "+ Data Persistence\n",
    "+ 사용 함수\n",
    "    - open(파일명(경로 포함), 모드)\n",
    "        * 모드 : r, w, a, rb, wb, ab\n",
    "    - close()\n",
    "    - readline(), readlines(), read() : 읽기\n",
    "    - write() : 저장"
   ],
   "metadata": {}
  },
  {
   "cell_type": "code",
   "execution_count": 2,
   "source": [
    "file = open(\"mymodule.py\", \"r\")\n",
    "print(file)\n",
    "\n",
    "#readline은 한줄씩 읽는다.\n",
    "# print(type(file.readline()))\n",
    "# print(file.readline())\n",
    "# print(file.readline())\n",
    "# print(file.readline())\n",
    "# print(file.readline())\n",
    "\n",
    "# 언제 다 치고 있나. 반복문으로 만들어 읽자.\n",
    "while True:#몇번 반복해야할지 모른다.\n",
    "    line = file.readline()\n",
    "\n",
    "    if not line:#끝날 지점을 미리 지정. None 값이 없으면 참, 거짓으로 지정해주는게 가장 정확. if line : 값이 있으면.... if not line : 값이 없으면...\n",
    "        break\n",
    "                #if 조건문은 True, False Base다. bull은 값이 있으면 참, 없으면 거짓으로 나온다. 따라서 if not line은 line에 if를 먹여 거짓이 나오면이란 뜻이 된다.\n",
    "    print(line)\n",
    "\n",
    "file.close()"
   ],
   "outputs": [
    {
     "output_type": "stream",
     "name": "stdout",
     "text": [
      "<_io.TextIOWrapper name='mymodule.py' mode='r' encoding='UTF-8'>\n",
      "<class 'str'>\n",
      "    add = num1 + num2\n",
      "\n",
      "    return add\n",
      "\n",
      "\n",
      "\n",
      "def info(weight, height, **other):\n",
      "\n",
      "    print(\"몸무게 :\", weight)\n",
      "\n",
      "    print(\"키 :\", height)\n",
      "\n",
      "    print(\"기타 :\", other)\n",
      "\n",
      "    return\n",
      "\n",
      "\n",
      "\n",
      "company = \"파이썬 주식회사\"\n"
     ]
    }
   ],
   "metadata": {}
  },
  {
   "cell_type": "code",
   "execution_count": 9,
   "source": [
    "file1 = open(\"./data/filetest1.txt\", \"r\", encoding='utf-8')\n",
    "# = ('data/filetest1.txt', \"r\", encoding='utf-8') # .은 현재위치를 의미한다.\n",
    "\n",
    "while True:\n",
    "    line = file1.readline()\n",
    "\n",
    "    if not line:\n",
    "        break\n",
    "\n",
    "    print(line)\n",
    "\n",
    "file1.close()"
   ],
   "outputs": [
    {
     "output_type": "stream",
     "name": "stdout",
     "text": [
      "abcdefghijklmnopqrstuvwxyz\n",
      "\n",
      "1234\n",
      "\n",
      "5678\n",
      "\n",
      "가나다라\n",
      "\n",
      "마바사아\n",
      "\n",
      "자차카파\n",
      "\n",
      "타하\n"
     ]
    }
   ],
   "metadata": {}
  },
  {
   "cell_type": "code",
   "execution_count": 10,
   "source": [
    "#readlines는 전체 데이터를 리스트로 담아 준다. \n",
    "file2 = open(\"./data/filetest1.txt\", \"r\", encoding='utf-8')\n",
    "\n",
    "lines = file2.readlines()\n",
    "print(lines)\n",
    "\n",
    "file2.close()"
   ],
   "outputs": [
    {
     "output_type": "stream",
     "name": "stdout",
     "text": [
      "['abcdefghijklmnopqrstuvwxyz\\n', '1234\\n', '5678\\n', '가나다라\\n', '마바사아\\n', '자차카파\\n', '타하']\n"
     ]
    }
   ],
   "metadata": {}
  },
  {
   "cell_type": "code",
   "execution_count": 17,
   "source": [
    "#read는 전체 데이터를 산출해준다.\n",
    "file = open(\"./data/filetest1.txt\", \"r\", encoding='utf-8')\n",
    "\n",
    "lines = file.read()\n",
    "print(lines)\n",
    "\n",
    "print(type(lines))\n",
    "\n",
    "file.close()"
   ],
   "outputs": [
    {
     "output_type": "stream",
     "name": "stdout",
     "text": [
      "abcdefghijklmnopqrstuvwxyz\n",
      "1234\n",
      "5678\n",
      "가나다라\n",
      "마바사아\n",
      "자차카파\n",
      "타하\n",
      "<class 'str'>\n"
     ]
    }
   ],
   "metadata": {}
  },
  {
   "cell_type": "code",
   "execution_count": 14,
   "source": [
    "file2 = open(\"./data/filetest1.txt\", \"r\", encoding='utf-8')\n",
    "\n",
    "lines = file2.readlines()\n",
    "\n",
    "for i, v in enumerate(lines, start=1):\n",
    "    print(i, \":\", v, end=\"\")\n",
    "\n",
    "file2.close()"
   ],
   "outputs": [
    {
     "output_type": "stream",
     "name": "stdout",
     "text": [
      "1 : abcdefghijklmnopqrstuvwxyz\n",
      "2 : 1234\n",
      "3 : 5678\n",
      "4 : 가나다라\n",
      "5 : 마바사아\n",
      "6 : 자차카파\n",
      "7 : 타하"
     ]
    }
   ],
   "metadata": {}
  },
  {
   "cell_type": "code",
   "execution_count": 16,
   "source": [
    "# 다른 방법\n",
    "file2 = open(\"./data/filetest1.txt\", \"r\", encoding='utf-8')\n",
    "\n",
    "lines = file2.read()\n",
    "sdata = lines.split(\"\\n\")\n",
    "cnt = 1\n",
    "\n",
    "for line in sdata:\n",
    "    print(cnt, \":\", line)\n",
    "    cnt += 1\n",
    "\n",
    "file2.close()"
   ],
   "outputs": [
    {
     "output_type": "stream",
     "name": "stdout",
     "text": [
      "1 : abcdefghijklmnopqrstuvwxyz\n",
      "2 : 1234\n",
      "3 : 5678\n",
      "4 : 가나다라\n",
      "5 : 마바사아\n",
      "6 : 자차카파\n",
      "7 : 타하\n"
     ]
    }
   ],
   "metadata": {}
  },
  {
   "cell_type": "code",
   "execution_count": 25,
   "source": [
    "f = open(\"data/filetest2.txt\", 'w')\n",
    "#data 폴더에 filetest2.txt란 파일이 자동 생성될 것\u001d\n",
    "#w는 파일에 어떤 데이터를 저장할 수 있다. 단순 읽기 X, 수정 및 저장 가능\n",
    "#저장할 땐 덮어쓰기 형식이다. 따라서, '추가'할 땐 이 방식을 쓰면 안된다.\n",
    "#추가할 땐 모드 'a'\n",
    "\n",
    "f.write(\"Name : Jeong Jae-Hoon\")\n",
    "f.write(\"Call : +82)10-4810-8756\")\n",
    "f.write(\"Nation : South Korea\\n\")\n",
    "\n",
    "f.write(\"Name : Hwang Sang-Yeon\")\n",
    "f.write(\"Call : +82)10-2346-9112\")\n",
    "f.write(\"Nation : South Korea\\n\")\n",
    "\n",
    "f.close()"
   ],
   "outputs": [],
   "metadata": {}
  },
  {
   "cell_type": "code",
   "execution_count": 26,
   "source": [
    "f = open(\"data/filetest2.txt\", 'a')\n",
    "\n",
    "f.write(\"Name : Lee Da-Sol\")\n",
    "f.write(\"Call : +82)10-2361-6980\")\n",
    "f.write(\"Nation : South Korea\\n\")\n",
    "\n",
    "f.close()"
   ],
   "outputs": [],
   "metadata": {}
  },
  {
   "cell_type": "code",
   "execution_count": 28,
   "source": [
    "nums = [11, 12, 13, 14, 15, 16, 17, 18]\n",
    "\n",
    "f = open('./data/filetest3.txt', 'w')\n",
    "\n",
    "# f.write(nums)\n",
    "# 에러난다. write는 반드시 문자형으로만 저장이 가능하다.\n",
    "f.write(str(nums))\n",
    "\n",
    "f.close()\n"
   ],
   "outputs": [],
   "metadata": {}
  },
  {
   "cell_type": "code",
   "execution_count": 30,
   "source": [
    "# 위 방식은 [11, 12, 13, 14, 15, 16, 17, 18] 이 그대로 문자형태로 저장\n",
    "# []은 나중에 불러와서 분석할 때 불편할 수 있다. 다시 제거하는 거 귀찮아. 그럴땐 어떻게 해야하나?\n",
    "# 답은 csv로 저장해야한다.\n",
    "\n",
    "\n",
    "nums = [11, 12, 13, 14, 15, 16, 17, 18]\n",
    "\n",
    "f = open('./data/filetest3.txt', 'w')\n",
    "\n",
    "for i in range(len(nums)):\n",
    "    f.write(str(nums[i]) + ',')\n",
    "\n",
    "f.close()\n",
    "\n",
    "\"===================================================================\"\n",
    "\n",
    "# 마지막 ,도 같이 저장. 이거 어떻게 지워?\n",
    "\n",
    "f = open('./data/filetest4.txt', 'w')\n",
    "\n",
    "cnt = len(nums)\n",
    "for i in range(len(nums)):\n",
    "    if i < cnt - 1:\n",
    "        f.write(str(nums[i]) + ',')\n",
    "    else:\n",
    "        f.write(str(nums[i]))\n",
    "\n",
    "f.close()"
   ],
   "outputs": [
    {
     "output_type": "stream",
     "name": "stdout",
     "text": [
      "==================================================\n"
     ]
    }
   ],
   "metadata": {}
  },
  {
   "cell_type": "code",
   "execution_count": 31,
   "source": [
    "# 파일 저장을 함수로 만들 수도 있습니다.\n",
    "f = open('./data/filetest4.txt', 'w')\n",
    "\n",
    "nums = [11, 12, 13, 14, 15, 16, 17, 18]\n",
    "f.write(\",\".join([str(i) for i in nums]))\n",
    "# join은 구분점을 지정받고 리스트 내 값들을 다 뽑아온다. 그리고 이를 문자열로 만들어준다.\n",
    "\n",
    "f.close()"
   ],
   "outputs": [],
   "metadata": {}
  },
  {
   "cell_type": "code",
   "execution_count": 35,
   "source": [
    "#### 동시에 여러 개의 파일을 읽어오는 방법\n",
    "\n",
    "# 파이썬 내부에선 사용할 수 없다. 모듈을 불러와야 한다. glob\n",
    "\n",
    "import glob\n",
    "\n",
    "all = glob.glob(\"*\") #현재 위치에서 모든걸 다 가져오겠다.\n",
    "print(all)\n",
    "print(type(all))\n",
    "\n",
    "only_file = glob.glob(\"*.*\") #*.* 은 확장명을 가진 모든 파일만 가져오란 명령으로 폴더는 자연스레 빠진다.\n",
    "print(only_file)"
   ],
   "outputs": [
    {
     "output_type": "stream",
     "name": "stdout",
     "text": [
      "['3. 제어문.ipynb', '2-변수와자료형.ipynb', '1-markdown.ipynb', 'images', '__pycache__', '4. 함수.ipynb', 'mymodule.py', '5. 파일출력.ipynb', 'data']\n",
      "<class 'list'>\n",
      "['3. 제어문.ipynb', '2-변수와자료형.ipynb', '1-markdown.ipynb', '4. 함수.ipynb', 'mymodule.py', '5. 파일출력.ipynb']\n"
     ]
    }
   ],
   "metadata": {}
  },
  {
   "cell_type": "code",
   "execution_count": null,
   "source": [],
   "outputs": [],
   "metadata": {}
  }
 ],
 "metadata": {
  "orig_nbformat": 4,
  "language_info": {
   "name": "python",
   "version": "3.8.8",
   "mimetype": "text/x-python",
   "codemirror_mode": {
    "name": "ipython",
    "version": 3
   },
   "pygments_lexer": "ipython3",
   "nbconvert_exporter": "python",
   "file_extension": ".py"
  },
  "kernelspec": {
   "name": "python3",
   "display_name": "Python 3.8.8 64-bit ('base': conda)"
  },
  "interpreter": {
   "hash": "0db78d4def97aafdbe33b8b976cb7e782ebbc82d4fe41d855eac38305eb77fc8"
  }
 },
 "nbformat": 4,
 "nbformat_minor": 2
}