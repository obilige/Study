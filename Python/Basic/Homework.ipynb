{
 "cells": [
  {
   "cell_type": "code",
   "execution_count": null,
   "source": [
    "#문제 1.\n",
    "def cal(num1, op, num2):\n",
    "    if op == '+':\n",
    "        print('결과:', num1, \"+\", num2, \"=\", num1+num2)\n",
    "        result = num1+num2\n",
    "        return result\n",
    "    if op == '-':\n",
    "        print('결과:', num1, \"-\", num2, \"=\", num1-num2)\n",
    "        result = num1 - num2\n",
    "        return result\n",
    "    if op == '*':\n",
    "        print(\"결과:\", num1, \"*\", num2, \"=\", num1*num2)\n",
    "        result = num1 * num2\n",
    "        return result\n",
    "    if op == '/':\n",
    "        print('결과:', num1, \"/\", num2, \"=\", num1/num2)\n",
    "        result = num1 / num2\n",
    "        return result\n",
    "\n",
    "cal(5, '*', 10)"
   ],
   "outputs": [],
   "metadata": {}
  },
  {
   "cell_type": "code",
   "execution_count": 2,
   "source": [
    "def Gugu(n):\n",
    "   result = [n * i for i in range(1, 10)]\n",
    "   return result\n",
    "\n",
    "Gugu(2)"
   ],
   "outputs": [
    {
     "output_type": "execute_result",
     "data": {
      "text/plain": [
       "[2, 4, 6, 8, 10, 12, 14, 16, 18]"
      ]
     },
     "metadata": {},
     "execution_count": 2
    }
   ],
   "metadata": {}
  },
  {
   "cell_type": "code",
   "execution_count": null,
   "source": [
    "#문제 3.\n",
    "def oddeven(n1, n2, n3, n4, n5):\n",
    "    list_ = [n1, n2, n3, n4, n5]\n",
    "    odd = [i for i in list_ if i % 2 == 1]\n",
    "    even = [i for i in list_ if i % 2 == 0]\n",
    "\n",
    "    print(\"짝수의 합 :\", sum(even))\n",
    "    print(\"홀수의 합:\", sum(odd))\n",
    "    return [sum(odd), sum(even)]\n",
    "\n",
    "oddeven(1,2,3,4,5)\n",
    "            "
   ],
   "outputs": [],
   "metadata": {}
  },
  {
   "cell_type": "code",
   "execution_count": null,
   "source": [
    "def game(choice):\n",
    "    if choice == \"바위\":\n",
    "        choice = 1\n",
    "    elif choice == \"가위\":\n",
    "        choice = 2\n",
    "    elif choice == \"바위\":\n",
    "        choice = 3\n",
    "    import random\n",
    "    computer = random.randint(1, 3)\n",
    "\n",
    "    if choice == computer:\n",
    "        draw = \"Draw\"\n",
    "        return draw\n",
    "    elif (choice, computer) == (1, 2) or (2, 3) or (3, 1):\n",
    "        win = \"You Win :(\"\n",
    "        return win\n",
    "    else:\n",
    "        lose = \"I am Win! :)\"\n",
    "        return(lose)\n",
    "\n",
    "print(game(\"바위\"))"
   ],
   "outputs": [],
   "metadata": {}
  },
  {
   "cell_type": "code",
   "execution_count": null,
   "source": [
    "number = input(\"정수 입력 : \")\n",
    "for i in range(1, int(number)):\n",
    "    i *= i\n",
    "print(i)"
   ],
   "outputs": [],
   "metadata": {}
  },
  {
   "cell_type": "code",
   "execution_count": 2,
   "source": [
    "coffee = 3\n",
    "while True:\n",
    "    money = int(input(\"지불할 금액 : \"))\n",
    "    if money > 3000:\n",
    "        print(\"\"\"\n",
    "        거스름 돈은 {0}원입니다.\n",
    "        커피 맛있게 드세요.\n",
    "        남은 커피 {1}잔입니다.\n",
    "        \"\"\".format(money-3000, coffee-1))\n",
    "        coffee -= 1\n",
    "    elif money == 3000:\n",
    "        print(\"\"\"\n",
    "        커피 맛있게 드세요.\n",
    "        남은 커피 {0}잔입니다.\n",
    "        \"\"\".format(coffee-1))\n",
    "        coffee -= 1\n",
    "    elif money < 3000:\n",
    "        print(\"\"\"\n",
    "        금액이 부족합니다.\n",
    "        남은 커피 {0}잔입니다.\n",
    "        \"\"\".format(coffee))\n",
    "    if coffee == 0:\n",
    "        print(\"커피가 없어요~~ 장사 끝!!!\")\n",
    "        break\n",
    "\n",
    "\n",
    "# print (\"여기는 커피 전문점입니다.\")\n",
    "# print (\"커피는 아메리카노만 팔아요.\")\n",
    "# print (\"가격은 3000원 입니다.\")\n",
    "# print (\"오늘 커피 남은 양은 3잔입니다\")\n",
    "# print (\"1회 주문시 1잔 씩만 판매합니다\")\n",
    "# print (\"==\" * 10)\n",
    "\n",
    "# # 여기서부터 코딩\n",
    "# 지불할 금액:1000 (엔터)\n",
    "# 금액이 부족합니다\n",
    "# 남은 커피의 양은 3잔입니다.\n",
    "# 지불할 금액:5000 (엔터)\n",
    "# 거스름 돈은2000원\n",
    "# 커피 맛있게 드세요.\n",
    "# 남은 커피의 양은 2잔입니다.\n",
    "# 지불할 금액:3000 (엔터)\n",
    "# 커피 맛있게 드세요.\n",
    "# 남은 커피의 양은 1잔입니다.\n",
    "# 지불할 금액:3000 (엔터)\n",
    "# 커피 맛있게 드세요.\n",
    "# 남은 커피의 양은 0잔입니다."
   ],
   "outputs": [
    {
     "output_type": "stream",
     "name": "stdout",
     "text": [
      "\n",
      "        금액이 부족합니다.\n",
      "        남은 커피 3잔입니다.\n",
      "        \n",
      "\n",
      "        거스름 돈은 2000원입니다.\n",
      "        커피 맛있게 드세요.\n",
      "        남은 커피 2잔입니다.\n",
      "        \n",
      "\n",
      "        커피 맛있게 드세요.\n",
      "        남은 커피 1잔입니다.\n",
      "        \n",
      "\n",
      "        커피 맛있게 드세요.\n",
      "        남은 커피 0잔입니다.\n",
      "        \n",
      "커피가 없어요~~ 장사 끝!!!\n"
     ]
    }
   ],
   "metadata": {}
  },
  {
   "cell_type": "code",
   "execution_count": null,
   "source": [
    "choice = input(\"(가위, 바위, 보) 중에서 하나를 선택 : \")\n",
    "if choice == \"바위\":\n",
    "    choice = 1\n",
    "elif choice == \"가위\":\n",
    "    choice = 2\n",
    "elif choice == \"바위\":\n",
    "    choice = 3\n",
    "\n",
    "import random\n",
    "computer = random.randint(1, 3)\n",
    "\n",
    "if choice == computer:\n",
    "    print(\"Draw\")\n",
    "elif (choice, computer) == (1, 2) or (2, 3) or (3, 1):\n",
    "    win = \"You Win :(\"\n",
    "else:\n",
    "    lose = \"I am Win! :)\"\n",
    "\n",
    "print(game(\"바위\"))"
   ],
   "outputs": [],
   "metadata": {}
  },
  {
   "cell_type": "code",
   "execution_count": 5,
   "source": [
    "number = int(input(\"정수 입력 : \"))\n",
    "one = 1\n",
    "for i in range(1, number+1):\n",
    "    one *= i\n",
    "\n",
    "print(\"{0}의 팩터리얼은 {1}이다.\".format(number, one))"
   ],
   "outputs": [
    {
     "output_type": "stream",
     "name": "stdout",
     "text": [
      "3의 팩터리얼은 6이다.\n"
     ]
    }
   ],
   "metadata": {}
  },
  {
   "cell_type": "code",
   "execution_count": null,
   "source": [
    "# \"\"\"\n",
    "# e1 = Employee(1111, \"홍길동\", 1000000, [\"여행\", \"낚시\", \"운동\"])\n",
    "# e1.display()\n",
    "\n",
    "# 결과 :\n",
    "#     사번 : 1111\n",
    "#     이름 : 홍길동\n",
    "#     급여 : 1000000\n",
    "#     취미 : 여행, 낚시, 운동\n",
    "    \n",
    "# e2 = Employee(1112, \"임꺽정\", 1200000, [\"자전거\", \"볼링\"])\n",
    "# e3 = Employee(1113, \"신돌석\", 1400000, [\"독서\"])\n",
    "\n",
    "# total = Employee.getCount()\n",
    "# print(\"인원수 : \", total)\n",
    "\n",
    "# # 데이터 수정\n",
    "# e3.setSalary(2000000)\n",
    "# e3.appendHobby(\"피아노\", \"드론\")\n",
    "# e3.display()\n",
    "\n",
    "# 결과 :\n",
    "#     사번 : 1113\n",
    "#     이름 : 신돌석\n",
    "#     급여 : 2000000\n",
    "#     취미 : 독서, 피아노, 드론\n",
    "# \"\"\"\n",
    "\n",
    "\n",
    "class Employee:\n",
    "    number = int()\n",
    "    name = str()\n",
    "    salary = float()\n",
    "    hobby = []\n",
    "    count = 0\n",
    "    \n",
    "    def __init__(self, number, name, salary, hobby):\n",
    "        self.number = number\n",
    "        self.name = name\n",
    "        self.salary = salary\n",
    "        self.hobby = hobby\n",
    "        Employee.count += 1\n",
    "\n",
    "    def setValue(self, number, name, salary, hobby):\n",
    "        self.number = number\n",
    "        self.name = name\n",
    "        self.salary = salary\n",
    "        self.hobby = hobby\n",
    "\n",
    "    def display(self):\n",
    "        print(\"사번 :\", self.number)\n",
    "        print(\"이름 :\", self.name)\n",
    "        print(\"급여 :\", self.salary)\n",
    "        print(\"취미 :\", self.hobby)\n",
    "\n",
    "    @staticmethod\n",
    "    def getCount():\n",
    "        print(\"인원수 : \", Employee.count)\n",
    "    \n",
    "    def setSalary(self, salary):\n",
    "        self.salary = salary\n",
    "        return self.salary\n",
    "    \n",
    "    def appendHobby(self, *hobby):\n",
    "        result = self.hobby.extend(hobby)\n",
    "        return result"
   ],
   "outputs": [],
   "metadata": {}
  },
  {
   "cell_type": "code",
   "execution_count": 1,
   "source": [
    "def tandf(t, f):\n",
    "    judge = []\n",
    "    for i in range(1, 1000):\n",
    "        if i % t == 0:\n",
    "            judge.append(i)\n",
    "        elif i % f == 0:\n",
    "            judge.append(i)\n",
    "    judge_set = set(judge)\n",
    "    judge_list = list(judge_set)\n",
    "    result = sum(judge_list)\n",
    "    return result\n",
    "\n",
    "tandf(3, 5)"
   ],
   "outputs": [
    {
     "output_type": "execute_result",
     "data": {
      "text/plain": [
       "233168"
      ]
     },
     "metadata": {},
     "execution_count": 1
    }
   ],
   "metadata": {}
  },
  {
   "cell_type": "code",
   "execution_count": 3,
   "source": [
    "def function(t, f):\n",
    "    result = 0\n",
    "    for i in range(1, 1000):\n",
    "        if i % t == 0 or i % f == 0:\n",
    "            result += i\n",
    "    return result\n",
    "\n",
    "function(3, 5)"
   ],
   "outputs": [
    {
     "output_type": "execute_result",
     "data": {
      "text/plain": [
       "233168"
      ]
     },
     "metadata": {},
     "execution_count": 3
    }
   ],
   "metadata": {}
  },
  {
   "cell_type": "code",
   "execution_count": 4,
   "source": [
    "def page(board, page):\n",
    "    if board % page == 0:\n",
    "        result = board // page\n",
    "    else:\n",
    "        result = (board // page) + 1 \n",
    "    return result\n",
    "\n",
    "page(10, 3)"
   ],
   "outputs": [
    {
     "output_type": "execute_result",
     "data": {
      "text/plain": [
       "4"
      ]
     },
     "metadata": {},
     "execution_count": 4
    }
   ],
   "metadata": {}
  },
  {
   "cell_type": "code",
   "execution_count": 1,
   "source": [
    "import sys\n",
    "\n",
    "option = sys.argv[1]\n",
    "memo = sys.argv[2]\n",
    "\n",
    "print(option)\n",
    "print(memo)"
   ],
   "outputs": [
    {
     "output_type": "stream",
     "name": "stdout",
     "text": [
      "-f\n",
      "/Users/hoon/Library/Jupyter/runtime/kernel-ad0c3025-2950-4966-bee9-4570dd8b6fe1.json\n"
     ]
    }
   ],
   "metadata": {}
  },
  {
   "cell_type": "code",
   "execution_count": 1,
   "source": [
    "import os\n",
    "\n",
    "for (path, dir, files) in os.walk(\"/users\"):\n",
    "    for filename in files:\n",
    "        ext = os.path.splitext(filename)[-1]\n",
    "        if ext == 'py':\n",
    "            print(\"%s/%s\" % (path, filename))"
   ],
   "outputs": [],
   "metadata": {}
  },
  {
   "cell_type": "code",
   "execution_count": null,
   "source": [],
   "outputs": [],
   "metadata": {}
  }
 ],
 "metadata": {
  "orig_nbformat": 4,
  "language_info": {
   "name": "python",
   "version": "3.8.8",
   "mimetype": "text/x-python",
   "codemirror_mode": {
    "name": "ipython",
    "version": 3
   },
   "pygments_lexer": "ipython3",
   "nbconvert_exporter": "python",
   "file_extension": ".py"
  },
  "kernelspec": {
   "name": "python3",
   "display_name": "Python 3.8.8 64-bit ('base': conda)"
  },
  "interpreter": {
   "hash": "0db78d4def97aafdbe33b8b976cb7e782ebbc82d4fe41d855eac38305eb77fc8"
  }
 },
 "nbformat": 4,
 "nbformat_minor": 2
}