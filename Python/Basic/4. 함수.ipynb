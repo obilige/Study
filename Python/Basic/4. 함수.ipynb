{
 "cells": [
  {
   "cell_type": "markdown",
   "source": [
    "## 1. 함수의 정의\n",
    "+ 일정한 작업을 수행하는 코드 블럭\n",
    "\n",
    "## 2. 함수의 장점\n",
    "+ 반복적인 코드를 없애주어 전체 코드의 길이를 짧게 해준다.(재사용)\n",
    "+ 프로그램의 유지보수를 쉽게 만들어 준다.\n",
    "\n",
    "## 3. 함수의 구현\n",
    "\n",
    "def 함수명(...) :\n",
    "    코드 정의\n",
    "    ...\n",
    "    [return ...]\n",
    "\n",
    "## 4. 함수 호출 방식\n",
    "+ 인자가 있는 방식 def a()\n",
    "+ 인자가 없는 방식 def a(self, first, second)\n",
    "+ 반환값이 있는 경우\n",
    "    - return의 두가지 기능\n",
    "        * 값을 반환(1개만, 2개면 ( )패킹해서 반환), 본문으로 되돌아갈 때\n",
    "        * 함수의 강제 종료 기능\n",
    "\n",
    "## 5. 함수 설계\n",
    "+ 단일 기능\n",
    "+ 재사용 생각해야\n",
    "\n",
    "## 6. 함수의 종류\n",
    "+ 사용자 정의 함수(User Define Function)\n",
    "+ 내장 함수(Built-In Function)\n",
    "+ 외장 함수(External Function)\n",
    "        "
   ],
   "metadata": {}
  },
  {
   "cell_type": "code",
   "execution_count": 36,
   "source": [
    "def line(n):\n",
    "    print(\"=\"* n)\n",
    "\n",
    "# def line(cnt):\n",
    "#     for v in range(cnt):\n",
    "#           print(\"*\", end=\" \")\n",
    "#     print()\n",
    "\n",
    "# def line(shape, cnt):\n",
    "#     for v in range(cnt):\n",
    "#           print(shape, end=\" \")\n",
    "#     print()"
   ],
   "outputs": [],
   "metadata": {}
  },
  {
   "cell_type": "code",
   "execution_count": 45,
   "source": [
    "line(50)\n",
    "print(\"친구 관리 프로그램\")\n",
    "line(40)\n",
    "print(\"1. 리스트 출력\")\n",
    "print(\"2. 친구 추가\")\n",
    "print(\"3. 종료\")\n",
    "line(30)"
   ],
   "outputs": [
    {
     "output_type": "stream",
     "name": "stdout",
     "text": [
      "==================================================\n",
      "친구 관리 프로그램\n",
      "========================================\n",
      "1. 리스트 출력\n",
      "2. 친구 추가\n",
      "3. 종료\n",
      "==============================\n"
     ]
    }
   ],
   "metadata": {}
  },
  {
   "cell_type": "code",
   "execution_count": null,
   "source": [
    "line(5)\n",
    "#앞으로는 line()만 입력하면 * 50개를 출력할 수 있다.\n",
    "#함수의 재사용 장점을 보여주는 극단적인 예"
   ],
   "outputs": [],
   "metadata": {}
  },
  {
   "cell_type": "code",
   "execution_count": 46,
   "source": [
    "# 반환값이 있는 경우 예시\n",
    "num1, num2 = 10, 5\n",
    "print(num1, num2)\n",
    "\n",
    "# num1 = num2\n",
    "# num2 = num1\n",
    "# 둘 다 5만 된다.\n",
    "\n",
    "# 두 수를 교환하려면 임시보관할 하나의 변수 더 있어야 한다.\n",
    "\n",
    "def switch(first, second):\n",
    "    temp_ = first\n",
    "    first = second\n",
    "    second = temp_\n",
    "    return first, second"
   ],
   "outputs": [
    {
     "output_type": "stream",
     "name": "stdout",
     "text": [
      "10 5\n"
     ]
    }
   ],
   "metadata": {}
  },
  {
   "cell_type": "code",
   "execution_count": 47,
   "source": [
    "num1, num2 = 8, 4\n",
    "print(num1, num2)\n",
    "\n",
    "print(switch(num1, num2)) # 반환될 때 패킹이 되어 들어옴. 1개만 반환. 다만 파이썬은 언패킹이 자동\n",
    "n1, n2 = switch(num1, num2) #리턴값을 들고오면 그 값을 받아주는 변수가 있어야 한다. n1, n2가 num1, num2 값을 받은 것. 자동으로 언패킹 되고 있음\n",
    "print(n1, n2) #언패킹\n",
    "\n",
    "print(switch(num1, num2)) #이렇게 산출해도 된다. 다만, 함수에서 가져온 값을 자주 쓸 경우엔 변수 지정 후 쓰는게 좋다. 이건 한번만 쓸 경우\n",
    "\n",
    "line(50)"
   ],
   "outputs": [
    {
     "output_type": "stream",
     "name": "stdout",
     "text": [
      "8 4\n",
      "(4, 8)\n",
      "4 8\n",
      "(4, 8)\n",
      "==================================================\n"
     ]
    }
   ],
   "metadata": {}
  },
  {
   "cell_type": "code",
   "execution_count": null,
   "source": [],
   "outputs": [],
   "metadata": {}
  },
  {
   "cell_type": "markdown",
   "source": [
    "---\n",
    "\n",
    "## 파이썬에서 함수를 지원하기 위한 문법\n",
    "+ 변수의 유효 범위 : 지역변수, 전역변수\n",
    "    - 전역변수 : 파일 내 어디서든 사용 가능\n",
    "    - 지역변수 : 함수 내에서 선언돼 함수 내에서만 사용 가능"
   ],
   "metadata": {}
  },
  {
   "cell_type": "code",
   "execution_count": 50,
   "source": [
    "player = \"전국대표\"\n",
    "# 전역변수 : 주피터노트북 페이저 내 어디서나 사용할 수 있는 변수\n",
    "# 정확히는 한 파일 내에서 사용 가능한 변수다.\n",
    "\n",
    "def funcSoccer():\n",
    "    name = \"홍길동\"\n",
    "    print(name, player)\n",
    "\n",
    "funcSoccer()"
   ],
   "outputs": [
    {
     "output_type": "stream",
     "name": "stdout",
     "text": [
      "홍길동 전국대표\n"
     ]
    },
    {
     "output_type": "error",
     "ename": "NameError",
     "evalue": "name 'name' is not defined",
     "traceback": [
      "\u001b[0;31m---------------------------------------------------------------------------\u001b[0m",
      "\u001b[0;31mNameError\u001b[0m                                 Traceback (most recent call last)",
      "\u001b[0;32m<ipython-input-50-4afc82485972>\u001b[0m in \u001b[0;36m<module>\u001b[0;34m\u001b[0m\n\u001b[1;32m      8\u001b[0m \u001b[0;34m\u001b[0m\u001b[0m\n\u001b[1;32m      9\u001b[0m \u001b[0mfuncSoccer\u001b[0m\u001b[0;34m(\u001b[0m\u001b[0;34m)\u001b[0m\u001b[0;34m\u001b[0m\u001b[0;34m\u001b[0m\u001b[0m\n\u001b[0;32m---> 10\u001b[0;31m \u001b[0mprint\u001b[0m\u001b[0;34m(\u001b[0m\u001b[0mname\u001b[0m\u001b[0;34m)\u001b[0m\u001b[0;34m\u001b[0m\u001b[0;34m\u001b[0m\u001b[0m\n\u001b[0m",
      "\u001b[0;31mNameError\u001b[0m: name 'name' is not defined"
     ]
    }
   ],
   "metadata": {}
  },
  {
   "cell_type": "code",
   "execution_count": 65,
   "source": [
    "#2\n",
    "def sentence_sep(sentence):\n",
    "    words_list = sentence.split()\n",
    "\n",
    "    for sep in words_list:\n",
    "        result = [sep.upper(), sep, len(sep)]\n",
    "        print(result)\n",
    "\n",
    "sentence_sep(\"some where over the rainbow way up high\")"
   ],
   "outputs": [
    {
     "output_type": "stream",
     "name": "stdout",
     "text": [
      "['SOME', 'some', 4]\n",
      "['WHERE', 'where', 5]\n",
      "['OVER', 'over', 4]\n",
      "['THE', 'the', 3]\n",
      "['RAINBOW', 'rainbow', 7]\n",
      "['WAY', 'way', 3]\n",
      "['UP', 'up', 2]\n",
      "['HIGH', 'high', 4]\n"
     ]
    }
   ],
   "metadata": {}
  },
  {
   "cell_type": "code",
   "execution_count": 75,
   "source": [
    "#1\n",
    "def list_in_list(l1, l2):\n",
    "    list1=[]\n",
    "    for d1 in l1:\n",
    "        list2=[]\n",
    "        for d2 in l2:\n",
    "            list2.append(d1+d2)\n",
    "        list1.append(list2)\n",
    "    return list1\n",
    "\n",
    "\n",
    "data1 = ['A', 'B', 'C']\n",
    "data2 = ['D', 'E', 'A']\n",
    "\n",
    "result=(list_in_list(data1, data2))\n",
    "\n",
    "print(result)\n",
    "\n",
    "\n",
    "\n",
    "\n",
    "# data1 = ['A', 'B', 'C']\n",
    "# data2 = ['D', 'E', 'A']\n",
    "\n",
    "# list1=[]\n",
    "\n",
    "# for d1 in data1:\n",
    "#     list2=[]\n",
    "#     for d2 in data2:\n",
    "#         list2.append(d1+d2)\n",
    "#     list1.append(list2)\n",
    "# print(list1)"
   ],
   "outputs": [
    {
     "output_type": "stream",
     "name": "stdout",
     "text": [
      "[['AD', 'AE', 'AA'], ['BD', 'BE', 'BA'], ['CD', 'CE', 'CA']]\n"
     ]
    }
   ],
   "metadata": {}
  },
  {
   "cell_type": "code",
   "execution_count": 76,
   "source": [
    "def sentence_sep(sentence):\n",
    "    words_list = sentence.split()\n",
    "\n",
    "    for sep in words_list:\n",
    "        result = [sep.upper(), sep, len(sep)]\n",
    "    return result\n",
    "\n",
    "a = sentence_sep(\"some where over the rainbow way up high\")\n",
    "print(a)"
   ],
   "outputs": [
    {
     "output_type": "stream",
     "name": "stdout",
     "text": [
      "['HIGH', 'high', 4]\n"
     ]
    }
   ],
   "metadata": {}
  },
  {
   "cell_type": "code",
   "execution_count": 22,
   "source": [
    "#### default 인수 : 값이 넘어오지 않아도 정해진 디폴트 값으로 산출하겠다.\n",
    "\n",
    "def line(cnt=10):\n",
    "    for v in range(cnt):\n",
    "        print('-', end='')\n",
    "\n",
    "    print()\n",
    "############################\n",
    "#함수는 찾아서 쓸 수 있어야 한다.\n",
    "#일단 아는 함수 어떻게 사용하는지 스스로 찾아보자.\n",
    "#자연스레 모르는 함수도 어떻게 사용하는지 알 수 있게 된다.\n",
    "\n",
    "line(50)\n",
    "line()\n",
    "\n",
    "##############################\n",
    "def hello1(name=None):\n",
    "    if name == None:\n",
    "        print('반드시 이름을 입력해주셔야 합니다.')\n",
    "        return\n",
    "    print(\"안녕하세요. {}님\u001d.\".format(name))\n",
    "\n",
    "hello1('정재훈')\n",
    "hello1()\n",
    "\n",
    "\n",
    "def hello2(name, age=25, add=\"서울\"): #디폴트 인수는 맨 마지막 위치에 넣어줘야 합니다.\n",
    "    print(\"안녕하세요? {}에 사는 {}님. 당신의 나이는 {}입니다.\".format(add, name, age))\n",
    "\n",
    "hello2(\"정재훈\", 32, \"분당\")\n",
    "hello2(\"정재훈\", 32)\n",
    "hello2(\"정재훈\")"
   ],
   "outputs": [
    {
     "output_type": "stream",
     "name": "stdout",
     "text": [
      "--------------------------------------------------\n",
      "----------\n",
      "안녕하세요. 정재훈님\u001d.\n",
      "반드시 이름을 입력해주셔야 합니다.\n",
      "안녕하세요? 분당에 사는 정재훈님. 당신의 나이는 32입니다.\n",
      "안녕하세요? 서울에 사는 정재훈님. 당신의 나이는 32입니다.\n",
      "안녕하세요? 서울에 사는 정재훈님. 당신의 나이는 25입니다.\n"
     ]
    }
   ],
   "metadata": {}
  },
  {
   "cell_type": "code",
   "execution_count": 15,
   "source": [
    "#### 가변인수\n",
    "def greeting(*name):\n",
    "    print(name, \"안녕하세요\")\n",
    "\n",
    "def info(weight, height, name, **other):\n",
    "    print(weight, height, name)\n",
    "    print(other)\n",
    "# * = 곱하기, 반복(문자*숫자 = 문자반복), 매개변수에서 가변인수 - 튜플 패킹\n",
    "# ** = 거듭제곱(숫자끼리), 매겨변수에서 가변인수 - dict로 묶어준다.\n",
    "#############################\n",
    "\n",
    "greeting(\"홍길동\")\n",
    "greeting(\"정재훈\", \"이다솔\", \"황상연\") #가변인수로 전달할 땐 패킹작업이 자동으로 이뤄진다.\n",
    "#unpacking\n",
    "#a=([1,2],[3,4],[5,6])에서 첫번째, 두번째, 세번째 값을 각각 부르려면\n",
    "a, b, c = ([1,2],[3,4],[5,6])\n",
    "print(a, b, c)\n",
    "#tuple과 list : 수정가능여부, 형태, 패킹과 언패킹 자동 여부\n",
    "d = ([1,2],[3,4],[5,6])\n",
    "print(*d)\n",
    "\n",
    "info(50, 170, '홍길동')\n",
    "info(60, 180, '임꺽정', blood_type = 'b', age = 30, add = '서울')"
   ],
   "outputs": [
    {
     "output_type": "stream",
     "name": "stdout",
     "text": [
      "('홍길동',) 안녕하세요\n",
      "('정재훈', '이다솔', '황상연') 안녕하세요\n",
      "[1, 2] [3, 4] [5, 6]\n",
      "[1, 2] [3, 4] [5, 6]\n",
      "50 170 홍길동\n",
      "{}\n",
      "60 180 임꺽정\n",
      "{'blood_type': 'b', 'age': 30, 'add': '서울'}\n"
     ]
    }
   ],
   "metadata": {}
  },
  {
   "cell_type": "markdown",
   "source": [
    "---\n",
    "\n",
    "## built in 함수\n"
   ],
   "metadata": {}
  },
  {
   "cell_type": "code",
   "execution_count": 81,
   "source": [
    "# all(), any() : and, or 연산자\n",
    "\n",
    "print(all([-1, 1, 10, 9, 7, 0]))\n",
    "line(50)\n",
    "# 한번에 참, 거짓을 판별하는 함수. and 연산자로 하면 일일히 해야해서 불편하다.\n",
    "# 거짓으로 판별하는 값 : 0, None, ''(빈 값)\n",
    "# 결측치 볼 때 매우 유용\n",
    "print('all and any')\n",
    "print(all([1,2,3,4,5]))\n",
    "print(all([1,2,0,4,5]))\n",
    "print(all([1,2,3,None,5]))\n",
    "print(all([1,2,3,4,'']))\n",
    "line(50)\n",
    "print(any([1,2,3,4,5]))\n",
    "print(any([1,2,3,4,0]))\n",
    "print(any([1,2,'',4,5]))\n",
    "print(any([1,None,3,4,5]))\n",
    "line(50)\n",
    "\n",
    "# enumerate(iterator, start) : 열거하다. 나열하다. *start는 시작번호, 없으면 0부터 시작하는 디폴트값 있음\n",
    "# iterator엔 순서 있는 자료형 - 문자열(str), 리스트(list), 튜플(tuple)\n",
    "# return값이 있는 함수\n",
    "print('enumerate')\n",
    "for i, v in enumerate([\"홍길동\", \"임꺽정\", \"고길동\", \"Tom\", \"Jerry\"], start=100):\n",
    "    print(i, v)\n",
    "\n",
    "#i는 index, v는 value\n",
    "\n",
    "line(50)\n",
    "\n",
    "print('eval')\n",
    "# eval(expression) : 표현식을 파이썬에서 실행 가능하게 만들어주는 역할\n",
    "print(\"3+4\")\n",
    "a = \"3+4\"\n",
    "print(3+4)\n",
    "print(int(a[0]) + int(a[-1]))\n",
    "print(eval(a))\n",
    "b=\"print('안녕하세요')\"\n",
    "print(b)\n",
    "eval(b)"
   ],
   "outputs": [
    {
     "output_type": "stream",
     "name": "stdout",
     "text": [
      "False\n",
      "--------------------------------------------------\n",
      "all and any\n",
      "True\n",
      "False\n",
      "False\n",
      "False\n",
      "--------------------------------------------------\n",
      "True\n",
      "True\n",
      "True\n",
      "True\n",
      "--------------------------------------------------\n",
      "enumerate\n",
      "100 홍길동\n",
      "101 임꺽정\n",
      "102 고길동\n",
      "103 Tom\n",
      "104 Jerry\n",
      "--------------------------------------------------\n",
      "eval\n",
      "3+4\n",
      "7\n",
      "7\n",
      "7\n",
      "print('안녕하세요')\n",
      "안녕하세요\n"
     ]
    }
   ],
   "metadata": {}
  },
  {
   "cell_type": "code",
   "execution_count": 82,
   "source": [
    "line(50)\n",
    "\n",
    "print('divmod')\n",
    "#divmod : 나눴을 때 몫과 나머지를 나타내준다.\n",
    "a = \"divmod(9, 4)\"\n",
    "print(eval(a))\n",
    "\n",
    "line(50)\n",
    "\n",
    "print(\"map(function, iterator)\")\n",
    "#map(function, iterator) : 집합의 각 요소가 함수에 의해 수행된 결과를 묶어서 리턴\n",
    "\n",
    "def calc(x):\n",
    "    return x + 2\n",
    "\n",
    "print(calc(10))\n",
    "\n",
    "data = [10, 20, 30, 40, 50]\n",
    "\n",
    "# for i in data:\n",
    "#     temp = calc(i)\n",
    "#     result.append(temp)\n",
    "\n",
    "print(result)\n",
    "\n",
    "map(calc, data)\n",
    "#결과값이 저장된 주소를 불러온다.\n",
    "#<map object at 0x7fc56836f6a0>\n",
    "\n",
    "for v in map(calc, data):\n",
    "    print(v)\n",
    "\n",
    "list(map(calc, data))"
   ],
   "outputs": [
    {
     "output_type": "stream",
     "name": "stdout",
     "text": [
      "--------------------------------------------------\n",
      "divmod\n",
      "(2, 1)\n",
      "--------------------------------------------------\n",
      "map(function, iterator)\n",
      "12\n",
      "[1, 'a1', 'b1', 'c1']\n",
      "12\n",
      "22\n",
      "32\n",
      "42\n",
      "52\n"
     ]
    },
    {
     "output_type": "execute_result",
     "data": {
      "text/plain": [
       "[12, 22, 32, 42, 52]"
      ]
     },
     "metadata": {},
     "execution_count": 82
    }
   ],
   "metadata": {}
  },
  {
   "cell_type": "code",
   "execution_count": 80,
   "source": [
    "print(\"zip(iterator)\")\n",
    "# zip(literator) : 동일한 갯수로 이루어진 자료형을 묶어주는 역할\n",
    "\n",
    "a = ['a1', 'a2', 'a3']\n",
    "b = ['b1', 'b2', 'b3']\n",
    "c = ['c1', 'c2', 'c3']\n",
    "\n",
    "# a = list(zip(a,b,c))\n",
    "# print(a)\n",
    "\n",
    "# num = [1, 2, 3]\n",
    "# data1 = ['a1', 'a2', 'a3']\n",
    "# data2 = ['b1', 'b2', 'b3']\n",
    "# data3 = ['c1', 'c2', 'c3']\n",
    "\n",
    "# frame = list(zip(num, data1, data2, data3))\n",
    "# print(frame)\n",
    "# line(50)\n",
    "\n",
    "# index_0 = list(frame[0])\n",
    "# index_1 = list(frame[1])\n",
    "# index_2 = list(frame[2])\n",
    "\n",
    "# print(index_0)\n",
    "# print(index_1)\n",
    "# print(index_2)\n",
    "\n",
    "# line(50)\n",
    "\n",
    "#frame = list(zip(num, data1, data2, data3))\n",
    "# for i in frame:\n",
    "#     print(*i)\n",
    "\n",
    "for (v1, v2, v3) in zip(a, b, c):\n",
    "    print(v1, v2, v3)\n",
    "line(50)\n",
    "for i, v in enumerate(zip(a, b, c)):\n",
    "    print(i, *v)\n"
   ],
   "outputs": [
    {
     "output_type": "stream",
     "name": "stdout",
     "text": [
      "zip(iterator)\n",
      "a1 b1 c1\n",
      "a2 b2 c2\n",
      "a3 b3 c3\n",
      "--------------------------------------------------\n",
      "0 a1 b1 c1\n",
      "1 a2 b2 c2\n",
      "2 a3 b3 c3\n"
     ]
    }
   ],
   "metadata": {}
  },
  {
   "cell_type": "markdown",
   "source": [
    "---\n",
    "\n",
    "## External Function\n",
    "+ import 모듈명\n",
    "+ C:\\Users\\acorn\\Anaconda3\\Lib\\site-packages"
   ],
   "metadata": {}
  },
  {
   "cell_type": "code",
   "execution_count": 87,
   "source": [
    "import sys\n",
    "\n",
    "print(dir(sys))\n",
    "line(50)\n",
    "print(sys.path)\n",
    "print(sys.platform)\n",
    "print(sys.version)"
   ],
   "outputs": [
    {
     "output_type": "stream",
     "name": "stdout",
     "text": [
      "['__breakpointhook__', '__displayhook__', '__doc__', '__excepthook__', '__interactivehook__', '__loader__', '__name__', '__package__', '__spec__', '__stderr__', '__stdin__', '__stdout__', '__unraisablehook__', '_base_executable', '_clear_type_cache', '_current_frames', '_debugmallocstats', '_framework', '_getframe', '_git', '_home', '_xoptions', 'abiflags', 'addaudithook', 'api_version', 'argv', 'audit', 'base_exec_prefix', 'base_prefix', 'breakpointhook', 'builtin_module_names', 'byteorder', 'call_tracing', 'callstats', 'copyright', 'displayhook', 'dont_write_bytecode', 'exc_info', 'excepthook', 'exec_prefix', 'executable', 'exit', 'flags', 'float_info', 'float_repr_style', 'get_asyncgen_hooks', 'get_coroutine_origin_tracking_depth', 'getallocatedblocks', 'getcheckinterval', 'getdefaultencoding', 'getdlopenflags', 'getfilesystemencodeerrors', 'getfilesystemencoding', 'getprofile', 'getrecursionlimit', 'getrefcount', 'getsizeof', 'getswitchinterval', 'gettrace', 'hash_info', 'hexversion', 'implementation', 'int_info', 'intern', 'is_finalizing', 'last_traceback', 'last_type', 'last_value', 'maxsize', 'maxunicode', 'meta_path', 'modules', 'path', 'path_hooks', 'path_importer_cache', 'platform', 'prefix', 'ps1', 'ps2', 'ps3', 'pycache_prefix', 'set_asyncgen_hooks', 'set_coroutine_origin_tracking_depth', 'setcheckinterval', 'setdlopenflags', 'setprofile', 'setrecursionlimit', 'setswitchinterval', 'settrace', 'stderr', 'stdin', 'stdout', 'thread_info', 'unraisablehook', 'version', 'version_info', 'warnoptions']\n",
      "--------------------------------------------------\n",
      "['/Users/hoon/Desktop/Data/vscode/pythonwork/basic', '/Users/hoon/.vscode/extensions/ms-toolsai.jupyter-2021.8.2041215044/pythonFiles', '/Users/hoon/.vscode/extensions/ms-toolsai.jupyter-2021.8.2041215044/pythonFiles/lib/python', '/Users/hoon/opt/anaconda3/lib/python38.zip', '/Users/hoon/opt/anaconda3/lib/python3.8', '/Users/hoon/opt/anaconda3/lib/python3.8/lib-dynload', '', '/Users/hoon/opt/anaconda3/lib/python3.8/site-packages', '/Users/hoon/opt/anaconda3/lib/python3.8/site-packages/aeosa', '/Users/hoon/opt/anaconda3/lib/python3.8/site-packages/locket-0.2.1-py3.8.egg', '/Users/hoon/opt/anaconda3/lib/python3.8/site-packages/IPython/extensions', '/Users/hoon/.ipython']\n",
      "darwin\n",
      "3.8.8 (default, Apr 13 2021, 12:59:45) \n",
      "[Clang 10.0.0 ]\n",
      "--------------------------------------------------\n"
     ]
    }
   ],
   "metadata": {}
  },
  {
   "cell_type": "code",
   "execution_count": 91,
   "source": [
    "import os\n",
    "\n",
    "print(dir(os))\n",
    "line(50)\n",
    "print(os.getcwd())"
   ],
   "outputs": [
    {
     "output_type": "stream",
     "name": "stdout",
     "text": [
      "['CLD_CONTINUED', 'CLD_DUMPED', 'CLD_EXITED', 'CLD_TRAPPED', 'DirEntry', 'EX_CANTCREAT', 'EX_CONFIG', 'EX_DATAERR', 'EX_IOERR', 'EX_NOHOST', 'EX_NOINPUT', 'EX_NOPERM', 'EX_NOUSER', 'EX_OK', 'EX_OSERR', 'EX_OSFILE', 'EX_PROTOCOL', 'EX_SOFTWARE', 'EX_TEMPFAIL', 'EX_UNAVAILABLE', 'EX_USAGE', 'F_LOCK', 'F_OK', 'F_TEST', 'F_TLOCK', 'F_ULOCK', 'MutableMapping', 'NGROUPS_MAX', 'O_ACCMODE', 'O_APPEND', 'O_ASYNC', 'O_CLOEXEC', 'O_CREAT', 'O_DIRECTORY', 'O_DSYNC', 'O_EXCL', 'O_EXLOCK', 'O_NDELAY', 'O_NOCTTY', 'O_NOFOLLOW', 'O_NONBLOCK', 'O_RDONLY', 'O_RDWR', 'O_SHLOCK', 'O_SYNC', 'O_TRUNC', 'O_WRONLY', 'POSIX_SPAWN_CLOSE', 'POSIX_SPAWN_DUP2', 'POSIX_SPAWN_OPEN', 'PRIO_PGRP', 'PRIO_PROCESS', 'PRIO_USER', 'P_ALL', 'P_NOWAIT', 'P_NOWAITO', 'P_PGID', 'P_PID', 'P_WAIT', 'PathLike', 'RTLD_GLOBAL', 'RTLD_LAZY', 'RTLD_LOCAL', 'RTLD_NODELETE', 'RTLD_NOLOAD', 'RTLD_NOW', 'R_OK', 'SCHED_FIFO', 'SCHED_OTHER', 'SCHED_RR', 'SEEK_CUR', 'SEEK_END', 'SEEK_SET', 'ST_NOSUID', 'ST_RDONLY', 'TMP_MAX', 'WCONTINUED', 'WCOREDUMP', 'WEXITED', 'WEXITSTATUS', 'WIFCONTINUED', 'WIFEXITED', 'WIFSIGNALED', 'WIFSTOPPED', 'WNOHANG', 'WNOWAIT', 'WSTOPPED', 'WSTOPSIG', 'WTERMSIG', 'WUNTRACED', 'W_OK', 'X_OK', '_Environ', '__all__', '__builtins__', '__cached__', '__doc__', '__file__', '__loader__', '__name__', '__package__', '__spec__', '_check_methods', '_execvpe', '_exists', '_exit', '_fspath', '_fwalk', '_get_exports_list', '_putenv', '_spawnvef', '_unsetenv', '_wrap_close', 'abc', 'abort', 'access', 'altsep', 'chdir', 'chflags', 'chmod', 'chown', 'chroot', 'close', 'closerange', 'confstr', 'confstr_names', 'cpu_count', 'ctermid', 'curdir', 'defpath', 'device_encoding', 'devnull', 'dup', 'dup2', 'environ', 'environb', 'error', 'execl', 'execle', 'execlp', 'execlpe', 'execv', 'execve', 'execvp', 'execvpe', 'extsep', 'fchdir', 'fchmod', 'fchown', 'fdopen', 'fork', 'forkpty', 'fpathconf', 'fsdecode', 'fsencode', 'fspath', 'fstat', 'fstatvfs', 'fsync', 'ftruncate', 'fwalk', 'get_blocking', 'get_exec_path', 'get_inheritable', 'get_terminal_size', 'getcwd', 'getcwdb', 'getegid', 'getenv', 'getenvb', 'geteuid', 'getgid', 'getgrouplist', 'getgroups', 'getloadavg', 'getlogin', 'getpgid', 'getpgrp', 'getpid', 'getppid', 'getpriority', 'getsid', 'getuid', 'initgroups', 'isatty', 'kill', 'killpg', 'lchflags', 'lchmod', 'lchown', 'linesep', 'link', 'listdir', 'lockf', 'lseek', 'lstat', 'major', 'makedev', 'makedirs', 'minor', 'mkdir', 'mkfifo', 'mknod', 'name', 'nice', 'open', 'openpty', 'pardir', 'path', 'pathconf', 'pathconf_names', 'pathsep', 'pipe', 'popen', 'posix_spawn', 'posix_spawnp', 'pread', 'putenv', 'pwrite', 'read', 'readlink', 'readv', 'register_at_fork', 'remove', 'removedirs', 'rename', 'renames', 'replace', 'rmdir', 'scandir', 'sched_get_priority_max', 'sched_get_priority_min', 'sched_yield', 'sendfile', 'sep', 'set_blocking', 'set_inheritable', 'setegid', 'seteuid', 'setgid', 'setgroups', 'setpgid', 'setpgrp', 'setpriority', 'setregid', 'setreuid', 'setsid', 'setuid', 'spawnl', 'spawnle', 'spawnlp', 'spawnlpe', 'spawnv', 'spawnve', 'spawnvp', 'spawnvpe', 'st', 'stat', 'stat_result', 'statvfs', 'statvfs_result', 'strerror', 'supports_bytes_environ', 'supports_dir_fd', 'supports_effective_ids', 'supports_fd', 'supports_follow_symlinks', 'symlink', 'sync', 'sys', 'sysconf', 'sysconf_names', 'system', 'tcgetpgrp', 'tcsetpgrp', 'terminal_size', 'times', 'times_result', 'truncate', 'ttyname', 'umask', 'uname', 'uname_result', 'unlink', 'unsetenv', 'urandom', 'utime', 'wait', 'wait3', 'wait4', 'waitpid', 'walk', 'write', 'writev']\n",
      "--------------------------------------------------\n",
      "/Users/hoon/Desktop/Data/vscode/pythonwork/basic\n"
     ]
    }
   ],
   "metadata": {}
  },
  {
   "cell_type": "code",
   "execution_count": 104,
   "source": [
    "import mymodule as mm\n",
    "print(dir(mm))\n",
    "\n",
    "print(mm.sum(1, 2))\n",
    "mm.info(77, 185, name=\"정재훈\", age=\"32\")\n",
    "print(\"회사명 :\", mm.company)"
   ],
   "outputs": [
    {
     "output_type": "stream",
     "name": "stdout",
     "text": [
      "['__builtins__', '__cached__', '__doc__', '__file__', '__loader__', '__name__', '__package__', '__spec__', 'company', 'info', 'sum']\n",
      "3\n",
      "몸무게 :  77\n",
      "키 :  185\n",
      "기타 :  {'name': '정재훈', 'age': '32'}\n",
      "회사명 : 파이썬 주식회사\n"
     ]
    }
   ],
   "metadata": {}
  },
  {
   "cell_type": "code",
   "execution_count": 121,
   "source": [
    "import datetime #Pandas dataframe에 많이 사용된다.\n",
    "\n",
    "#현재 날짜\n",
    "today = datetime.date.today() #type : tuple\n",
    "print(today, ' ,',today.year, ' ,', today.month, ' ,', today.day)\n",
    "\n",
    "#현재 시간\n",
    "time = datetime.datetime.today()\n",
    "print(time)\n",
    "\n",
    "line(50)\n",
    "\n",
    "#날짜와 시간 계산.\n",
    "#datetime은 datetime 형태이므로 계산 불가. 인수형, 실수형이 아니다.\n",
    "mydays = datetime.timedelta(days = -1)\n",
    "print(mydays)\n",
    "print(\"어제 : {}\".format(today + mydays)) #today는 datetime.date.today()를 담은 변수\n",
    "myhours = datetime.timedelta(hours = -8)\n",
    "print(\"8시간 전 : {}\".format(time + myhours)) #time은 datetime.datetime.today\n",
    "\n",
    "#날짜와 시간 형태 변화\n",
    "today.strftime(\"%m/%d/%y\")\n",
    "type(today.strftime(\"%m/%d/%Y\"))\n",
    "print(time.strftime(\"%Y-%m-%d %H:%M:%S\"))\n",
    "\n",
    "line(50)\n",
    "\n",
    "# 날짜의 형식 변환\n",
    "# 날짜를 문자열로 : strftime(), 문자열을 날짜로 : strptime\n",
    "\n",
    "str1 = \"2021-09-16 09:36:42\"\n",
    "print(type(str1))\n",
    "d1 = datetime.datetime.strptime(str1, \"%Y-%m-%d %H:%M:%S\")\n",
    "print(type(d1))\n",
    "print(d1)"
   ],
   "outputs": [
    {
     "output_type": "stream",
     "name": "stdout",
     "text": [
      "2021-09-16  , 2021  , 9  , 16\n",
      "2021-09-16 17:37:21.782702\n",
      "--------------------------------------------------\n",
      "-1 day, 0:00:00\n",
      "어제 : 2021-09-15\n",
      "8시간 전 : 2021-09-16 09:37:21.782702\n",
      "2021-09-16 17:37:21\n",
      "--------------------------------------------------\n",
      "<class 'str'>\n",
      "<class 'datetime.datetime'>\n",
      "2021-09-16 09:36:42\n"
     ]
    }
   ],
   "metadata": {}
  },
  {
   "cell_type": "markdown",
   "source": [],
   "metadata": {}
  },
  {
   "cell_type": "code",
   "execution_count": null,
   "source": [],
   "outputs": [],
   "metadata": {}
  }
 ],
 "metadata": {
  "orig_nbformat": 4,
  "language_info": {
   "name": "python",
   "version": "3.8.8",
   "mimetype": "text/x-python",
   "codemirror_mode": {
    "name": "ipython",
    "version": 3
   },
   "pygments_lexer": "ipython3",
   "nbconvert_exporter": "python",
   "file_extension": ".py"
  },
  "kernelspec": {
   "name": "python3",
   "display_name": "Python 3.8.8 64-bit ('base': conda)"
  },
  "interpreter": {
   "hash": "0db78d4def97aafdbe33b8b976cb7e782ebbc82d4fe41d855eac38305eb77fc8"
  }
 },
 "nbformat": 4,
 "nbformat_minor": 2
}