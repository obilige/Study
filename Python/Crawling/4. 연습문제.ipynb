{
 "cells": [
  {
   "cell_type": "code",
   "execution_count": 10,
   "metadata": {},
   "outputs": [],
   "source": [
    "from selenium import webdriver\n",
    "\n",
    "import numpy as np\n",
    "import pandas as pd\n",
    "import matplotlib.pyplot as plt\n",
    "import seaborn as sns\n",
    "\n",
    "import matplotlib.font_manager as fm\n",
    "font_name = fm.FontProperties(fname='/Users/hoon/Library/Fonts/NanumSquareRegular.ttf').get_name()\n",
    "plt.rc(\"font\", family=font_name)\n",
    "import matplotlib as mpl\n",
    "mpl.rcParams[\"axes.unicode_minus\"] = False\n",
    "\n",
    "import urllib.request as req\n",
    "from urllib.request import urlopen\n",
    "from urllib.request import HTTPError, URLError\n",
    "import urllib.parse\n",
    "from bs4 import BeautifulSoup\n",
    "import requests\n",
    "\n",
    "from tqdm import tqdm_notebook\n",
    "import time\n",
    "\n",
    "import re"
   ]
  },
  {
   "cell_type": "markdown",
   "metadata": {},
   "source": [
    "# 문제 1.\n",
    "\n",
    "+ https://search.naver.com/search.naver?sm=top_hty&fbm=0&ie=utf8&query=제주도날씨"
   ]
  },
  {
   "cell_type": "code",
   "execution_count": null,
   "metadata": {},
   "outputs": [],
   "source": [
    "# 다음과 같은 결과물이 나오는 프로그램 만들기. def?\n",
    "# 내가 데이터를 쓰기 위해\n",
    "# 타인에게 데이터 제공을 서비스하기 위해 (인공지능 스피커)\n",
    "\n",
    "# ----> 서울날씨:30 ℃ \t 구름많음, 어제보다 1˚ 높아요\n",
    "# ----> 부산날씨:22 ℃ \t 흐림, 어제보다 4˚ 낮아요\n",
    "# ----> 제주도날씨:22 ℃ \t 구름많음, 어제보다 0˚ 높아요\n",
    "# ----> 광주날씨:27 ℃ \t 구름많음, 어제보다 1˚ 낮아요\n",
    "# ----> 대전날씨:29 ℃ \t 구름많음, 어제보다 1˚ 낮아요\n",
    "# ----> 경기도날씨:29 ℃ \t 구름많음, 어제보다 2˚ 낮아요"
   ]
  },
  {
   "cell_type": "code",
   "execution_count": 37,
   "metadata": {},
   "outputs": [
    {
     "name": "stdout",
     "output_type": "stream",
     "text": [
      "----> 서울날씨:7 ℃ \t 맑음, 어제보다 0° 높아요\n"
     ]
    }
   ],
   "source": [
    "# \"서울\", \"부산\", \"제주도\", \"광주\", \"대전\", \"경기도\"\n",
    "\n",
    "def weather_func(x):\n",
    "\n",
    "    headers = {'User-Agent' : \"Mozilla/5.0 (Macintosh; Intel Mac OS X 10_15_7) AppleWebKit/537.36 (KHTML, like Gecko) Chrome/92.0.4515.159 Safari/537.36\"}\n",
    "    url = \"https://search.naver.com/search.naver?sm=top_hty&fbm=0&ie=utf8&query={}날씨\".format(x)\n",
    "\n",
    "    r = requests.get(url, headers=headers)\n",
    "\n",
    "    soup = BeautifulSoup(r.text, 'html.parser')\n",
    "\n",
    "    #온도\n",
    "    temp_tmp = soup.find(\"div\", class_=\"temperature_text\").find(\"strong\")\n",
    "    temp = re.findall(\"[0-9]+\", str(temp_tmp))[0]\n",
    "\n",
    "    #날씨 상태\n",
    "    condition = soup.find(\"div\", class_=\"temperature_info\")\n",
    "    weather = condition.find(\"span\", \"weather before_slash\").text\n",
    "\n",
    "    # 비교군\n",
    "    compare_tmp = condition.text\n",
    "    compare = compare_tmp.split('  ')[0]\n",
    "\n",
    "    print(\"----> {0}날씨:{1} ℃ \t {2},{3}\".format(x, temp, weather, compare))\n",
    "\n",
    "\n",
    "weather_func(\"서울\")"
   ]
  },
  {
   "cell_type": "markdown",
   "metadata": {},
   "source": [
    "# 문제 2.\n",
    "\n",
    "+ http://ncov.mohw.go.kr/"
   ]
  },
  {
   "cell_type": "code",
   "execution_count": null,
   "metadata": {},
   "outputs": [],
   "source": [
    "# --> 오늘의 신규 확진자 :전일대비 (+ 399)\n",
    "# --> 현재까지 확진자 :(누적)148,273"
   ]
  },
  {
   "cell_type": "code",
   "execution_count": 86,
   "metadata": {},
   "outputs": [
    {
     "name": "stdout",
     "output_type": "stream",
     "text": [
      "\n",
      "    오늘의 신규확진자 : 2368 전일 대비(-152)\n",
      "    현재까지 확진자 : (누적)39845393\n",
      "    \n"
     ]
    }
   ],
   "source": [
    "def covid_today():\n",
    "    headers = {'User-Agent' : \"Mozilla/5.0 (Macintosh; Intel Mac OS X 10_15_7) AppleWebKit/537.36 (KHTML, like Gecko) Chrome/92.0.4515.159 Safari/537.36\"}\n",
    "    url = \"http://ncov.mohw.go.kr/bdBoardList_Real.do?brdId=1&brdGubun=11&ncvContSeq=&contSeq=&board_id=&gubun=\"\n",
    "    r = requests.get(url, headers=headers)\n",
    "    soup = BeautifulSoup(r.text, 'html.parser')\n",
    "\n",
    "\n",
    "    # 신규확진자\n",
    "    base = soup.find_all('div','data_table mgt16 tbl_scrl_m mini')\n",
    "    base = base[-1]\n",
    "    new_tmp = base.find_all('tr')\n",
    "    today = int(new_tmp[-2].find_all('td')[-2].text.replace(',',''))\n",
    "    yesterday = int(new_tmp[-2].find_all('td')[-3].text.replace(',',''))\n",
    "\n",
    "    headers = {'User-Agent' : \"Mozilla/5.0 (Macintosh; Intel Mac OS X 10_15_7) AppleWebKit/537.36 (KHTML, like Gecko) Chrome/92.0.4515.159 Safari/537.36\"}\n",
    "    url = \"http://ncov.mohw.go.kr/\"\n",
    "    page = urlopen(url)\n",
    "    # r = requests.get(url, headers=headers)\n",
    "    # requests.get으로 접속하면 html, css가 안뜸.......?\n",
    "    soup = BeautifulSoup(page, 'html.parser')\n",
    "\n",
    "    base = soup.find_all(\"div\", class_ = \"box\")\n",
    "    sum = re.findall('[0-9]+', base[1].find(\"li\", class_=\"person\").text.replace(',',''))[0]\n",
    "    \n",
    "    \n",
    "    print(\"\"\"\n",
    "    오늘의 신규확진자 : {0} 전일 대비({1})\n",
    "    현재까지 확진자 : (누적){2}\n",
    "    \"\"\".format(today, today - yesterday, sum))\n",
    "\n",
    "covid_today()"
   ]
  },
  {
   "cell_type": "markdown",
   "metadata": {},
   "source": [
    "# 문제 3.\n",
    "\n",
    "+ www.naver.com"
   ]
  },
  {
   "cell_type": "code",
   "execution_count": null,
   "metadata": {},
   "outputs": [],
   "source": [
    "# ---> 정은경 \"백신 오접종 총 105건 발생…90건이 접종대상 오류\"\n",
    "# ---> G7 회의서 드러난 일본 속내…가입 반대·회담 일방취소\n",
    "# ---> 코스피 일주일 만에 최고치 경신… 3,252.13 마감\n",
    "# ---> 가해자 조사 뭉갠 공군검찰 수사 압색 후 '잠잠'…봐주기식 우려\n",
    "# ---> 전두환 재판 불출석…조영대 신부 \"부정해도 죄 가릴 수 없다\"\n",
    "# ---> 우체국 택배노조 \"사회적 합의 어겨\"…점거농성 돌입\n",
    "# ---> 이준석 \"파격이 새로움 넘어 여의도의 새 표준 돼야\"\n",
    "# ---> 박용진 \"파죽지세로 나가겠다…우파 정책도 끌어안아야\"\n",
    "# ---> 청양 저수지 쇠줄 두른 시신은 50대 지역 주민\n",
    "# ---> 머스크 비트코인 결제 중단 번복하자 비트코인 11% 뛰어"
   ]
  },
  {
   "cell_type": "code",
   "execution_count": 103,
   "metadata": {},
   "outputs": [
    {
     "name": "stdout",
     "output_type": "stream",
     "text": [
      "---> 1주일만에 또 병상확보 행정명령…수도권 준중병상 총454개 확보\n",
      "---> 李 '동맹 그늘론' 역사관 논란 재연…野 \"반미·운동권식 궤변\"\n",
      "---> 尹 \"文정부, 한일관계 국내정치에 끌어들여 외교실종\"\n",
      "---> 행안위 소위, '민주당 방역지원금 예산 증액' 합의 불발\n",
      "---> 제주공항 진에어 항공편 차츰 정상화…\"오늘내로 최대한 수송\"\n",
      "---> 유류세 인하 첫날 휘발유 1천700원대로 하락…직영-알뜰주유소 북적\n",
      "---> '도이치모터스 주가조작' 권오수 회장 영장…16일 구속심사\n",
      "---> 문정인 \"中올림픽서 4자 종전선언 지지시 차기정부 못뒤집어\"\n",
      "---> 구본준·신동빈…요소수 대란 속 '구원투수'로 나선 기업 CEO들\n",
      "---> 이스타항공, 회생안 인가로 '재이륙'…AOC 발급·자금 확보 남아\n"
     ]
    }
   ],
   "source": [
    "def today_news():\n",
    "    url = \"https://www.naver.com/\"\n",
    "    page = urlopen(url)\n",
    "    soup = BeautifulSoup(page, 'html.parser')\n",
    "\n",
    "    news_tmp = soup.find(\"div\", class_=\"list_issue\")\n",
    "    news = news_tmp.find_all(\"a\", class_ = \"issue\")\n",
    "\n",
    "    for i in range(len(news)):\n",
    "        print(\"---> {0}\".format(news[i].text))\n",
    "\n",
    "today_news()"
   ]
  },
  {
   "cell_type": "markdown",
   "metadata": {},
   "source": [
    "# 문제 4.\n",
    "\n",
    "+ https://search.naver.com/search.naver?sm=tab_hty.top&whttps://search.naver.com/search.naver?sm=tab_hty.top&where=nexearch&query=%EC%9D%8C%EC%9B%90%EC%B0%A8%ED%8A%B8&oquery=%EB%A9%9C%EB%A1%A0%EC%B0%A8%ED%8A%B8&tqi=UrZ0HsprvN8ssK5ZP%2BsssssstVh-314088here=nexearch&query=%EC%9D%8C%EC%9B%90%EC%B0%A8%ED%8A%B8&oquery=%EC%9D%8C%EC%9B%90&tqi=hKk9udp0J14ssfLos3Kssssssl4-396598"
   ]
  },
  {
   "cell_type": "code",
   "execution_count": 157,
   "metadata": {},
   "outputs": [
    {
     "name": "stdout",
     "output_type": "stream",
     "text": [
      "1.  strawberry moon  | 아이유(IU) | strawberry moon\n",
      "2.  Wake Up (Prod. 코드 쿤스트)  | 개코, Ourealgoat(아우릴고트), SINCE, 안병웅, Tabber, 조광일 | 쇼미더머니 10 Episode 1\n",
      "3.  Savage  | aespa | Savage - The 1st Mini Album\n",
      "4.  쉬어 (Feat. MINO) (Prod. GRAY)  | 아넌딜라이트(Anandelight), unofficialboyy, BE'O(비오), 지구인, Mudd the student | 쇼미더머니 10 Episode 1\n",
      "5.  Stay  | The Kid LAROI, Justin Bieber | Stay\n",
      "6.  신호등  | 이무진 | 신호등\n",
      "7.  Next Level  | aespa | Next Level\n",
      "8.  낙하 (with 아이유)  | AKMU(악뮤) | NEXT EPISODE\n",
      "9.  My Universe  | Coldplay, 방탄소년단 | My Universe\n",
      "10.  Bad Habits  | Ed Sheeran | =\n"
     ]
    }
   ],
   "source": [
    "from selenium import webdriver\n",
    "\n",
    "import numpy as np\n",
    "import pandas as pd\n",
    "import matplotlib.pyplot as plt\n",
    "import seaborn as sns\n",
    "\n",
    "import matplotlib.font_manager as fm\n",
    "font_name = fm.FontProperties(fname='/Users/hoon/Library/Fonts/NanumSquareRegular.ttf').get_name()\n",
    "plt.rc(\"font\", family=font_name)\n",
    "import matplotlib as mpl\n",
    "mpl.rcParams[\"axes.unicode_minus\"] = False\n",
    "\n",
    "import urllib.request as req\n",
    "from urllib.request import urlopen\n",
    "from urllib.request import HTTPError, URLError\n",
    "import urllib.parse\n",
    "from bs4 import BeautifulSoup\n",
    "import requests\n",
    "\n",
    "from tqdm import tqdm_notebook\n",
    "import time\n",
    "\n",
    "import re\n",
    "\n",
    "def music_top10():\n",
    "    url =\"https://search.naver.com/search.naver?sm=tab_hty.top&whttps://search.naver.com/search.naver?sm=tab_hty.top&where=nexearch&query=%EC%9D%8C%EC%9B%90%EC%B0%A8%ED%8A%B8&oquery=%EB%A9%9C%EB%A1%A0%EC%B0%A8%ED%8A%B8&tqi=UrZ0HsprvN8ssK5ZP%2BsssssstVh-314088here=nexearch&query=%EC%9D%8C%EC%9B%90%EC%B0%A8%ED%8A%B8&oquery=%EC%9D%8C%EC%9B%90&tqi=hKk9udp0J14ssfLos3Kssssssl4-396598\"\n",
    "    page = urlopen(url)\n",
    "    soup = BeautifulSoup(page, 'html.parser')\n",
    "    first_tmp = soup.find(\"ol\", class_=\"music_list\")\n",
    "    second_tmp = soup.find(\"ol\", class_=\"music_list _more_content\")\n",
    "    first_count = first_tmp.find_all(\"li\", \"list_item _sap_item _svp_item\")\n",
    "    second_count = second_tmp.find_all(\"li\", \"list_item _sap_item _svp_item\")\n",
    "\n",
    "    for i in range(len(first_count)):\n",
    "        first_title = first_tmp.find_all(\"span\", \"tit_area\")[i].text\n",
    "        first_singer_album = first_tmp.find_all(\"div\", \"dsc_area\")[i].find_all(\"span\", \"name\")\n",
    "        first_singer = first_singer_album[1].text\n",
    "        first_album = first_singer_album[0].text\n",
    "\n",
    "        print(\"{0}. {1} | {2} | {3}\".format(i+1, first_title, first_singer, first_album))\n",
    "\n",
    "    for i in range(len(second_count)):\n",
    "        second_title = second_tmp.find_all(\"span\", \"tit_area\")[i].text\n",
    "        second_singer_album = second_tmp.find_all(\"div\", \"dsc_area\")[i].find_all(\"span\", \"name\")\n",
    "        second_singer = second_singer_album[1].text\n",
    "        second_album = second_singer_album[0].text\n",
    "\n",
    "        print(\"{0}. {1} | {2} | {3}\".format(i+6, second_title, second_singer, second_album))\n",
    "\n",
    "music_top10()"
   ]
  },
  {
   "cell_type": "code",
   "execution_count": null,
   "metadata": {},
   "outputs": [],
   "source": []
  }
 ],
 "metadata": {
  "interpreter": {
   "hash": "ffa51a067cc8f56fbe973d67ebf9bd219600714a44d58766a723001c1f48db64"
  },
  "kernelspec": {
   "display_name": "Python 3.9.6 64-bit ('datastudy': conda)",
   "language": "python",
   "name": "python3"
  },
  "language_info": {
   "codemirror_mode": {
    "name": "ipython",
    "version": 3
   },
   "file_extension": ".py",
   "mimetype": "text/x-python",
   "name": "python",
   "nbconvert_exporter": "python",
   "pygments_lexer": "ipython3",
   "version": "3.9.7"
  },
  "orig_nbformat": 4
 },
 "nbformat": 4,
 "nbformat_minor": 2
}
