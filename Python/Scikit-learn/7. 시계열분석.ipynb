{
 "cells": [
  {
   "cell_type": "markdown",
   "metadata": {},
   "source": [
    "# 1. ARIMA\n",
    "- 전통적인 통계 분석 기법 / ML, DL 분석법 아니다.\n",
    "- Auto Regressive Integrated Moving Average\n",
    "- AutoRegressive + MovingAverage\n",
    "- 정상성 : 평균, 분산이 시간이 지남에 따라 일정해지는 성질\n",
    "- 시계열 데이터 중 변동폭이 일정하지 않거나 추세, 계절성이 있는 경우 로그 변환, 차분으로 정상성 확보해준다\n",
    "- 계절성 O or 계절성 X로 ARIMA 분석 다르게 진행\n",
    "    - 계절성 : 아이스크림 판매량\n",
    "    - 비계절성 : 주가\n",
    "- refer : https://leedakyeong.tistory.com/entry/Python-%EB%82%A0%EC%94%A8-%EC%8B%9C%EA%B3%84%EC%97%B4-%EB%8D%B0%EC%9D%B4%ED%84%B0Kaggle%EB%A1%9C-ARIMA-%EC%A0%81%EC%9A%A9%ED%95%98%EA%B8%B0\n"
   ]
  },
  {
   "cell_type": "code",
   "execution_count": 1,
   "metadata": {},
   "outputs": [],
   "source": [
    "# import\n",
    "from statsmodels.tsa.arima_model import ARIMA\n",
    "from statsmodels.tsa.seasonal import seasonal_decompose #Trend, Cycle, Seasonal, Random 네 요소로 데이터 추이 그래프 보여준다.\n",
    "import statsmodels.api as sm #ACF 그래프 그리기\n",
    "from statsmodels.tsa.stattools import adfuller\n",
    "\n",
    "\n",
    "import pandas as pd\n",
    "import datetime as dt\n",
    "import numpy as np\n",
    "import seaborn as sns\n",
    "import matplotlib.pyplot as plt\n",
    "\n",
    "import os\n",
    "import warnings\n",
    "warnings.filterwarnings(\"ignore\")\n",
    "plt.style.use('ggplot')\n"
   ]
  },
  {
   "cell_type": "code",
   "execution_count": null,
   "metadata": {},
   "outputs": [],
   "source": [
    "### 1. 시계열 분해법으로 데이터가 계절성 같은 패턴을 보이는지 파악해야한다.\n",
    "# 데이트타임을 인덱스로 설정한 데이터 만들어줍니다.\n",
    "path = 'data/df.csv'\n",
    "df = pd.read_csv(path, index_col=0)\n",
    "time = df.loc[:, ['date', 'value']]\n",
    "time.index = time.date\n",
    "ts = time.drop('date', axis=1)\n",
    "ts"
   ]
  },
  {
   "cell_type": "code",
   "execution_count": null,
   "metadata": {},
   "outputs": [],
   "source": [
    "result = seasonal_decompose(ts['value'], model='additive', freq=7)\n",
    "# model =\n",
    "# freq = 4(분기), 12(월별), 7(주별), 356(일별)"
   ]
  },
  {
   "cell_type": "code",
   "execution_count": null,
   "metadata": {},
   "outputs": [],
   "source": [
    "# 데이터가 패턴을 보이면 정상성 부합하는지 확인해봐야한다.\n",
    "# ACF 그래프 그려보기 : 패턴 유무를 파악하는 그래프라 이해\n",
    "# 그래프가 천천히 줄어들면 정상성을 만족하지 않는다는걸 의미한다.\n",
    "\n",
    "fig = plt.figure(figsize=(20, 10))\n",
    "ax = fig.add_subplot(211)\n",
    "fig = sm.graphics.tsa.plot_acf(ts, lags=20, ax=ax)"
   ]
  },
  {
   "cell_type": "code",
   "execution_count": null,
   "metadata": {},
   "outputs": [],
   "source": [
    "# 데이터가 패턴을 보이면 정상성 부합하는지 확인해봐야한다.\n",
    "# PACF 그래프 그려보기 : 직접적으로 영향 주는 부분만 계산해 패턴 유무 파악하는 그래프\n",
    "# 그래프가 천천히 줄어들면 정상성을 만족하지 않는다는걸 의미한다.\n",
    "\n",
    "fig = plt.figure(figsize=(20, 10))\n",
    "ax = fig.add_subplot(211)\n",
    "fig = sm.graphics.tsa.plot_pacf(ts, lags=20, ax=ax)"
   ]
  },
  {
   "cell_type": "code",
   "execution_count": null,
   "metadata": {},
   "outputs": [],
   "source": [
    "# 정상성 여부 숫자로 확인 :: ADF test\n",
    "# p-value가 0.05 이하면 정상성 OK\n",
    "# p-value가 0.05보다 크면 정상성 X\n",
    "# ARIMA 분석 위해선 정상성 있어야\n",
    "\n",
    "result = adfuller(ts)\n",
    "print('ADF statistic : {}'.format(result[0]))\n",
    "print('p-value : {}'.format(result[1]))\n",
    "print('Critical Values :')\n",
    "for key, value in result[4].items():\n",
    "    print('\\t{0}% : {1}'.format(key, value))"
   ]
  },
  {
   "cell_type": "code",
   "execution_count": null,
   "metadata": {},
   "outputs": [],
   "source": [
    "# 차분 : 연이은 관측값들의 차이를 계산하는 것\n",
    "\n",
    "ts_diff = ts - ts.shift()\n",
    "plt.figure(figsize=(20,10))\n",
    "plt.plot(ts_diff)\n",
    "plt.title('Differencing Method')\n",
    "plt.xlabel('Date')\n",
    "plt.ylabel('Differencing Mean Temp')\n",
    "plt.show()"
   ]
  },
  {
   "cell_type": "code",
   "execution_count": null,
   "metadata": {},
   "outputs": [],
   "source": [
    "# 차분한 데이터로 정상성 검사해보기\n",
    "result = adfuller(ts_diff[1:])\n",
    "print('ADF statistic : {}'.format(result[0]))\n",
    "print('p-value : {}'.format(result[1]))\n",
    "print('Critical Values :')\n",
    "for key, value in result[4].items():\n",
    "    print('\\t{0}% : {1}'.format(key, value))"
   ]
  },
  {
   "cell_type": "code",
   "execution_count": null,
   "metadata": {},
   "outputs": [],
   "source": [
    "# 아리마 모델에 fit해보기\n",
    "# 아리마모델은 (p,q,d) 값으로 여러개를 정함\n",
    "# 정하는 방식은 ACF와 PACF가 0에 수렴하는 lag값 보며 결정\n",
    "\n",
    "#fit model\n",
    "model = ARIMA(ts, order=(2,1,2))\n",
    "model_fit = model.fit(disp=0)\n",
    "\n",
    "#predict\n",
    "start_index = dt(2020, 3, 1)\n",
    "end_index = dt(2022, 5, 2)\n",
    "forecast = model_fit.predict(start=start_index, end=end_index, typ = 'levels')\n",
    "# 차분이 들어간 모델에서 typ를 default값인 'linear'로 설정하면 차분한 값에 대한 결과가 나온다.\n",
    "# 해당 모델에서 알고 싶은 결과는 차분하기 전의 데이터에 대한 시계열 분석이다. 따라서 typ='levels'로 지정해준다.\n",
    "\n",
    "#visualization\n",
    "plt.figure(figsize=(20,10))\n",
    "plt.plot(df.date, df.value, label='original')\n",
    "plt.plot(forecast, label='predicted')\n",
    "plt.title(\"Time Series Forecast\")\n",
    "plt.xlabel(\"Date\")\n",
    "plt.ylabel(\"Value\")\n",
    "plt.legend()\n",
    "plt.show()"
   ]
  },
  {
   "cell_type": "code",
   "execution_count": null,
   "metadata": {},
   "outputs": [],
   "source": [
    "# 마지막 잔차 분석을 통해 모델에 빠진 것이 없는지 확인\n",
    "# 잔차는 어떠한 패턴이나 특성이 나타나선 안된다.\n",
    "\n",
    "resi = np.array(df[df.date >= start_index].value) - np.array(forecast)\n",
    "# 예측 범위 맞춰서 실제값과 예측값을 빼준 것\n",
    "\n",
    "plt.figure(figsize=(20,10))\n",
    "plt.plot(df.date[df.date >= start_index], resi) #x축은 날짜 / y축은 잔차값\n",
    "plt.xlabel(\"Date\")\n",
    "plt.ylabel(\"Value\")\n",
    "plt.legend()\n",
    "plt.show()"
   ]
  },
  {
   "cell_type": "code",
   "execution_count": null,
   "metadata": {},
   "outputs": [],
   "source": [
    "# 잔차 ACF 그래프와 ADF 검정 통해 마지막 점검\n",
    "\n",
    "fig = plt.figure(figsize=(20, 10))\n",
    "ax = fig.add_subplot(211)\n",
    "fig = sm.graphics.tsa.plot_pacf(resi, lags=20, ax=ax)"
   ]
  },
  {
   "cell_type": "code",
   "execution_count": null,
   "metadata": {},
   "outputs": [],
   "source": [
    "result = adfuller(resi)\n",
    "print('ADF statistic : {}'.format(result[0]))\n",
    "print('p-value : {}'.format(result[1]))\n",
    "print('Critical Values :')\n",
    "for key, value in result[4].items():\n",
    "    print('\\t{0}% : {1}'.format(key, value))"
   ]
  },
  {
   "cell_type": "code",
   "execution_count": null,
   "metadata": {},
   "outputs": [],
   "source": [
    "# 성능 확인\n",
    "\n",
    "from sklearn import metrics\n",
    "\n",
    "def scoring(y_true, y_pred):\n",
    "    r2 = round(metrics.r2_score(y_true, y_pred) * 100, 3)\n",
    "    corr = round(np.corrcoef(y_true, y_pred)[0, 1], 3)\n",
    "    mape = round(metrics.mean_absolute_percentage_error(y_true, y_pred) * 100, 3)\n",
    "    rmse = round(metrics.mean_squared_error(y_true, y_pred, squared=False), 3)\n",
    "\n",
    "    df = pd.DataFrame({\n",
    "        'R2':r2,\n",
    "        'Corr':corr,\n",
    "        'MAPE':mape,\n",
    "        'RMSE':rmse\n",
    "    })\n",
    "\n",
    "score = scoring(df[df.date >= start_index].value, forecast)"
   ]
  }
 ],
 "metadata": {
  "interpreter": {
   "hash": "476a94dc85aeef50ce38d52ab019ae32fa2a67ff1ac8045d45d38aa23f62cc9d"
  },
  "kernelspec": {
   "display_name": "Python 3.9.7 ('ML')",
   "language": "python",
   "name": "python3"
  },
  "language_info": {
   "codemirror_mode": {
    "name": "ipython",
    "version": 3
   },
   "file_extension": ".py",
   "mimetype": "text/x-python",
   "name": "python",
   "nbconvert_exporter": "python",
   "pygments_lexer": "ipython3",
   "version": "3.9.7"
  },
  "orig_nbformat": 4
 },
 "nbformat": 4,
 "nbformat_minor": 2
}
