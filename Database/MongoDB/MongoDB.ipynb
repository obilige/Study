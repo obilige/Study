{
 "cells": [
  {
   "cell_type": "markdown",
   "metadata": {},
   "source": [
    "# 1. MongoDB\n",
    "\n",
    "- SQL과 차이 : MongoDB는 NoSQL\n",
    "    + SQL : 정형화된 데이터(정해진 규격이 있는 데이터 형태), 관계형DB\n",
    "    + NoSQL : Not Only SQL, SQL 말고 다른 것도 사용하자 // Non-Relational Operational Database SQL\n",
    "\n",
    "- NoSQL의 장점 :\n",
    "    + 클라우드 컴퓨터 환경에 적합하다.\n",
    "    + 유연한 데이터 모델이다.\n",
    "    + Big-Data 처리에 효과적이다.\n",
    "\n",
    "- 데이터를 저장, 관리하는 방식\n",
    "    + Document DataBase\n",
    "    + JSON type : [{key:value}]로 \n",
    "\n",
    "- MongoDB 설치\n",
    "    + 터미널\n",
    "    + brew tap mongodb/brew\n",
    "    + brew install mongodb-community\n",
    "\n",
    "- MongoDB 시작, 끝, 접속 명령어\n",
    "    + brew services start mongodb-community\n",
    "    + brew services stop mongodb-community\n",
    "    + localhost:27017\n",
    "\n",
    "- MongoDB CLI 기본 명령어\n",
    "    + MongoDB 서버 및 클라이언트 실행 :\n",
    "        * mongod 서버프로그램 실행 : mongod // mongod --dpath \"경로\"\n",
    "        * mongod 클라이언트 실행 : \n",
    "    + 데이터베이스 생성 : use 데이터베이스명\n",
    "    + 데이터베이스 확인 : show dbs;\n",
    "    + 데이터베이스 선택 : use local;\n",
    "        * use 시 db가 없으면? 만들어진다. use test;\n",
    "        * use test; 후에 show dbs; 하면 목록에 없는데? 실제로 작업을 하면 만들어져! 매우 합리적이다.\n",
    "    + 컬렉션 생성 : db.createCollection('컬렉션명', '옵션');\n",
    "        * db.createCollection('이름', {capped:<boolean>, autoIndexId:<boolean>, size:<number>, max:<number>})\n",
    "            capped : True(기본값 False)로 설정하면 capped collection이 활성화된다. size 항상 지정해줘야하며 capped collection이란 고정된 크기를 가진 컬렉션\n",
    "            // 메모리가 꽉 찰 때까지 저장할 수 있게 해주는 옵션\n",
    "            autoIndexId : True(기본값 False)로 설정하면 _id 필드에 index를 자동으로 생성해 1,2,3,4,5 들어가게 해준다.\n",
    "            // _id 필드는 SQL primary key와 비슷한 개념으로 이해하면 된다.\n",
    "            size : 해당 컬렉션의 최대 크기를 지정(byte)\n",
    "            max : 컬렉션에 추가할 수 있는 최대 도큐먼트(로우) 개수 지정\n",
    "\n",
    "        * 실습 :\n",
    "            db.createCollection('books') -> \"ok\" : 1\n",
    "            db.books.insert({\"title\":\"python정복\"});\n",
    "            db.books.insert({\"title\":\"mongodb정복\", \"author\":\"홍길동\"});\n",
    "            db.books.find();\n",
    "        \n",
    "        * 실습 2 :\n",
    "            use test;\n",
    "            db.hobby.insert({\"name\":\"Michael\", \"hobby\":\"Basketball\"});\n",
    "            // 안만들었는데? 괜찮아. 만들면서 바로 값을 지정해줘. 그러니까 사실 따로 만들 필요 없어!\n",
    "            db.books.drop();\n",
    "            db.hobby.drop();\n",
    "\n",
    "    + 컬렉션 확인 : show collections;\n",
    "    + 컬렉션 삭제 : db.컬렉션명.drop();\n",
    "    + 데이터베이스 삭제 : db.dropDatabase()\n",
    "\n",
    "\n",
    "    + Document 관련 명령어 : insert(), remove()\n",
    "        * 실습 :\n",
    "        use test;\n",
    "        db.books.insert({\"title\":\"python정복\"});\n",
    "        db.books.insert({\"title\":\"mongodb정복\", \"author\":\"홍길동\"});\n",
    "        // 여러 개의 도큐먼트를 한번에 입력할 수 있습니다.\n",
    "        db.books.insert([{\"title\":\"축구정복\", \"author\":\"이다솔\", \"price\":13000}, {\"title\":\"개그정복\", \"author\":\"황상연\", \"price\":19000}, {\"title\":\"외국어정복\", \"author\":\"고병욱\", \"price\":20000}]);    \n",
    "        // 여러 개의 value를 입력할 수 있습니다.\n",
    "        db.books.insert({\"title\":\"회계정복\", \"author\":\"최대수\", \"seller\":[\"교보문고\", \"영풍문고\"]})\n",
    "        // 삭제\n",
    "        db.books.remove({\"title\":\"회계정복\"})\n",
    "        db.books.remove({\"_id\": ObjectId(\"61d6696c82c20148cfdeffde\")});\n",
    "\n",
    "\n",
    "    + schema 설계\n",
    "        * 예를 들어 블로그를 위한 db설계를 하려고 한다.\n",
    "\t        - 게시글(post)에는 작성자 이름(username), 제목(title), 내용(content), 작성시간(writetime)을 가진다.\n",
    "\t        - 각 게시글에는 0개 이상의 태그를 가질 수 있다.(tag)\n",
    "\t        - 게시글에는 댓글을 달 수 있다. 댓글(comment)은 작성자 이름(username), 내용(content), 작성시간(writetime)을 가진다.\n",
    "\n",
    "        {\n",
    "\t\t_id : post_id,\n",
    "\t\ttitle : post_title,\n",
    "\t\tcontent : post_content,\n",
    "\t\tusername : post_username,\n",
    "\t\twritetime : post_writetime,\n",
    "\t\t\n",
    "\t\ttags : [tag1, tag2, tag3, ... ],\n",
    "\n",
    "\t\tcomment : [\n",
    "\t\t\t{content : post_content, username : post_username, writetime : post_writetime},\n",
    "\t\t\t{content : post_content, username : post_username, writetime : post_writetime},\n",
    "\t\t\t...\n",
    "\t\t\t]\n",
    "\t}\n",
    "\n",
    "    // 어떤 DB가 들어올지 알고 있을 땐 SQL이 더 나음. 위 게시판 사례도 실제론 관계형 DB가 더 적합함\n",
    "    // 다만 어떻게 NoSQL로 스키마를 설계하는지 보여주기 위해 예를 든 것\n",
    "\n",
    "\n",
    "    * 조회에 대한 내용\n",
    "    https://docs.mongodb.com/manual/reference/operator/query/\n",
    "\n",
    "\n",
    "    use test;\n",
    "    db.articles.insert([\n",
    "\t\t{\n",
    "\t\t\t\"title\" : \"article01\",\n",
    "\t\t\t\"content\" : \"content01\",\n",
    "\t\t\t\"writer\" : \"Tom\",\n",
    "\t\t\t\"name\" : {\"first\" : \"gil dong\", \"last\" : \"hong\"},\n",
    "\t\t\t\"language\" : [\"korean\", \"english\", \"french\"],\n",
    "\t\t\t\"likes\" : 0,\n",
    "\t\t\t\"comment\" : []\n",
    "\t\t},\n",
    "\t\t{\n",
    "\t\t\t\"title\" : \"article02\",\n",
    "\t\t\t\"content\" : \"content02\",\n",
    "\t\t\t\"writer\" : \"Alpha\",\n",
    "\t\t\t\"name\" : {\"first\" : \"j. k.\", \"last\" : \"tiger\"},\n",
    "\t\t\t\"language\" : [\"korean\", \"chinese\"],\n",
    "\t\t\t\"likes\" : 23,\n",
    "\t\t\t\"comment\" : [{\"name\" : \"Bravo\", \"message\" : \"Hey man!\"}]\n",
    "\t\t},\n",
    "\t\t{\n",
    "\t\t\t\"title\" : \"article03\",\n",
    "\t\t\t\"content\" : \"content03\",\n",
    "\t\t\t\"writer\" : \"Bravo\",\n",
    "\t\t\t\"likes\" : 40,\n",
    "\t\t\t\"comment\" : [{\"name\" : \"Charlie\", \"message\" : \"Hey man!\"}, \n",
    "\t\t\t\t{\"name\" : \"Delta\", \"message\" : \"Hey man!\"}]\n",
    "\t\t}\n",
    "\t])\n",
    "\n",
    "    db.articles.find().pretty()\n",
    "\n",
    "    * 비교 논리 연산자를 이용한 조회\n",
    "\n",
    "        - writer가 tom인 document 조회\n",
    "            + db.articles.find({\"writer\" : \"Tom\"}).pretty();\n",
    "            + db.articles.find({'writer' : {$eq:'Tom'}}).pretty();\n",
    "        - likes가 30 이하인 document 조회\n",
    "            + db.articles.find({'likes' : {$lte:30}}).pretty();\n",
    "                초과 : gt(greater than)\n",
    "                이상 : gte(greater than equal)\n",
    "                미만 : lt(less than)\n",
    "                이하 : lte(less than equal)\n",
    "        - writer가 \"Alpha\"이고 likes가 30보다 작은 document 조회(and 조건이 필요)\n",
    "            + db.articles.find({$and : [{'writer' : {$eq:'Alpha'}}, {'likes' : {$lte:30}}]}).pretty();\n",
    "        - likes가 10보다 크고 30보다 작은 document 조회(and 조건)\n",
    "            + db.articles.find({$and : [{'likes' : {$gte:10}}, {'likes' : {$lte:30}}]}).pretty();\n",
    "        - writer가 \"Alpha\"이거나 \"Bravo\"인 document 조회(and 조건이 필요)\n",
    "            + db.articles.find({$or : [{'writer' : {$eq:'Alpha'}}, {'writer' : {$eq:'Bravo'}}]}).pretty();\n",
    "            + db.articles.find({'writer' : {$in : ['Alpha', 'Bravo']}}).pretty();\n",
    "                - in은 sql에서의 in과 같다. or와 =을 여러 값에 동시 적용하고 싶을 때 쓰면 된다.\n",
    "        - writer가 \"Bravo\"이거나 likes가 10 미만인 document\n",
    "            + db.articles.find({$or : [{'writer' : {$eq:'Bravo'}}, {'likes' : {$lt:10}}]}).pretty();\n",
    "        - title이 \"article01\"과 같고 likes가 10 미만인 document\n",
    "            + db.articles.find({$and : [{'title' : {$eq:'article01'}}, {'likes' : {$lt:10}}]}).pretty();\n",
    "            + db.articles.find({'title' : {$eq:'article01'},'likes' : {$lt:10}}).pretty();"
   ]
  },
  {
   "cell_type": "markdown",
   "metadata": {},
   "source": [
    "## 정규표현식을 이용한 조회\n",
    "- $regex\n",
    "    * title에서 01이란 문자열이 들어있는 document 조회\n",
    "        + db.articles.find({'title' : {$regex : '01'}}).pretty();\n",
    "        + db.articles.find({'title' : /01/}).pretty();\n",
    "    * language에서 eng란 문자열이 들어있는 document 조회\n",
    "        + db.articles.find({'language' : {$regex : 'eng'}}).pretty();\n",
    "        + db.articles.find({'language' : /eng/}).pretty();\n",
    "    * writer에서 alp란 문자열이 들어있는 document 조회(option으로 대소문자 구분없이 찾도록 하기)\n",
    "        + db.articles.find({'writer' : {$regex : 'alp', $options : '$i'}}).pretty();\n",
    "        + db.articles.find({'writer' : /alp/}).pretty();\n",
    "    * title에서 article01, article02란 문자열이 들어있는 document 조회\n",
    "        + db.articles.find({'title' : /article0[1-2]/}).pretty();\n",
    "        + db.articles.find({'title' : {$regex : \"article0[1-2]\"}}).pretty();\n",
    "        + db.articles.find({'title' : /article[0-9]/}).pretty();\n",
    "\n",
    "## where를 이용해 javascript 언어와 결합\n",
    "- where\n",
    "    * comment에 값이 하나도 없는 document를 조회\n",
    "        + db.articles.find({$where:\"this.comment.length == 0\"}).pretty();\n",
    "\n",
    "## comment 안에 document가 내재되어있을 때 embedded documents 조회\n",
    "- dd\n",
    "    * comment 중 \"charlie\"가 쓴 댓글이 있는 document 조회\n",
    "        + db.articles.find({\"comment\":{$elemMatch:{\"name\":\"Charlie\"}}}).pretty()\n",
    "\n",
    "## Projection\n",
    "- example\n",
    "    * articles에서 title과 content만 조회\n",
    "        + db.articles.find({}, {\"_id\":false, \"title\":true, \"content\":true}).pretty();\n",
    "    * title이 03인 document에서 댓글을 하나만 보이도록 조회 : $slice\n",
    "        + db.articles.find({\"title\":\"article03\"}, {\"title\":true, \"comment\":true}).pretty();\n",
    "        + db.articles.find({\"title\":\"article03\"}, {\"title\":true, \"comment\": {$slice : 1}}).pretty();\n",
    "        + db.articles.find({\"title\":\"article03\"}, {\"title\":true, \"comment\": {$elemMatch : {'name':'Delta'}}}).pretty();"
   ]
  },
  {
   "cell_type": "markdown",
   "metadata": {},
   "source": [
    "## 수정 : update();\n",
    "\n",
    "- 연습을 위한 데이터 :\n",
    "\tdb.people.insert([\n",
    "\t\t{name:\"Abet\", age:19},\n",
    "\t\t{name:\"Betty\", age:20},\n",
    "\t\t{name:\"Charlie\", age:23, skills:[\"mongodb\", \"nodejs\"]},\n",
    "\t\t{name:\"David\", age:23, score:20}\n",
    "\t])\n",
    "\n",
    "\t* abet의 나이를 20살 변경\n",
    "\t\t- db.people.update({\"name\":\"Abet\"},{$set:{\"age\":20}});\n",
    "\t\t- db.people.update({\"name\":\"Abet\"},{\"age\":19});\n",
    "\t\t- 아래 쿼리문은 \"name\"이 \"Abet\"인 값을 찾아서 \"age\":19로만 replace함. 따라서 기존의 이름 : abet 데이터와 age:20은 삭제하고 age:19만 만들어진다.\n",
    "\t\n",
    "\t* 특정 필드 삭제 : $unset\n",
    "\t\t- david의 score를 삭제\n",
    "\t\t- db.people.update({\"name\":\"David\"}, {$unset:{\"score\":1}})\n",
    "\t\n",
    "\t* 특정 필드 추가 : $set\n",
    "\t\t- db.people.update({\"name\":\"David\"}, {$set:{\"score\":20}});\n",
    "\t\t- update는 찾는 필드가 있으면 수정해주고 없으면 추가해준다.\n",
    "\n",
    "\t* 업데이트 하려는 document가 없을 때 insert를 할 수 있게 하는 방법\n",
    "\t\t- db.people.update({\"name\":\"Elly\"}, {\"name\":\"Elly\", \"age\":17}, {upsert:true});\n",
    "\t\n",
    "\t* 여러 document의 필드를 추가\n",
    "\t\t- age가 20보다 작거나 같은 document의 score를 10으로 수정\n",
    "\t\t- db.people.update({\"age\":{$lte: 20}}, {$set :{\"score\":10}});\n",
    "\t\t- DML(insert, update, delete)는 하나의 작업단위로 동시에 두개가 처리되지 않는다.\n",
    "\t\t- 원래대로 복원\n",
    "\t\t- db.people.update({\"name\":\"Abet\"}, {$unset : {\"score\":1}});\n",
    "\t\t- db.people.update({\"age\":{$lte:20}}, {$set : {\"score\":10}}, {multi:true})  ****** 결론은 이거!!\n",
    "\t\n",
    "\t* 배열에 값을 추가 : $push\n",
    "\t\t- charlie documnet에서 skills 배열에 \"python\" 추가\n",
    "\t\t- db.people.update({\"name\":\"Charlie\"}, {$push : {\"skills\" : \"python\"}});\n",
    "\t\t- 여러 값을 동시에 추가하고자할 때\n",
    "\t\t- db.people.update({\"name\":\"Charlie\"}, {$push : {\"skills\" : [\"c\", \"c++\"]}});\n",
    "\t\t\t+ result : \"skills\" : [ \"mongodb\", \"nodejs\", \"python\", [ \"c\", \"c++\" ] ] // 리스트 안에 리스트를 넣어서 추가해버림\n",
    "\t\t- db.people.update({\"name\":\"Charlie\"}, {$push : {\"skills\" : {$each : [\"R\", \"Keras\"]}}});\n",
    "\n",
    "\t* 배열에 값 제거 : $pull\n",
    "\t\t- db.people.update({\"name\":\"Charlie\"}, {$pull : {\"skills\" : \"python\"}});\n",
    "\t\t- db.people.update({\"name\":\"Charlie\"}, {$pull : {\"skills\" : [\"c\", \"c++\"]}});\n",
    "\t\t- 연속적으로 삭제를 원할 땐? 추가할 땐 each, 제거할 땐 in\n",
    "\t\t- db.people.update({\"name\":\"Charlie\"}, {$pull : {\"skills\" : {$in : [\"mongodb\", \"nodejs\"]}}});"
   ]
  },
  {
   "cell_type": "markdown",
   "metadata": {},
   "source": [
    "# 2. python과 mongo 연동\n",
    "- ML에 설치\n",
    "- pip install pymongo(conda install pymongo)"
   ]
  },
  {
   "cell_type": "code",
   "execution_count": 5,
   "metadata": {},
   "outputs": [],
   "source": [
    "#import pymongo\n",
    "from pymongo import MongoClient"
   ]
  },
  {
   "cell_type": "code",
   "execution_count": 6,
   "metadata": {},
   "outputs": [
    {
     "name": "stdout",
     "output_type": "stream",
     "text": [
      "MongoClient(host=['127.0.0.1:27017'], document_class=dict, tz_aware=False, connect=True)\n"
     ]
    }
   ],
   "source": [
    "#### 서버연결\n",
    "conn = MongoClient(\"127.0.0.1\", 27017) #ip주소와 port넘버를 넘겨줘야한다.\n",
    "# ip주소엔 127.0.0.1이나 localhost로\n",
    "# port번호는 mongod 접속 후 ctrl + F로 port 검색 후 그 값을 찾아서 입력해주면 된다.\n",
    "# ip주소는 컴퓨터까지 / 컴퓨터 내 접속 위치는 port넘버로\n",
    "\n",
    "print(conn)\n",
    "conn.close()"
   ]
  },
  {
   "cell_type": "code",
   "execution_count": 8,
   "metadata": {},
   "outputs": [
    {
     "name": "stdout",
     "output_type": "stream",
     "text": [
      "Database(MongoClient(host=['127.0.0.1:27017'], document_class=dict, tz_aware=False, connect=True), 'test')\n"
     ]
    }
   ],
   "source": [
    "#### DB에 연결\n",
    "conn = MongoClient(\"127.0.0.1\", 27017)\n",
    "# dbname = conn.get_database(\"test\")\n",
    "# dbname = conn[\"test\"]\n",
    "# 만약 없는 데이터베이스라면? 만들어진다.\n",
    "# dbname = conn.test2 -> test2 db가 만들어진다.\n",
    "dbname = conn.test\n",
    "print(dbname)\n",
    "conn.close()"
   ]
  },
  {
   "cell_type": "code",
   "execution_count": 10,
   "metadata": {},
   "outputs": [
    {
     "name": "stdout",
     "output_type": "stream",
     "text": [
      "Collection(Database(MongoClient(host=['127.0.0.1:27017'], document_class=dict, tz_aware=False, connect=True), 'test'), 'articles')\n"
     ]
    }
   ],
   "source": [
    "#### collections와 연결\n",
    "conn = MongoClient(\"127.0.0.1\", 27017)\n",
    "dbname = conn.test\n",
    "\n",
    "collect = dbname.articles #articles는 collection 중 하나\n",
    "#collect = dbname[\"articles\"]\n",
    "print(collect)\n",
    "\n",
    "conn.close()"
   ]
  },
  {
   "cell_type": "markdown",
   "metadata": {},
   "source": [
    "## 1. CRUD"
   ]
  },
  {
   "cell_type": "code",
   "execution_count": 11,
   "metadata": {},
   "outputs": [],
   "source": [
    "#### CRUD\n",
    "conn = MongoClient(\"127.0.0.1\", 27017)\n",
    "dbname = conn.test\n",
    "collect = dbname.people"
   ]
  },
  {
   "cell_type": "code",
   "execution_count": 13,
   "metadata": {},
   "outputs": [
    {
     "name": "stdout",
     "output_type": "stream",
     "text": [
      "5\n",
      "{'_id': ObjectId('61d7bcec76d21093b0ac880d'), 'name': 'Abet', 'age': 19.0, 'score': 10.0}\n",
      "{'_id': ObjectId('61d7bcec76d21093b0ac880e'), 'name': 'Betty', 'age': 20.0, 'score': 10.0}\n",
      "{'_id': ObjectId('61d7bcec76d21093b0ac880f'), 'name': 'Charlie', 'age': 23.0, 'skills': ['R', 'Keras']}\n",
      "{'_id': ObjectId('61d7bcec76d21093b0ac8810'), 'name': 'David', 'age': 23.0, 'score': 20.0}\n",
      "{'_id': ObjectId('61db8751e298d9ad108b3ce6'), 'name': 'Elly', 'age': 17.0, 'score': 10.0}\n"
     ]
    }
   ],
   "source": [
    "#### db.people.find();\n",
    "print(collect.count_documents({}))\n",
    "\n",
    "for i in collect.find():\n",
    "    print(i)"
   ]
  },
  {
   "cell_type": "code",
   "execution_count": 15,
   "metadata": {},
   "outputs": [
    {
     "data": {
      "text/plain": [
       "<pymongo.results.InsertOneResult at 0x1192452c0>"
      ]
     },
     "execution_count": 15,
     "metadata": {},
     "output_type": "execute_result"
    }
   ],
   "source": [
    "data = {\"author\" : \"Mike\", \"text\" : \"my first blog post!\", \"tag\" : [\"mongodb\", \"python\"]}\n",
    "collect.insert_one(data)"
   ]
  },
  {
   "cell_type": "code",
   "execution_count": 16,
   "metadata": {},
   "outputs": [
    {
     "name": "stdout",
     "output_type": "stream",
     "text": [
      "{'_id': ObjectId('61d7bcec76d21093b0ac880d'), 'name': 'Abet', 'age': 19.0, 'score': 10.0}\n",
      "{'_id': ObjectId('61d7bcec76d21093b0ac880e'), 'name': 'Betty', 'age': 20.0, 'score': 10.0}\n",
      "{'_id': ObjectId('61d7bcec76d21093b0ac880f'), 'name': 'Charlie', 'age': 23.0, 'skills': ['R', 'Keras']}\n",
      "{'_id': ObjectId('61d7bcec76d21093b0ac8810'), 'name': 'David', 'age': 23.0, 'score': 20.0}\n",
      "{'_id': ObjectId('61db8751e298d9ad108b3ce6'), 'name': 'Elly', 'age': 17.0, 'score': 10.0}\n",
      "{'_id': ObjectId('61db9d5ac5ba8e6b82df6be9'), 'author': 'Mike', 'text': 'my first blog post!', 'tag': ['mongodb', 'python']}\n"
     ]
    }
   ],
   "source": [
    "for i in collect.find():\n",
    "    print(i)"
   ]
  },
  {
   "cell_type": "code",
   "execution_count": 17,
   "metadata": {},
   "outputs": [],
   "source": [
    "#### 하다보면 _id를 바로 꺼내서 써야할 때가 있는데, 지금처럼 반복문 써서 일일이 뽑아내는건 너무 불편하다.\n",
    "#### 그럴 때 사용하는 거!\n",
    "\n",
    "data = {\"author\":\"Tom\", \"text\":\"my first blog post!\", \"tag\":[\"mongodb\", \"python\"]}\n",
    "post_id = collect.insert_one(data).inserted_id"
   ]
  },
  {
   "cell_type": "code",
   "execution_count": 18,
   "metadata": {},
   "outputs": [
    {
     "name": "stdout",
     "output_type": "stream",
     "text": [
      "61db9de9c5ba8e6b82df6bea\n"
     ]
    }
   ],
   "source": [
    "print(post_id)"
   ]
  },
  {
   "cell_type": "code",
   "execution_count": 19,
   "metadata": {},
   "outputs": [
    {
     "name": "stdout",
     "output_type": "stream",
     "text": [
      "{'_id': ObjectId('61d7bcec76d21093b0ac880d'), 'name': 'Abet', 'age': 19.0, 'score': 10.0}\n",
      "{'_id': ObjectId('61d7bcec76d21093b0ac880e'), 'name': 'Betty', 'age': 20.0, 'score': 10.0}\n",
      "{'_id': ObjectId('61d7bcec76d21093b0ac880f'), 'name': 'Charlie', 'age': 23.0, 'skills': ['R', 'Keras']}\n",
      "{'_id': ObjectId('61d7bcec76d21093b0ac8810'), 'name': 'David', 'age': 23.0, 'score': 20.0}\n",
      "{'_id': ObjectId('61db8751e298d9ad108b3ce6'), 'name': 'Elly', 'age': 17.0, 'score': 10.0}\n",
      "{'_id': ObjectId('61db9d5ac5ba8e6b82df6be9'), 'author': 'Mike', 'text': 'my first blog post!', 'tag': ['mongodb', 'python']}\n",
      "{'_id': ObjectId('61db9de9c5ba8e6b82df6bea'), 'author': 'Tom', 'text': 'my first blog post!', 'tag': ['mongodb', 'python']}\n"
     ]
    }
   ],
   "source": [
    "for i in collect.find():\n",
    "    print(i)"
   ]
  },
  {
   "cell_type": "code",
   "execution_count": 20,
   "metadata": {},
   "outputs": [],
   "source": [
    "conn.close()"
   ]
  },
  {
   "cell_type": "code",
   "execution_count": 21,
   "metadata": {},
   "outputs": [],
   "source": [
    "#### 데이터 여러 개 입력하기\n",
    "\n",
    "conn = MongoClient(\"127.0.0.1\", 27017)\n",
    "dbname = conn.test\n",
    "collect = dbname.people"
   ]
  },
  {
   "cell_type": "code",
   "execution_count": 23,
   "metadata": {},
   "outputs": [
    {
     "name": "stdout",
     "output_type": "stream",
     "text": [
      "[{'number': 0}, {'number': 1}, {'number': 2}, {'number': 3}, {'number': 4}, {'number': 5}, {'number': 6}, {'number': 7}, {'number': 8}, {'number': 9}]\n"
     ]
    }
   ],
   "source": [
    "datas = [{\"number\" : i} for i  in range(10)]\n",
    "print(datas)"
   ]
  },
  {
   "cell_type": "code",
   "execution_count": 24,
   "metadata": {},
   "outputs": [
    {
     "data": {
      "text/plain": [
       "<pymongo.results.InsertManyResult at 0x118946b00>"
      ]
     },
     "execution_count": 24,
     "metadata": {},
     "output_type": "execute_result"
    }
   ],
   "source": [
    "# collect.insert_many(datas)\n",
    "collect.insert_many({\"number\":i} for i in range(10))"
   ]
  },
  {
   "cell_type": "code",
   "execution_count": 26,
   "metadata": {},
   "outputs": [
    {
     "name": "stdout",
     "output_type": "stream",
     "text": [
      "{'_id': ObjectId('61d7bcec76d21093b0ac880d'), 'name': 'Abet', 'age': 19.0, 'score': 10.0}\n",
      "{'_id': ObjectId('61d7bcec76d21093b0ac880e'), 'name': 'Betty', 'age': 20.0, 'score': 10.0}\n",
      "{'_id': ObjectId('61d7bcec76d21093b0ac880f'), 'name': 'Charlie', 'age': 23.0, 'skills': ['R', 'Keras']}\n",
      "{'_id': ObjectId('61d7bcec76d21093b0ac8810'), 'name': 'David', 'age': 23.0, 'score': 20.0}\n",
      "{'_id': ObjectId('61db8751e298d9ad108b3ce6'), 'name': 'Elly', 'age': 17.0, 'score': 10.0}\n",
      "{'_id': ObjectId('61db9d5ac5ba8e6b82df6be9'), 'author': 'Mike', 'text': 'my first blog post!', 'tag': ['mongodb', 'python']}\n",
      "{'_id': ObjectId('61db9de9c5ba8e6b82df6bea'), 'author': 'Tom', 'text': 'my first blog post!', 'tag': ['mongodb', 'python']}\n",
      "{'_id': ObjectId('61dba0efc5ba8e6b82df6bec'), 'number': 0}\n",
      "{'_id': ObjectId('61dba0efc5ba8e6b82df6bed'), 'number': 1}\n",
      "{'_id': ObjectId('61dba0efc5ba8e6b82df6bee'), 'number': 2}\n",
      "{'_id': ObjectId('61dba0efc5ba8e6b82df6bef'), 'number': 3}\n",
      "{'_id': ObjectId('61dba0efc5ba8e6b82df6bf0'), 'number': 4}\n",
      "{'_id': ObjectId('61dba0efc5ba8e6b82df6bf1'), 'number': 5}\n",
      "{'_id': ObjectId('61dba0efc5ba8e6b82df6bf2'), 'number': 6}\n",
      "{'_id': ObjectId('61dba0efc5ba8e6b82df6bf3'), 'number': 7}\n",
      "{'_id': ObjectId('61dba0efc5ba8e6b82df6bf4'), 'number': 8}\n",
      "{'_id': ObjectId('61dba0efc5ba8e6b82df6bf5'), 'number': 9}\n"
     ]
    }
   ],
   "source": [
    "for i in collect.find():\n",
    "    print(i)"
   ]
  },
  {
   "cell_type": "code",
   "execution_count": 27,
   "metadata": {},
   "outputs": [],
   "source": [
    "conn.close()"
   ]
  },
  {
   "cell_type": "code",
   "execution_count": 29,
   "metadata": {},
   "outputs": [
    {
     "name": "stdout",
     "output_type": "stream",
     "text": [
      "Collection(Database(MongoClient(host=['127.0.0.1:27017'], document_class=dict, tz_aware=False, connect=True), 'test'), 'people')\n"
     ]
    }
   ],
   "source": [
    "#### 조회\n",
    "\n",
    "conn = MongoClient(\"127.0.0.1\", 27017)\n",
    "dbname = conn.test\n",
    "collect = dbname.people\n",
    "\n",
    "print(collect)"
   ]
  },
  {
   "cell_type": "code",
   "execution_count": 30,
   "metadata": {},
   "outputs": [
    {
     "name": "stdout",
     "output_type": "stream",
     "text": [
      "{'_id': ObjectId('61d7bcec76d21093b0ac880d'), 'name': 'Abet', 'age': 19.0, 'score': 10.0}\n",
      "{'_id': ObjectId('61d7bcec76d21093b0ac880e'), 'name': 'Betty', 'age': 20.0, 'score': 10.0}\n",
      "{'_id': ObjectId('61d7bcec76d21093b0ac880f'), 'name': 'Charlie', 'age': 23.0, 'skills': ['R', 'Keras']}\n",
      "{'_id': ObjectId('61d7bcec76d21093b0ac8810'), 'name': 'David', 'age': 23.0, 'score': 20.0}\n",
      "{'_id': ObjectId('61db8751e298d9ad108b3ce6'), 'name': 'Elly', 'age': 17.0, 'score': 10.0}\n",
      "{'_id': ObjectId('61db9d5ac5ba8e6b82df6be9'), 'author': 'Mike', 'text': 'my first blog post!', 'tag': ['mongodb', 'python']}\n",
      "{'_id': ObjectId('61db9de9c5ba8e6b82df6bea'), 'author': 'Tom', 'text': 'my first blog post!', 'tag': ['mongodb', 'python']}\n",
      "{'_id': ObjectId('61dba0efc5ba8e6b82df6bec'), 'number': 0}\n",
      "{'_id': ObjectId('61dba0efc5ba8e6b82df6bed'), 'number': 1}\n",
      "{'_id': ObjectId('61dba0efc5ba8e6b82df6bee'), 'number': 2}\n",
      "{'_id': ObjectId('61dba0efc5ba8e6b82df6bef'), 'number': 3}\n",
      "{'_id': ObjectId('61dba0efc5ba8e6b82df6bf0'), 'number': 4}\n",
      "{'_id': ObjectId('61dba0efc5ba8e6b82df6bf1'), 'number': 5}\n",
      "{'_id': ObjectId('61dba0efc5ba8e6b82df6bf2'), 'number': 6}\n",
      "{'_id': ObjectId('61dba0efc5ba8e6b82df6bf3'), 'number': 7}\n",
      "{'_id': ObjectId('61dba0efc5ba8e6b82df6bf4'), 'number': 8}\n",
      "{'_id': ObjectId('61dba0efc5ba8e6b82df6bf5'), 'number': 9}\n"
     ]
    }
   ],
   "source": [
    "# 전체조회\n",
    "for i in collect.find():\n",
    "    print(i)"
   ]
  },
  {
   "cell_type": "code",
   "execution_count": 31,
   "metadata": {},
   "outputs": [
    {
     "name": "stdout",
     "output_type": "stream",
     "text": [
      "{'_id': ObjectId('61d7bcec76d21093b0ac880e'), 'name': 'Betty', 'age': 20.0, 'score': 10.0}\n"
     ]
    }
   ],
   "source": [
    "# 나이가 20살인 documnet 조회\n",
    "for i in collect.find({\"age\":20}):\n",
    "    print(i)"
   ]
  },
  {
   "cell_type": "code",
   "execution_count": 32,
   "metadata": {},
   "outputs": [
    {
     "name": "stdout",
     "output_type": "stream",
     "text": [
      "{'_id': ObjectId('61d7bcec76d21093b0ac880f'), 'name': 'Charlie', 'age': 23.0, 'skills': ['R', 'Keras']}\n",
      "{'_id': ObjectId('61d7bcec76d21093b0ac8810'), 'name': 'David', 'age': 23.0, 'score': 20.0}\n"
     ]
    }
   ],
   "source": [
    "for i in collect.find({\"age\":{\"$gte\":23}}):\n",
    "    print(i)"
   ]
  },
  {
   "cell_type": "code",
   "execution_count": 36,
   "metadata": {},
   "outputs": [
    {
     "name": "stdout",
     "output_type": "stream",
     "text": [
      "{'_id': ObjectId('61d7bcec76d21093b0ac880d'), 'name': 'Abet', 'age': 19.0, 'score': 10.0}\n",
      "{'_id': ObjectId('61d7bcec76d21093b0ac880f'), 'name': 'Charlie', 'age': 23.0, 'skills': ['R', 'Keras']}\n"
     ]
    }
   ],
   "source": [
    "# 개별로 조회할 때\n",
    "print(collect.find_one())\n",
    "print(collect.find_one({\"age\":{\"$gte\":23}}))\n",
    "conn.close()"
   ]
  },
  {
   "cell_type": "code",
   "execution_count": 37,
   "metadata": {},
   "outputs": [],
   "source": [
    "#### 4. 수정\n",
    "\n",
    "conn = MongoClient(\"127.0.0.1\", 27017)\n",
    "dbname = conn.test\n",
    "collect = dbname.people"
   ]
  },
  {
   "cell_type": "code",
   "execution_count": 38,
   "metadata": {},
   "outputs": [
    {
     "name": "stdout",
     "output_type": "stream",
     "text": [
      "{'_id': ObjectId('61db9de9c5ba8e6b82df6bea'), 'author': 'Tom', 'text': 'my first blog post!', 'tag': ['mongodb', 'python']}\n"
     ]
    }
   ],
   "source": [
    "print(collect.find_one({\"author\":\"Tom\"}))"
   ]
  },
  {
   "cell_type": "code",
   "execution_count": 42,
   "metadata": {},
   "outputs": [
    {
     "data": {
      "text/plain": [
       "<pymongo.results.UpdateResult at 0x1191696c0>"
      ]
     },
     "execution_count": 42,
     "metadata": {},
     "output_type": "execute_result"
    }
   ],
   "source": [
    "# 'text' : 'my first blog post!'를 'my second blog post!'로\n",
    "\n",
    "collect.update_one({'author' : 'Tom'}, {\"$set\" : {\"text\" : \"my second blog post!\"}})"
   ]
  },
  {
   "cell_type": "code",
   "execution_count": 43,
   "metadata": {},
   "outputs": [
    {
     "name": "stdout",
     "output_type": "stream",
     "text": [
      "{'_id': ObjectId('61db9de9c5ba8e6b82df6bea'), 'author': 'Tom', 'text': 'my second blog post!', 'tag': ['mongodb', 'python']}\n"
     ]
    }
   ],
   "source": [
    "print(collect.find_one({\"author\":\"Tom\"}))"
   ]
  },
  {
   "cell_type": "code",
   "execution_count": 44,
   "metadata": {},
   "outputs": [
    {
     "data": {
      "text/plain": [
       "<pymongo.results.DeleteResult at 0x119169280>"
      ]
     },
     "execution_count": 44,
     "metadata": {},
     "output_type": "execute_result"
    }
   ],
   "source": [
    "collect.delete_one({\"author\":\"tom\"})"
   ]
  },
  {
   "cell_type": "code",
   "execution_count": 45,
   "metadata": {},
   "outputs": [
    {
     "name": "stdout",
     "output_type": "stream",
     "text": [
      "{'_id': ObjectId('61d7bcec76d21093b0ac880d'), 'name': 'Abet', 'age': 19.0, 'score': 10.0}\n",
      "{'_id': ObjectId('61d7bcec76d21093b0ac880e'), 'name': 'Betty', 'age': 20.0, 'score': 10.0}\n",
      "{'_id': ObjectId('61d7bcec76d21093b0ac880f'), 'name': 'Charlie', 'age': 23.0, 'skills': ['R', 'Keras']}\n",
      "{'_id': ObjectId('61d7bcec76d21093b0ac8810'), 'name': 'David', 'age': 23.0, 'score': 20.0}\n",
      "{'_id': ObjectId('61db8751e298d9ad108b3ce6'), 'name': 'Elly', 'age': 17.0, 'score': 10.0}\n",
      "{'_id': ObjectId('61db9d5ac5ba8e6b82df6be9'), 'author': 'Mike', 'text': 'my first blog post!', 'tag': ['mongodb', 'python']}\n",
      "{'_id': ObjectId('61db9de9c5ba8e6b82df6bea'), 'author': 'Tom', 'text': 'my second blog post!', 'tag': ['mongodb', 'python']}\n",
      "{'_id': ObjectId('61dba0efc5ba8e6b82df6bec'), 'number': 0}\n",
      "{'_id': ObjectId('61dba0efc5ba8e6b82df6bed'), 'number': 1}\n",
      "{'_id': ObjectId('61dba0efc5ba8e6b82df6bee'), 'number': 2}\n",
      "{'_id': ObjectId('61dba0efc5ba8e6b82df6bef'), 'number': 3}\n",
      "{'_id': ObjectId('61dba0efc5ba8e6b82df6bf0'), 'number': 4}\n",
      "{'_id': ObjectId('61dba0efc5ba8e6b82df6bf1'), 'number': 5}\n",
      "{'_id': ObjectId('61dba0efc5ba8e6b82df6bf2'), 'number': 6}\n",
      "{'_id': ObjectId('61dba0efc5ba8e6b82df6bf3'), 'number': 7}\n",
      "{'_id': ObjectId('61dba0efc5ba8e6b82df6bf4'), 'number': 8}\n",
      "{'_id': ObjectId('61dba0efc5ba8e6b82df6bf5'), 'number': 9}\n"
     ]
    }
   ],
   "source": [
    "for i in collect.find():\n",
    "    print(i)"
   ]
  },
  {
   "cell_type": "code",
   "execution_count": null,
   "metadata": {},
   "outputs": [],
   "source": []
  }
 ],
 "metadata": {
  "interpreter": {
   "hash": "476a94dc85aeef50ce38d52ab019ae32fa2a67ff1ac8045d45d38aa23f62cc9d"
  },
  "kernelspec": {
   "display_name": "Python 3.9.7 64-bit ('ML': conda)",
   "language": "python",
   "name": "python3"
  },
  "language_info": {
   "codemirror_mode": {
    "name": "ipython",
    "version": 3
   },
   "file_extension": ".py",
   "mimetype": "text/x-python",
   "name": "python",
   "nbconvert_exporter": "python",
   "pygments_lexer": "ipython3",
   "version": "3.9.7"
  },
  "orig_nbformat": 4
 },
 "nbformat": 4,
 "nbformat_minor": 2
}
