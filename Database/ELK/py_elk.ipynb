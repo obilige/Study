{
 "cells": [
  {
   "cell_type": "code",
   "execution_count": 2,
   "metadata": {},
   "outputs": [],
   "source": [
    "import json\n",
    "import datetime as dt\n",
    "from elasticsearch import Elasticsearch"
   ]
  },
  {
   "cell_type": "code",
   "execution_count": null,
   "metadata": {},
   "outputs": [],
   "source": [
    "es = Elasticsearch('[엘라스틱_서버_IP_주소]:9200')"
   ]
  },
  {
   "cell_type": "code",
   "execution_count": null,
   "metadata": {},
   "outputs": [],
   "source": [
    "# mapping X\n",
    "\n",
    "def insertData():\n",
    "    es = Elasticsearch('[엘라스틱_서버_IP_주소]:9200')\n",
    "    \n",
    "    index=\"product_list\"\n",
    "    \n",
    "    doc = {\n",
    "        \"category\" : \"skirt\",\n",
    "        \"c_key\" : \"1234\",\n",
    "        \"price\" : 11400,\n",
    "        \"status\" : 1,\n",
    "        \"@timestamp\" : dt.utcnow().strftime('%Y-%m-%dT%H:%M:%S.%f')[:-3] + 'Z'\n",
    "    }\n",
    "    \n",
    "    es.index(index=\"product_list\", doc_type=\"_doc\", body=doc)"
   ]
  },
  {
   "cell_type": "code",
   "execution_count": null,
   "metadata": {},
   "outputs": [],
   "source": [
    "# mapping O\n",
    "\n",
    "def insertData():\n",
    "    es = Elasticsearch('[엘라스틱_서버_IP_주소]:9200')\n",
    "    \n",
    "    index=\"product_list\"\n",
    "    \n",
    "    with open('mapping.json', 'r') as f:\n",
    "        mapping = json.load(f)\n",
    "        \n",
    "    es.indices.create(index=index, body=mapping)    \n",
    "\n",
    "    doc = {\n",
    "        \"category\" : \"skirt\",\n",
    "        \"c_key\" : \"1234\",\n",
    "        \"price\" : 11,400,\n",
    "        \"status\" : 1,\n",
    "        \"@timestamp\" : datetime.utcnow().strftime('%Y-%m-%dT%H:%M:%S.%f')[:-3] + 'Z'\n",
    "    }\n",
    "    \n",
    "    es.index(index=\"product_list\", doc_type=\"_doc\", body=doc)"
   ]
  },
  {
   "cell_type": "code",
   "execution_count": null,
   "metadata": {},
   "outputs": [],
   "source": [
    "#### mapping 사용해 데이터 형태, 설정 지정하려면 미리 json 파일로 만들어둬야함\n",
    "#### mapping.json\n",
    "\n",
    "\n",
    "{\n",
    "  \"mappings\" : {\n",
    "    \"properties\" : {\n",
    "      \"@timestamp\" : {\n",
    "        \"type\" : \"date\"\n",
    "      },\n",
    "      \"category\" : {\n",
    "        \"type\" : \"text\",\n",
    "        \"fields\" : {\n",
    "          \"keyword\" : {\n",
    "            \"type\" : \"keyword\",\n",
    "            \"ignore_above\" : 256\n",
    "          }\n",
    "        }\n",
    "      },\n",
    "      \"c_key\" : {\n",
    "        \"type\" : \"text\",\n",
    "        \"fields\" : {\n",
    "          \"keyword\" : {\n",
    "            \"type\" : \"keyword\",\n",
    "            \"ignore_above\" : 256\n",
    "          }\n",
    "        }\n",
    "      },\n",
    "      \"price\" : {\n",
    "        \"type\" : \"int\",\n",
    "      },\n",
    "      \"status\" : {\n",
    "        \"type\" : \"text\",\n",
    "        \"fields\" : {\n",
    "          \"keyword\" : {\n",
    "            \"type\" : \"keyword\",\n",
    "            \"ignore_above\" : 256\n",
    "          }\n",
    "        }\n",
    "      }\n",
    "    }\n",
    "  }\n",
    "}\n"
   ]
  },
  {
   "cell_type": "code",
   "execution_count": null,
   "metadata": {},
   "outputs": [],
   "source": [
    "# <참고사항>\n",
    "# - 이미 같은 이름의 인덱스가 생성되어 있을 경우, 같은 이름의 인덱스를 생성하면 에러가 발생\n",
    "# - 따라서 인덱스를 생성할 때, 미리 같은 이름의 인덱스가 있는지 확인 후 생성하는 것이 좋다\n",
    "\n",
    "if es.indices.exists(index=index):\n",
    "\tpass\n",
    "else:\n",
    "\tes.indices.create(index=index, body=mapping)"
   ]
  },
  {
   "cell_type": "code",
   "execution_count": null,
   "metadata": {},
   "outputs": [],
   "source": [
    "# - 데이터 검색은 .search를 사용한다\n",
    "# - 같이 보내는 파라미터로는 검색 대상인 인덱스와, 검색 쿼리문을 보내면 된다\n",
    "# - 해당 인덱스의 모든 결과를 확인하고 싶을 때 body는 아래와 같이 작성하면 된다\n",
    "\n",
    "def searchAPI():\n",
    "    es = Elasticsearch('[엘라스틱_서버_IP_주소]:9200')\n",
    "    \n",
    "    index = [검색할_인덱스]\n",
    "    body = [검색할_쿼리문]\n",
    "    \n",
    "    res = es.search(index=index, body=body)\n",
    "    #res에 검색 결과가 담겨져 있다           "
   ]
  }
 ],
 "metadata": {
  "interpreter": {
   "hash": "ffdbdde1c7f3cb0c6e4302d47b8b69bbc9567b6e444b9944e0284485fba4246d"
  },
  "kernelspec": {
   "display_name": "ML",
   "language": "python",
   "name": "ml"
  },
  "language_info": {
   "codemirror_mode": {
    "name": "ipython",
    "version": 3
   },
   "file_extension": ".py",
   "mimetype": "text/x-python",
   "name": "python",
   "nbconvert_exporter": "python",
   "pygments_lexer": "ipython3",
   "version": "3.7.6"
  },
  "orig_nbformat": 4
 },
 "nbformat": 4,
 "nbformat_minor": 2
}
