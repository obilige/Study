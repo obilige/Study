{
 "cells": [
  {
   "cell_type": "markdown",
   "metadata": {},
   "source": [
    "# Python과 SQL 연동\n",
    "* pip install PyMySQL\n",
    "* cursor 객체 : 레코드를 순차적으로 가져온다. 그래서 반복문으로 변수에 저장해야한다.\n",
    "    - fetchall()    : fetch는 데이터를 가져오는 기능. 모든 레코드를 다 가져온다.\n",
    "    - fetchmany()   : 레코드 중 일부를 가져온다.\n",
    "    - fetchone()    : 레코드를 하나씩 가져온다.\n",
    "    - 객체 생략시엔 fetchall이 default값.\n",
    "    - dictcursor    : 필드명을 인덱스 대신 키로 사용\n",
    "* 파이썬으로 데이터 불러오거나, 반복적으로 DB에 데이터 입력해야할 때 sql보다 편하게 쓸 수 있다.\n",
    "* 다만 안정성 측면에서 불안하니, 정말 필요한 거 아니면 IDE나 터미널로 db에 접근하는 것이 좋다.\n"
   ]
  },
  {
   "cell_type": "code",
   "execution_count": null,
   "metadata": {},
   "outputs": [],
   "source": [
    "import pymysql\n",
    "import pandas as pd"
   ]
  },
  {
   "cell_type": "code",
   "execution_count": null,
   "metadata": {},
   "outputs": [],
   "source": [
    "config = {\"host\" : \"127.0.0.1\", \"user\" : \"root\", \"passwd\" : \"Wpdntm123!@#\", \"database\" : \"testdb\"}"
   ]
  },
  {
   "cell_type": "code",
   "execution_count": null,
   "metadata": {},
   "outputs": [
    {
     "name": "stdout",
     "output_type": "stream",
     "text": [
      "<pymysql.connections.Connection object at 0x7fc0507298b0>\n"
     ]
    }
   ],
   "source": [
    "conn = pymysql.connect(**config)\n",
    "print(conn)\n",
    "conn.close()"
   ]
  },
  {
   "cell_type": "code",
   "execution_count": null,
   "metadata": {},
   "outputs": [
    {
     "name": "stdout",
     "output_type": "stream",
     "text": [
      "[(7369, 'SMITH', 'CLERK', 7902, datetime.datetime(1980, 12, 17, 0, 0), 800.0, None, 20), (7499, 'ALLEN', 'SALESMAN', 7698, datetime.datetime(1981, 2, 20, 0, 0), 1600.0, 300.0, 30), (7521, 'WARD', 'SALESMAN', 7698, datetime.datetime(1981, 2, 22, 0, 0), 1250.0, 500.0, 30), (7566, 'JONES', 'MANAGER', 7839, datetime.datetime(1981, 4, 2, 0, 0), 2975.0, None, 20), (7654, 'MARTIN', 'SALESMAN', 7698, datetime.datetime(1981, 9, 28, 0, 0), 1250.0, 1400.0, 30)]\n"
     ]
    },
    {
     "data": {
      "text/html": [
       "<div>\n",
       "<style scoped>\n",
       "    .dataframe tbody tr th:only-of-type {\n",
       "        vertical-align: middle;\n",
       "    }\n",
       "\n",
       "    .dataframe tbody tr th {\n",
       "        vertical-align: top;\n",
       "    }\n",
       "\n",
       "    .dataframe thead th {\n",
       "        text-align: right;\n",
       "    }\n",
       "</style>\n",
       "<table border=\"1\" class=\"dataframe\">\n",
       "  <thead>\n",
       "    <tr style=\"text-align: right;\">\n",
       "      <th></th>\n",
       "      <th>empno</th>\n",
       "      <th>name</th>\n",
       "      <th>job</th>\n",
       "      <th>manager</th>\n",
       "      <th>hiredate</th>\n",
       "      <th>salary</th>\n",
       "      <th>bonus</th>\n",
       "      <th>deptno</th>\n",
       "    </tr>\n",
       "  </thead>\n",
       "  <tbody>\n",
       "    <tr>\n",
       "      <th>0</th>\n",
       "      <td>7369</td>\n",
       "      <td>SMITH</td>\n",
       "      <td>CLERK</td>\n",
       "      <td>7902</td>\n",
       "      <td>1980-12-17</td>\n",
       "      <td>800.0</td>\n",
       "      <td>NaN</td>\n",
       "      <td>20</td>\n",
       "    </tr>\n",
       "    <tr>\n",
       "      <th>1</th>\n",
       "      <td>7499</td>\n",
       "      <td>ALLEN</td>\n",
       "      <td>SALESMAN</td>\n",
       "      <td>7698</td>\n",
       "      <td>1981-02-20</td>\n",
       "      <td>1600.0</td>\n",
       "      <td>300.0</td>\n",
       "      <td>30</td>\n",
       "    </tr>\n",
       "    <tr>\n",
       "      <th>2</th>\n",
       "      <td>7521</td>\n",
       "      <td>WARD</td>\n",
       "      <td>SALESMAN</td>\n",
       "      <td>7698</td>\n",
       "      <td>1981-02-22</td>\n",
       "      <td>1250.0</td>\n",
       "      <td>500.0</td>\n",
       "      <td>30</td>\n",
       "    </tr>\n",
       "    <tr>\n",
       "      <th>3</th>\n",
       "      <td>7566</td>\n",
       "      <td>JONES</td>\n",
       "      <td>MANAGER</td>\n",
       "      <td>7839</td>\n",
       "      <td>1981-04-02</td>\n",
       "      <td>2975.0</td>\n",
       "      <td>NaN</td>\n",
       "      <td>20</td>\n",
       "    </tr>\n",
       "    <tr>\n",
       "      <th>4</th>\n",
       "      <td>7654</td>\n",
       "      <td>MARTIN</td>\n",
       "      <td>SALESMAN</td>\n",
       "      <td>7698</td>\n",
       "      <td>1981-09-28</td>\n",
       "      <td>1250.0</td>\n",
       "      <td>1400.0</td>\n",
       "      <td>30</td>\n",
       "    </tr>\n",
       "  </tbody>\n",
       "</table>\n",
       "</div>"
      ],
      "text/plain": [
       "   empno    name       job  manager   hiredate  salary   bonus  deptno\n",
       "0   7369   SMITH     CLERK     7902 1980-12-17   800.0     NaN      20\n",
       "1   7499   ALLEN  SALESMAN     7698 1981-02-20  1600.0   300.0      30\n",
       "2   7521    WARD  SALESMAN     7698 1981-02-22  1250.0   500.0      30\n",
       "3   7566   JONES   MANAGER     7839 1981-04-02  2975.0     NaN      20\n",
       "4   7654  MARTIN  SALESMAN     7698 1981-09-28  1250.0  1400.0      30"
      ]
     },
     "metadata": {},
     "output_type": "display_data"
    }
   ],
   "source": [
    "# SELECT\n",
    "conn = pymysql.connect(**config)\n",
    "sql = \"SELECT * FROM emp limit 5\" # 명령어를 담은 변수를 DB에 보내면 이 변수에 담긴 명령어를 실행하는 방식\n",
    "# 명령어 변수를 실어나르고 DB에 실행시키고 결과를 파이썬으로 불러오는 객체 존재.\n",
    "\n",
    "cursor = conn.cursor()\n",
    "cursor.execute(sql)\n",
    "\n",
    "# print(cursor)\n",
    "# -> <pymysql.cursors.Cursor object at 0x7fc04148f580> 여기에 결과물이 담겨있다.\n",
    "\n",
    "# for data in cursor:\n",
    "#     print(data)\n",
    "\n",
    "# for a, b, c, d, e, f, g, h in cursor:\n",
    "#      print(a)\n",
    "#      print(b,c,d,e,f,g,h)\n",
    "\n",
    "# (a,b,c,d,e) = cursor\n",
    "# print(a)\n",
    "\n",
    "# print('='*50)\n",
    "\n",
    "result = []\n",
    "for data in cursor:\n",
    "    result.append(data)\n",
    "\n",
    "conn.close()\n",
    "\n",
    "print(result)\n",
    "\n",
    "df = pd.DataFrame(result, columns=['empno', 'name', 'job', 'manager', 'hiredate','salary', 'bonus', 'deptno'])\n",
    "df"
   ]
  },
  {
   "cell_type": "code",
   "execution_count": null,
   "metadata": {},
   "outputs": [
    {
     "name": "stdout",
     "output_type": "stream",
     "text": [
      "<pymysql.cursors.Cursor object at 0x7fc0603c07c0>\n"
     ]
    }
   ],
   "source": [
    "# 2. Insert\n",
    "\n",
    "conn = pymysql.connect(**config)\n",
    "\n",
    "sql = \"\"\"create table if not exists tbltest(\n",
    "    empno int,\n",
    "    ename varchar(10),\n",
    "    sal int,\n",
    "    job varchar(10)\n",
    ")\"\"\"\n",
    "\n",
    "cur = conn.cursor()\n",
    "cur.execute(sql)\n",
    "\n",
    "print(cur)\n",
    "\n",
    "sql_insert = \"insert into tbltest(empno, ename, sal) values(1, 'scott', 5000)\"\n",
    "\n",
    "cur.execute(sql_insert)\n",
    "conn.commit()\n",
    "\n",
    "conn.close()\n",
    "\n",
    "\n",
    "# MariaDB [testdb]> SELECT * FROM tbltest;\n",
    "# +-------+-------+------+------+\n",
    "# | empno | ename | sal  | job  |\n",
    "# +-------+-------+------+------+\n",
    "# |     1 | scott | 5000 | NULL |\n",
    "# +-------+-------+------+------+"
   ]
  },
  {
   "cell_type": "code",
   "execution_count": null,
   "metadata": {},
   "outputs": [],
   "source": [
    "empno = 2\n",
    "ename = \"miller\"\n",
    "sal = 1300\n",
    "\n",
    "conn = pymysql.connect(**config)\n",
    "cur = conn.cursor()\n",
    "\n",
    "sql_insert1 = \"insert into tbltest(empno, ename, sal) values(\" + str(empno) + \", '\" + ename + \"', \" + str(sal) + \")\"\n",
    "cur.execute(sql_insert1)\n",
    "conn.commit()\n",
    "conn.close()\n",
    "\n",
    "# MariaDB [testdb]> SELECT * FROM tbltest;\n",
    "# +-------+--------+------+------+\n",
    "# | empno | ename  | sal  | job  |\n",
    "# +-------+--------+------+------+\n",
    "# |     1 | scott  | 5000 | NULL |\n",
    "# |     2 | miller | 1300 | NULL |\n",
    "# +-------+--------+------+------+"
   ]
  },
  {
   "cell_type": "code",
   "execution_count": null,
   "metadata": {},
   "outputs": [],
   "source": [
    "empno = 3\n",
    "ename = \"tom\"\n",
    "sal = 2000\n",
    "\n",
    "conn = pymysql.connect(**config)\n",
    "cur = conn.cursor()\n",
    "\n",
    "sql_insert2 = \"insert into tbltest(empno, ename, sal) values(%s, %s, %s)\"\n",
    "sql_data = (str(empno), ename, str(sal))\n",
    "cur.execute(sql_insert2, sql_data)\n",
    "conn.commit()\n",
    "conn.close()\n",
    "\n",
    "# MariaDB [testdb]> SELECT * FROM tbltest;\n",
    "# +-------+--------+------+------+\n",
    "# | empno | ename  | sal  | job  |\n",
    "# +-------+--------+------+------+\n",
    "# |     1 | scott  | 5000 | NULL |\n",
    "# |     2 | miller | 1300 | NULL |\n",
    "# |     3 | tom    | 2000 | NULL |\n",
    "# +-------+--------+------+------+\n",
    "# 3 rows in set (0.000 sec)"
   ]
  },
  {
   "cell_type": "code",
   "execution_count": null,
   "metadata": {},
   "outputs": [],
   "source": [
    "# 두 프로그램을 연결하는 방법이라 불안정. 그래서 정식으로 코드를 짤 땐 예외처리 방식으로 진행되도록 만들어야 한다.\n",
    "# try - except\n",
    "\n",
    "empno = 4\n",
    "ename = \"jerry\"\n",
    "sal = 2000\n",
    "\n",
    "try:\n",
    "    conn = pymysql.connect(**config)\n",
    "    cur = conn.cursor()\n",
    "\n",
    "    sql_insert2 = \"insert into tbltest(empno, ename, sal) values(%s, %s, %s)\"\n",
    "    sql_data = (str(empno), ename, str(sal))\n",
    "\n",
    "    cur.execute(sql_insert2, sql_data)\n",
    "    conn.commit()\n",
    "\n",
    "except Exception as e:\n",
    "    print(\"error :\", e)\n",
    "\n",
    "finally:\n",
    "    conn.close()\n",
    "\n",
    "# 에러가 발생해도 반드시 연결은 끊어져야하므로! 아니면 프로그램 무거워지고 결국 뻑난다.    \n",
    " \n",
    "\n",
    "# MariaDB [testdb]> SELECT * FROM tbltest;\n",
    "# +-------+--------+------+------+\n",
    "# | empno | ename  | sal  | job  |\n",
    "# +-------+--------+------+------+\n",
    "# |     1 | scott  | 5000 | NULL |\n",
    "# |     2 | miller | 1300 | NULL |\n",
    "# |     3 | tom    | 2000 | NULL |\n",
    "# |     4 | jerry  | 2000 | NULL |\n",
    "# |     4 | jerry  | 2000 | NULL |\n",
    "# +-------+--------+------+------+ "
   ]
  },
  {
   "cell_type": "code",
   "execution_count": null,
   "metadata": {},
   "outputs": [],
   "source": [
    "#3. 반복문으로 DATA 여러개 입력하기\n",
    "#SQL엔 없는 기능. 이런 것 때문에 파이썬과 SQL은 상호보완적\n",
    "\n",
    "conn = pymysql.connect(**config)\n",
    "cur = conn.cursor()\n",
    "\n",
    "for i in range(10):\n",
    "    sql = \"insert into tbltest(empno, ename, sal) values(5, 'jane', 10000)\"\n",
    "    cur.execute(sql)\n",
    "    conn.commit()\n",
    "\n",
    "conn.close()"
   ]
  },
  {
   "cell_type": "code",
   "execution_count": null,
   "metadata": {},
   "outputs": [
    {
     "name": "stdout",
     "output_type": "stream",
     "text": [
      "(2, 'miller', 1300, None)\n",
      "(3, 'tom', 2000, None)\n",
      "(4, 'jerry', 2000, None)\n",
      "(4, 'jerry', 2000, None)\n"
     ]
    }
   ],
   "source": [
    "#3. Cursor\n",
    "\n",
    "try:\n",
    "    conn = pymysql.connect(**config)\n",
    "    cur = conn.cursor()\n",
    "    cur.execute(\"select * from tbltest\")\n",
    "\n",
    "    # for i in cur.fetchall():\n",
    "    #     print(i)\n",
    "        # (1, 'scott', 5000, None)\n",
    "        # (2, 'miller', 1300, None)\n",
    "        # (3, 'tom', 2000, None)\n",
    "        # (4, 'jerry', 2000, None)\n",
    "        # (4, 'jerry', 2000, None)\n",
    "        # (5, 'jane', 10000, None)\n",
    "        # (5, 'jane', 10000, None)\n",
    "        # (5, 'jane', 10000, None)\n",
    "        # (5, 'jane', 10000, None)\n",
    "        # (5, 'jane', 10000, None)\n",
    "        # (5, 'jane', 10000, None)\n",
    "        # (5, 'jane', 10000, None)\n",
    "        # (5, 'jane', 10000, None)\n",
    "\n",
    "    # for i in cur.fetchmany(5):\n",
    "    #     print(i)\n",
    "        # (1, 'scott', 5000, None)\n",
    "        # (2, 'miller', 1300, None)\n",
    "        # (3, 'tom', 2000, None)\n",
    "        # (4, 'jerry', 2000, None)\n",
    "        # (4, 'jerry', 2000, None)\n",
    "\n",
    "    for i in cur.fetchone():\n",
    "        print(cur.fetchone())\n",
    "finally:\n",
    "    conn.close()"
   ]
  },
  {
   "cell_type": "code",
   "execution_count": null,
   "metadata": {},
   "outputs": [
    {
     "name": "stdout",
     "output_type": "stream",
     "text": [
      "1 scott 5000\n",
      "2 miller 1300\n",
      "3 tom 2000\n",
      "4 jerry 2000\n",
      "4 jerry 2000\n",
      "5 jane 10000\n",
      "5 jane 10000\n",
      "5 jane 10000\n",
      "5 jane 10000\n",
      "5 jane 10000\n",
      "5 jane 10000\n",
      "5 jane 10000\n",
      "5 jane 10000\n",
      "5 jane 10000\n",
      "5 jane 10000\n"
     ]
    }
   ],
   "source": [
    "try:\n",
    "    conn = pymysql.connect(**config)\n",
    "    cur = conn.cursor()\n",
    "    cur.execute(\"select * from tbltest\")\n",
    "\n",
    "    for i in cur.fetchall():\n",
    "        print(i[0], i[1], i[2])\n",
    "\n",
    "finally:\n",
    "    conn.close()"
   ]
  },
  {
   "cell_type": "code",
   "execution_count": null,
   "metadata": {},
   "outputs": [
    {
     "name": "stdout",
     "output_type": "stream",
     "text": [
      "1 scott 5000\n",
      "2 miller 1300\n",
      "3 tom 2000\n",
      "4 jerry 2000\n",
      "4 jerry 2000\n",
      "5 jane 10000\n",
      "5 jane 10000\n",
      "5 jane 10000\n",
      "5 jane 10000\n",
      "5 jane 10000\n",
      "5 jane 10000\n",
      "5 jane 10000\n",
      "5 jane 10000\n",
      "5 jane 10000\n",
      "5 jane 10000\n"
     ]
    }
   ],
   "source": [
    "try:\n",
    "    conn = pymysql.connect(**config)\n",
    "    cur = conn.cursor(pymysql.cursors.DictCursor)\n",
    "    cur.execute(\"select * from tbltest\")\n",
    "\n",
    "    for i in cur.fetchall():\n",
    "        print(i['empno'], i['ename'], i['sal'])\n",
    "\n",
    "finally:\n",
    "    conn.close()"
   ]
  },
  {
   "cell_type": "code",
   "execution_count": null,
   "metadata": {},
   "outputs": [],
   "source": [
    "#csv 파일에 있는 데이터, 파이썬을 이용해 DB에 넣기\n",
    "import csv\n",
    "file = csv.reader(open('./input.csv'))\n",
    "# print(file)\n",
    "# print(next(file)) #현재 위치한 줄을 읽어오고 다음 줄에 위치하게 만드는 명령어\n",
    "# print(next(file))\n",
    "# print(next(file))\n",
    "# print(next(file))\n",
    "# print(next(file))\n",
    "# print(next(file))\n",
    "\n",
    "next(file) #필드명은 건너뛰어야하니까.\n",
    "try :\n",
    "    conn = pymysql.connect(**config)\n",
    "    cur = conn.cursor()\n",
    "\n",
    "    cur.execute(\"delete from suppliers\")\n",
    "    conn.commit()\n",
    "    # 반복시행 시 누적되는 것을 막아주려면?\n",
    "\n",
    "    for i in file:\n",
    "        sql = \"insert into suppliers values(%s, %s, %s, %s, %s)\"\n",
    "        cur.execute(sql, i)\n",
    "    \n",
    "    conn.commit()\n",
    "\n",
    "finally :\n",
    "    conn.close()\n"
   ]
  },
  {
   "cell_type": "code",
   "execution_count": null,
   "metadata": {},
   "outputs": [],
   "source": [
    "try :\n",
    "    conn = pymysql.connect(**config)\n",
    "    cur = conn.cursor()\n",
    "    cur.execute(\"select * from suppliers where cost > 500000\")\n",
    "\n",
    "    # for i in cur:\n",
    "    #     print(i)\n",
    "    # ('A', '001-1003', '5467', 750000.0, datetime.date(2014, 1, 20))\n",
    "    # ('A', '001-1004', '5467', 750000.0, datetime.date(2014, 1, 20))\n",
    "    # ('C', '001-1009', '3321', 615000.0, datetime.date(2017, 2, 3))\n",
    "    # ('C', '001-1010', '3321', 615000.0, datetime.date(2017, 2, 10))\n",
    "    # ('C', '001-1011', '3321', 615000.0, datetime.date(2017, 2, 17))\n",
    "    # ('C', '001-1012', '3321', 615000.0, datetime.date(2017, 2, 24))\n",
    "\n",
    "    file = csv.writer(open(\"./output.cs\", \"w\"), delimiter = \",\")\n",
    "    #csv.writer는 데이터간 구분짓는 문자를 지정할 수 있다. delimiter 이용\n",
    "\n",
    "    header = [\"Supplier_Name\",\"Invoice_Number\",\"Part_Number\",\"Cost\",\"Purchase_Date\"] #여백없이 해야 필드명으로 지정된다.\n",
    "    file.writerow(header)\n",
    "\n",
    "    for i in cur:\n",
    "        file.writerow(i)\n",
    "\n",
    "finally :\n",
    "    conn.close()\n"
   ]
  },
  {
   "cell_type": "markdown",
   "metadata": {},
   "source": [
    "## 2. 파이썬과 SQLite\n",
    "\n",
    "#### (1). 로컬로 사용할 수 있는 DBMS\n",
    "+ Access\n",
    "+ SQLite\n",
    "+ Microsoft SQL Server Compact Edition\n",
    "+ Firebird Embeded Server\n",
    "+ +H2\n",
    "+ HSQL\n",
    "+ Apache Derby\n",
    "\n",
    "#### (2). 특징\n",
    "+ 파일기반의 DBMS, 저메모리, 빠른 처리 속도 : 데이터 파일로 전달 가능!\n",
    "+ 오픈 소스\n",
    "+ 별도의 DB서버없이 쉽고 편리하게 사용 할 수 있는 Embeded SQL DB 엔진\n",
    "+ 안드로이드, 아이폰 등의 스마트폰에 기본 내장된 DB\n",
    "+ 파이썬에 내장\n",
    "+ 표준 SQL 지원\n",
    "\n",
    "+ 칼럼을 삭제하거나 변경하는 것 등 제한\n",
    "+ Left Outer Join만 지원\n",
    "+ 읽기 전용 뷰만 제공\n",
    "\n",
    "#### (3) 공식사이트\n",
    "\n",
    "+ http://sqlite.org\n",
    "+ client program ::\n",
    "    - http://www.sqliteexpert.com\n",
    "\n",
    "#### (4) 파이썬에 내장되어있어 바로 사용 가능"
   ]
  },
  {
   "cell_type": "code",
   "execution_count": null,
   "metadata": {},
   "outputs": [],
   "source": [
    "import sqlite3\n",
    "from os import mkdir"
   ]
  },
  {
   "cell_type": "code",
   "execution_count": null,
   "metadata": {},
   "outputs": [
    {
     "name": "stdout",
     "output_type": "stream",
     "text": [
      "2.6.0\n",
      "3.36.0\n"
     ]
    }
   ],
   "source": [
    "print(sqlite3.version)\n",
    "print(sqlite3.sqlite_version)\n",
    "# python - sqlite3 - db\n",
    "# sqlite는 파이썬과 db를 연결하는 매개체"
   ]
  },
  {
   "cell_type": "code",
   "execution_count": null,
   "metadata": {},
   "outputs": [],
   "source": [
    "#db와 연결\n",
    "try:\n",
    "    conn = sqlite3.connect('folder_A/my_database.db')\n",
    "except sqlite3.OperationalError:\n",
    "    mkdir('folder_A')\n",
    "finally:\n",
    "    conn = sqlite3.connect('folder_A/my_database.db')"
   ]
  },
  {
   "cell_type": "code",
   "execution_count": null,
   "metadata": {},
   "outputs": [],
   "source": [
    "#db 종료\n",
    "conn.close()"
   ]
  },
  {
   "cell_type": "code",
   "execution_count": null,
   "metadata": {},
   "outputs": [],
   "source": [
    "conn =sqlite3.connect('folder_A/my_database.db')"
   ]
  },
  {
   "cell_type": "code",
   "execution_count": null,
   "metadata": {},
   "outputs": [],
   "source": [
    "# Query Language를 받아주는 객체 지정해주자. *cursor\n",
    "cur = conn.cursor()"
   ]
  },
  {
   "cell_type": "code",
   "execution_count": null,
   "metadata": {},
   "outputs": [
    {
     "name": "stdout",
     "output_type": "stream",
     "text": [
      "('최주현', '하늘과 땅')\n",
      "('최주현', '바다')\n",
      "('유은정', '바다')\n",
      "('박성우', '문')\n",
      "('최주현', '문')\n",
      "('박성우', '천국')\n",
      "('최지은', '천국')\n",
      "('최주현', '천국')\n",
      "('박성우', '고슴도치')\n",
      "('서금동', '나')\n"
     ]
    }
   ],
   "source": [
    "cur.execute(\"select * from tblbook\")\n",
    "for row in cur:\n",
    "    print(row)"
   ]
  },
  {
   "cell_type": "code",
   "execution_count": null,
   "metadata": {},
   "outputs": [],
   "source": [
    "conn.close()"
   ]
  },
  {
   "cell_type": "code",
   "execution_count": null,
   "metadata": {},
   "outputs": [
    {
     "name": "stdout",
     "output_type": "stream",
     "text": [
      "(1, '홍길동', '2020-12-25')\n",
      "(2, '임꺽정', '2022-01-05')\n"
     ]
    }
   ],
   "source": [
    "conn =sqlite3.connect('folder_A/my_database.db')\n",
    "cur = conn.cursor()\n",
    "cur.execute(\"select * from tblMember\")\n",
    "for row in cur:\n",
    "    print(row)\n",
    "conn.close()"
   ]
  },
  {
   "cell_type": "code",
   "execution_count": null,
   "metadata": {},
   "outputs": [
    {
     "name": "stdout",
     "output_type": "stream",
     "text": [
      "(1, '홍길동')\n",
      "(1, '홍길동')\n"
     ]
    }
   ],
   "source": [
    "#### 자동으로 DB 생성하고 테이블 생성\n",
    "\n",
    "try:\n",
    "    conn = sqlite3.connect('data/auto.db')\n",
    "except sqlite3.OperationalError:\n",
    "    mkdir('data')\n",
    "finally:\n",
    "    conn = sqlite3.connect('data/auto.db')\n",
    "\n",
    "cur = conn.cursor()\n",
    "\n",
    "sql = \"\"\"create table if not exists tblmember(\n",
    "    id  int,\n",
    "    name    varchar(10)\n",
    ")\n",
    "\"\"\"\n",
    "\n",
    "cur.execute(sql)\n",
    "conn.commit()\n",
    "\n",
    "cur.execute(\"insert into tblmember values(1, '홍길동')\")\n",
    "conn.commit\n",
    "\n",
    "cur.execute(\"insert into tblmember values(1, '홍길동')\")\n",
    "conn.commit\n",
    "\n",
    "cur.execute(\"select * from tblmember\")\n",
    "for row in cur:\n",
    "    print(row)\n",
    "\n",
    "conn.close()"
   ]
  },
  {
   "cell_type": "code",
   "execution_count": null,
   "metadata": {},
   "outputs": [],
   "source": [
    "### csv 파일 읽어서 DB에 저장\n",
    "import csv\n",
    "\n",
    "conn = sqlite3.connect(\"data/auto.db\")\n",
    "cur = conn.cursor()\n",
    "\n",
    "# 테이블 조회\n",
    "# tables = cur.execute(\"select * from sqlite_master where type='table'\")\n",
    "# for i in tables:\n",
    "#     print(i[1])\n",
    "\n",
    "file = csv.reader(open(\"data/input.csv\", \"r\"), delimiter=\",\")\n",
    "# for i in file:\n",
    "#     print(i)\n",
    "\n",
    "#입력\n",
    "next(file) #칼럼은 입력하면 안되니까 포인트를 다음 줄로 넘겨준다\n",
    "\n",
    "for row in file:\n",
    "    cur.execute(\"insert into tblInput values(?, ?, ?, ?, ?)\", row)\n",
    "\n",
    "conn.commit()\n",
    "conn.close()\n"
   ]
  },
  {
   "cell_type": "code",
   "execution_count": null,
   "metadata": {},
   "outputs": [
    {
     "name": "stdout",
     "output_type": "stream",
     "text": [
      "('A', '001-1001', 2341, 500000, '2014-01-20')\n",
      "('A', '001-1002', 2341, 500000, '2014-01-20')\n",
      "('A', '001-1003', 5467, 750000, '2014-01-20')\n",
      "('A', '001-1004', 5467, 750000, '2014-01-20')\n",
      "('B', '001-1005', 7009, 250000, '2018-01-30')\n",
      "('B', '001-1006', 7009, 250000, '2018-01-30')\n",
      "('B', '001-1007', 6650, 125000, '2017-02-03')\n",
      "('B', '001-1008', 6650, 125000, '2017-02-03')\n",
      "('C', '001-1009', 3321, 615000, '2017-02-03')\n",
      "('C', '001-1010', 3321, 615000, '2017-02-10')\n",
      "('C', '001-1011', 3321, 615000, '2017-02-17')\n",
      "('C', '001-1012', 3321, 615000, '2017-02-24')\n"
     ]
    }
   ],
   "source": [
    "conn = sqlite3.connect(\"data/auto.db\")\n",
    "cur = conn.cursor()\n",
    "\n",
    "cur.execute(\"select * from tblInput\")\n",
    "for i in cur:\n",
    "    print(i)\n",
    "\n",
    "conn.close()"
   ]
  },
  {
   "cell_type": "code",
   "execution_count": null,
   "metadata": {},
   "outputs": [
    {
     "name": "stdout",
     "output_type": "stream",
     "text": [
      "('tom', '010-111-1111')\n"
     ]
    }
   ],
   "source": [
    "#### Memory DB ####\n",
    "# 메모리에 올려두고 쓰면 더 빠르다. 다만, 효율이 떨어짐\n",
    "\n",
    "conn = sqlite3.connect(\":memory:\")\n",
    "#print(conn)\n",
    "cur = conn.cursor()\n",
    "\n",
    "cur.execute(\"create table phonebook(name vachar(10), phonenumber text);\")\n",
    "cur.execute(\"insert into phonebook values(?, ?);\", (\"tom\", \"010-111-1111\"))\n",
    "\n",
    "cur.execute(\"select * from phonebook\")\n",
    "for i in cur:\n",
    "    print(i)\n",
    "\n",
    "# 메모리에 두면 저장이 안된다\n",
    "# 메모리에서 다 작업했으면 파일로 저장해야한다.\n",
    "\n",
    "f = open(\"data/dump.sql\", \"w\")\n",
    "#conn에 지금까지 한 작업 로그들이 남아있음\n",
    "for i in conn.iterdump():\n",
    "    f.write(\"{}\\n\".format(i))\n",
    "\n",
    "f.close()\n",
    "conn.close()"
   ]
  },
  {
   "cell_type": "code",
   "execution_count": null,
   "metadata": {},
   "outputs": [
    {
     "name": "stdout",
     "output_type": "stream",
     "text": [
      "BEGIN TRANSACTION;\n",
      "CREATE TABLE phonebook(name vachar(10), phonenumber text);\n",
      "INSERT INTO \"phonebook\" VALUES('tom','010-111-1111');\n",
      "COMMIT;\n",
      "\n"
     ]
    }
   ],
   "source": [
    "#auto.db에 메모리에서 작업한 내용 넣어보자\n",
    "conn = sqlite3.connect(\"data/auto.db\")\n",
    "cur = conn.cursor()\n",
    "\n",
    "f = open(\"data/dump.sql\", \"r\")\n",
    "script = f.read()\n",
    "print(script)\n",
    "\n",
    "cur.executescript(script)\n",
    "conn.close()\n",
    "\n",
    "# near \"WnCREATE\": syntax error\n",
    "# Wn이 입력된 거 찾아봐"
   ]
  }
 ],
 "metadata": {
  "language_info": {
   "name": "python"
  },
  "orig_nbformat": 4
 },
 "nbformat": 4,
 "nbformat_minor": 2
}
